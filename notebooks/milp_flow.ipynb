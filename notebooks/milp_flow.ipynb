{
 "cells": [
  {
   "cell_type": "markdown",
   "metadata": {},
   "source": [
    "Extend network x with MILP flow optimization\n",
    "- overwrite add note method\n",
    "    - name\n",
    "    - demand\n",
    "    - x, y\n",
    "- overwrite add edge method\n",
    "    - origin Node\n",
    "    - destination Node\n",
    "    - variable cost\n",
    "    - fixed cost\n",
    "    - flow\n",
    "- create flow graph class inheriting from DiGraph\n",
    "- attach flow and arc selection variables to Edges\n",
    "- define constraints\n",
    "- solve and attache flows to Edges\n",
    "- visualize flows with plotly\n"
   ]
  },
  {
   "cell_type": "code",
   "execution_count": 1,
   "metadata": {},
   "outputs": [],
   "source": [
    "from networkx import DiGraph\n",
    "import networkx as nx\n",
    "from pydantic import BaseModel, model_validator\n",
    "from typing import Optional\n",
    "from pulp import LpProblem, LpVariable, LpMinimize, LpStatus\n",
    "import time\n",
    "import random\n",
    "import pandas as pd\n",
    "import numpy as np\n",
    "import matplotlib.pyplot as plt\n",
    "import plotly.graph_objects as go\n",
    "from plotly.colors import DEFAULT_PLOTLY_COLORS"
   ]
  },
  {
   "cell_type": "code",
   "execution_count": 2,
   "metadata": {},
   "outputs": [],
   "source": [
    "class FlowViz():\n",
    "\n",
    "    def __init__(self, graph):\n",
    "        self.graph = graph            \n",
    "\n",
    "    def plot_flowgraph(self, edge_width_field='flow', edge_color_field='utilisation', colormap_name='RdYlGn_r', \n",
    "                   node_size_type='max_flow', min_width=0.25, max_width=5):\n",
    "        # set plot properties\n",
    "        self.edge_width_field = edge_width_field\n",
    "        self.edge_color_field = edge_color_field\n",
    "        self.colormap_name = colormap_name\n",
    "        self.node_size_type = node_size_type\n",
    "        self.min_width = min_width\n",
    "        self.max_width = max_width\n",
    "        \n",
    "        # get nodes and edges\n",
    "        self.node_df = self.graph.nodes_to_df().set_index('name')\n",
    "        self.edge_df = self.graph.edges_to_df().set_index(['origin', 'destination'])\n",
    "\n",
    "        # set edge and node colores\n",
    "        self.edge_colormap = plt.get_cmap(self.colormap_name)\n",
    "        self.node_colors = self._get_color_dict(self.node_df['type'])\n",
    "\n",
    "        # set sizes\n",
    "        self.xy_range = self.node_df[['x', 'y']].apply([min, max]).diff().loc['max'].min()       \n",
    "        if node_size_type == 'max_flow': \n",
    "            node_size = self.node_df[['inflow', 'outflow']].max(axis=1)\n",
    "            self.node_size_range = node_size.apply([min, max])\n",
    "        elif node_size_type in self.node_df.columns:\n",
    "            self.node_size_range = self.node_df[node_size_type].apply([min, max])\n",
    "        else: \n",
    "            self.node_size_range = pd.Series({'min': 0, 'max': 1})\n",
    "        self.width_range = self.edge_df[self.edge_width_field].apply([min, max])\n",
    "\n",
    "        # create nodes\n",
    "        node_traces = []\n",
    "        node_shapes = []\n",
    "        annotations = []\n",
    "        for node_name, node in self.node_df.iterrows():\n",
    "            shape, trace, annotation = self._create_node_object(node_name, node)\n",
    "            node_traces.append(trace)\n",
    "            node_shapes.append(shape)\n",
    "            annotations.append(annotation)        \n",
    "        \n",
    "        # create edges\n",
    "        edge_traces = []\n",
    "        for (origin_name, destination_name), edge in self.edge_df.iterrows():\n",
    "            origin = self.node_df.loc[origin_name]\n",
    "            destination = self.node_df.loc[destination_name]\n",
    "            edge_traces.extend(self._create_edge_object(edge, origin, destination))\n",
    "\n",
    "        # create colorbar\n",
    "        colorbar_trace = self._create_colorbar_object()\n",
    "\n",
    "        # create legend\n",
    "        legend_traces = self._create_legend_object()\n",
    "\n",
    "        # create figure\n",
    "        fig = go.Figure()\n",
    "        fig.update_layout(hovermode='closest', \n",
    "            xaxis=dict(visible=False),  \n",
    "            yaxis=dict(visible=False), \n",
    "            plot_bgcolor='rgba(0,0,0,0)',  \n",
    "            paper_bgcolor='rgba(0,0,0,0)', \n",
    "            legend=dict(\n",
    "                x=self.node_df['x'].min() - self.xy_range * 0.15,  \n",
    "                y=self.node_df['y'].max() + self.xy_range * 0.15,\n",
    "                traceorder='normal',\n",
    "                font=dict(size=12, color='white'),\n",
    "                bordercolor='rgba(0, 0, 0, 0.5)',\n",
    "                borderwidth=1), \n",
    "            shapes=node_shapes, \n",
    "            annotations=annotations)   \n",
    "        fig.add_traces(node_traces + edge_traces + legend_traces)\n",
    "        # check if colorbar shall be added\n",
    "        if colorbar_trace: fig.add_traces(colorbar_trace)\n",
    "        fig.update_yaxes(scaleanchor=\"x\", scaleratio=1)\n",
    "\n",
    "        return fig\n",
    "    \n",
    "    def plot_graph(self):\n",
    "        return self.plot_flowgraph(edge_width_field='capacity', node_size_type=None, edge_color_field=None)\n",
    "\n",
    "    @staticmethod\n",
    "    def _get_field_hover_text(series):\n",
    "        text = ''\n",
    "        for key, value in series.items():\n",
    "            if value is None or value == float('inf'): continue\n",
    "\n",
    "            # format value\n",
    "            if isinstance(value, float):\n",
    "                if abs(value) >= 100:\n",
    "                    value_str = f\"{value:.0f}\"\n",
    "                elif abs(value) >= 10:\n",
    "                    value_str = f\"{value:.1f}\"\n",
    "                else:\n",
    "                    value_str = f\"{value:.2f}\"\n",
    "            elif isinstance(value, int):\n",
    "                value_str = f\"{value}\"\n",
    "            else:\n",
    "                value_str = value\n",
    "            \n",
    "            # format key\n",
    "            key = key.replace('_', ' ').title()\n",
    "\n",
    "            # append to text\n",
    "            text += f\"{key}: {value_str}<br>\"\n",
    "        return text        \n",
    "    \n",
    "    @staticmethod\n",
    "    def _get_edge_hover_text(edge):\n",
    "        title = f\"<b>{edge.name[0]} -> {edge.name[1]}</b><br>\"\n",
    "        return title + FlowViz._get_field_hover_text(edge)\n",
    "\n",
    "    @staticmethod\n",
    "    def _get_node_hover_text(node_name, node):\n",
    "        title = f\"<b>{node_name}</b><br>\"\n",
    "        return title + FlowViz._get_field_hover_text(node)\n",
    "\n",
    "    @staticmethod\n",
    "    def _create_vector(x1, y1, x2, y2, l):\n",
    "        # create vector along (x1, y1) to (x2, y2) with length l\n",
    "        dx = x2 - x1\n",
    "        dy = y2 - y1\n",
    "        length = (dx**2 + dy**2)**0.5\n",
    "\n",
    "        if length == 0: return 0, 0\n",
    "        \n",
    "        return dx / length * l, dy / length * l \n",
    "\n",
    "    @staticmethod    \n",
    "    def _norm_vals(vals, out_min, out_max):\n",
    "        return out_min + (out_max - out_min) * (vals - vals.min()) / (vals.max() - vals.min())\n",
    "\n",
    "    def _get_edge_color(self, val):\n",
    "        color = self.edge_colormap(val)\n",
    "        return f'rgba({color[0]*255}, {color[1]*255}, {color[2]*255}, {color[3]})'\n",
    "\n",
    "    @staticmethod\n",
    "    def _get_color_dict(names):\n",
    "        # get unique names and sort\n",
    "        unique_names = sorted(set(names))\n",
    "        return {name: DEFAULT_PLOTLY_COLORS[i % len(DEFAULT_PLOTLY_COLORS)] for i, name in enumerate(unique_names)}\n",
    "\n",
    "    def _get_node_radius(self, node):\n",
    "        if self.node_size_type == 'max_flow':\n",
    "            value = max(node['inflow'], node['outflow'])\n",
    "        elif self.node_size_type in node:\n",
    "            value = node[self.node_size_type]\n",
    "        else:\n",
    "            value = 0.5\n",
    "        out_min = 0.005 * self.xy_range\n",
    "        out_max = 0.05 * self.xy_range\n",
    "        ratio = (value - self.node_size_range['min']) / (self.node_size_range['max'] - self.node_size_range['min'])\n",
    "        return out_min + (out_max - out_min) * ratio\n",
    "    \n",
    "    def _get_edge_width(self, edge):\n",
    "        ratio = (edge[self.edge_width_field] - self.width_range['min']) / (self.width_range['max'] - self.width_range['min'])\n",
    "        return self.min_width + (self.max_width - self.min_width) * ratio\n",
    "\n",
    "    def _create_node_object(self, node_name, node):\n",
    "        radius = self._get_node_radius(node)\n",
    "        color = self.node_colors[node['type']]\n",
    "        text_offset = 0.02 * self.xy_range\n",
    "        \n",
    "        shape = go.layout.Shape(type=\"circle\",\n",
    "                                xref=\"x\", yref=\"y\",\n",
    "                                fillcolor=self.node_colors[node['type']],\n",
    "                                x0=node['x'] - radius, y0=node['y'] - radius, \n",
    "                                x1=node['x'] + radius, y1=node['y'] + radius,\n",
    "                                line=dict(color='white', width=1), \n",
    "                                layer='below')\n",
    "        \n",
    "        marker = go.Scatter(x=[node['x']], y=[node['y']],         \n",
    "                mode='markers',\n",
    "                hoverinfo='text',\n",
    "                hovertext=self._get_node_hover_text(node_name, node),\n",
    "                marker=dict(size=0, color=color),\n",
    "                showlegend=False)\n",
    "        \n",
    "        text = go.layout.Annotation(x=node['x'], \n",
    "                                    y=node['y'] + radius + text_offset,\n",
    "                                    xref='x',\n",
    "                                    yref='y',\n",
    "                                    text=node_name, \n",
    "                                    font=dict(color='white'),\n",
    "                                    bgcolor='black',\n",
    "                                    showarrow=False, \n",
    "                                    opacity=0.8)\n",
    "\n",
    "        return shape, marker, text\n",
    "    \n",
    "    def _create_edge_object(self, edge, origin, destination):    \n",
    "        if 'flow' in edge and edge['flow'] > 0:\n",
    "            line_type = 'solid'            \n",
    "            color = self._get_edge_color(edge[self.edge_color_field]) if self.edge_color_field else 'gray'\n",
    "        else:\n",
    "            line_type = 'dash'\n",
    "            color = 'gray'\n",
    "\n",
    "        # get radius of origin and destination nodes\n",
    "        origin_radius = self._get_node_radius(origin)\n",
    "        destination_radius = self._get_node_radius(destination)\n",
    "\n",
    "        # create vector from origin to edge of origin node along edge\n",
    "        origin_radius_x, origin_radius_y = self._create_vector(origin['x'], origin['y'], destination['x'], \n",
    "                                                               destination['y'], origin_radius)\n",
    "        destination_radius_x, destination_radius_y = self._create_vector(destination['x'], destination['y'], origin['x'], \n",
    "                                                                         origin['y'], destination_radius)\n",
    "        # create vector from origin edge to destination edge\n",
    "        origin_edge_x = origin['x'] + origin_radius_x\n",
    "        origin_edge_y = origin['y'] + origin_radius_y\n",
    "        destination_edge_x = destination['x'] + destination_radius_x\n",
    "        destination_edge_y = destination['y'] + destination_radius_y\n",
    "\n",
    "        width = self._get_edge_width(edge)\n",
    "\n",
    "        arrow_trace = go.Scatter(        \n",
    "            x=[origin_edge_x, destination_edge_x],\n",
    "            y=[origin_edge_y, destination_edge_y],\n",
    "            line=dict(width=width, color=color, dash=line_type),\n",
    "            marker = dict(size=max(width*4, 5), symbol= \"arrow-bar-up\", angleref=\"previous\", color=color),                            \n",
    "            mode='lines+markers', \n",
    "            hoverinfo='skip', \n",
    "            showlegend=False)\n",
    "        \n",
    "        edge_trace = go.Scatter(\n",
    "            x=np.linspace(origin_edge_x, destination_edge_x, 20),\n",
    "            y=np.linspace(origin_edge_y, destination_edge_y, 20),\n",
    "\n",
    "            line=dict(width=0, color=color, dash=line_type),\n",
    "            hoverinfo='text',\n",
    "            hovertext=self._get_edge_hover_text(edge),\n",
    "            mode='lines', \n",
    "            showlegend=False)\n",
    "                    \n",
    "        return [arrow_trace, edge_trace]\n",
    "    \n",
    "\n",
    "    def _create_colorbar_object(self):\n",
    "        if not self.edge_color_field: return None\n",
    "        colorbar_trace = go.Scatter(\n",
    "            x=[None], y=[None],\n",
    "            mode='markers',\n",
    "            marker=dict(\n",
    "                colorscale=self.colormap_name,\n",
    "                cmin=self.edge_df[self.edge_color_field].min(),\n",
    "                cmax=self.edge_df[self.edge_color_field].max(),\n",
    "                colorbar=dict(\n",
    "                    title='Edge ' + self.edge_color_field.replace('_', ' ').title(),\n",
    "                    titleside='right', \n",
    "                    titlefont=dict(color='white'),  # Set colorbar title font color to white\n",
    "                    tickfont=dict(color='white'))    # Set colorbar tick font color to white        \n",
    "            ),\n",
    "            hoverinfo='none', \n",
    "            showlegend=False\n",
    "        )\n",
    "        return colorbar_trace\n",
    "    \n",
    "    def _create_legend_object(self):\n",
    "        legend_traces = []\n",
    "        for name, color in self.node_colors.items():\n",
    "            legend_trace = go.Scatter(\n",
    "                x=[None], y=[None],\n",
    "                mode='markers',\n",
    "                marker=dict(size=10, color=color, line=dict(width=2)),\n",
    "                name=name,\n",
    "                showlegend=True\n",
    "            )\n",
    "            legend_traces.append(legend_trace)    \n",
    "        return legend_traces\n",
    "    "
   ]
  },
  {
   "cell_type": "code",
   "execution_count": 3,
   "metadata": {},
   "outputs": [],
   "source": [
    "class FlowGraph(DiGraph):\n",
    "\n",
    "    # node and edge definitions\n",
    "    class Node(BaseModel, frozen=True):\n",
    "        name: str\n",
    "        demand: Optional[float] = 0.0\n",
    "        supply: Optional[float] = 0.0\n",
    "        capacity: Optional[float] = float('inf')\n",
    "        type: Optional[str] = None\n",
    "        x: Optional[float] = 0.0\n",
    "        y: Optional[float] = 0.0\n",
    "        variable_cost: Optional[float] = 0.0\n",
    "        fixed_cost: Optional[float] = 0.0\n",
    "\n",
    "        @model_validator(mode='after')\n",
    "        def validate(self):\n",
    "            # check that demand is non-negative\n",
    "            if self.demand < 0 or self.demand == float('inf'): raise ValueError('demand must be non-negative and finite')\n",
    "            # check that supply is non-negative\n",
    "            if self.supply < 0: raise ValueError('supply must be non-negative')\n",
    "            # check that capacity is non-negative\n",
    "            if self.capacity < 0: raise ValueError('capacity must be non-negative')\n",
    "            # check that variable_cost is non-negative\n",
    "            if self.variable_cost < 0: raise ValueError('variable_cost must be non-negative')\n",
    "            # check that fixed_cost is non-negative\n",
    "            if self.fixed_cost < 0: raise ValueError('fixed_cost must be non-negative')\n",
    "            return self\n",
    "  \n",
    "    class Edge(BaseModel, frozen=True):\n",
    "        origin: 'FlowGraph.Node'\n",
    "        destination: 'FlowGraph.Node'\n",
    "        capacity: Optional[float] = float('inf')\n",
    "        variable_cost: Optional[float] = 0.0\n",
    "        fixed_cost: Optional[float] = 0.0\n",
    "        \n",
    "        @model_validator(mode='after')\n",
    "        def validate(self):\n",
    "            # check that node names are different\n",
    "            if self.origin.name == self.destination.name: raise ValueError('origin and destination names must be different')\n",
    "            # check that capacity is non-negative\n",
    "            if self.capacity < 0: raise ValueError('capacity must be non-negative')\n",
    "            # check that variable_cost is non-negative\n",
    "            if self.variable_cost < 0: raise ValueError('variable_cost must be non-negative')\n",
    "            # check that fixed_cost is non-negative\n",
    "            if self.fixed_cost < 0: raise ValueError('fixed_cost must be non-negative')\n",
    "            return self\n",
    "\n",
    "    def __init__(self, incoming_graph_data=None, **attr):\n",
    "        self.soft_constr = False\n",
    "        # check what input data is given\n",
    "        if isinstance(incoming_graph_data, FlowGraph): \n",
    "            # get all nodes and edges\n",
    "            graph_elements = incoming_graph_data.get_nodes() + incoming_graph_data.get_edges()\n",
    "        elif isinstance(incoming_graph_data, list): \n",
    "            graph_elements = incoming_graph_data\n",
    "        elif incoming_graph_data is None: \n",
    "            graph_elements = []\n",
    "        else:\n",
    "            raise ValueError('incoming_graph_data must be a list, FlowGraph object or None')\n",
    "        \n",
    "        # initialialize digraph\n",
    "        super().__init__(None, **attr)\n",
    "        # add nodes and edges\n",
    "        for element in graph_elements:\n",
    "            if isinstance(element, FlowGraph.Node): self.add_node(element)\n",
    "            elif isinstance(element, FlowGraph.Edge): self.add_edge(element)\n",
    "            else: raise ValueError('incoming_graph_data must be a list of Node elements or Edge elements')\n",
    "\n",
    "        # initialize visualization object\n",
    "        self.viz = FlowViz(self)\n",
    "\n",
    "\n",
    "    def add_node(self, node):\n",
    "        # check if node is a Node element\n",
    "        if not isinstance(node, FlowGraph.Node): raise ValueError('node must be a Node element')\n",
    "        # add node to graph\n",
    "        super().add_node(node.name, demand=node.demand, supply=node.supply, capacity=node.capacity, type=node.type, \n",
    "                         variable_cost=node.variable_cost, fixed_cost=node.fixed_cost, x=node.x, y=node.y)\n",
    "\n",
    "    def add_nodes_from(self, nodes):\n",
    "        # check if nodes are dataframe\n",
    "        if isinstance(nodes, pd.DataFrame):\n",
    "            # get columns to create nodes\n",
    "            col_select = [col for col in nodes.columns if col in FlowGraph.Node.__fields__.keys()]\n",
    "            for _, node in nodes[col_select].iterrows():                \n",
    "                self.add_node(FlowGraph.Node(**node.to_dict()))\n",
    "        elif nodes: \n",
    "            for node in nodes: self.add_node(node)\n",
    "\n",
    "\n",
    "    def add_edge(self, edge):       \n",
    "        # check if edge is an Edge element\n",
    "        if not isinstance(edge, FlowGraph.Edge): raise ValueError('edge must be an Edge element')\n",
    "        # check if nodes exist\n",
    "        if not edge.origin.name in super().nodes: self.add_node(edge.origin)\n",
    "        if not edge.destination.name in super().nodes: self.add_node(edge.destination)\n",
    "\n",
    "        # add edge to graph\n",
    "        super().add_edge(edge.origin.name, edge.destination.name, capacity=edge.capacity, \n",
    "                         variable_cost=edge.variable_cost, fixed_cost=edge.fixed_cost)\n",
    "\n",
    "\n",
    "    def add_edges_from(self, edges):\n",
    "        # check if edges are dataframe\n",
    "        if isinstance(edges, pd.DataFrame):\n",
    "            # get columns to create edges\n",
    "            col_select = [col for col in edges.columns if col in FlowGraph.Edge.__fields__.keys()]\n",
    "            for _, edge in edges[col_select].iterrows():\n",
    "                edge_dict = edge.to_dict()\n",
    "                # get nodes\n",
    "                origin = self.get_node(edge_dict.pop('origin'))\n",
    "                destination = self.get_node(edge_dict.pop('destination'))\n",
    "                self.add_edge(FlowGraph.Edge(origin=origin, destination=destination, **edge_dict))\n",
    "        elif edges: \n",
    "            for edge in edges: self.add_edge(edge)\n",
    "\n",
    "\n",
    "    def add_weighted_edges_from(self, edges):        \n",
    "        self.add_edges_from(edges)\n",
    "\n",
    "\n",
    "    def get_node(self, name):\n",
    "        if name in super().nodes:\n",
    "            data = super().nodes[name]\n",
    "            return FlowGraph.Node(name=name, demand=data['demand'], supply=data['supply'], capacity=data['capacity'], \n",
    "                                  type=data['type'], variable_cost=data['variable_cost'], fixed_cost=data['fixed_cost'], \n",
    "                                  x=data['x'], y=data['y'])\n",
    "        else:\n",
    "            raise ValueError(f'node {name} not found')\n",
    "    \n",
    "\n",
    "    def get_nodes(self):\n",
    "        return [self.get_node(name) for name in super().nodes]\n",
    "    \n",
    "\n",
    "    def get_edge(self, origin_name, destination_name):\n",
    "        if origin_name in super().nodes and destination_name in super().nodes:\n",
    "            data = super().edges[origin_name, destination_name]\n",
    "            return FlowGraph.Edge(origin=self.get_node(origin_name), destination=self.get_node(destination_name), \n",
    "                                  capacity=data['capacity'], variable_cost=data['variable_cost'], \n",
    "                                  fixed_cost=data['fixed_cost'])\n",
    "        else:\n",
    "            raise ValueError(f'edge {origin_name}-{destination_name} not found')\n",
    "\n",
    "\n",
    "    def get_edges(self):\n",
    "        return [self.get_edge(origin_name, destination_name) for origin_name, destination_name in super().edges]\n",
    "    \n",
    "\n",
    "    def _assign_decision_variables(self):\n",
    "        # variable counts\n",
    "        cont_count = bin_count = 0\n",
    "        # assign decision variables to all edges\n",
    "        for origin_name, destination_name, edge in super().edges.data():\n",
    "            # create flow variable if capacity is positive or soft constraints are used\n",
    "            edge['flow_var'] = (LpVariable(f\"flow_{origin_name}-{destination_name}\", lowBound=0, cat='Continuous') \n",
    "                                if edge['capacity'] > 0 or self.soft_constr else None)            \n",
    "            if edge['flow_var'] is not None: cont_count += 1\n",
    "\n",
    "            # check if capacity variable is needed\n",
    "            if self.soft_constr and edge['capacity'] < float('inf'):\n",
    "                edge['capacity_var'] = LpVariable(f\"capacity_{origin_name}-{destination_name}\", lowBound=0, \n",
    "                                                  cat='Continuous')\n",
    "                cont_count += 1\n",
    "            else:\n",
    "                edge['capacity_var'] = None\n",
    "\n",
    "            edge['selection_var'] = (LpVariable(f\"selection_{origin_name}-{destination_name}\", cat='Binary') \n",
    "                                     if edge['capacity'] > 0 and edge['fixed_cost'] > 0 else None)\n",
    "            if edge['selection_var'] is not None: bin_count += 1\n",
    "\n",
    "        # assign decision variables to all nodes\n",
    "        for name, node in super().nodes.data():\n",
    "            node['selection_var'] = LpVariable(f\"selection_{name}\", cat='Binary') if node['fixed_cost'] > 0 else None\n",
    "            if node['selection_var'] is not None: bin_count += 1\n",
    "\n",
    "            # check if supply variable is needed\n",
    "            if self.soft_constr and node['supply'] > node['demand'] and node['supply'] < float('inf'):\n",
    "                node['supply_var'] = LpVariable(f\"supply_{name}\", lowBound=0, cat='Continuous')\n",
    "                cont_count += 1\n",
    "            else:\n",
    "                node['supply_var'] = None\n",
    "\n",
    "            if node['capacity'] < float('inf') and self.soft_constr:\n",
    "                node['capacity_var'] = LpVariable(f\"capacity_{name}\", lowBound=0, cat='Continuous')\n",
    "                cont_count += 1\n",
    "            else:\n",
    "                node['capacity_var'] = None\n",
    "\n",
    "        if self.verbose: print(f\"Variable types: {cont_count} continuous, {bin_count} binary\")\n",
    "\n",
    "\n",
    "    def _assign_objective_function(self):\n",
    "        objective = 0\n",
    " \n",
    "        # add edge costs\n",
    "        for _, _, edge in super().edges.data():\n",
    "            if edge['selection_var'] is not None: objective += edge['selection_var'] * edge['fixed_cost']\n",
    "            if edge['flow_var'] is not None: objective += edge['flow_var'] * edge['variable_cost']\n",
    "            if edge['capacity_var'] is not None: objective += edge['capacity_var'] * self.soft_penalty\n",
    "        \n",
    "        # add node costs\n",
    "        for node_name, node in super().nodes.data():\n",
    "            # add node selection costs\n",
    "            if node['selection_var'] is not None: objective += node['selection_var'] * node['fixed_cost']\n",
    "            # add node variable costs\n",
    "            if node['variable_cost'] > 0:\n",
    "                for _, _, edge in super().out_edges(node_name, data=True):\n",
    "                    objective += edge['flow_var'] * node['variable_cost']\n",
    "            \n",
    "            # add soft constraint costs\n",
    "            if node['supply_var'] is not None: objective += node['supply_var'] * self.soft_penalty\n",
    "            if node['capacity_var'] is not None: objective += node['capacity_var'] * self.soft_penalty\n",
    "\n",
    "        self.prob += objective, 'Objective',\n",
    "\n",
    "\n",
    "    def _assign_constraints(self):\n",
    "        # count of contraints\n",
    "        constr_count = 0\n",
    "        # add capacity constraints for edges with fixed costs\n",
    "        for origin_name, destination_name, edge in super().edges.data():\n",
    "            rhs = edge['capacity']\n",
    "            if edge['selection_var'] is not None: rhs *= edge['selection_var']\n",
    "            if edge['capacity_var'] is not None: rhs += edge['capacity_var']\n",
    "            self.prob += edge['flow_var'] <= rhs, f\"capacity_{origin_name}-{destination_name}\",\n",
    "            constr_count += 1\n",
    "            \n",
    "            # get origin node\n",
    "            origin_node = super().nodes[origin_name]\n",
    "            # check if origin node has a selection variable\n",
    "            if origin_node['selection_var'] is not None:\n",
    "                rhs = edge['capacity'] * origin_node['selection_var'] \n",
    "                if edge['capacity_var'] is not None: rhs += edge['capacity_var']\n",
    "                self.prob += (edge['flow_var'] <= rhs, f\"node_selection_{origin_name}-{destination_name}\",)\n",
    "                constr_count += 1\n",
    "\n",
    "        total_demand = total_supply = 0\n",
    "        # add flow conservation constraints\n",
    "        for node_name, node in super().nodes.data():\n",
    "            # aggregate in and out flows\n",
    "            in_flow = 0\n",
    "            for _, _, edge in super().in_edges(node_name, data=True):\n",
    "                if edge['flow_var'] is not None: in_flow += edge['flow_var']\n",
    "            \n",
    "            out_flow = 0\n",
    "            for _, _, edge in super().out_edges(node_name, data=True):\n",
    "                if edge['flow_var'] is not None: out_flow += edge['flow_var']\n",
    "\n",
    "            # add node capacity contraint\n",
    "            if node['capacity'] < float('inf'):\n",
    "                self.prob += out_flow <= node['capacity'], f\"node_capacity_{node_name}\",\n",
    "                constr_count += 1\n",
    "\n",
    "            # check what type of node it is\n",
    "            if node['demand'] == node['supply']:\n",
    "                # transshipment node: in_flow = out_flow\n",
    "                self.prob += in_flow == out_flow, f\"flow_balance_{node_name}\",\n",
    "            else:\n",
    "                # in_flow - out_flow >= demand - supply - supply_added\n",
    "                rhs = node['demand'] - node['supply']\n",
    "                if node['supply_var'] is not None: rhs -= node['supply_var']\n",
    "                self.prob += in_flow - out_flow >= rhs, f\"flow_balance_{node_name}\",\n",
    "            constr_count += 1\n",
    "\n",
    "            # update total demand and supply\n",
    "            total_demand += node['demand']\n",
    "            total_supply += node['supply']\n",
    "\n",
    "        if self.verbose:\n",
    "            print(f\"Constraints: {constr_count}\")\n",
    "            print(f\"Total supply: {total_supply}, Total demand: {total_demand}\")\n",
    "        \n",
    "\n",
    "    def _assign_variable_values(self, opt_found):\n",
    "        # assign decision variable values if optimal solution found, otherwise set to None\n",
    "        # add utilisation, total fixed cost, total variable cost and total cost, inflow and outflow\n",
    "\n",
    "        # assign edge values        \n",
    "        for _, _, edge in super().edges.data():\n",
    "            # initialize values\n",
    "            edge['flow'] = edge['utilisation'] = edge['total_variable_cost'] = None\n",
    "            edge['selected'] = edge['total_fixed_cost'] = edge['total_cost'] = None\n",
    "            edge['capacity_added'] = edge['capacity_penalty_cost'] = None\n",
    "            # check if optimal solution found\n",
    "            if opt_found and edge['flow_var'] is not None:                    \n",
    "                edge['flow'] = edge['flow_var'].varValue                    \n",
    "                edge['total_variable_cost'] = edge['flow'] * edge['variable_cost']\n",
    "                edge['total_cost'] = edge['total_variable_cost']\n",
    "                capacity = edge['capacity']\n",
    "\n",
    "                # check if capacity variable is used\n",
    "                if edge['capacity_var'] is not None: \n",
    "                    edge['capacity_added'] = edge['capacity_var'].varValue \n",
    "                    capacity = edge['capacity'] + edge['capacity_added']\n",
    "                    edge['capacity_penalty_cost'] = edge['capacity_added'] * self.soft_penalty\n",
    "                    edge['total_cost'] += edge['capacity_penalty_cost']                        \n",
    "                    capacity += edge['capacity_added']\n",
    "\n",
    "                # calculate utilisation\n",
    "                edge['utilisation'] = (edge['flow'] / capacity if 0 < capacity < float('inf') else None)\n",
    "\n",
    "                if edge['selection_var'] is not None: \n",
    "                    edge['selected'] = edge['selection_var'].varValue\n",
    "                    edge['total_fixed_cost'] = edge['selected'] * edge['fixed_cost']\n",
    "                    edge['total_cost'] += edge['total_fixed_cost']\n",
    "\n",
    "        # assign node values\n",
    "        for node_name, node in super().nodes.data():\n",
    "            # initialize values\n",
    "            node['inflow'] = node['outflow'] = node['total_variable_cost'] = node['total_cost'] = node['utilisation'] = None\n",
    "            node['selected'] = node['total_fixed_cost'] = node['total_cost'] = None\n",
    "            node['capacity_added'] = node['supply_added'] = node['capacity_penalty_cost'] = node['supply_penalty_cost'] = None\n",
    "            if opt_found:                \n",
    "                # calculate inflow and outflow\n",
    "                node['inflow'] = sum(edge['flow'] for _, _, edge in super().in_edges(node_name, data=True) \n",
    "                                     if edge['flow'] is not None)\n",
    "                node['outflow'] = sum(edge['flow'] for _, _, edge in super().out_edges(node_name, data=True) \n",
    "                                      if edge['flow'] is not None)\n",
    "                capacity = node['capacity']\n",
    "                node['total_variable_cost'] = node['outflow'] * node['variable_cost']\n",
    "                node['total_cost'] = node['total_variable_cost']\n",
    "                \n",
    "                # check if node has selection variable\n",
    "                if node['selection_var'] is not None: \n",
    "                    node['selected'] = node['selection_var'].varValue \n",
    "                    node['total_fixed_cost'] = node['selected'] * node['fixed_cost']\n",
    "                    node['total_cost'] += node['total_fixed_cost']\n",
    "\n",
    "                # check if node as capacity variable\n",
    "                if node['capacity_var'] is not None:\n",
    "                    node['capacity_added'] = node['capacity_var'].varValue\n",
    "                    capacity += node['capacity_added']\n",
    "                    node['capacity_penalty_cost'] = node['capacity_added'] * self.soft_penalty\n",
    "                    node['total_cost'] += node['capacity_penalty_cost']\n",
    "\n",
    "                node['utilisation'] = (node['outflow'] / capacity if 0 < capacity < float('inf') else None)\n",
    "                \n",
    "                # check if node has supply variable\n",
    "                if node['supply_var'] is not None:\n",
    "                    node['supply_added'] = node['supply_var'].varValue\n",
    "                    node['supply_penalty_cost'] = node['supply_added'] * self.soft_penalty\n",
    "                    node['total_cost'] += node['supply_penalty_cost']\n",
    "                    \n",
    "\n",
    "    def _set_soft_penalty(self, soft_penalty=None):\n",
    "        # set soft penalty\n",
    "        if soft_penalty is not None:\n",
    "            if soft_penalty <= 0: raise ValueError('soft_penalty must be positive')\n",
    "            self.soft_penalty = soft_penalty\n",
    "        else:\n",
    "            # set soft penalty as total of all variable and fixed costs\n",
    "            max_cost = 1\n",
    "            max_cost += sum(edge['variable_cost'] + edge['fixed_cost'] for _, _, edge in super().edges.data())\n",
    "            max_cost += sum(node['variable_cost'] + node['fixed_cost'] for _, node in super().nodes.data())\n",
    "            self.soft_penalty = max_cost\n",
    "\n",
    "\n",
    "    def min_cost_flow(self, soft_constr=False, soft_penalty=None, verbose=True):\n",
    "        self.verbose = verbose\n",
    "        self.soft_constr = soft_constr\n",
    "        if self.verbose: print(f\"Soft constraints: {soft_constr}\")\n",
    "\n",
    "        # get sinks with no path from any source\n",
    "        no_path_sinks = self._get_no_path_sinks()\n",
    "        if no_path_sinks:\n",
    "            if self.verbose: print(f\"Sinks with no path from any source: {no_path_sinks}\")\n",
    "            return 'Infeasible'\n",
    "\n",
    "        # check if soft penalty needs to be set\n",
    "        if soft_constr: \n",
    "            self._set_soft_penalty(soft_penalty)\n",
    "            if self.verbose: print(f\"Soft penalty: {self.soft_penalty:.2f}\")\n",
    "\n",
    "        start_time = time.time()\n",
    "        # create LP problem\n",
    "        self.prob = LpProblem(\"FlowGraph.min_cost_flow\", LpMinimize)\n",
    "        # assign decision variables\n",
    "        self._assign_decision_variables()\n",
    "        # assign objective function\n",
    "        self._assign_objective_function()\n",
    "        # assign constraints\n",
    "        self._assign_constraints()\n",
    "        if self.verbose: print(f\"Model creation time: {time.time() - start_time:.2f} s\")\n",
    "\n",
    "        start_time = time.time()\n",
    "        # solve LP problem\n",
    "        self.prob.solve()\n",
    "        solve_time = time.time() - start_time\n",
    "\n",
    "        # get status\n",
    "        status = LpStatus[self.prob.status]\n",
    "\n",
    "        if status == 'Optimal':\n",
    "            # get objective value\n",
    "            objective = self.prob.objective.value()\n",
    "            if self.verbose: print(f\"Optimal solution found: {objective:.2f} in {solve_time:.2f} s\")\n",
    "        elif verbose:\n",
    "            print(f\"Optimization status: {status} in {solve_time:.2f} s\")\n",
    "        \n",
    "        # assign variable values\n",
    "        self._assign_variable_values(status=='Optimal')\n",
    "\n",
    "        return status\n",
    "    \n",
    "    def _get_no_path_sinks(self):\n",
    "        # get list of sinks with no path from any source\n",
    "\n",
    "        # get sinks and sources\n",
    "        sources, sinks = [], []\n",
    "        for node_name, node in super().nodes(data=True):\n",
    "            if node['demand'] > node['supply']: sinks.append(node_name)\n",
    "            elif node['supply'] > node['demand']: sources.append(node_name)\n",
    "\n",
    "        # check that there is at least one path from source to sink\n",
    "        no_path_sinks = []\n",
    "        for sink in sinks:    \n",
    "            if not any(nx.has_path(self, source, sink) for source in sources): no_path_sinks.append(sink)\n",
    "        \n",
    "        return no_path_sinks    \n",
    "    \n",
    "    def infeasibility_analysis(self, verbose=True):\n",
    "        # analyse why the model is infeasible\n",
    "        # optimize with soft constraints\n",
    "        self.min_cost_flow(soft_constr=True, verbose=verbose)\n",
    "\n",
    "        # get nodes that require additional capacity of supply\n",
    "        node_df = self.nodes_to_df()\n",
    "        col_select = ['name', 'type', 'demand', 'supply', 'capacity_added', 'supply_added']\n",
    "        infeasible_node_df = node_df.query('capacity_added > 0 or supply_added > 0')[col_select]\n",
    "\n",
    "        # get edges that require additional capacity\n",
    "        edge_df = self.edges_to_df()\n",
    "        col_select = ['origin', 'destination', 'capacity', 'capacity_added']\n",
    "        infeasible_edge_df = edge_df.query('capacity_added > 0')[col_select]\n",
    "\n",
    "\n",
    "        if verbose and (not infeasible_node_df.empty or not infeasible_edge_df.empty):\n",
    "            print(\"\\nInfeasibility analysis:\")\n",
    "\n",
    "            for _, node in infeasible_node_df.iterrows():\n",
    "                if node['capacity_added'] and node['capacity_added'] > 0: \n",
    "                    print(f\"Node {node['name']} requires additional capacity: {node['capacity_added']}\")\n",
    "                if node['supply_added'] and node['supply_added'] > 0: \n",
    "                    print(f\"Node {node['name']} requires additional supply: {node['supply_added']}\")\n",
    "\n",
    "            for _, edge in infeasible_edge_df.iterrows():\n",
    "                if edge['capacity_added'] and edge['capacity_added'] > 0:\n",
    "                    print(f\"Edge {edge['origin']}-{edge['destination']} requires additional capacity: {edge['capacity_added']}\")\n",
    "\n",
    "        return {'nodes': infeasible_node_df, 'edges': infeasible_edge_df}\n",
    "\n",
    "    \n",
    "    def nodes_to_df(self):\n",
    "        # columns to be dropped\n",
    "        drop_cols = ['selection_var', 'supply_var', 'capacity_var']\n",
    "        # convert nodes to dataframe\n",
    "        if not self.soft_constr: drop_cols += ['supply_added', 'capacity_added', 'supply_penalty_cost', \n",
    "                                               'capacity_penalty_cost']\n",
    "        df = (pd.DataFrame(dict(super().nodes(data=True))).T\n",
    "              .reset_index()\n",
    "              .rename(columns={'index': 'name'})\n",
    "              .drop(columns=drop_cols, errors='ignore'))\n",
    "        return df\n",
    "    \n",
    "\n",
    "    def edges_to_df(self):\n",
    "        # columns to be dropped\n",
    "        drop_cols = ['flow_var', 'selection_var', 'capacity_var']\n",
    "        if not self.soft_constr: drop_cols += ['capacity_added', 'capacity_penalty_cost']\n",
    "        # convert edges to dataframe\n",
    "        df = (pd.DataFrame([{**{'origin': o, 'destination': d}, **attr} for o, d, attr in super().edges(data=True)])\n",
    "              .drop(columns=drop_cols, errors='ignore'))\n",
    "        return df\n",
    "\n",
    "\n",
    "FlowGraph.Edge.update_forward_refs()\n"
   ]
  },
  {
   "cell_type": "markdown",
   "metadata": {},
   "source": [
    "# Define Problem\n",
    "\n",
    "- Nodes\n",
    "    - Factories\n",
    "        - number: 2\n",
    "        - demand: -700\n",
    "        - fixed cost: 100\n",
    "        - location: rand\n",
    "    - DCs\n",
    "        - number: 4\n",
    "        - fixed cost: 25\n",
    "        - location: rand\n",
    "    - Markets\n",
    "        - number: 15\n",
    "        - demand: rand 1-100\n",
    "        - location: rand\n",
    "- Edges\n",
    "    - Factories - DCs\n",
    "        - capacity: 350\n",
    "        - var cost: distance\n",
    "    - DCs - Markets\n",
    "        - capacity: 100\n",
    "        - var cost: distance"
   ]
  },
  {
   "cell_type": "code",
   "execution_count": 64,
   "metadata": {},
   "outputs": [
    {
     "data": {
      "application/vnd.plotly.v1+json": {
       "config": {
        "plotlyServerURL": "https://plot.ly"
       },
       "data": [
        {
         "hoverinfo": "text",
         "hovertext": "<b>Factory 0</b><br>Demand: 0.00<br>Supply: 700<br>Type: Factory<br>Variable Cost: 0.00<br>Fixed Cost: 100<br>X: 1.79<br>Y: 0.20<br>",
         "marker": {
          "color": "rgb(255, 127, 14)",
          "size": 0
         },
         "mode": "markers",
         "showlegend": false,
         "type": "scatter",
         "x": [
          1.791804750014033
         ],
         "y": [
          0.19693499637681267
         ]
        },
        {
         "hoverinfo": "text",
         "hovertext": "<b>DC 0</b><br>Demand: 0.00<br>Supply: 0.00<br>Capacity: 500<br>Type: DC<br>Variable Cost: 0.00<br>Fixed Cost: 25.0<br>X: 1.51<br>Y: 0.86<br>",
         "marker": {
          "color": "rgb(31, 119, 180)",
          "size": 0
         },
         "mode": "markers",
         "showlegend": false,
         "type": "scatter",
         "x": [
          1.508607936991218
         ],
         "y": [
          0.8580029722220581
         ]
        },
        {
         "hoverinfo": "text",
         "hovertext": "<b>DC 1</b><br>Demand: 0.00<br>Supply: 0.00<br>Capacity: 500<br>Type: DC<br>Variable Cost: 0.00<br>Fixed Cost: 25.0<br>X: 1.98<br>Y: 0.68<br>",
         "marker": {
          "color": "rgb(31, 119, 180)",
          "size": 0
         },
         "mode": "markers",
         "showlegend": false,
         "type": "scatter",
         "x": [
          1.9828897758129702
         ],
         "y": [
          0.678457453228653
         ]
        },
        {
         "hoverinfo": "text",
         "hovertext": "<b>DC 2</b><br>Demand: 0.00<br>Supply: 0.00<br>Capacity: 500<br>Type: DC<br>Variable Cost: 0.00<br>Fixed Cost: 25.0<br>X: 1.28<br>Y: 0.69<br>",
         "marker": {
          "color": "rgb(31, 119, 180)",
          "size": 0
         },
         "mode": "markers",
         "showlegend": false,
         "type": "scatter",
         "x": [
          1.2800117624431913
         ],
         "y": [
          0.6873172546879811
         ]
        },
        {
         "hoverinfo": "text",
         "hovertext": "<b>DC 3</b><br>Demand: 0.00<br>Supply: 0.00<br>Capacity: 500<br>Type: DC<br>Variable Cost: 0.00<br>Fixed Cost: 25.0<br>X: 0.97<br>Y: 0.55<br>",
         "marker": {
          "color": "rgb(31, 119, 180)",
          "size": 0
         },
         "mode": "markers",
         "showlegend": false,
         "type": "scatter",
         "x": [
          0.9656591573618822
         ],
         "y": [
          0.5469962772059983
         ]
        },
        {
         "hoverinfo": "text",
         "hovertext": "<b>Factory 1</b><br>Demand: 0.00<br>Supply: 700<br>Type: Factory<br>Variable Cost: 0.00<br>Fixed Cost: 100<br>X: 0.23<br>Y: 0.11<br>",
         "marker": {
          "color": "rgb(255, 127, 14)",
          "size": 0
         },
         "mode": "markers",
         "showlegend": false,
         "type": "scatter",
         "x": [
          0.22675726618378045
         ],
         "y": [
          0.11224065970269159
         ]
        },
        {
         "hoverinfo": "text",
         "hovertext": "<b>Market 0</b><br>Demand: 19.0<br>Supply: 0.00<br>Type: Market<br>Variable Cost: 0.00<br>Fixed Cost: 0.00<br>X: 0.31<br>Y: 0.28<br>",
         "marker": {
          "color": "rgb(44, 160, 44)",
          "size": 0
         },
         "mode": "markers",
         "showlegend": false,
         "type": "scatter",
         "x": [
          0.3080848014617559
         ],
         "y": [
          0.2846583714218154
         ]
        },
        {
         "hoverinfo": "text",
         "hovertext": "<b>Market 1</b><br>Demand: 23.0<br>Supply: 0.00<br>Type: Market<br>Variable Cost: 0.00<br>Fixed Cost: 0.00<br>X: 1.93<br>Y: 0.74<br>",
         "marker": {
          "color": "rgb(44, 160, 44)",
          "size": 0
         },
         "mode": "markers",
         "showlegend": false,
         "type": "scatter",
         "x": [
          1.929658658603603
         ],
         "y": [
          0.7401737862578419
         ]
        },
        {
         "hoverinfo": "text",
         "hovertext": "<b>Market 2</b><br>Demand: 76.0<br>Supply: 0.00<br>Type: Market<br>Variable Cost: 0.00<br>Fixed Cost: 0.00<br>X: 0.49<br>Y: 0.18<br>",
         "marker": {
          "color": "rgb(44, 160, 44)",
          "size": 0
         },
         "mode": "markers",
         "showlegend": false,
         "type": "scatter",
         "x": [
          0.4881486619280888
         ],
         "y": [
          0.1831183870804698
         ]
        },
        {
         "hoverinfo": "text",
         "hovertext": "<b>Market 3</b><br>Demand: 19.0<br>Supply: 0.00<br>Type: Market<br>Variable Cost: 0.00<br>Fixed Cost: 0.00<br>X: 1.06<br>Y: 0.87<br>",
         "marker": {
          "color": "rgb(44, 160, 44)",
          "size": 0
         },
         "mode": "markers",
         "showlegend": false,
         "type": "scatter",
         "x": [
          1.058182242777294
         ],
         "y": [
          0.8677822648062925
         ]
        },
        {
         "hoverinfo": "text",
         "hovertext": "<b>Market 4</b><br>Demand: 100<br>Supply: 0.00<br>Type: Market<br>Variable Cost: 0.00<br>Fixed Cost: 0.00<br>X: 0.28<br>Y: 0.95<br>",
         "marker": {
          "color": "rgb(44, 160, 44)",
          "size": 0
         },
         "mode": "markers",
         "showlegend": false,
         "type": "scatter",
         "x": [
          0.2844094155140011
         ],
         "y": [
          0.9494384872309688
         ]
        },
        {
         "hoverinfo": "text",
         "hovertext": "<b>Market 5</b><br>Demand: 89.0<br>Supply: 0.00<br>Type: Market<br>Variable Cost: 0.00<br>Fixed Cost: 0.00<br>X: 0.86<br>Y: 0.71<br>",
         "marker": {
          "color": "rgb(44, 160, 44)",
          "size": 0
         },
         "mode": "markers",
         "showlegend": false,
         "type": "scatter",
         "x": [
          0.8573862316461627
         ],
         "y": [
          0.713704803601928
         ]
        },
        {
         "hoverinfo": "text",
         "hovertext": "<b>Market 6</b><br>Demand: 68.0<br>Supply: 0.00<br>Type: Market<br>Variable Cost: 0.00<br>Fixed Cost: 0.00<br>X: 0.66<br>Y: 0.25<br>",
         "marker": {
          "color": "rgb(44, 160, 44)",
          "size": 0
         },
         "mode": "markers",
         "showlegend": false,
         "type": "scatter",
         "x": [
          0.6588527353013407
         ],
         "y": [
          0.247188478512803
         ]
        },
        {
         "hoverinfo": "text",
         "hovertext": "<b>Market 7</b><br>Demand: 83.0<br>Supply: 0.00<br>Type: Market<br>Variable Cost: 0.00<br>Fixed Cost: 0.00<br>X: 1.43<br>Y: 0.60<br>",
         "marker": {
          "color": "rgb(44, 160, 44)",
          "size": 0
         },
         "mode": "markers",
         "showlegend": false,
         "type": "scatter",
         "x": [
          1.4299133908287536
         ],
         "y": [
          0.5990954852964624
         ]
        },
        {
         "hoverinfo": "text",
         "hovertext": "<b>Market 8</b><br>Demand: 30.0<br>Supply: 0.00<br>Type: Market<br>Variable Cost: 0.00<br>Fixed Cost: 0.00<br>X: 0.51<br>Y: 0.99<br>",
         "marker": {
          "color": "rgb(44, 160, 44)",
          "size": 0
         },
         "mode": "markers",
         "showlegend": false,
         "type": "scatter",
         "x": [
          0.5063056623891766
         ],
         "y": [
          0.9897013262697113
         ]
        },
        {
         "hoverinfo": "text",
         "hovertext": "<b>Market 9</b><br>Demand: 48.0<br>Supply: 0.00<br>Type: Market<br>Variable Cost: 0.00<br>Fixed Cost: 0.00<br>X: 1.10<br>Y: 0.19<br>",
         "marker": {
          "color": "rgb(44, 160, 44)",
          "size": 0
         },
         "mode": "markers",
         "showlegend": false,
         "type": "scatter",
         "x": [
          1.1005222627783116
         ],
         "y": [
          0.19189267961235834
         ]
        },
        {
         "hoverinfo": "text",
         "hovertext": "<b>Market 10</b><br>Demand: 87.0<br>Supply: 0.00<br>Type: Market<br>Variable Cost: 0.00<br>Fixed Cost: 0.00<br>X: 1.40<br>Y: 0.19<br>",
         "marker": {
          "color": "rgb(44, 160, 44)",
          "size": 0
         },
         "mode": "markers",
         "showlegend": false,
         "type": "scatter",
         "x": [
          1.3959794244534292
         ],
         "y": [
          0.18508342559014013
         ]
        },
        {
         "hoverinfo": "text",
         "hovertext": "<b>Market 11</b><br>Demand: 97.0<br>Supply: 0.00<br>Type: Market<br>Variable Cost: 0.00<br>Fixed Cost: 0.00<br>X: 1.19<br>Y: 0.96<br>",
         "marker": {
          "color": "rgb(44, 160, 44)",
          "size": 0
         },
         "mode": "markers",
         "showlegend": false,
         "type": "scatter",
         "x": [
          1.1902411871113316
         ],
         "y": [
          0.9605646626166691
         ]
        },
        {
         "hoverinfo": "text",
         "hovertext": "<b>Market 12</b><br>Demand: 52.0<br>Supply: 0.00<br>Type: Market<br>Variable Cost: 0.00<br>Fixed Cost: 0.00<br>X: 1.69<br>Y: 0.57<br>",
         "marker": {
          "color": "rgb(44, 160, 44)",
          "size": 0
         },
         "mode": "markers",
         "showlegend": false,
         "type": "scatter",
         "x": [
          1.6922177782942203
         ],
         "y": [
          0.5726511081847925
         ]
        },
        {
         "hoverinfo": "text",
         "hovertext": "<b>Market 13</b><br>Demand: 93.0<br>Supply: 0.00<br>Type: Market<br>Variable Cost: 0.00<br>Fixed Cost: 0.00<br>X: 1.50<br>Y: 0.95<br>",
         "marker": {
          "color": "rgb(44, 160, 44)",
          "size": 0
         },
         "mode": "markers",
         "showlegend": false,
         "type": "scatter",
         "x": [
          1.496292374207516
         ],
         "y": [
          0.9480789997475705
         ]
        },
        {
         "hoverinfo": "text",
         "hovertext": "<b>Market 14</b><br>Demand: 25.0<br>Supply: 0.00<br>Type: Market<br>Variable Cost: 0.00<br>Fixed Cost: 0.00<br>X: 1.87<br>Y: 0.65<br>",
         "marker": {
          "color": "rgb(44, 160, 44)",
          "size": 0
         },
         "mode": "markers",
         "showlegend": false,
         "type": "scatter",
         "x": [
          1.8658920902612708
         ],
         "y": [
          0.6500813598637935
         ]
        },
        {
         "hoverinfo": "skip",
         "line": {
          "color": "gray",
          "dash": "dash",
          "width": 5
         },
         "marker": {
          "angleref": "previous",
          "color": "gray",
          "size": 20,
          "symbol": "arrow-bar-up"
         },
         "mode": "lines+markers",
         "showlegend": false,
         "type": "scatter",
         "x": [
          1.782302756944418,
          1.518109930060833
         ],
         "y": [
          0.21911555433570415,
          0.8358224142631666
         ]
        },
        {
         "hoverinfo": "text",
         "hovertext": "<b>Factory 0 -> DC 0</b><br>Capacity: 350<br>Variable Cost: 0.72<br>Fixed Cost: 0.00<br>",
         "line": {
          "color": "gray",
          "dash": "dash",
          "width": 0
         },
         "mode": "lines",
         "showlegend": false,
         "type": "scatter",
         "x": [
          1.782302756944418,
          1.7683978713189663,
          1.7544929856935143,
          1.7405881000680625,
          1.7266832144426107,
          1.7127783288171587,
          1.698873443191707,
          1.6849685575662552,
          1.6710636719408032,
          1.6571587863153514,
          1.6432539006898996,
          1.6293490150644478,
          1.6154441294389958,
          1.601539243813544,
          1.5876343581880923,
          1.5737294725626403,
          1.5598245869371885,
          1.5459197013117367,
          1.532014815686285,
          1.518109930060833
         ],
         "y": [
          0.21911555433570415,
          0.25157381012136004,
          0.284032065907016,
          0.3164903216926719,
          0.34894857747832786,
          0.3814068332639837,
          0.4138650890496397,
          0.44632334483529557,
          0.47878160062095154,
          0.5112398564066074,
          0.5436981121922634,
          0.5761563679779192,
          0.6086146237635752,
          0.6410728795492311,
          0.6735311353348871,
          0.7059893911205429,
          0.7384476469061989,
          0.7709059026918548,
          0.8033641584775107,
          0.8358224142631666
         ]
        },
        {
         "hoverinfo": "skip",
         "line": {
          "color": "gray",
          "dash": "dash",
          "width": 5
         },
         "marker": {
          "angleref": "previous",
          "color": "gray",
          "size": 20,
          "symbol": "arrow-bar-up"
         },
         "mode": "lines+markers",
         "showlegend": false,
         "type": "scatter",
         "x": [
          1.8007052430708812,
          1.973989282756122
         ],
         "y": [
          0.21936368887119922,
          0.6560287607342664
         ]
        },
        {
         "hoverinfo": "text",
         "hovertext": "<b>Factory 0 -> DC 1</b><br>Capacity: 350<br>Variable Cost: 0.52<br>Fixed Cost: 0.00<br>",
         "line": {
          "color": "gray",
          "dash": "dash",
          "width": 0
         },
         "mode": "lines",
         "showlegend": false,
         "type": "scatter",
         "x": [
          1.8007052430708812,
          1.809825455685894,
          1.8189456683009066,
          1.8280658809159192,
          1.8371860935309319,
          1.8463063061459446,
          1.8554265187609573,
          1.8645467313759698,
          1.8736669439909825,
          1.8827871566059953,
          1.891907369221008,
          1.9010275818360207,
          1.9101477944510332,
          1.919268007066046,
          1.9283882196810587,
          1.9375084322960714,
          1.9466286449110841,
          1.9557488575260966,
          1.9648690701411093,
          1.973989282756122
         ],
         "y": [
          0.21936368887119922,
          0.24234606107451856,
          0.2653284332778379,
          0.2883108054811572,
          0.3112931776844765,
          0.33427554988779584,
          0.3572579220911152,
          0.3802402942944345,
          0.40322266649775385,
          0.4262050387010732,
          0.44918741090439246,
          0.4721697831077118,
          0.49515215531103113,
          0.5181345275143505,
          0.5411168997176697,
          0.5640992719209891,
          0.5870816441243084,
          0.6100640163276277,
          0.6330463885309471,
          0.6560287607342664
         ]
        },
        {
         "hoverinfo": "skip",
         "line": {
          "color": "gray",
          "dash": "dash",
          "width": 5
         },
         "marker": {
          "angleref": "previous",
          "color": "gray",
          "size": 20,
          "symbol": "arrow-bar-up"
         },
         "mode": "lines+markers",
         "showlegend": false,
         "type": "scatter",
         "x": [
          1.774381590253796,
          1.2974349222034283
         ],
         "y": [
          0.21362926268689694,
          0.6706229883778968
         ]
        },
        {
         "hoverinfo": "text",
         "hovertext": "<b>Factory 0 -> DC 2</b><br>Capacity: 350<br>Variable Cost: 0.71<br>Fixed Cost: 0.00<br>",
         "line": {
          "color": "gray",
          "dash": "dash",
          "width": 0
         },
         "mode": "lines",
         "showlegend": false,
         "type": "scatter",
         "x": [
          1.774381590253796,
          1.7492791340406189,
          1.7241766778274414,
          1.6990742216142642,
          1.673971765401087,
          1.6488693091879099,
          1.6237668529747324,
          1.5986643967615553,
          1.573561940548378,
          1.5484594843352009,
          1.5233570281220234,
          1.4982545719088463,
          1.473152115695669,
          1.4480496594824919,
          1.4229472032693145,
          1.3978447470561373,
          1.37274229084296,
          1.3476398346297827,
          1.3225373784166055,
          1.2974349222034283
         ],
         "y": [
          0.21362926268689694,
          0.23768156403905483,
          0.2617338653912127,
          0.2857861667433706,
          0.3098384680955285,
          0.33389076944768636,
          0.3579430707998442,
          0.38199537215200213,
          0.40604767350416004,
          0.4300999748563179,
          0.45415227620847576,
          0.4782045775606337,
          0.5022568789127916,
          0.5263091802649494,
          0.5503614816171073,
          0.5744137829692653,
          0.5984660843214231,
          0.622518385673581,
          0.6465706870257388,
          0.6706229883778968
         ]
        },
        {
         "hoverinfo": "skip",
         "line": {
          "color": "gray",
          "dash": "dash",
          "width": 5
         },
         "marker": {
          "angleref": "previous",
          "color": "gray",
          "size": 20,
          "symbol": "arrow-bar-up"
         },
         "mode": "lines+markers",
         "showlegend": false,
         "type": "scatter",
         "x": [
          1.7695868520330924,
          0.9878770553428229
         ],
         "y": [
          0.20634934887559192,
          0.5375819247072191
         ]
        },
        {
         "hoverinfo": "text",
         "hovertext": "<b>Factory 0 -> DC 3</b><br>Capacity: 350<br>Variable Cost: 0.90<br>Fixed Cost: 0.00<br>",
         "line": {
          "color": "gray",
          "dash": "dash",
          "width": 0
         },
         "mode": "lines",
         "showlegend": false,
         "type": "scatter",
         "x": [
          1.7695868520330924,
          1.728444231154657,
          1.687301610276222,
          1.6461589893977866,
          1.6050163685193515,
          1.5638737476409161,
          1.522731126762481,
          1.4815885058840457,
          1.4404458850056105,
          1.3993032641271752,
          1.35816064324874,
          1.3170180223703047,
          1.2758754014918696,
          1.2347327806134343,
          1.193590159734999,
          1.1524475388565638,
          1.1113049179781287,
          1.0701622970996933,
          1.029019676221258,
          0.9878770553428229
         ],
         "y": [
          0.20634934887559192,
          0.2237826423404144,
          0.2412159358052369,
          0.2586492292700594,
          0.2760825227348819,
          0.29351581619970435,
          0.3109491096645268,
          0.3283824031293493,
          0.3458156965941718,
          0.36324899005899425,
          0.3806822835238168,
          0.39811557698863925,
          0.4155488704534617,
          0.43298216391828426,
          0.45041545738310673,
          0.4678487508479292,
          0.4852820443127517,
          0.5027153377775742,
          0.5201486312423966,
          0.5375819247072191
         ]
        },
        {
         "hoverinfo": "skip",
         "line": {
          "color": "gray",
          "dash": "dash",
          "width": 0.25
         },
         "marker": {
          "angleref": "previous",
          "color": "gray",
          "size": 5,
          "symbol": "arrow-bar-up"
         },
         "mode": "lines+markers",
         "showlegend": false,
         "type": "scatter",
         "x": [
          1.4868335104205719,
          0.329859228032402
         ],
         "y": [
          0.8476039640394333,
          0.2950573796044402
         ]
        },
        {
         "hoverinfo": "text",
         "hovertext": "<b>DC 0 -> Market 0</b><br>Capacity: 100<br>Variable Cost: 1.33<br>Fixed Cost: 0.00<br>",
         "line": {
          "color": "gray",
          "dash": "dash",
          "width": 0
         },
         "mode": "lines",
         "showlegend": false,
         "type": "scatter",
         "x": [
          1.4868335104205719,
          1.425940127136984,
          1.3650467438533962,
          1.3041533605698081,
          1.2432599772862203,
          1.1823665940026324,
          1.1214732107190446,
          1.0605798274354568,
          0.9996864441518687,
          0.9387930608682808,
          0.877899677584693,
          0.817006294301105,
          0.7561129110175172,
          0.6952195277339293,
          0.6343261444503414,
          0.5734327611667535,
          0.5125393778831656,
          0.45164599459957766,
          0.3907526113159898,
          0.329859228032402
         ],
         "y": [
          0.8476039640394333,
          0.8185225648586442,
          0.789441165677855,
          0.7603597664970659,
          0.7312783673162768,
          0.7021969681354877,
          0.6731155689546986,
          0.6440341697739096,
          0.6149527705931204,
          0.5858713714123314,
          0.5567899722315421,
          0.5277085730507531,
          0.498627173869964,
          0.4695457746891749,
          0.4404643755083858,
          0.4113829763275967,
          0.38230157714680757,
          0.35322017796601846,
          0.32413877878522934,
          0.2950573796044402
         ]
        },
        {
         "hoverinfo": "skip",
         "line": {
          "color": "gray",
          "dash": "dash",
          "width": 0.25
         },
         "marker": {
          "angleref": "previous",
          "color": "gray",
          "size": 5,
          "symbol": "arrow-bar-up"
         },
         "mode": "lines+markers",
         "showlegend": false,
         "type": "scatter",
         "x": [
          1.5318453522941362,
          1.9064212433006849
         ],
         "y": [
          0.8515000841173421,
          0.7466766743625579
         ]
        },
        {
         "hoverinfo": "text",
         "hovertext": "<b>DC 0 -> Market 1</b><br>Capacity: 100<br>Variable Cost: 0.44<br>Fixed Cost: 0.00<br>",
         "line": {
          "color": "gray",
          "dash": "dash",
          "width": 0
         },
         "mode": "lines",
         "showlegend": false,
         "type": "scatter",
         "x": [
          1.5318453522941362,
          1.5515598728734283,
          1.5712743934527202,
          1.5909889140320124,
          1.6107034346113043,
          1.6304179551905964,
          1.6501324757698885,
          1.6698469963491804,
          1.6895615169284726,
          1.7092760375077645,
          1.7289905580870566,
          1.7487050786663485,
          1.7684195992456406,
          1.7881341198249325,
          1.8078486404042247,
          1.8275631609835168,
          1.8472776815628087,
          1.8669922021421008,
          1.8867067227213927,
          1.9064212433006849
         ],
         "y": [
          0.8515000841173421,
          0.8459830625513008,
          0.8404660409852596,
          0.8349490194192183,
          0.829431997853177,
          0.8239149762871357,
          0.8183979547210944,
          0.8128809331550532,
          0.8073639115890119,
          0.8018468900229707,
          0.7963298684569294,
          0.7908128468908882,
          0.7852958253248469,
          0.7797788037588056,
          0.7742617821927643,
          0.768744760626723,
          0.7632277390606818,
          0.7577107174946405,
          0.7521936959285992,
          0.7466766743625579
         ]
        },
        {
         "hoverinfo": "skip",
         "line": {
          "color": "gray",
          "dash": "dash",
          "width": 0.25
         },
         "marker": {
          "angleref": "previous",
          "color": "gray",
          "size": 5,
          "symbol": "arrow-bar-up"
         },
         "mode": "lines+markers",
         "showlegend": false,
         "type": "scatter",
         "x": [
          1.4884812068984568,
          0.50827539202085
         ],
         "y": [
          0.8446920834675122,
          0.19642927583501568
         ]
        },
        {
         "hoverinfo": "text",
         "hovertext": "<b>DC 0 -> Market 2</b><br>Capacity: 100<br>Variable Cost: 1.22<br>Fixed Cost: 0.00<br>",
         "line": {
          "color": "gray",
          "dash": "dash",
          "width": 0
         },
         "mode": "lines",
         "showlegend": false,
         "type": "scatter",
         "x": [
          1.4884812068984568,
          1.4368914271680564,
          1.385301647437656,
          1.3337118677072557,
          1.2821220879768553,
          1.230532308246455,
          1.1789425285160546,
          1.1273527487856543,
          1.075762969055254,
          1.0241731893248536,
          0.9725834095944532,
          0.9209936298640529,
          0.8694038501336525,
          0.8178140704032522,
          0.7662242906728518,
          0.7146345109424515,
          0.6630447312120511,
          0.6114549514816507,
          0.5598651717512504,
          0.50827539202085
         ],
         "y": [
          0.8446920834675122,
          0.8105729883289597,
          0.7764538931904074,
          0.7423347980518549,
          0.7082157029133025,
          0.67409660777475,
          0.6399775126361975,
          0.6058584174976451,
          0.5717393223590926,
          0.5376202272205401,
          0.5035011320819878,
          0.4693820369434353,
          0.43526294180488284,
          0.4011438466663304,
          0.3670247515277779,
          0.33290565638922553,
          0.29878656125067304,
          0.26466746611212055,
          0.23054837097356817,
          0.19642927583501568
         ]
        },
        {
         "hoverinfo": "skip",
         "line": {
          "color": "gray",
          "dash": "dash",
          "width": 0.25
         },
         "marker": {
          "angleref": "previous",
          "color": "gray",
          "size": 5,
          "symbol": "arrow-bar-up"
         },
         "mode": "lines+markers",
         "showlegend": false,
         "type": "scatter",
         "x": [
          1.4844834538563165,
          1.0823067259121955
         ],
         "y": [
          0.8585267442493875,
          0.8672584927789632
         ]
        },
        {
         "hoverinfo": "text",
         "hovertext": "<b>DC 0 -> Market 3</b><br>Capacity: 100<br>Variable Cost: 0.45<br>Fixed Cost: 0.00<br>",
         "line": {
          "color": "gray",
          "dash": "dash",
          "width": 0
         },
         "mode": "lines",
         "showlegend": false,
         "type": "scatter",
         "x": [
          1.4844834538563165,
          1.4633162576487313,
          1.4421490614411459,
          1.4209818652335606,
          1.3998146690259752,
          1.37864747281839,
          1.3574802766108047,
          1.3363130804032193,
          1.315145884195634,
          1.2939786879880486,
          1.2728114917804634,
          1.251644295572878,
          1.2304770993652927,
          1.2093099031577075,
          1.188142706950122,
          1.1669755107425368,
          1.1458083145349514,
          1.1246411183273661,
          1.1034739221197807,
          1.0823067259121955
         ],
         "y": [
          0.8585267442493875,
          0.8589863099614704,
          0.8594458756735534,
          0.8599054413856363,
          0.8603650070977192,
          0.8608245728098021,
          0.861284138521885,
          0.861743704233968,
          0.8622032699460509,
          0.8626628356581338,
          0.8631224013702168,
          0.8635819670822997,
          0.8640415327943827,
          0.8645010985064656,
          0.8649606642185486,
          0.8654202299306314,
          0.8658797956427143,
          0.8663393613547973,
          0.8667989270668802,
          0.8672584927789632
         ]
        },
        {
         "hoverinfo": "skip",
         "line": {
          "color": "gray",
          "dash": "dash",
          "width": 0.25
         },
         "marker": {
          "angleref": "previous",
          "color": "gray",
          "size": 5,
          "symbol": "arrow-bar-up"
         },
         "mode": "lines+markers",
         "showlegend": false,
         "type": "scatter",
         "x": [
          1.4845447947752237,
          0.3084725577299953
         ],
         "y": [
          0.8598002508191578,
          0.9476412086338691
         ]
        },
        {
         "hoverinfo": "text",
         "hovertext": "<b>DC 0 -> Market 4</b><br>Capacity: 100<br>Variable Cost: 1.23<br>Fixed Cost: 0.00<br>",
         "line": {
          "color": "gray",
          "dash": "dash",
          "width": 0
         },
         "mode": "lines",
         "showlegend": false,
         "type": "scatter",
         "x": [
          1.4845447947752237,
          1.4226462559833697,
          1.3607477171915154,
          1.2988491783996614,
          1.2369506396078072,
          1.1750521008159531,
          1.1131535620240989,
          1.0512550232322448,
          0.9893564844403908,
          0.9274579456485367,
          0.8655594068566825,
          0.8036608680648284,
          0.7417623292729743,
          0.6798637904811201,
          0.6179652516892661,
          0.5560667128974119,
          0.4941681741055578,
          0.43226963531370366,
          0.37037109652184963,
          0.3084725577299953
         ],
         "y": [
          0.8598002508191578,
          0.8644234591251952,
          0.8690466674312327,
          0.8736698757372701,
          0.8782930840433075,
          0.882916292349345,
          0.8875395006553825,
          0.8921627089614199,
          0.8967859172674573,
          0.9014091255734947,
          0.9060323338795322,
          0.9106555421855697,
          0.9152787504916071,
          0.9199019587976445,
          0.9245251671036819,
          0.9291483754097194,
          0.9337715837157569,
          0.9383947920217942,
          0.9430180003278317,
          0.9476412086338691
         ]
        },
        {
         "hoverinfo": "skip",
         "line": {
          "color": "gray",
          "dash": "dash",
          "width": 0.25
         },
         "marker": {
          "angleref": "previous",
          "color": "gray",
          "size": 5,
          "symbol": "arrow-bar-up"
         },
         "mode": "lines+markers",
         "showlegend": false,
         "type": "scatter",
         "x": [
          1.4850491828671197,
          0.880944985770261
         ],
         "y": [
          0.852782806728222,
          0.7189249690957641
         ]
        },
        {
         "hoverinfo": "text",
         "hovertext": "<b>DC 0 -> Market 5</b><br>Capacity: 100<br>Variable Cost: 0.67<br>Fixed Cost: 0.00<br>",
         "line": {
          "color": "gray",
          "dash": "dash",
          "width": 0
         },
         "mode": "lines",
         "showlegend": false,
         "type": "scatter",
         "x": [
          1.4850491828671197,
          1.4532542251251799,
          1.4214592673832398,
          1.3896643096413,
          1.35786935189936,
          1.32607439415742,
          1.2942794364154802,
          1.2624844786735403,
          1.2306895209316002,
          1.1988945631896604,
          1.1670996054477203,
          1.1353046477057804,
          1.1035096899638406,
          1.0717147322219005,
          1.0399197744799606,
          1.0081248167380208,
          0.9763298589960808,
          0.9445349012541409,
          0.912739943512201,
          0.880944985770261
         ],
         "y": [
          0.852782806728222,
          0.8457376573791453,
          0.8386925080300686,
          0.8316473586809918,
          0.8246022093319151,
          0.8175570599828383,
          0.8105119106337616,
          0.8034667612846849,
          0.7964216119356081,
          0.7893764625865314,
          0.7823313132374548,
          0.775286163888378,
          0.7682410145393013,
          0.7611958651902245,
          0.7541507158411478,
          0.747105566492071,
          0.7400604171429943,
          0.7330152677939176,
          0.7259701184448408,
          0.7189249690957641
         ]
        },
        {
         "hoverinfo": "skip",
         "line": {
          "color": "gray",
          "dash": "dash",
          "width": 0.25
         },
         "marker": {
          "angleref": "previous",
          "color": "gray",
          "size": 5,
          "symbol": "arrow-bar-up"
         },
         "mode": "lines+markers",
         "showlegend": false,
         "type": "scatter",
         "x": [
          1.4890144479439817,
          0.6784462243485769
         ],
         "y": [
          0.8439189312316822,
          0.261272519503179
         ]
        },
        {
         "hoverinfo": "text",
         "hovertext": "<b>DC 0 -> Market 6</b><br>Capacity: 100<br>Variable Cost: 1.05<br>Fixed Cost: 0.00<br>",
         "line": {
          "color": "gray",
          "dash": "dash",
          "width": 0
         },
         "mode": "lines",
         "showlegend": false,
         "type": "scatter",
         "x": [
          1.4890144479439817,
          1.446352962491592,
          1.4036914770392024,
          1.3610299915868125,
          1.3183685061344228,
          1.2757070206820331,
          1.2330455352296434,
          1.1903840497772538,
          1.1477225643248639,
          1.1050610788724742,
          1.0623995934200845,
          1.0197381079676946,
          0.977076622515305,
          0.9344151370629152,
          0.8917536516105256,
          0.8490921661581358,
          0.8064306807057461,
          0.7637691952533564,
          0.7211077098009666,
          0.6784462243485769
         ],
         "y": [
          0.8439189312316822,
          0.8132533306143925,
          0.7825877299971029,
          0.7519221293798133,
          0.7212565287625236,
          0.6905909281452339,
          0.6599253275279443,
          0.6292597269106547,
          0.5985941262933651,
          0.5679285256760753,
          0.5372629250587857,
          0.5065973244414961,
          0.47593172382420645,
          0.44526612320691683,
          0.4146005225896272,
          0.38393492197233753,
          0.3532693213550479,
          0.3226037207377582,
          0.2919381201204686,
          0.261272519503179
         ]
        },
        {
         "hoverinfo": "skip",
         "line": {
          "color": "gray",
          "dash": "dash",
          "width": 0.25
         },
         "marker": {
          "angleref": "previous",
          "color": "gray",
          "size": 5,
          "symbol": "arrow-bar-up"
         },
         "mode": "lines+markers",
         "showlegend": false,
         "type": "scatter",
         "x": [
          1.5015905961215932,
          1.4369307316983784
         ],
         "y": [
          0.8349157040687609,
          0.6221827534497596
         ]
        },
        {
         "hoverinfo": "text",
         "hovertext": "<b>DC 0 -> Market 7</b><br>Capacity: 100<br>Variable Cost: 0.27<br>Fixed Cost: 0.00<br>",
         "line": {
          "color": "gray",
          "dash": "dash",
          "width": 0
         },
         "mode": "lines",
         "showlegend": false,
         "type": "scatter",
         "x": [
          1.5015905961215932,
          1.4981874453624766,
          1.49478429460336,
          1.4913811438442435,
          1.487977993085127,
          1.4845748423260103,
          1.4811716915668938,
          1.4777685408077772,
          1.4743653900486606,
          1.470962239289544,
          1.4675590885304275,
          1.464155937771311,
          1.4607527870121944,
          1.4573496362530778,
          1.4539464854939612,
          1.4505433347348446,
          1.447140183975728,
          1.4437370332166115,
          1.440333882457495,
          1.4369307316983784
         ],
         "y": [
          0.8349157040687609,
          0.8237192329835503,
          0.8125227618983397,
          0.8013262908131291,
          0.7901298197279185,
          0.7789333486427079,
          0.7677368775574973,
          0.7565404064722867,
          0.7453439353870761,
          0.7341474643018655,
          0.7229509932166549,
          0.7117545221314443,
          0.7005580510462337,
          0.6893615799610231,
          0.6781651088758126,
          0.666968637790602,
          0.6557721667053914,
          0.6445756956201808,
          0.6333792245349702,
          0.6221827534497596
         ]
        },
        {
         "hoverinfo": "skip",
         "line": {
          "color": "gray",
          "dash": "dash",
          "width": 0.25
         },
         "marker": {
          "angleref": "previous",
          "color": "gray",
          "size": 5,
          "symbol": "arrow-bar-up"
         },
         "mode": "lines+markers",
         "showlegend": false,
         "type": "scatter",
         "x": [
          1.484683411744136,
          0.5302301876362585
         ],
         "y": [
          0.8611465554266988,
          0.9865577430650706
         ]
        },
        {
         "hoverinfo": "text",
         "hovertext": "<b>DC 0 -> Market 8</b><br>Capacity: 100<br>Variable Cost: 1.01<br>Fixed Cost: 0.00<br>",
         "line": {
          "color": "gray",
          "dash": "dash",
          "width": 0
         },
         "mode": "lines",
         "showlegend": false,
         "type": "scatter",
         "x": [
          1.484683411744136,
          1.434449031527932,
          1.384214651311728,
          1.3339802710955238,
          1.2837458908793198,
          1.2335115106631156,
          1.1832771304469116,
          1.1330427502307074,
          1.0828083700145035,
          1.0325739897982993,
          0.9823396095820952,
          0.9321052293658911,
          0.881870849149687,
          0.831636468933483,
          0.7814020887172789,
          0.7311677085010748,
          0.6809333282848707,
          0.6306989480686667,
          0.5804645678524626,
          0.5302301876362585
         ],
         "y": [
          0.8611465554266988,
          0.8677471442497711,
          0.8743477330728432,
          0.8809483218959154,
          0.8875489107189877,
          0.8941494995420598,
          0.900750088365132,
          0.9073506771882042,
          0.9139512660112764,
          0.9205518548343486,
          0.9271524436574208,
          0.933753032480493,
          0.9403536213035653,
          0.9469542101266374,
          0.9535547989497096,
          0.9601553877727818,
          0.966755976595854,
          0.9733565654189262,
          0.9799571542419984,
          0.9865577430650706
         ]
        },
        {
         "hoverinfo": "skip",
         "line": {
          "color": "gray",
          "dash": "dash",
          "width": 0.25
         },
         "marker": {
          "angleref": "previous",
          "color": "gray",
          "size": 5,
          "symbol": "arrow-bar-up"
         },
         "mode": "lines+markers",
         "showlegend": false,
         "type": "scatter",
         "x": [
          1.4960023669541564,
          1.113127832815373
         ],
         "y": [
          0.8374271459275081,
          0.2124685059069083
         ]
        },
        {
         "hoverinfo": "text",
         "hovertext": "<b>DC 0 -> Market 9</b><br>Capacity: 100<br>Variable Cost: 0.78<br>Fixed Cost: 0.00<br>",
         "line": {
          "color": "gray",
          "dash": "dash",
          "width": 0
         },
         "mode": "lines",
         "showlegend": false,
         "type": "scatter",
         "x": [
          1.4960023669541564,
          1.4758510756836942,
          1.4556997844132318,
          1.4355484931427696,
          1.4153972018723073,
          1.395245910601845,
          1.3750946193313827,
          1.3549433280609204,
          1.3347920367904582,
          1.314640745519996,
          1.2944894542495335,
          1.2743381629790713,
          1.254186871708609,
          1.2340355804381469,
          1.2138842891676844,
          1.1937329978972222,
          1.17358170662676,
          1.1534304153562975,
          1.1332791240858353,
          1.113127832815373
         ],
         "y": [
          0.8374271459275081,
          0.8045345859264239,
          0.7716420259253397,
          0.7387494659242555,
          0.7058569059231713,
          0.6729643459220871,
          0.640071785921003,
          0.6071792259199187,
          0.5742866659188346,
          0.5413941059177503,
          0.5085015459166662,
          0.4756089859155819,
          0.4427164259144978,
          0.4098238659134136,
          0.3769313059123294,
          0.34403874591124517,
          0.31114618591016097,
          0.27825362590907676,
          0.24536106590799256,
          0.2124685059069083
         ]
        },
        {
         "hoverinfo": "skip",
         "line": {
          "color": "gray",
          "dash": "dash",
          "width": 0.25
         },
         "marker": {
          "angleref": "previous",
          "color": "gray",
          "size": 5,
          "symbol": "arrow-bar-up"
         },
         "mode": "lines+markers",
         "showlegend": false,
         "type": "scatter",
         "x": [
          1.5046246086520894,
          1.3999627527925578
         ],
         "y": [
          0.8342038520911489,
          0.2088825457210494
         ]
        },
        {
         "hoverinfo": "text",
         "hovertext": "<b>DC 0 -> Market 10</b><br>Capacity: 100<br>Variable Cost: 0.68<br>Fixed Cost: 0.00<br>",
         "line": {
          "color": "gray",
          "dash": "dash",
          "width": 0
         },
         "mode": "lines",
         "showlegend": false,
         "type": "scatter",
         "x": [
          1.5046246086520894,
          1.4991160899226403,
          1.4936075711931913,
          1.4880990524637423,
          1.4825905337342933,
          1.4770820150048443,
          1.4715734962753952,
          1.4660649775459462,
          1.4605564588164972,
          1.4550479400870482,
          1.4495394213575992,
          1.44403090262815,
          1.438522383898701,
          1.4330138651692519,
          1.4275053464398029,
          1.4219968277103539,
          1.4164883089809048,
          1.4109797902514558,
          1.4054712715220068,
          1.3999627527925578
         ],
         "y": [
          0.8342038520911489,
          0.8012922043874594,
          0.76838055668377,
          0.7354689089800805,
          0.7025572612763911,
          0.6696456135727016,
          0.6367339658690122,
          0.6038223181653227,
          0.5709106704616334,
          0.5379990227579439,
          0.5050873750542544,
          0.47217572735056496,
          0.4392640796468755,
          0.40635243194318604,
          0.3734407842394966,
          0.34052913653580713,
          0.3076174888321177,
          0.2747058411284282,
          0.24179419342473885,
          0.2088825457210494
         ]
        },
        {
         "hoverinfo": "skip",
         "line": {
          "color": "gray",
          "dash": "dash",
          "width": 0.25
         },
         "marker": {
          "angleref": "previous",
          "color": "gray",
          "size": 5,
          "symbol": "arrow-bar-up"
         },
         "mode": "lines+markers",
         "showlegend": false,
         "type": "scatter",
         "x": [
          1.4856401563484176,
          1.213208967754132
         ],
         "y": [
          0.8654020313519043,
          0.9531656034868229
         ]
        },
        {
         "hoverinfo": "text",
         "hovertext": "<b>DC 0 -> Market 11</b><br>Capacity: 100<br>Variable Cost: 0.33<br>Fixed Cost: 0.00<br>",
         "line": {
          "color": "gray",
          "dash": "dash",
          "width": 0
         },
         "mode": "lines",
         "showlegend": false,
         "type": "scatter",
         "x": [
          1.4856401563484176,
          1.471301672738192,
          1.4569631891279664,
          1.442624705517741,
          1.4282862219075154,
          1.4139477382972898,
          1.3996092546870642,
          1.3852707710768386,
          1.3709322874666132,
          1.3565938038563876,
          1.342255320246162,
          1.3279168366359364,
          1.313578353025711,
          1.2992398694154854,
          1.2849013858052598,
          1.2705629021950342,
          1.2562244185848086,
          1.2418859349745832,
          1.2275474513643576,
          1.213208967754132
         ],
         "y": [
          0.8654020313519043,
          0.8700211667274264,
          0.8746403021029484,
          0.8792594374784704,
          0.8838785728539924,
          0.8884977082295145,
          0.8931168436050365,
          0.8977359789805586,
          0.9023551143560805,
          0.9069742497316026,
          0.9115933851071246,
          0.9162125204826467,
          0.9208316558581686,
          0.9254507912336907,
          0.9300699266092127,
          0.9346890619847348,
          0.9393081973602568,
          0.9439273327357788,
          0.9485464681113008,
          0.9531656034868229
         ]
        },
        {
         "hoverinfo": "skip",
         "line": {
          "color": "gray",
          "dash": "dash",
          "width": 0.25
         },
         "marker": {
          "angleref": "previous",
          "color": "gray",
          "size": 5,
          "symbol": "arrow-bar-up"
         },
         "mode": "lines+markers",
         "showlegend": false,
         "type": "scatter",
         "x": [
          1.521665029332958,
          1.6791606859524801
         ],
         "y": [
          0.8377106740958719,
          0.5929434063109787
         ]
        },
        {
         "hoverinfo": "text",
         "hovertext": "<b>DC 0 -> Market 12</b><br>Capacity: 100<br>Variable Cost: 0.34<br>Fixed Cost: 0.00<br>",
         "line": {
          "color": "gray",
          "dash": "dash",
          "width": 0
         },
         "mode": "lines",
         "showlegend": false,
         "type": "scatter",
         "x": [
          1.521665029332958,
          1.5299542744181962,
          1.538243519503434,
          1.5465327645886722,
          1.55482200967391,
          1.5631112547591481,
          1.571400499844386,
          1.579689744929624,
          1.5879789900148622,
          1.5962682351001,
          1.6045574801853382,
          1.612846725270576,
          1.6211359703558141,
          1.629425215441052,
          1.63771446052629,
          1.6460037056115282,
          1.654292950696766,
          1.6625821957820042,
          1.670871440867242,
          1.6791606859524801
         ],
         "y": [
          0.8377106740958719,
          0.8248281863177196,
          0.8119456985395673,
          0.7990632107614151,
          0.7861807229832628,
          0.7732982352051105,
          0.7604157474269583,
          0.747533259648806,
          0.7346507718706538,
          0.7217682840925015,
          0.7088857963143491,
          0.696003308536197,
          0.6831208207580446,
          0.6702383329798924,
          0.6573558452017401,
          0.6444733574235878,
          0.6315908696454355,
          0.6187083818672833,
          0.605825894089131,
          0.5929434063109787
         ]
        },
        {
         "hoverinfo": "skip",
         "line": {
          "color": "gray",
          "dash": "dash",
          "width": 0.25
         },
         "marker": {
          "angleref": "previous",
          "color": "gray",
          "size": 5,
          "symbol": "arrow-bar-up"
         },
         "mode": "lines+markers",
         "showlegend": false,
         "type": "scatter",
         "x": [
          1.5053391725370047,
          1.4995611386617294
         ],
         "y": [
          0.8819107157919901,
          0.9241712561776385
         ]
        },
        {
         "hoverinfo": "text",
         "hovertext": "<b>DC 0 -> Market 13</b><br>Capacity: 100<br>Variable Cost: 0.09<br>Fixed Cost: 0.00<br>",
         "line": {
          "color": "gray",
          "dash": "dash",
          "width": 0
         },
         "mode": "lines",
         "showlegend": false,
         "type": "scatter",
         "x": [
          1.5053391725370047,
          1.5050350654909375,
          1.5047309584448705,
          1.5044268513988033,
          1.504122744352736,
          1.503818637306669,
          1.503514530260602,
          1.503210423214535,
          1.5029063161684677,
          1.5026022091224005,
          1.5022981020763335,
          1.5019939950302663,
          1.5016898879841991,
          1.5013857809381321,
          1.501081673892065,
          1.500777566845998,
          1.5004734597999307,
          1.5001693527538635,
          1.4998652457077966,
          1.4995611386617294
         ],
         "y": [
          0.8819107157919901,
          0.8841349547596558,
          0.8863591937273215,
          0.8885834326949872,
          0.890807671662653,
          0.8930319106303186,
          0.8952561495979844,
          0.89748038856565,
          0.8997046275333157,
          0.9019288665009815,
          0.9041531054686471,
          0.9063773444363129,
          0.9086015834039786,
          0.9108258223716443,
          0.91305006133931,
          0.9152743003069757,
          0.9174985392746414,
          0.9197227782423071,
          0.9219470172099729,
          0.9241712561776385
         ]
        },
        {
         "hoverinfo": "skip",
         "line": {
          "color": "gray",
          "dash": "dash",
          "width": 0.25
         },
         "marker": {
          "angleref": "previous",
          "color": "gray",
          "size": 5,
          "symbol": "arrow-bar-up"
         },
         "mode": "lines+markers",
         "showlegend": false,
         "type": "scatter",
         "x": [
          1.5294636102632886,
          1.8450364169892002
         ],
         "y": [
          0.8458660073612951,
          0.6622183247245564
         ]
        },
        {
         "hoverinfo": "text",
         "hovertext": "<b>DC 0 -> Market 14</b><br>Capacity: 100<br>Variable Cost: 0.41<br>Fixed Cost: 0.00<br>",
         "line": {
          "color": "gray",
          "dash": "dash",
          "width": 0
         },
         "mode": "lines",
         "showlegend": false,
         "type": "scatter",
         "x": [
          1.5294636102632886,
          1.546072705354126,
          1.5626818004449634,
          1.579290895535801,
          1.5958999906266385,
          1.6125090857174758,
          1.6291181808083133,
          1.6457272758991508,
          1.6623363709899883,
          1.6789454660808256,
          1.6955545611716631,
          1.7121636562625007,
          1.728772751353338,
          1.7453818464441755,
          1.761990941535013,
          1.7786000366258503,
          1.7952091317166878,
          1.8118182268075254,
          1.8284273218983627,
          1.8450364169892002
         ],
         "y": [
          0.8458660073612951,
          0.8362003398540984,
          0.8265346723469016,
          0.8168690048397048,
          0.807203337332508,
          0.7975376698253113,
          0.7878720023181145,
          0.7782063348109177,
          0.768540667303721,
          0.7588749997965242,
          0.7492093322893274,
          0.7395436647821306,
          0.7298779972749339,
          0.7202123297677371,
          0.7105466622605403,
          0.7008809947533435,
          0.6912153272461468,
          0.68154965973895,
          0.6718839922317532,
          0.6622183247245564
         ]
        },
        {
         "hoverinfo": "skip",
         "line": {
          "color": "gray",
          "dash": "dash",
          "width": 0.25
         },
         "marker": {
          "angleref": "previous",
          "color": "gray",
          "size": 5,
          "symbol": "arrow-bar-up"
         },
         "mode": "lines+markers",
         "showlegend": false,
         "type": "scatter",
         "x": [
          1.959400203319749,
          0.3315743739549771
         ],
         "y": [
          0.672934319358425,
          0.29018150529204345
         ]
        },
        {
         "hoverinfo": "text",
         "hovertext": "<b>DC 1 -> Market 0</b><br>Capacity: 100<br>Variable Cost: 1.72<br>Fixed Cost: 0.00<br>",
         "line": {
          "color": "gray",
          "dash": "dash",
          "width": 0
         },
         "mode": "lines",
         "showlegend": false,
         "type": "scatter",
         "x": [
          1.959400203319749,
          1.8737251596689717,
          1.788050116018194,
          1.7023750723674167,
          1.616700028716639,
          1.5310249850658617,
          1.4453499414150843,
          1.3596748977643067,
          1.2739998541135291,
          1.1883248104627517,
          1.1026497668119744,
          1.0169747231611967,
          0.9312996795104194,
          0.8456246358596418,
          0.7599495922088644,
          0.6742745485580868,
          0.5885995049073094,
          0.502924461256532,
          0.4172494176057544,
          0.3315743739549771
         ],
         "y": [
          0.672934319358425,
          0.6527894344075628,
          0.6326445494567006,
          0.6124996645058384,
          0.5923547795549762,
          0.5722098946041141,
          0.5520650096532518,
          0.5319201247023897,
          0.5117752397515275,
          0.4916303548006653,
          0.4714854698498031,
          0.4513405848989409,
          0.4311956999480787,
          0.4110508149972165,
          0.3909059300463544,
          0.3707610450954922,
          0.35061616014463,
          0.3304712751937678,
          0.3103263902429056,
          0.29018150529204345
         ]
        },
        {
         "hoverinfo": "skip",
         "line": {
          "color": "gray",
          "dash": "dash",
          "width": 0.25
         },
         "marker": {
          "angleref": "previous",
          "color": "gray",
          "size": 5,
          "symbol": "arrow-bar-up"
         },
         "mode": "lines+markers",
         "showlegend": false,
         "type": "scatter",
         "x": [
          1.967129582608472,
          1.9454188518081013
         ],
         "y": [
          0.6967298732604837,
          0.7219013662260112
         ]
        },
        {
         "hoverinfo": "text",
         "hovertext": "<b>DC 1 -> Market 1</b><br>Capacity: 100<br>Variable Cost: 0.08<br>Fixed Cost: 0.00<br>",
         "line": {
          "color": "gray",
          "dash": "dash",
          "width": 0
         },
         "mode": "lines",
         "showlegend": false,
         "type": "scatter",
         "x": [
          1.967129582608472,
          1.9659869125663472,
          1.9648442425242225,
          1.9637015724820976,
          1.962558902439973,
          1.9614162323978481,
          1.9602735623557235,
          1.9591308923135986,
          1.9579882222714737,
          1.956845552229349,
          1.9557028821872242,
          1.9545602121450996,
          1.9534175421029747,
          1.9522748720608498,
          1.9511322020187252,
          1.9499895319766003,
          1.9488468619344756,
          1.9477041918923508,
          1.9465615218502261,
          1.9454188518081013
         ],
         "y": [
          0.6967298732604837,
          0.698054688679722,
          0.6993795040989603,
          0.7007043195181986,
          0.7020291349374369,
          0.7033539503566751,
          0.7046787657759135,
          0.7060035811951517,
          0.7073283966143901,
          0.7086532120336283,
          0.7099780274528666,
          0.7113028428721049,
          0.7126276582913432,
          0.7139524737105815,
          0.7152772891298198,
          0.716602104549058,
          0.7179269199682964,
          0.7192517353875346,
          0.720576550806773,
          0.7219013662260112
         ]
        },
        {
         "hoverinfo": "skip",
         "line": {
          "color": "gray",
          "dash": "dash",
          "width": 0.25
         },
         "marker": {
          "angleref": "previous",
          "color": "gray",
          "size": 5,
          "symbol": "arrow-bar-up"
         },
         "mode": "lines+markers",
         "showlegend": false,
         "type": "scatter",
         "x": [
          1.9599845548536028,
          0.5110538828874563
         ],
         "y": [
          0.670866940962323,
          0.19070889934679974
         ]
        },
        {
         "hoverinfo": "text",
         "hovertext": "<b>DC 1 -> Market 2</b><br>Capacity: 100<br>Variable Cost: 1.57<br>Fixed Cost: 0.00<br>",
         "line": {
          "color": "gray",
          "dash": "dash",
          "width": 0
         },
         "mode": "lines",
         "showlegend": false,
         "type": "scatter",
         "x": [
          1.9599845548536028,
          1.883725045802753,
          1.8074655367519032,
          1.7312060277010533,
          1.6549465186502035,
          1.5786870095993537,
          1.502427500548504,
          1.4261679914976542,
          1.3499084824468044,
          1.2736489733959546,
          1.1973894643451046,
          1.1211299552942549,
          1.044870446243405,
          0.9686109371925552,
          0.8923514281417053,
          0.8160919190908555,
          0.7398324100400058,
          0.663572900989156,
          0.5873133919383062,
          0.5110538828874563
         ],
         "y": [
          0.670866940962323,
          0.6455954650878218,
          0.6203239892133205,
          0.5950525133388194,
          0.5697810374643181,
          0.5445095615898169,
          0.5192380857153156,
          0.4939666098408144,
          0.46869513396631324,
          0.44342365809181195,
          0.41815218221731076,
          0.3928807063428095,
          0.3676092304683083,
          0.34233775459380705,
          0.31706627871930587,
          0.29179480284480463,
          0.2665233269703034,
          0.24125185109580216,
          0.21598037522130092,
          0.19070889934679974
         ]
        },
        {
         "hoverinfo": "skip",
         "line": {
          "color": "gray",
          "dash": "dash",
          "width": 0.25
         },
         "marker": {
          "angleref": "previous",
          "color": "gray",
          "size": 5,
          "symbol": "arrow-bar-up"
         },
         "mode": "lines+markers",
         "showlegend": false,
         "type": "scatter",
         "x": [
          1.9592499938834842,
          1.08182202470678
         ],
         "y": [
          0.6832974670704822,
          0.8629422509644633
         ]
        },
        {
         "hoverinfo": "text",
         "hovertext": "<b>DC 1 -> Market 3</b><br>Capacity: 100<br>Variable Cost: 0.94<br>Fixed Cost: 0.00<br>",
         "line": {
          "color": "gray",
          "dash": "dash",
          "width": 0
         },
         "mode": "lines",
         "showlegend": false,
         "type": "scatter",
         "x": [
          1.9592499938834842,
          1.9130695744531314,
          1.8668891550227784,
          1.8207087355924256,
          1.7745283161620728,
          1.7283478967317198,
          1.682167477301367,
          1.6359870578710143,
          1.5898066384406615,
          1.5436262190103085,
          1.4974457995799557,
          1.4512653801496027,
          1.40508496071925,
          1.3589045412888971,
          1.3127241218585444,
          1.2665437024281916,
          1.2203632829978386,
          1.1741828635674856,
          1.1280024441371328,
          1.08182202470678
         ],
         "y": [
          0.6832974670704822,
          0.6927524556964813,
          0.7022074443224803,
          0.7116624329484792,
          0.7211174215744782,
          0.7305724102004773,
          0.7400273988264763,
          0.7494823874524753,
          0.7589373760784742,
          0.7683923647044733,
          0.7778473533304723,
          0.7873023419564713,
          0.7967573305824702,
          0.8062123192084693,
          0.8156673078344683,
          0.8251222964604673,
          0.8345772850864663,
          0.8440322737124653,
          0.8534872623384643,
          0.8629422509644633
         ]
        },
        {
         "hoverinfo": "skip",
         "line": {
          "color": "gray",
          "dash": "dash",
          "width": 0.25
         },
         "marker": {
          "angleref": "previous",
          "color": "gray",
          "size": 5,
          "symbol": "arrow-bar-up"
         },
         "mode": "lines+markers",
         "showlegend": false,
         "type": "scatter",
         "x": [
          1.9590609714765743,
          0.30823821985039696
         ],
         "y": [
          0.6822591775164621,
          0.9456367629431597
         ]
        },
        {
         "hoverinfo": "text",
         "hovertext": "<b>DC 1 -> Market 4</b><br>Capacity: 100<br>Variable Cost: 1.72<br>Fixed Cost: 0.00<br>",
         "line": {
          "color": "gray",
          "dash": "dash",
          "width": 0
         },
         "mode": "lines",
         "showlegend": false,
         "type": "scatter",
         "x": [
          1.9590609714765743,
          1.8721755634962491,
          1.785290155515924,
          1.698404747535599,
          1.6115193395552738,
          1.5246339315749486,
          1.4377485235946237,
          1.3508631156142985,
          1.2639777076339733,
          1.1770922996536481,
          1.090206891673323,
          1.003321483692998,
          0.9164360757126728,
          0.8295506677323476,
          0.7426652597520227,
          0.6557798517716975,
          0.5688944437913723,
          0.48200903581104715,
          0.39512362783072197,
          0.30823821985039696
         ],
         "y": [
          0.6822591775164621,
          0.6961211556968147,
          0.7099831338771672,
          0.7238451120575197,
          0.7377070902378722,
          0.7515690684182247,
          0.7654310465985772,
          0.7792930247789297,
          0.7931550029592822,
          0.8070169811396347,
          0.8208789593199872,
          0.8347409375003396,
          0.8486029156806922,
          0.8624648938610446,
          0.8763268720413971,
          0.8901888502217497,
          0.9040508284021022,
          0.9179128065824547,
          0.9317747847628072,
          0.9456367629431597
         ]
        },
        {
         "hoverinfo": "skip",
         "line": {
          "color": "gray",
          "dash": "dash",
          "width": 0.25
         },
         "marker": {
          "angleref": "previous",
          "color": "gray",
          "size": 5,
          "symbol": "arrow-bar-up"
         },
         "mode": "lines+markers",
         "showlegend": false,
         "type": "scatter",
         "x": [
          1.9587714316414944,
          0.8815045758176386
         ],
         "y": [
          0.6792127664676394,
          0.7129494903629416
         ]
        },
        {
         "hoverinfo": "text",
         "hovertext": "<b>DC 1 -> Market 5</b><br>Capacity: 100<br>Variable Cost: 1.13<br>Fixed Cost: 0.00<br>",
         "line": {
          "color": "gray",
          "dash": "dash",
          "width": 0
         },
         "mode": "lines",
         "showlegend": false,
         "type": "scatter",
         "x": [
          1.9587714316414944,
          1.9020731760718177,
          1.8453749205021412,
          1.7886766649324646,
          1.731978409362788,
          1.6752801537931112,
          1.6185818982234346,
          1.5618836426537581,
          1.5051853870840814,
          1.4484871315144048,
          1.3917888759447283,
          1.3350906203750517,
          1.278392364805375,
          1.2216941092356983,
          1.1649958536660217,
          1.1082975980963452,
          1.0515993425266685,
          0.9949010869569919,
          0.9382028313873152,
          0.8815045758176386
         ],
         "y": [
          0.6792127664676394,
          0.6809883835147605,
          0.6827640005618817,
          0.684539617609003,
          0.6863152346561241,
          0.6880908517032452,
          0.6898664687503664,
          0.6916420857974875,
          0.6934177028446088,
          0.6951933198917299,
          0.6969689369388511,
          0.6987445539859722,
          0.7005201710330935,
          0.7022957880802146,
          0.7040714051273358,
          0.7058470221744569,
          0.7076226392215781,
          0.7093982562686993,
          0.7111738733158205,
          0.7129494903629416
         ]
        },
        {
         "hoverinfo": "skip",
         "line": {
          "color": "gray",
          "dash": "dash",
          "width": 0.25
         },
         "marker": {
          "angleref": "previous",
          "color": "gray",
          "size": 5,
          "symbol": "arrow-bar-up"
         },
         "mode": "lines+markers",
         "showlegend": false,
         "type": "scatter",
         "x": [
          1.9599460429635023,
          0.6817964681508087
         ],
         "y": [
          0.6709841576641113,
          0.2546617740773447
         ]
        },
        {
         "hoverinfo": "text",
         "hovertext": "<b>DC 1 -> Market 6</b><br>Capacity: 100<br>Variable Cost: 1.39<br>Fixed Cost: 0.00<br>",
         "line": {
          "color": "gray",
          "dash": "dash",
          "width": 0
         },
         "mode": "lines",
         "showlegend": false,
         "type": "scatter",
         "x": [
          1.9599460429635023,
          1.8926750127102026,
          1.825403982456903,
          1.7581329522036033,
          1.6908619219503036,
          1.6235908916970039,
          1.5563198614437044,
          1.4890488311904047,
          1.4217778009371052,
          1.3545067706838054,
          1.2872357404305057,
          1.219964710177206,
          1.1526936799239065,
          1.0854226496706068,
          1.0181516194173073,
          0.9508805891640075,
          0.8836095589107078,
          0.8163385286574081,
          0.7490674984041086,
          0.6817964681508087
         ],
         "y": [
          0.6709841576641113,
          0.6490724532648079,
          0.6271607488655043,
          0.6052490444662009,
          0.5833373400668973,
          0.5614256356675938,
          0.5395139312682903,
          0.5176022268689868,
          0.49569052246968326,
          0.4737788180703798,
          0.45186711367107624,
          0.4299554092717728,
          0.40804370487246927,
          0.38613200047316576,
          0.36422029607386225,
          0.34230859167455874,
          0.3203968872752552,
          0.2984851828759517,
          0.2765734784766482,
          0.2546617740773447
         ]
        },
        {
         "hoverinfo": "skip",
         "line": {
          "color": "gray",
          "dash": "dash",
          "width": 0.25
         },
         "marker": {
          "angleref": "previous",
          "color": "gray",
          "size": 5,
          "symbol": "arrow-bar-up"
         },
         "mode": "lines+markers",
         "showlegend": false,
         "type": "scatter",
         "x": [
          1.9590043421926628,
          1.453798824449061
         ],
         "y": [
          0.675029467751343,
          0.6025234707737724
         ]
        },
        {
         "hoverinfo": "text",
         "hovertext": "<b>DC 1 -> Market 7</b><br>Capacity: 100<br>Variable Cost: 0.56<br>Fixed Cost: 0.00<br>",
         "line": {
          "color": "gray",
          "dash": "dash",
          "width": 0
         },
         "mode": "lines",
         "showlegend": false,
         "type": "scatter",
         "x": [
          1.9590043421926628,
          1.9324145781008943,
          1.9058248140091258,
          1.8792350499173573,
          1.8526452858255889,
          1.8260555217338204,
          1.7994657576420516,
          1.7728759935502831,
          1.7462862294585146,
          1.7196964653667461,
          1.6931067012749776,
          1.6665169371832091,
          1.6399271730914406,
          1.613337408999672,
          1.5867476449079034,
          1.560157880816135,
          1.5335681167243664,
          1.506978352632598,
          1.4803885885408294,
          1.453798824449061
         ],
         "y": [
          0.675029467751343,
          0.6712133626472603,
          0.6673972575431777,
          0.663581152439095,
          0.6597650473350123,
          0.6559489422309297,
          0.652132837126847,
          0.6483167320227644,
          0.6445006269186817,
          0.640684521814599,
          0.6368684167105164,
          0.6330523116064337,
          0.629236206502351,
          0.6254201013982684,
          0.6216039962941857,
          0.6177878911901031,
          0.6139717860860204,
          0.6101556809819377,
          0.6063395758778551,
          0.6025234707737724
         ]
        },
        {
         "hoverinfo": "skip",
         "line": {
          "color": "gray",
          "dash": "dash",
          "width": 0.25
         },
         "marker": {
          "angleref": "previous",
          "color": "gray",
          "size": 5,
          "symbol": "arrow-bar-up"
         },
         "mode": "lines+markers",
         "showlegend": false,
         "type": "scatter",
         "x": [
          1.9592784435496469,
          0.5299169946525001
         ],
         "y": [
          0.6834344013310243,
          0.98472437816734
         ]
        },
        {
         "hoverinfo": "text",
         "hovertext": "<b>DC 1 -> Market 8</b><br>Capacity: 100<br>Variable Cost: 1.51<br>Fixed Cost: 0.00<br>",
         "line": {
          "color": "gray",
          "dash": "dash",
          "width": 0
         },
         "mode": "lines",
         "showlegend": false,
         "type": "scatter",
         "x": [
          1.9592784435496469,
          1.8840488936076918,
          1.8088193436657367,
          1.7335897937237816,
          1.6583602437818266,
          1.5831306938398715,
          1.5079011438979162,
          1.4326715939559613,
          1.357442044014006,
          1.2822124940720512,
          1.2069829441300959,
          1.131753394188141,
          1.0565238442461857,
          0.9812942943042307,
          0.9060647443622756,
          0.8308351944203205,
          0.7556056444783654,
          0.6803760945364103,
          0.6051465445944553,
          0.5299169946525001
         ],
         "y": [
          0.6834344013310243,
          0.6992917685329356,
          0.715149135734847,
          0.7310065029367584,
          0.7468638701386697,
          0.7627212373405811,
          0.7785786045424924,
          0.7944359717444038,
          0.8102933389463152,
          0.8261507061482265,
          0.8420080733501378,
          0.8578654405520492,
          0.8737228077539605,
          0.8895801749558719,
          0.9054375421577833,
          0.9212949093596946,
          0.937152276561606,
          0.9530096437635174,
          0.9688670109654287,
          0.98472437816734
         ]
        },
        {
         "hoverinfo": "skip",
         "line": {
          "color": "gray",
          "dash": "dash",
          "width": 0.25
         },
         "marker": {
          "angleref": "previous",
          "color": "gray",
          "size": 5,
          "symbol": "arrow-bar-up"
         },
         "mode": "lines+markers",
         "showlegend": false,
         "type": "scatter",
         "x": [
          1.9617593192311236,
          1.1216527193601582
         ],
         "y": [
          0.6668054650590123,
          0.2035446677819991
         ]
        },
        {
         "hoverinfo": "text",
         "hovertext": "<b>DC 1 -> Market 9</b><br>Capacity: 100<br>Variable Cost: 1.01<br>Fixed Cost: 0.00<br>",
         "line": {
          "color": "gray",
          "dash": "dash",
          "width": 0
         },
         "mode": "lines",
         "showlegend": false,
         "type": "scatter",
         "x": [
          1.9617593192311236,
          1.9175431823958096,
          1.8733270455604956,
          1.8291109087251818,
          1.7848947718898678,
          1.7406786350545538,
          1.6964624982192398,
          1.6522463613839258,
          1.6080302245486118,
          1.5638140877132978,
          1.519597950877984,
          1.47538181404267,
          1.431165677207356,
          1.386949540372042,
          1.342733403536728,
          1.2985172667014142,
          1.2543011298661,
          1.2100849930307862,
          1.1658688561954722,
          1.1216527193601582
         ],
         "y": [
          0.6668054650590123,
          0.6424233178339063,
          0.6180411706088004,
          0.5936590233836944,
          0.5692768761585885,
          0.5448947289334825,
          0.5205125817083766,
          0.49613043448327054,
          0.47174828725816464,
          0.44736614003305863,
          0.42298399280795274,
          0.3986018455828467,
          0.37421969835774077,
          0.3498375511326348,
          0.32545540390752886,
          0.3010732566824229,
          0.27669110945731695,
          0.252308962232211,
          0.22792681500710504,
          0.2035446677819991
         ]
        },
        {
         "hoverinfo": "skip",
         "line": {
          "color": "gray",
          "dash": "dash",
          "width": 0.25
         },
         "marker": {
          "angleref": "previous",
          "color": "gray",
          "size": 5,
          "symbol": "arrow-bar-up"
         },
         "mode": "lines+markers",
         "showlegend": false,
         "type": "scatter",
         "x": [
          1.9644189142571409,
          1.4144502860092585
         ],
         "y": [
          0.6629303061291972,
          0.20061057268959598
         ]
        },
        {
         "hoverinfo": "text",
         "hovertext": "<b>DC 1 -> Market 10</b><br>Capacity: 100<br>Variable Cost: 0.77<br>Fixed Cost: 0.00<br>",
         "line": {
          "color": "gray",
          "dash": "dash",
          "width": 0
         },
         "mode": "lines",
         "showlegend": false,
         "type": "scatter",
         "x": [
          1.9644189142571409,
          1.9354731969809365,
          1.9065274797047322,
          1.8775817624285278,
          1.8486360451523236,
          1.8196903278761192,
          1.7907446105999147,
          1.7617988933237105,
          1.732853176047506,
          1.703907458771302,
          1.6749617414950975,
          1.6460160242188933,
          1.6170703069426888,
          1.5881245896664846,
          1.5591788723902802,
          1.5302331551140758,
          1.5012874378378716,
          1.4723417205616671,
          1.443396003285463,
          1.4144502860092585
         ],
         "y": [
          0.6629303061291972,
          0.6385976885797445,
          0.6142650710302918,
          0.5899324534808391,
          0.5655998359313864,
          0.5412672183819338,
          0.5169346008324811,
          0.4926019832830284,
          0.4682693657335757,
          0.443936748184123,
          0.4196041306346703,
          0.3952715130852176,
          0.37093889553576487,
          0.34660627798631216,
          0.3222736604368595,
          0.2979410428874068,
          0.2736084253379541,
          0.2492758077885014,
          0.22494319023904868,
          0.20061057268959598
         ]
        },
        {
         "hoverinfo": "skip",
         "line": {
          "color": "gray",
          "dash": "dash",
          "width": 0.25
         },
         "marker": {
          "angleref": "previous",
          "color": "gray",
          "size": 5,
          "symbol": "arrow-bar-up"
         },
         "mode": "lines+markers",
         "showlegend": false,
         "type": "scatter",
         "x": [
          1.9601564818632393,
          1.2129744810610625
         ],
         "y": [
          0.6865483351248297,
          0.9524737807204924
         ]
        },
        {
         "hoverinfo": "text",
         "hovertext": "<b>DC 1 -> Market 11</b><br>Capacity: 100<br>Variable Cost: 0.84<br>Fixed Cost: 0.00<br>",
         "line": {
          "color": "gray",
          "dash": "dash",
          "width": 0
         },
         "mode": "lines",
         "showlegend": false,
         "type": "scatter",
         "x": [
          1.9601564818632393,
          1.920831113399967,
          1.8815057449366943,
          1.842180376473422,
          1.8028550080101495,
          1.763529639546877,
          1.7242042710836045,
          1.6848789026203321,
          1.6455535341570595,
          1.6062281656937871,
          1.5669027972305147,
          1.5275774287672421,
          1.4882520603039697,
          1.4489266918406973,
          1.4096013233774247,
          1.3702759549141525,
          1.33095058645088,
          1.2916252179876073,
          1.2522998495243352,
          1.2129744810610625
         ],
         "y": [
          0.6865483351248297,
          0.700544411208812,
          0.7145404872927942,
          0.7285365633767764,
          0.7425326394607586,
          0.7565287155447409,
          0.7705247916287232,
          0.7845208677127055,
          0.7985169437966877,
          0.8125130198806699,
          0.8265090959646522,
          0.8405051720486344,
          0.8545012481326166,
          0.868497324216599,
          0.8824934003005811,
          0.8964894763845634,
          0.9104855524685457,
          0.9244816285525279,
          0.9384777046365101,
          0.9524737807204924
         ]
        },
        {
         "hoverinfo": "skip",
         "line": {
          "color": "gray",
          "dash": "dash",
          "width": 0.25
         },
         "marker": {
          "angleref": "previous",
          "color": "gray",
          "size": 5,
          "symbol": "arrow-bar-up"
         },
         "mode": "lines+markers",
         "showlegend": false,
         "type": "scatter",
         "x": [
          1.9602150951959798,
          1.7148924589112107
         ],
         "y": [
          0.6702037339106584,
          0.5809048275027872
         ]
        },
        {
         "hoverinfo": "text",
         "hovertext": "<b>DC 1 -> Market 12</b><br>Capacity: 100<br>Variable Cost: 0.31<br>Fixed Cost: 0.00<br>",
         "line": {
          "color": "gray",
          "dash": "dash",
          "width": 0
         },
         "mode": "lines",
         "showlegend": false,
         "type": "scatter",
         "x": [
          1.9602150951959798,
          1.9473033774967814,
          1.934391659797583,
          1.9214799420983846,
          1.9085682243991864,
          1.895656506699988,
          1.8827447890007896,
          1.8698330713015912,
          1.8569213536023927,
          1.8440096359031943,
          1.8310979182039961,
          1.8181862005047977,
          1.8052744828055993,
          1.792362765106401,
          1.7794510474072025,
          1.766539329708004,
          1.7536276120088057,
          1.7407158943096075,
          1.727804176610409,
          1.7148924589112107
         ],
         "y": [
          0.6702037339106584,
          0.6655037914681388,
          0.6608038490256193,
          0.6561039065830997,
          0.6514039641405802,
          0.6467040216980606,
          0.6420040792555411,
          0.6373041368130216,
          0.6326041943705021,
          0.6279042519279825,
          0.623204309485463,
          0.6185043670429434,
          0.613804424600424,
          0.6091044821579044,
          0.6044045397153849,
          0.5997045972728653,
          0.5950046548303458,
          0.5903047123878262,
          0.5856047699453067,
          0.5809048275027872
         ]
        },
        {
         "hoverinfo": "skip",
         "line": {
          "color": "gray",
          "dash": "dash",
          "width": 0.25
         },
         "marker": {
          "angleref": "previous",
          "color": "gray",
          "size": 5,
          "symbol": "arrow-bar-up"
         },
         "mode": "lines+markers",
         "showlegend": false,
         "type": "scatter",
         "x": [
          1.9617831462431876,
          1.5173990037772986
         ],
         "y": [
          0.6901525467240781,
          0.9363839062521454
         ]
        },
        {
         "hoverinfo": "text",
         "hovertext": "<b>DC 1 -> Market 13</b><br>Capacity: 100<br>Variable Cost: 0.56<br>Fixed Cost: 0.00<br>",
         "line": {
          "color": "gray",
          "dash": "dash",
          "width": 0
         },
         "mode": "lines",
         "showlegend": false,
         "type": "scatter",
         "x": [
          1.9617831462431876,
          1.9383945071660356,
          1.9150058680888835,
          1.8916172290117315,
          1.8682285899345794,
          1.8448399508574274,
          1.8214513117802753,
          1.7980626727031233,
          1.7746740336259712,
          1.7512853945488192,
          1.727896755471667,
          1.704508116394515,
          1.681119477317363,
          1.657730838240211,
          1.634342199163059,
          1.6109535600859068,
          1.5875649210087548,
          1.5641762819316027,
          1.5407876428544507,
          1.5173990037772986
         ],
         "y": [
          0.6901525467240781,
          0.7031120919623974,
          0.7160716372007168,
          0.7290311824390361,
          0.7419907276773554,
          0.7549502729156747,
          0.7679098181539941,
          0.7808693633923134,
          0.7938289086306327,
          0.806788453868952,
          0.8197479991072714,
          0.8327075443455907,
          0.84566708958391,
          0.8586266348222293,
          0.8715861800605488,
          0.8845457252988681,
          0.8975052705371874,
          0.9104648157755068,
          0.9234243610138261,
          0.9363839062521454
         ]
        },
        {
         "hoverinfo": "skip",
         "line": {
          "color": "gray",
          "dash": "dash",
          "width": 0.25
         },
         "marker": {
          "angleref": "previous",
          "color": "gray",
          "size": 5,
          "symbol": "arrow-bar-up"
         },
         "mode": "lines+markers",
         "showlegend": false,
         "type": "scatter",
         "x": [
          1.9594394667380899,
          1.8893423993361511
         ],
         "y": [
          0.6727699205513542,
          0.6557688925410923
         ]
        },
        {
         "hoverinfo": "text",
         "hovertext": "<b>DC 1 -> Market 14</b><br>Capacity: 100<br>Variable Cost: 0.12<br>Fixed Cost: 0.00<br>",
         "line": {
          "color": "gray",
          "dash": "dash",
          "width": 0
         },
         "mode": "lines",
         "showlegend": false,
         "type": "scatter",
         "x": [
          1.9594394667380899,
          1.9557501474011458,
          1.9520608280642016,
          1.9483715087272575,
          1.9446821893903132,
          1.9409928700533692,
          1.937303550716425,
          1.9336142313794809,
          1.9299249120425368,
          1.9262355927055925,
          1.9225462733686485,
          1.9188569540317042,
          1.9151676346947601,
          1.911478315357816,
          1.9077889960208718,
          1.9040996766839278,
          1.9004103573469835,
          1.8967210380100394,
          1.8930317186730952,
          1.8893423993361511
         ],
         "y": [
          0.6727699205513542,
          0.6718751296034456,
          0.6709803386555372,
          0.6700855477076286,
          0.6691907567597201,
          0.6682959658118116,
          0.667401174863903,
          0.6665063839159946,
          0.665611592968086,
          0.6647168020201775,
          0.663822011072269,
          0.6629272201243605,
          0.6620324291764519,
          0.6611376382285434,
          0.6602428472806349,
          0.6593480563327264,
          0.6584532653848179,
          0.6575584744369093,
          0.6566636834890008,
          0.6557688925410923
         ]
        },
        {
         "hoverinfo": "skip",
         "line": {
          "color": "gray",
          "dash": "dash",
          "width": 0.25
         },
         "marker": {
          "angleref": "previous",
          "color": "gray",
          "size": 5,
          "symbol": "arrow-bar-up"
         },
         "mode": "lines+markers",
         "showlegend": false,
         "type": "scatter",
         "x": [
          1.257718990330506,
          0.33037757357444114
         ],
         "y": [
          0.6780815990428936,
          0.29389402706690293
         ]
        },
        {
         "hoverinfo": "text",
         "hovertext": "<b>DC 2 -> Market 0</b><br>Capacity: 100<br>Variable Cost: 1.05<br>Fixed Cost: 0.00<br>",
         "line": {
          "color": "gray",
          "dash": "dash",
          "width": 0
         },
         "mode": "lines",
         "showlegend": false,
         "type": "scatter",
         "x": [
          1.257718990330506,
          1.2089115473433447,
          1.1601041043561833,
          1.111296661369022,
          1.0624892183818608,
          1.0136817753946994,
          0.9648743324075382,
          0.9160668894203768,
          0.8672594464332155,
          0.8184520034460542,
          0.7696445604588928,
          0.7208371174717316,
          0.6720296744845703,
          0.623222231497409,
          0.5744147885102477,
          0.5256073455230864,
          0.4767999025359251,
          0.42799245954876375,
          0.3791850165616024,
          0.33037757357444114
         ],
         "y": [
          0.6780815990428936,
          0.6578612005178415,
          0.6376408019927893,
          0.6174204034677372,
          0.597200004942685,
          0.5769796064176329,
          0.5567592078925807,
          0.5365388093675286,
          0.5163184108424764,
          0.49609801231742434,
          0.47587761379237214,
          0.45565721526732006,
          0.4354368167422679,
          0.4152164182172158,
          0.39499601969216364,
          0.3747756211671115,
          0.35455522264205935,
          0.3343348241170072,
          0.31411442559195507,
          0.29389402706690293
         ]
        },
        {
         "hoverinfo": "skip",
         "line": {
          "color": "gray",
          "dash": "dash",
          "width": 0.25
         },
         "marker": {
          "angleref": "previous",
          "color": "gray",
          "size": 5,
          "symbol": "arrow-bar-up"
         },
         "mode": "lines+markers",
         "showlegend": false,
         "type": "scatter",
         "x": [
          1.304062457104999,
          1.9056079639417953
         ],
         "y": [
          0.6892740658559898,
          0.7382169750898332
         ]
        },
        {
         "hoverinfo": "text",
         "hovertext": "<b>DC 2 -> Market 1</b><br>Capacity: 100<br>Variable Cost: 0.65<br>Fixed Cost: 0.00<br>",
         "line": {
          "color": "gray",
          "dash": "dash",
          "width": 0
         },
         "mode": "lines",
         "showlegend": false,
         "type": "scatter",
         "x": [
          1.304062457104999,
          1.3357227469385147,
          1.36738303677203,
          1.3990433266055458,
          1.4307036164390614,
          1.462363906272577,
          1.4940241961060927,
          1.5256844859396081,
          1.5573447757731238,
          1.5890050656066395,
          1.6206653554401549,
          1.6523256452736705,
          1.6839859351071862,
          1.7156462249407018,
          1.7473065147742175,
          1.778966804607733,
          1.8106270944412486,
          1.8422873842747642,
          1.8739476741082797,
          1.9056079639417953
         ],
         "y": [
          0.6892740658559898,
          0.6918500084472448,
          0.6944259510384997,
          0.6970018936297546,
          0.6995778362210094,
          0.7021537788122644,
          0.7047297214035193,
          0.7073056639947742,
          0.7098816065860292,
          0.7124575491772841,
          0.7150334917685389,
          0.7176094343597939,
          0.7201853769510488,
          0.7227613195423037,
          0.7253372621335586,
          0.7279132047248136,
          0.7304891473160684,
          0.7330650899073233,
          0.7356410324985783,
          0.7382169750898332
         ]
        },
        {
         "hoverinfo": "skip",
         "line": {
          "color": "gray",
          "dash": "dash",
          "width": 0.25
         },
         "marker": {
          "angleref": "previous",
          "color": "gray",
          "size": 5,
          "symbol": "arrow-bar-up"
         },
         "mode": "lines+markers",
         "showlegend": false,
         "type": "scatter",
         "x": [
          1.259657399011111,
          0.5085030253601689
         ],
         "y": [
          0.6743571268746624,
          0.19607851489378844
         ]
        },
        {
         "hoverinfo": "text",
         "hovertext": "<b>DC 2 -> Market 2</b><br>Capacity: 100<br>Variable Cost: 0.94<br>Fixed Cost: 0.00<br>",
         "line": {
          "color": "gray",
          "dash": "dash",
          "width": 0
         },
         "mode": "lines",
         "showlegend": false,
         "type": "scatter",
         "x": [
          1.259657399011111,
          1.2201229582926405,
          1.1805885175741697,
          1.1410540768556992,
          1.1015196361372286,
          1.0619851954187578,
          1.0224507547002872,
          0.9829163139818166,
          0.9433818732633459,
          0.9038474325448753,
          0.8643129918264046,
          0.824778551107934,
          0.7852441103894634,
          0.7457096696709927,
          0.706175228952522,
          0.6666407882340515,
          0.6271063475155808,
          0.5875719067971101,
          0.5480374660786396,
          0.5085030253601689
         ],
         "y": [
          0.6743571268746624,
          0.6491845683493532,
          0.6240120098240441,
          0.598839451298735,
          0.5736668927734259,
          0.5484943342481167,
          0.5233217757228075,
          0.49814921719749833,
          0.4729766586721892,
          0.44780410014688005,
          0.4226315416215709,
          0.3974589830962617,
          0.37228642457095257,
          0.3471138660456434,
          0.32194130752033423,
          0.2967687489950251,
          0.27159619046971595,
          0.2464236319444068,
          0.22125107341909767,
          0.19607851489378844
         ]
        },
        {
         "hoverinfo": "skip",
         "line": {
          "color": "gray",
          "dash": "dash",
          "width": 0.25
         },
         "marker": {
          "angleref": "previous",
          "color": "gray",
          "size": 5,
          "symbol": "arrow-bar-up"
         },
         "mode": "lines+markers",
         "showlegend": false,
         "type": "scatter",
         "x": [
          1.261293442066455,
          1.0769005631540303
         ],
         "y": [
          0.7025451733224044,
          0.8525543461718692
         ]
        },
        {
         "hoverinfo": "text",
         "hovertext": "<b>DC 2 -> Market 3</b><br>Capacity: 100<br>Variable Cost: 0.29<br>Fixed Cost: 0.00<br>",
         "line": {
          "color": "gray",
          "dash": "dash",
          "width": 0
         },
         "mode": "lines",
         "showlegend": false,
         "type": "scatter",
         "x": [
          1.261293442066455,
          1.2515885537026432,
          1.2418836653388314,
          1.2321787769750194,
          1.2224738886112076,
          1.2127690002473959,
          1.203064111883584,
          1.193359223519772,
          1.1836543351559603,
          1.1739494467921485,
          1.1642445584283367,
          1.154539670064525,
          1.144834781700713,
          1.1351298933369012,
          1.1254250049730894,
          1.1157201166092776,
          1.1060152282454658,
          1.0963103398816538,
          1.086605451517842,
          1.0769005631540303
         ],
         "y": [
          0.7025451733224044,
          0.7104403929460604,
          0.7183356125697165,
          0.7262308321933725,
          0.7341260518170286,
          0.7420212714406846,
          0.7499164910643407,
          0.7578117106879967,
          0.7657069303116527,
          0.7736021499353087,
          0.7814973695589649,
          0.7893925891826209,
          0.7972878088062769,
          0.805183028429933,
          0.813078248053589,
          0.820973467677245,
          0.828868687300901,
          0.8367639069245572,
          0.8446591265482132,
          0.8525543461718692
         ]
        },
        {
         "hoverinfo": "skip",
         "line": {
          "color": "gray",
          "dash": "dash",
          "width": 0.25
         },
         "marker": {
          "angleref": "previous",
          "color": "gray",
          "size": 5,
          "symbol": "arrow-bar-up"
         },
         "mode": "lines+markers",
         "showlegend": false,
         "type": "scatter",
         "x": [
          1.2566767869795448,
          0.3077443909776476
         ],
         "y": [
          0.693460864683234,
          0.9432948772357159
         ]
        },
        {
         "hoverinfo": "text",
         "hovertext": "<b>DC 2 -> Market 4</b><br>Capacity: 100<br>Variable Cost: 1.03<br>Fixed Cost: 0.00<br>",
         "line": {
          "color": "gray",
          "dash": "dash",
          "width": 0
         },
         "mode": "lines",
         "showlegend": false,
         "type": "scatter",
         "x": [
          1.2566767869795448,
          1.2067329766636554,
          1.156789166347766,
          1.1068453560318767,
          1.0569015457159874,
          1.006957735400098,
          0.9570139250842088,
          0.9070701147683196,
          0.8571263044524302,
          0.8071824941365409,
          0.7572386838206515,
          0.7072948735047622,
          0.6573510631888728,
          0.6074072528729835,
          0.5574634425570942,
          0.5075196322412049,
          0.45757582192531554,
          0.4076320116094262,
          0.35768820129353684,
          0.3077443909776476
         ],
         "y": [
          0.693460864683234,
          0.7066100232386278,
          0.7197591817940215,
          0.7329083403494153,
          0.7460574989048091,
          0.7592066574602029,
          0.7723558160155967,
          0.7855049745709904,
          0.7986541331263842,
          0.811803291681778,
          0.8249524502371719,
          0.8381016087925657,
          0.8512507673479595,
          0.8643999259033532,
          0.877549084458747,
          0.8906982430141408,
          0.9038474015695346,
          0.9169965601249284,
          0.9301457186803221,
          0.9432948772357159
         ]
        },
        {
         "hoverinfo": "skip",
         "line": {
          "color": "gray",
          "dash": "dash",
          "width": 0.25
         },
         "marker": {
          "angleref": "previous",
          "color": "gray",
          "size": 5,
          "symbol": "arrow-bar-up"
         },
         "mode": "lines+markers",
         "showlegend": false,
         "type": "scatter",
         "x": [
          1.2559284915888782,
          0.8814695025004758
         ],
         "y": [
          0.6888209463520354,
          0.7122011119378737
         ]
        },
        {
         "hoverinfo": "text",
         "hovertext": "<b>DC 2 -> Market 5</b><br>Capacity: 100<br>Variable Cost: 0.42<br>Fixed Cost: 0.00<br>",
         "line": {
          "color": "gray",
          "dash": "dash",
          "width": 0
         },
         "mode": "lines",
         "showlegend": false,
         "type": "scatter",
         "x": [
          1.2559284915888782,
          1.2362201237421202,
          1.2165117558953622,
          1.1968033880486042,
          1.1770950202018462,
          1.1573866523550882,
          1.13767828450833,
          1.117969916661572,
          1.098261548814814,
          1.078553180968056,
          1.058844813121298,
          1.03913644527454,
          1.019428077427782,
          0.999719709581024,
          0.980011341734266,
          0.960302973887508,
          0.94059460604075,
          0.920886238193992,
          0.9011778703472338,
          0.8814695025004758
         ],
         "y": [
          0.6888209463520354,
          0.690051481382869,
          0.6912820164137026,
          0.6925125514445362,
          0.6937430864753698,
          0.6949736215062033,
          0.6962041565370369,
          0.6974346915678705,
          0.6986652265987041,
          0.6998957616295377,
          0.7011262966603714,
          0.702356831691205,
          0.7035873667220386,
          0.7048179017528722,
          0.7060484367837058,
          0.7072789718145394,
          0.708509506845373,
          0.7097400418762065,
          0.7109705769070401,
          0.7122011119378737
         ]
        },
        {
         "hoverinfo": "skip",
         "line": {
          "color": "gray",
          "dash": "dash",
          "width": 0.25
         },
         "marker": {
          "angleref": "previous",
          "color": "gray",
          "size": 5,
          "symbol": "arrow-bar-up"
         },
         "mode": "lines+markers",
         "showlegend": false,
         "type": "scatter",
         "x": [
          1.2603230645831565,
          0.6785414331613755
         ],
         "y": [
          0.6733666202852373,
          0.26113911291554676
         ]
        },
        {
         "hoverinfo": "text",
         "hovertext": "<b>DC 2 -> Market 6</b><br>Capacity: 100<br>Variable Cost: 0.76<br>Fixed Cost: 0.00<br>",
         "line": {
          "color": "gray",
          "dash": "dash",
          "width": 0
         },
         "mode": "lines",
         "showlegend": false,
         "type": "scatter",
         "x": [
          1.2603230645831565,
          1.2297029787188523,
          1.1990828928545478,
          1.1684628069902436,
          1.1378427211259394,
          1.1072226352616352,
          1.0766025493973308,
          1.0459824635330266,
          1.0153623776687224,
          0.9847422918044181,
          0.9541222059401138,
          0.9235021200758096,
          0.8928820342115054,
          0.862261948347201,
          0.8316418624828967,
          0.8010217766185925,
          0.7704016907542883,
          0.739781604889984,
          0.7091615190256797,
          0.6785414331613755
         ],
         "y": [
          0.6733666202852373,
          0.6516704356868326,
          0.6299742510884278,
          0.608278066490023,
          0.5865818818916182,
          0.5648856972932135,
          0.5431895126948088,
          0.5214933280964039,
          0.4997971434979992,
          0.47810095889959436,
          0.45640477430118964,
          0.43470858970278486,
          0.4130124051043801,
          0.3913162205059753,
          0.3696200359075706,
          0.3479238513091658,
          0.32622766671076103,
          0.30453148211235626,
          0.2828352975139515,
          0.26113911291554676
         ]
        },
        {
         "hoverinfo": "skip",
         "line": {
          "color": "gray",
          "dash": "dash",
          "width": 0.25
         },
         "marker": {
          "angleref": "previous",
          "color": "gray",
          "size": 5,
          "symbol": "arrow-bar-up"
         },
         "mode": "lines+markers",
         "showlegend": false,
         "type": "scatter",
         "x": [
          1.3008076913529427,
          1.4091174619190021
         ],
         "y": [
          0.675078203889683,
          0.6113345360947605
         ]
        },
        {
         "hoverinfo": "text",
         "hovertext": "<b>DC 2 -> Market 7</b><br>Capacity: 100<br>Variable Cost: 0.17<br>Fixed Cost: 0.00<br>",
         "line": {
          "color": "gray",
          "dash": "dash",
          "width": 0
         },
         "mode": "lines",
         "showlegend": false,
         "type": "scatter",
         "x": [
          1.3008076913529427,
          1.3065082055932615,
          1.3122087198335806,
          1.3179092340738994,
          1.3236097483142184,
          1.3293102625545372,
          1.3350107767948562,
          1.340711291035175,
          1.346411805275494,
          1.352112319515813,
          1.357812833756132,
          1.3635133479964507,
          1.3692138622367698,
          1.3749143764770886,
          1.3806148907174076,
          1.3863154049577264,
          1.3920159191980455,
          1.3977164334383643,
          1.403416947678683,
          1.4091174619190021
         ],
         "y": [
          0.675078203889683,
          0.6717232740057397,
          0.6683683441217964,
          0.6650134142378531,
          0.6616584843539098,
          0.6583035544699666,
          0.6549486245860232,
          0.65159369470208,
          0.6482387648181367,
          0.6448838349341934,
          0.6415289050502501,
          0.6381739751663068,
          0.6348190452823635,
          0.6314641153984203,
          0.6281091855144769,
          0.6247542556305337,
          0.6213993257465904,
          0.6180443958626471,
          0.6146894659787038,
          0.6113345360947605
         ]
        },
        {
         "hoverinfo": "skip",
         "line": {
          "color": "gray",
          "dash": "dash",
          "width": 0.25
         },
         "marker": {
          "angleref": "previous",
          "color": "gray",
          "size": 5,
          "symbol": "arrow-bar-up"
         },
         "mode": "lines+markers",
         "showlegend": false,
         "type": "scatter",
         "x": [
          1.2575370673233903,
          0.5287803575089776
         ],
         "y": [
          0.6961009385925141,
          0.9809176423651783
         ]
        },
        {
         "hoverinfo": "text",
         "hovertext": "<b>DC 2 -> Market 8</b><br>Capacity: 100<br>Variable Cost: 0.83<br>Fixed Cost: 0.00<br>",
         "line": {
          "color": "gray",
          "dash": "dash",
          "width": 0
         },
         "mode": "lines",
         "showlegend": false,
         "type": "scatter",
         "x": [
          1.2575370673233903,
          1.2191814510173686,
          1.180825834711347,
          1.1424702184053253,
          1.1041146020993033,
          1.0657589857932817,
          1.02740336948726,
          0.9890477531812383,
          0.9506921368752166,
          0.9123365205691948,
          0.8739809042631731,
          0.8356252879571513,
          0.7972696716511296,
          0.7589140553451079,
          0.7205584390390862,
          0.6822028227330644,
          0.6438472064270427,
          0.605491590121021,
          0.5671359738149993,
          0.5287803575089776
         ],
         "y": [
          0.6961009385925141,
          0.7110912914226544,
          0.7260816442527945,
          0.7410719970829348,
          0.756062349913075,
          0.7710527027432152,
          0.7860430555733554,
          0.8010334084034957,
          0.8160237612336358,
          0.8310141140637761,
          0.8460044668939163,
          0.8609948197240566,
          0.8759851725541967,
          0.890975525384337,
          0.9059658782144773,
          0.9209562310446174,
          0.9359465838747576,
          0.9509369367048979,
          0.9659272895350381,
          0.9809176423651783
         ]
        },
        {
         "hoverinfo": "skip",
         "line": {
          "color": "gray",
          "dash": "dash",
          "width": 0.25
         },
         "marker": {
          "angleref": "previous",
          "color": "gray",
          "size": 5,
          "symbol": "arrow-bar-up"
         },
         "mode": "lines+markers",
         "showlegend": false,
         "type": "scatter",
         "x": [
          1.2717923422605681,
          1.1087416829609347
         ],
         "y": [
          0.6646301183432538,
          0.2145798159570856
         ]
        },
        {
         "hoverinfo": "text",
         "hovertext": "<b>DC 2 -> Market 9</b><br>Capacity: 100<br>Variable Cost: 0.53<br>Fixed Cost: 0.00<br>",
         "line": {
          "color": "gray",
          "dash": "dash",
          "width": 0
         },
         "mode": "lines",
         "showlegend": false,
         "type": "scatter",
         "x": [
          1.2717923422605681,
          1.263210728613219,
          1.25462911496587,
          1.2460475013185208,
          1.2374658876711717,
          1.2288842740238226,
          1.2203026603764733,
          1.2117210467291242,
          1.203139433081775,
          1.194557819434426,
          1.1859762057870769,
          1.1773945921397277,
          1.1688129784923786,
          1.1602313648450295,
          1.1516497511976804,
          1.143068137550331,
          1.134486523902982,
          1.1259049102556329,
          1.1173232966082838,
          1.1087416829609347
         ],
         "y": [
          0.6646301183432538,
          0.6409432603229291,
          0.6172564023026045,
          0.5935695442822799,
          0.5698826862619553,
          0.5461958282416306,
          0.5225089702213059,
          0.4988221122009813,
          0.4751352541806567,
          0.45144839616033205,
          0.4277615381400074,
          0.4040746801196828,
          0.3803878220993581,
          0.3567009640790335,
          0.33301410605870885,
          0.30932724803838424,
          0.2856403900180596,
          0.2619535319977349,
          0.2382666739774103,
          0.2145798159570856
         ]
        },
        {
         "hoverinfo": "skip",
         "line": {
          "color": "gray",
          "dash": "dash",
          "width": 0.25
         },
         "marker": {
          "angleref": "previous",
          "color": "gray",
          "size": 5,
          "symbol": "arrow-bar-up"
         },
         "mode": "lines+markers",
         "showlegend": false,
         "type": "scatter",
         "x": [
          1.2854406624290353,
          1.390550524467585
         ],
         "y": [
          0.6638057241421732,
          0.20859495613594803
         ]
        },
        {
         "hoverinfo": "text",
         "hovertext": "<b>DC 2 -> Market 10</b><br>Capacity: 100<br>Variable Cost: 0.52<br>Fixed Cost: 0.00<br>",
         "line": {
          "color": "gray",
          "dash": "dash",
          "width": 0
         },
         "mode": "lines",
         "showlegend": false,
         "type": "scatter",
         "x": [
          1.2854406624290353,
          1.2909727604310643,
          1.2965048584330932,
          1.3020369564351222,
          1.307569054437151,
          1.31310115243918,
          1.3186332504412088,
          1.3241653484432379,
          1.3296974464452669,
          1.3352295444472957,
          1.3407616424493247,
          1.3462937404513535,
          1.3518258384533826,
          1.3573579364554114,
          1.3628900344574404,
          1.3684221324594694,
          1.3739542304614982,
          1.3794863284635273,
          1.385018426465556,
          1.390550524467585
         ],
         "y": [
          0.6638057241421732,
          0.6398472626681614,
          0.6158888011941495,
          0.5919303397201376,
          0.5679718782461258,
          0.544013416772114,
          0.5200549552981021,
          0.49609649382409027,
          0.4721380323500784,
          0.4481795708760665,
          0.4242211094020547,
          0.40026264792804284,
          0.37630418645403096,
          0.35234572498001915,
          0.3283872635060073,
          0.30442880203199546,
          0.2804703405579836,
          0.2565118790839717,
          0.2325534176099599,
          0.20859495613594803
         ]
        },
        {
         "hoverinfo": "skip",
         "line": {
          "color": "gray",
          "dash": "dash",
          "width": 0.25
         },
         "marker": {
          "angleref": "previous",
          "color": "gray",
          "size": 5,
          "symbol": "arrow-bar-up"
         },
         "mode": "lines+markers",
         "showlegend": false,
         "type": "scatter",
         "x": [
          1.272480262468348,
          1.197772687086175
         ],
         "y": [
          0.7102419473095124,
          0.9376399699951378
         ]
        },
        {
         "hoverinfo": "text",
         "hovertext": "<b>DC 2 -> Market 11</b><br>Capacity: 100<br>Variable Cost: 0.29<br>Fixed Cost: 0.00<br>",
         "line": {
          "color": "gray",
          "dash": "dash",
          "width": 0
         },
         "mode": "lines",
         "showlegend": false,
         "type": "scatter",
         "x": [
          1.272480262468348,
          1.2685482848166547,
          1.2646163071649614,
          1.2606843295132681,
          1.2567523518615746,
          1.2528203742098813,
          1.248888396558188,
          1.2449564189064948,
          1.2410244412548015,
          1.2370924636031082,
          1.2331604859514147,
          1.2292285082997214,
          1.2252965306480281,
          1.2213645529963348,
          1.2174325753446416,
          1.2135005976929483,
          1.2095686200412548,
          1.2056366423895615,
          1.2017046647378682,
          1.197772687086175
         ],
         "y": [
          0.7102419473095124,
          0.7222102642929664,
          0.7341785812764203,
          0.7461468982598743,
          0.7581152152433283,
          0.7700835322267823,
          0.7820518492102362,
          0.7940201661936902,
          0.8059884831771441,
          0.8179568001605981,
          0.829925117144052,
          0.8418934341275061,
          0.8538617511109601,
          0.865830068094414,
          0.8777983850778679,
          0.8897667020613219,
          0.9017350190447759,
          0.9137033360282298,
          0.9256716530116837,
          0.9376399699951378
         ]
        },
        {
         "hoverinfo": "skip",
         "line": {
          "color": "gray",
          "dash": "dash",
          "width": 0.25
         },
         "marker": {
          "angleref": "previous",
          "color": "gray",
          "size": 5,
          "symbol": "arrow-bar-up"
         },
         "mode": "lines+markers",
         "showlegend": false,
         "type": "scatter",
         "x": [
          1.3032592180978646,
          1.668970322639547
         ],
         "y": [
          0.6808503520872958,
          0.5791180107854778
         ]
        },
        {
         "hoverinfo": "text",
         "hovertext": "<b>DC 2 -> Market 12</b><br>Capacity: 100<br>Variable Cost: 0.43<br>Fixed Cost: 0.00<br>",
         "line": {
          "color": "gray",
          "dash": "dash",
          "width": 0
         },
         "mode": "lines",
         "showlegend": false,
         "type": "scatter",
         "x": [
          1.3032592180978646,
          1.3225071709684795,
          1.3417551238390943,
          1.3610030767097092,
          1.380251029580324,
          1.399498982450939,
          1.4187469353215538,
          1.4379948881921687,
          1.4572428410627836,
          1.4764907939333984,
          1.495738746804013,
          1.514986699674628,
          1.5342346525452428,
          1.5534826054158577,
          1.5727305582864726,
          1.5919785111570874,
          1.6112264640277023,
          1.6304744168983172,
          1.649722369768932,
          1.668970322639547
         ],
         "y": [
          0.6808503520872958,
          0.6754960183345685,
          0.6701416845818413,
          0.664787350829114,
          0.6594330170763868,
          0.6540786833236595,
          0.6487243495709323,
          0.643370015818205,
          0.6380156820654777,
          0.6326613483127504,
          0.6273070145600231,
          0.6219526808072959,
          0.6165983470545686,
          0.6112440133018413,
          0.6058896795491141,
          0.6005353457963868,
          0.5951810120436596,
          0.5898266782909323,
          0.5844723445382051,
          0.5791180107854778
         ]
        },
        {
         "hoverinfo": "skip",
         "line": {
          "color": "gray",
          "dash": "dash",
          "width": 0.25
         },
         "marker": {
          "angleref": "previous",
          "color": "gray",
          "size": 5,
          "symbol": "arrow-bar-up"
         },
         "mode": "lines+markers",
         "showlegend": false,
         "type": "scatter",
         "x": [
          1.2954165672462967,
          1.4808875694044106
         ],
         "y": [
          0.7058902730921334,
          0.9295059813434182
         ]
        },
        {
         "hoverinfo": "text",
         "hovertext": "<b>DC 2 -> Market 13</b><br>Capacity: 100<br>Variable Cost: 0.34<br>Fixed Cost: 0.00<br>",
         "line": {
          "color": "gray",
          "dash": "dash",
          "width": 0
         },
         "mode": "lines",
         "showlegend": false,
         "type": "scatter",
         "x": [
          1.2954165672462967,
          1.3051781989388291,
          1.3149398306313613,
          1.3247014623238937,
          1.334463094016426,
          1.3442247257089583,
          1.3539863574014905,
          1.363747989094023,
          1.3735096207865551,
          1.3832712524790876,
          1.3930328841716197,
          1.4027945158641522,
          1.4125561475566843,
          1.4223177792492168,
          1.432079410941749,
          1.4418410426342814,
          1.4516026743268136,
          1.461364306019346,
          1.4711259377118782,
          1.4808875694044106
         ],
         "y": [
          0.7058902730921334,
          0.7176595208948325,
          0.7294287686975318,
          0.741198016500231,
          0.7529672643029302,
          0.7647365121056294,
          0.7765057599083286,
          0.7882750077110278,
          0.800044255513727,
          0.8118135033164262,
          0.8235827511191254,
          0.8353519989218245,
          0.8471212467245238,
          0.858890494527223,
          0.8706597423299223,
          0.8824289901326214,
          0.8941982379353206,
          0.9059674857380198,
          0.9177367335407189,
          0.9295059813434182
         ]
        },
        {
         "hoverinfo": "skip",
         "line": {
          "color": "gray",
          "dash": "dash",
          "width": 0.25
         },
         "marker": {
          "angleref": "previous",
          "color": "gray",
          "size": 5,
          "symbol": "arrow-bar-up"
         },
         "mode": "lines+markers",
         "showlegend": false,
         "type": "scatter",
         "x": [
          1.304093343463231,
          1.8418105092412311
         ],
         "y": [
          0.6857867386841381,
          0.6516118758676365
         ]
        },
        {
         "hoverinfo": "text",
         "hovertext": "<b>DC 2 -> Market 14</b><br>Capacity: 100<br>Variable Cost: 0.59<br>Fixed Cost: 0.00<br>",
         "line": {
          "color": "gray",
          "dash": "dash",
          "width": 0
         },
         "mode": "lines",
         "showlegend": false,
         "type": "scatter",
         "x": [
          1.304093343463231,
          1.332394246925231,
          1.3606951503872309,
          1.388996053849231,
          1.417296957311231,
          1.445597860773231,
          1.473898764235231,
          1.502199667697231,
          1.530500571159231,
          1.558801474621231,
          1.587102378083231,
          1.615403281545231,
          1.643704185007231,
          1.672005088469231,
          1.700305991931231,
          1.7286068953932312,
          1.756907798855231,
          1.785208702317231,
          1.813509605779231,
          1.8418105092412311
         ],
         "y": [
          0.6857867386841381,
          0.6839880616937959,
          0.6821893847034537,
          0.6803907077131115,
          0.6785920307227693,
          0.6767933537324271,
          0.6749946767420849,
          0.6731959997517427,
          0.6713973227614005,
          0.6695986457710583,
          0.6677999687807162,
          0.666001291790374,
          0.6642026148000318,
          0.6624039378096896,
          0.6606052608193475,
          0.6588065838290053,
          0.6570079068386631,
          0.6552092298483209,
          0.6534105528579787,
          0.6516118758676365
         ]
        },
        {
         "hoverinfo": "skip",
         "line": {
          "color": "gray",
          "dash": "dash",
          "width": 0.25
         },
         "marker": {
          "angleref": "previous",
          "color": "gray",
          "size": 5,
          "symbol": "arrow-bar-up"
         },
         "mode": "lines+markers",
         "showlegend": false,
         "type": "scatter",
         "x": [
          0.9432467366394486,
          0.3304972221841896
         ],
         "y": [
          0.5380548891133484,
          0.2935997595144652
         ]
        },
        {
         "hoverinfo": "text",
         "hovertext": "<b>DC 3 -> Market 0</b><br>Capacity: 100<br>Variable Cost: 0.71<br>Fixed Cost: 0.00<br>",
         "line": {
          "color": "gray",
          "dash": "dash",
          "width": 0
         },
         "mode": "lines",
         "showlegend": false,
         "type": "scatter",
         "x": [
          0.9432467366394486,
          0.9109967621944349,
          0.8787467877494213,
          0.8464968133044077,
          0.8142468388593941,
          0.7819968644143804,
          0.7497468899693668,
          0.7174969155243531,
          0.6852469410793396,
          0.6529969666343258,
          0.6207469921893123,
          0.5884970177442986,
          0.556247043299285,
          0.5239970688542714,
          0.49174709440925773,
          0.45949711996424414,
          0.4272471455192305,
          0.39499717107421684,
          0.3627471966292032,
          0.3304972221841896
         ],
         "y": [
          0.5380548891133484,
          0.5251888296607756,
          0.5123227702082028,
          0.49945671075563003,
          0.48659065130305723,
          0.47372459185048443,
          0.46085853239791164,
          0.44799247294533884,
          0.43512641349276604,
          0.42226035404019324,
          0.40939429458762044,
          0.39652823513504765,
          0.3836621756824748,
          0.370796116229902,
          0.3579300567773292,
          0.3450639973247564,
          0.3321979378721836,
          0.3193318784196108,
          0.306465818967038,
          0.2935997595144652
         ]
        },
        {
         "hoverinfo": "skip",
         "line": {
          "color": "gray",
          "dash": "dash",
          "width": 0.25
         },
         "marker": {
          "angleref": "previous",
          "color": "gray",
          "size": 5,
          "symbol": "arrow-bar-up"
         },
         "mode": "lines+markers",
         "showlegend": false,
         "type": "scatter",
         "x": [
          0.9893189501824217,
          1.9059988657830638
         ],
         "y": [
          0.5517375035612684,
          0.7354325599025718
         ]
        },
        {
         "hoverinfo": "text",
         "hovertext": "<b>DC 3 -> Market 1</b><br>Capacity: 100<br>Variable Cost: 0.98<br>Fixed Cost: 0.00<br>",
         "line": {
          "color": "gray",
          "dash": "dash",
          "width": 0
         },
         "mode": "lines",
         "showlegend": false,
         "type": "scatter",
         "x": [
          0.9893189501824217,
          1.0375652615298239,
          1.0858115728772262,
          1.1340578842246283,
          1.1823041955720306,
          1.2305505069194327,
          1.278796818266835,
          1.3270431296142373,
          1.3752894409616394,
          1.4235357523090415,
          1.4717820636564438,
          1.5200283750038461,
          1.5682746863512484,
          1.6165209976986505,
          1.6647673090460526,
          1.713013620393455,
          1.7612599317408573,
          1.8095062430882594,
          1.8577525544356615,
          1.9059988657830638
         ],
         "y": [
          0.5517375035612684,
          0.561405664421337,
          0.5710738252814056,
          0.5807419861414742,
          0.5904101470015428,
          0.6000783078616114,
          0.60974646872168,
          0.6194146295817486,
          0.6290827904418173,
          0.6387509513018859,
          0.6484191121619545,
          0.6580872730220231,
          0.6677554338820917,
          0.6774235947421603,
          0.6870917556022288,
          0.6967599164622974,
          0.706428077322366,
          0.7160962381824346,
          0.7257643990425032,
          0.7354325599025718
         ]
        },
        {
         "hoverinfo": "skip",
         "line": {
          "color": "gray",
          "dash": "dash",
          "width": 0.25
         },
         "marker": {
          "angleref": "previous",
          "color": "gray",
          "size": 5,
          "symbol": "arrow-bar-up"
         },
         "mode": "lines+markers",
         "showlegend": false,
         "type": "scatter",
         "x": [
          0.946466425838426,
          0.507341393451545
         ],
         "y": [
          0.5323708172019066,
          0.1977438470845615
         ]
        },
        {
         "hoverinfo": "text",
         "hovertext": "<b>DC 3 -> Market 2</b><br>Capacity: 100<br>Variable Cost: 0.60<br>Fixed Cost: 0.00<br>",
         "line": {
          "color": "gray",
          "dash": "dash",
          "width": 0
         },
         "mode": "lines",
         "showlegend": false,
         "type": "scatter",
         "x": [
          0.946466425838426,
          0.9233545820285901,
          0.9002427382187543,
          0.8771308944089184,
          0.8540190505990827,
          0.8309072067892468,
          0.807795362979411,
          0.7846835191695751,
          0.7615716753597392,
          0.7384598315499035,
          0.7153479877400676,
          0.6922361439302318,
          0.6691243001203959,
          0.64601245631056,
          0.6229006125007241,
          0.5997887686908884,
          0.5766769248810526,
          0.5535650810712167,
          0.5304532372613808,
          0.507341393451545
         ],
         "y": [
          0.5323708172019066,
          0.5147588714062569,
          0.49714692561060714,
          0.4795349798149574,
          0.4619230340193076,
          0.4443110882236579,
          0.42669914242800816,
          0.40908719663235843,
          0.39147525083670864,
          0.3738633050410589,
          0.3562513592454092,
          0.33863941344975945,
          0.3210274676541097,
          0.30341552185846,
          0.28580357606281026,
          0.2681916302671605,
          0.25057968447151074,
          0.232967738675861,
          0.21535579288021128,
          0.1977438470845615
         ]
        },
        {
         "hoverinfo": "skip",
         "line": {
          "color": "gray",
          "dash": "dash",
          "width": 0.25
         },
         "marker": {
          "angleref": "previous",
          "color": "gray",
          "size": 5,
          "symbol": "arrow-bar-up"
         },
         "mode": "lines+markers",
         "showlegend": false,
         "type": "scatter",
         "x": [
          0.9723463342769705,
          1.0514950658622058
         ],
         "y": [
          0.5701813303344486,
          0.8445972116778422
         ]
        },
        {
         "hoverinfo": "text",
         "hovertext": "<b>DC 3 -> Market 3</b><br>Capacity: 100<br>Variable Cost: 0.33<br>Fixed Cost: 0.00<br>",
         "line": {
          "color": "gray",
          "dash": "dash",
          "width": 0
         },
         "mode": "lines",
         "showlegend": false,
         "type": "scatter",
         "x": [
          0.9723463342769705,
          0.9765120569919828,
          0.9806777797069952,
          0.9848435024220076,
          0.98900922513702,
          0.9931749478520324,
          0.9973406705670448,
          1.0015063932820572,
          1.0056721159970696,
          1.0098378387120819,
          1.0140035614270944,
          1.0181692841421066,
          1.022335006857119,
          1.0265007295721316,
          1.0306664522871438,
          1.0348321750021563,
          1.0389978977171686,
          1.043163620432181,
          1.0473293431471933,
          1.0514950658622058
         ],
         "y": [
          0.5701813303344486,
          0.5846242714577852,
          0.5990672125811216,
          0.6135101537044582,
          0.6279530948277946,
          0.6423960359511312,
          0.6568389770744676,
          0.6712819181978041,
          0.6857248593211407,
          0.7001678004444771,
          0.7146107415678137,
          0.7290536826911501,
          0.7434966238144867,
          0.7579395649378231,
          0.7723825060611597,
          0.7868254471844962,
          0.8012683883078326,
          0.8157113294311692,
          0.8301542705545057,
          0.8445972116778422
         ]
        },
        {
         "hoverinfo": "skip",
         "line": {
          "color": "gray",
          "dash": "dash",
          "width": 0.25
         },
         "marker": {
          "angleref": "previous",
          "color": "gray",
          "size": 5,
          "symbol": "arrow-bar-up"
         },
         "mode": "lines+markers",
         "showlegend": false,
         "type": "scatter",
         "x": [
          0.944883326707459,
          0.3051852461684244
         ],
         "y": [
          0.5592694138988524,
          0.9371653505381147
         ]
        },
        {
         "hoverinfo": "text",
         "hovertext": "<b>DC 3 -> Market 4</b><br>Capacity: 100<br>Variable Cost: 0.79<br>Fixed Cost: 0.00<br>",
         "line": {
          "color": "gray",
          "dash": "dash",
          "width": 0
         },
         "mode": "lines",
         "showlegend": false,
         "type": "scatter",
         "x": [
          0.944883326707459,
          0.9112150066790887,
          0.8775466866507186,
          0.8438783666223483,
          0.810210046593978,
          0.7765417265656078,
          0.7428734065372375,
          0.7092050865088673,
          0.675536766480497,
          0.6418684464521268,
          0.6082001264237565,
          0.5745318063953864,
          0.5408634863670161,
          0.5071951663386458,
          0.4735268463102756,
          0.43985852628190536,
          0.4061902062535351,
          0.3725218862251648,
          0.33885356619679463,
          0.3051852461684244
         ],
         "y": [
          0.5592694138988524,
          0.5791586737219715,
          0.5990479335450906,
          0.6189371933682096,
          0.6388264531913287,
          0.6587157130144478,
          0.6786049728375668,
          0.6984942326606859,
          0.718383492483805,
          0.738272752306924,
          0.7581620121300431,
          0.7780512719531621,
          0.7979405317762812,
          0.8178297915994003,
          0.8377190514225193,
          0.8576083112456384,
          0.8774975710687575,
          0.8973868308918765,
          0.9172760907149956,
          0.9371653505381147
         ]
        },
        {
         "hoverinfo": "skip",
         "line": {
          "color": "gray",
          "dash": "dash",
          "width": 0.25
         },
         "marker": {
          "angleref": "previous",
          "color": "gray",
          "size": 5,
          "symbol": "arrow-bar-up"
         },
         "mode": "lines+markers",
         "showlegend": false,
         "type": "scatter",
         "x": [
          0.9525159743917461,
          0.8705294146162988
         ],
         "y": [
          0.5672329213219647,
          0.6934681594859616
         ]
        },
        {
         "hoverinfo": "text",
         "hovertext": "<b>DC 3 -> Market 5</b><br>Capacity: 100<br>Variable Cost: 0.20<br>Fixed Cost: 0.00<br>",
         "line": {
          "color": "gray",
          "dash": "dash",
          "width": 0
         },
         "mode": "lines",
         "showlegend": false,
         "type": "scatter",
         "x": [
          0.9525159743917461,
          0.9482008922983015,
          0.9438858102048568,
          0.9395707281114123,
          0.9352556460179677,
          0.9309405639245231,
          0.9266254818310785,
          0.922310399737634,
          0.9179953176441893,
          0.9136802355507447,
          0.9093651534573002,
          0.9050500713638556,
          0.900734989270411,
          0.8964199071769664,
          0.8921048250835218,
          0.8877897429900772,
          0.8834746608966326,
          0.8791595788031881,
          0.8748444967097434,
          0.8705294146162988
         ],
         "y": [
          0.5672329213219647,
          0.573876881225333,
          0.5805208411287012,
          0.5871648010320695,
          0.5938087609354378,
          0.600452720838806,
          0.6070966807421743,
          0.6137406406455425,
          0.6203846005489108,
          0.6270285604522791,
          0.6336725203556473,
          0.6403164802590156,
          0.6469604401623839,
          0.653604400065752,
          0.6602483599691203,
          0.6668923198724885,
          0.6735362797758568,
          0.6801802396792251,
          0.6868241995825933,
          0.6934681594859616
         ]
        },
        {
         "hoverinfo": "skip",
         "line": {
          "color": "gray",
          "dash": "dash",
          "width": 0.25
         },
         "marker": {
          "angleref": "previous",
          "color": "gray",
          "size": 5,
          "symbol": "arrow-bar-up"
         },
         "mode": "lines+markers",
         "showlegend": false,
         "type": "scatter",
         "x": [
          0.9484008457457577,
          0.6761110469174653
         ],
         "y": [
          0.5301316484278872,
          0.26405310729091414
         ]
        },
        {
         "hoverinfo": "text",
         "hovertext": "<b>DC 3 -> Market 6</b><br>Capacity: 100<br>Variable Cost: 0.43<br>Fixed Cost: 0.00<br>",
         "line": {
          "color": "gray",
          "dash": "dash",
          "width": 0
         },
         "mode": "lines",
         "showlegend": false,
         "type": "scatter",
         "x": [
          0.9484008457457577,
          0.9340698037021633,
          0.919738761658569,
          0.9054077196149747,
          0.8910766775713803,
          0.876745635527786,
          0.8624145934841917,
          0.8480835514405973,
          0.833752509397003,
          0.8194214673534086,
          0.8050904253098143,
          0.79075938326622,
          0.7764283412226256,
          0.7620972991790314,
          0.747766257135437,
          0.7334352150918426,
          0.7191041730482483,
          0.7047731310046539,
          0.6904420889610596,
          0.6761110469174653
         ],
         "y": [
          0.5301316484278872,
          0.516127514683836,
          0.5021233809397847,
          0.4881192471957335,
          0.47411511345168234,
          0.4601109797076311,
          0.4461068459635799,
          0.4321027122195287,
          0.4180985784754775,
          0.40409444473142625,
          0.390090310987375,
          0.3760861772433238,
          0.36208204349927264,
          0.3480779097552214,
          0.33407377601117016,
          0.320069642267119,
          0.3060655085230678,
          0.29206137477901656,
          0.2780572410349653,
          0.26405310729091414
         ]
        },
        {
         "hoverinfo": "skip",
         "line": {
          "color": "gray",
          "dash": "dash",
          "width": 0.25
         },
         "marker": {
          "angleref": "previous",
          "color": "gray",
          "size": 5,
          "symbol": "arrow-bar-up"
         },
         "mode": "lines+markers",
         "showlegend": false,
         "type": "scatter",
         "x": [
          0.989638802874696,
          1.4059337453159397
         ],
         "y": [
          0.5496873039138824,
          0.5964044585885783
         ]
        },
        {
         "hoverinfo": "text",
         "hovertext": "<b>DC 3 -> Market 7</b><br>Capacity: 100<br>Variable Cost: 0.47<br>Fixed Cost: 0.00<br>",
         "line": {
          "color": "gray",
          "dash": "dash",
          "width": 0
         },
         "mode": "lines",
         "showlegend": false,
         "type": "scatter",
         "x": [
          0.989638802874696,
          1.0115490630031825,
          1.033459323131669,
          1.0553695832601555,
          1.077279843388642,
          1.0991901035171285,
          1.1211003636456152,
          1.1430106237741016,
          1.164920883902588,
          1.1868311440310746,
          1.2087414041595612,
          1.2306516642880476,
          1.252561924416534,
          1.2744721845450206,
          1.2963824446735073,
          1.3182927048019937,
          1.34020296493048,
          1.3621132250589667,
          1.3840234851874533,
          1.4059337453159397
         ],
         "y": [
          0.5496873039138824,
          0.5521461015283401,
          0.5546048991427978,
          0.5570636967572554,
          0.5595224943717131,
          0.5619812919861709,
          0.5644400896006285,
          0.5668988872150862,
          0.5693576848295439,
          0.5718164824440015,
          0.5742752800584592,
          0.5767340776729168,
          0.5791928752873745,
          0.5816516729018322,
          0.5841104705162898,
          0.5865692681307476,
          0.5890280657452053,
          0.5914868633596629,
          0.5939456609741206,
          0.5964044585885783
         ]
        },
        {
         "hoverinfo": "skip",
         "line": {
          "color": "gray",
          "dash": "dash",
          "width": 0.25
         },
         "marker": {
          "angleref": "previous",
          "color": "gray",
          "size": 5,
          "symbol": "arrow-bar-up"
         },
         "mode": "lines+markers",
         "showlegend": false,
         "type": "scatter",
         "x": [
          0.9482846021054175,
          0.5236802176456413
         ],
         "y": [
          0.5637411227801686,
          0.972956480695541
         ]
        },
        {
         "hoverinfo": "text",
         "hovertext": "<b>DC 3 -> Market 8</b><br>Capacity: 100<br>Variable Cost: 0.64<br>Fixed Cost: 0.00<br>",
         "line": {
          "color": "gray",
          "dash": "dash",
          "width": 0
         },
         "mode": "lines",
         "showlegend": false,
         "type": "scatter",
         "x": [
          0.9482846021054175,
          0.925937002923324,
          0.9035894037412305,
          0.881241804559137,
          0.8588942053770436,
          0.8365466061949501,
          0.8141990070128566,
          0.7918514078307631,
          0.7695038086486696,
          0.7471562094665762,
          0.7248086102844826,
          0.7024610111023892,
          0.6801134119202957,
          0.6577658127382022,
          0.6354182135561087,
          0.6130706143740152,
          0.5907230151919218,
          0.5683754160098282,
          0.5460278168277348,
          0.5236802176456413
         ],
         "y": [
          0.5637411227801686,
          0.5852787731967671,
          0.6068164236133657,
          0.6283540740299642,
          0.6498917244465628,
          0.6714293748631613,
          0.69296702527976,
          0.7145046756963584,
          0.736042326112957,
          0.7575799765295556,
          0.779117626946154,
          0.8006552773627527,
          0.8221929277793512,
          0.8437305781959497,
          0.8652682286125482,
          0.8868058790291468,
          0.9083435294457454,
          0.9298811798623439,
          0.9514188302789424,
          0.972956480695541
         ]
        },
        {
         "hoverinfo": "skip",
         "line": {
          "color": "gray",
          "dash": "dash",
          "width": 0.25
         },
         "marker": {
          "angleref": "previous",
          "color": "gray",
          "size": 5,
          "symbol": "arrow-bar-up"
         },
         "mode": "lines+markers",
         "showlegend": false,
         "type": "scatter",
         "x": [
          0.9742263883006789,
          1.0919550318395148
         ],
         "y": [
          0.5244381838090801,
          0.21445077300927645
         ]
        },
        {
         "hoverinfo": "text",
         "hovertext": "<b>DC 3 -> Market 9</b><br>Capacity: 100<br>Variable Cost: 0.38<br>Fixed Cost: 0.00<br>",
         "line": {
          "color": "gray",
          "dash": "dash",
          "width": 0
         },
         "mode": "lines",
         "showlegend": false,
         "type": "scatter",
         "x": [
          0.9742263883006789,
          0.9804226326974597,
          0.9866188770942406,
          0.9928151214910214,
          0.9990113658878023,
          1.005207610284583,
          1.011403854681364,
          1.0176000990781446,
          1.0237963434749255,
          1.0299925878717064,
          1.0361888322684873,
          1.042385076665268,
          1.048581321062049,
          1.0547775654588298,
          1.0609738098556105,
          1.0671700542523914,
          1.0733662986491723,
          1.0795625430459532,
          1.085758787442734,
          1.0919550318395148
         ],
         "y": [
          0.5244381838090801,
          0.5081230569248799,
          0.49180793004067974,
          0.47549280315647957,
          0.45917767627227934,
          0.4428625493880792,
          0.426547422503879,
          0.4102322956196788,
          0.39391716873547855,
          0.3776020418512784,
          0.3612869149670782,
          0.344971788082878,
          0.3286566611986778,
          0.31234153431447764,
          0.2960264074302774,
          0.2797112805460772,
          0.263396153661877,
          0.24708102677767685,
          0.23076589989347662,
          0.21445077300927645
         ]
        },
        {
         "hoverinfo": "skip",
         "line": {
          "color": "gray",
          "dash": "dash",
          "width": 0.25
         },
         "marker": {
          "angleref": "previous",
          "color": "gray",
          "size": 5,
          "symbol": "arrow-bar-up"
         },
         "mode": "lines+markers",
         "showlegend": false,
         "type": "scatter",
         "x": [
          0.9841263607786979,
          1.3775122210366135
         ],
         "y": [
          0.531464779479613,
          0.20061492331652536
         ]
        },
        {
         "hoverinfo": "text",
         "hovertext": "<b>DC 3 -> Market 10</b><br>Capacity: 100<br>Variable Cost: 0.56<br>Fixed Cost: 0.00<br>",
         "line": {
          "color": "gray",
          "dash": "dash",
          "width": 0
         },
         "mode": "lines",
         "showlegend": false,
         "type": "scatter",
         "x": [
          0.9841263607786979,
          1.0048308797396408,
          1.0255353987005837,
          1.0462399176615267,
          1.0669444366224696,
          1.0876489555834126,
          1.1083534745443555,
          1.1290579935052985,
          1.1497625124662414,
          1.1704670314271843,
          1.1911715503881273,
          1.2118760693490702,
          1.2325805883100132,
          1.253285107270956,
          1.2739896262318988,
          1.2946941451928418,
          1.3153986641537847,
          1.3361031831147276,
          1.3568077020756706,
          1.3775122210366135
         ],
         "y": [
          0.531464779479613,
          0.5140516291552399,
          0.4966384788308669,
          0.4792253285064939,
          0.4618121781821209,
          0.4443990278577479,
          0.4269858775333748,
          0.4095727272090018,
          0.39215957688462877,
          0.3747464265602557,
          0.3573332762358827,
          0.33992012591150966,
          0.3225069755871366,
          0.3050938252627636,
          0.28768067493839056,
          0.2702675246140175,
          0.25285437428964447,
          0.23544122396527145,
          0.21802807364089838,
          0.20061492331652536
         ]
        },
        {
         "hoverinfo": "skip",
         "line": {
          "color": "gray",
          "dash": "dash",
          "width": 0.25
         },
         "marker": {
          "angleref": "previous",
          "color": "gray",
          "size": 5,
          "symbol": "arrow-bar-up"
         },
         "mode": "lines+markers",
         "showlegend": false,
         "type": "scatter",
         "x": [
          0.9771743741636518,
          1.178725970309562
         ],
         "y": [
          0.5682015785637012,
          0.9393593612589661
         ]
        },
        {
         "hoverinfo": "text",
         "hovertext": "<b>DC 3 -> Market 11</b><br>Capacity: 100<br>Variable Cost: 0.47<br>Fixed Cost: 0.00<br>",
         "line": {
          "color": "gray",
          "dash": "dash",
          "width": 0
         },
         "mode": "lines",
         "showlegend": false,
         "type": "scatter",
         "x": [
          0.9771743741636518,
          0.9877823529081734,
          0.998390331652695,
          1.0089983103972167,
          1.0196062891417381,
          1.0302142678862598,
          1.0408222466307815,
          1.051430225375303,
          1.0620382041198246,
          1.072646182864346,
          1.0832541616088678,
          1.0938621403533892,
          1.104470119097911,
          1.1150780978424324,
          1.125686076586954,
          1.1362940553314758,
          1.1469020340759972,
          1.157510012820519,
          1.1681179915650404,
          1.178725970309562
         ],
         "y": [
          0.5682015785637012,
          0.5877361987055573,
          0.6072708188474133,
          0.6268054389892694,
          0.6463400591311255,
          0.6658746792729815,
          0.6854092994148375,
          0.7049439195566936,
          0.7244785396985496,
          0.7440131598404056,
          0.7635477799822616,
          0.7830824001241178,
          0.8026170202659738,
          0.8221516404078298,
          0.8416862605496859,
          0.861220880691542,
          0.880755500833398,
          0.9002901209752541,
          0.9198247411171101,
          0.9393593612589661
         ]
        },
        {
         "hoverinfo": "skip",
         "line": {
          "color": "gray",
          "dash": "dash",
          "width": 0.25
         },
         "marker": {
          "angleref": "previous",
          "color": "gray",
          "size": 5,
          "symbol": "arrow-bar-up"
         },
         "mode": "lines+markers",
         "showlegend": false,
         "type": "scatter",
         "x": [
          0.9897742969904476,
          1.6681026386656548
         ],
         "y": [
          0.54784778431551,
          0.5717996010752808
         ]
        },
        {
         "hoverinfo": "text",
         "hovertext": "<b>DC 3 -> Market 12</b><br>Capacity: 100<br>Variable Cost: 0.73<br>Fixed Cost: 0.00<br>",
         "line": {
          "color": "gray",
          "dash": "dash",
          "width": 0
         },
         "mode": "lines",
         "showlegend": false,
         "type": "scatter",
         "x": [
          0.9897742969904476,
          1.0254757886575638,
          1.06117728032468,
          1.096878771991796,
          1.1325802636589124,
          1.1682817553260285,
          1.2039832469931446,
          1.2396847386602607,
          1.2753862303273769,
          1.3110877219944932,
          1.3467892136616093,
          1.3824907053287254,
          1.4181921969958418,
          1.4538936886629579,
          1.489595180330074,
          1.5252966719971903,
          1.5609981636643062,
          1.5966996553314226,
          1.6324011469985387,
          1.6681026386656548
         ],
         "y": [
          0.54784778431551,
          0.5491084062502347,
          0.5503690281849595,
          0.5516296501196843,
          0.5528902720544091,
          0.5541508939891339,
          0.5554115159238586,
          0.5566721378585834,
          0.5579327597933083,
          0.559193381728033,
          0.5604540036627578,
          0.5617146255974825,
          0.5629752475322074,
          0.5642358694669322,
          0.5654964914016569,
          0.5667571133363817,
          0.5680177352711064,
          0.5692783572058313,
          0.5705389791405561,
          0.5717996010752808
         ]
        },
        {
         "hoverinfo": "skip",
         "line": {
          "color": "gray",
          "dash": "dash",
          "width": 0.25
         },
         "marker": {
          "angleref": "previous",
          "color": "gray",
          "size": 5,
          "symbol": "arrow-bar-up"
         },
         "mode": "lines+markers",
         "showlegend": false,
         "type": "scatter",
         "x": [
          0.9849090407175959,
          1.4770424908518023
         ],
         "y": [
          0.5615464323410535,
          0.9335288446125153
         ]
        },
        {
         "hoverinfo": "text",
         "hovertext": "<b>DC 3 -> Market 13</b><br>Capacity: 100<br>Variable Cost: 0.67<br>Fixed Cost: 0.00<br>",
         "line": {
          "color": "gray",
          "dash": "dash",
          "width": 0
         },
         "mode": "lines",
         "showlegend": false,
         "type": "scatter",
         "x": [
          0.9849090407175959,
          1.010810801250975,
          1.0367125617843544,
          1.0626143223177338,
          1.0885160828511131,
          1.1144178433844922,
          1.1403196039178716,
          1.166221364451251,
          1.1921231249846302,
          1.2180248855180094,
          1.2439266460513887,
          1.269828406584768,
          1.2957301671181474,
          1.3216319276515267,
          1.3475336881849058,
          1.3734354487182852,
          1.3993372092516645,
          1.4252389697850436,
          1.451140730318423,
          1.4770424908518023
         ],
         "y": [
          0.5615464323410535,
          0.5811244540395515,
          0.6007024757380495,
          0.6202804974365475,
          0.6398585191350454,
          0.6594365408335434,
          0.6790145625320414,
          0.6985925842305394,
          0.7181706059290374,
          0.7377486276275353,
          0.7573266493260333,
          0.7769046710245314,
          0.7964826927230294,
          0.8160607144215274,
          0.8356387361200254,
          0.8552167578185234,
          0.8747947795170213,
          0.8943728012155193,
          0.9139508229140173,
          0.9335288446125153
         ]
        },
        {
         "hoverinfo": "skip",
         "line": {
          "color": "gray",
          "dash": "dash",
          "width": 0.25
         },
         "marker": {
          "angleref": "previous",
          "color": "gray",
          "size": 5,
          "symbol": "arrow-bar-up"
         },
         "mode": "lines+markers",
         "showlegend": false,
         "type": "scatter",
         "x": [
          0.9896326626030583,
          1.8419185850200948
         ],
         "y": [
          0.549741467566258,
          0.6473361695035338
         ]
        },
        {
         "hoverinfo": "text",
         "hovertext": "<b>DC 3 -> Market 14</b><br>Capacity: 100<br>Variable Cost: 0.91<br>Fixed Cost: 0.00<br>",
         "line": {
          "color": "gray",
          "dash": "dash",
          "width": 0
         },
         "mode": "lines",
         "showlegend": false,
         "type": "scatter",
         "x": [
          0.9896326626030583,
          1.0344898164144813,
          1.0793469702259042,
          1.1242041240373273,
          1.1690612778487501,
          1.2139184316601732,
          1.258775585471596,
          1.3036327392830191,
          1.348489893094442,
          1.393347046905865,
          1.438204200717288,
          1.483061354528711,
          1.527918508340134,
          1.572775662151557,
          1.6176328159629798,
          1.6624899697744029,
          1.707347123585826,
          1.7522042773972488,
          1.7970614312086717,
          1.8419185850200948
         ],
         "y": [
          0.549741467566258,
          0.5548780308261146,
          0.5600145940859712,
          0.5651511573458279,
          0.5702877206056844,
          0.5754242838655411,
          0.5805608471253977,
          0.5856974103852544,
          0.5908339736451109,
          0.5959705369049676,
          0.6011071001648242,
          0.6062436634246808,
          0.6113802266845374,
          0.6165167899443941,
          0.6216533532042506,
          0.6267899164641073,
          0.6319264797239639,
          0.6370630429838205,
          0.6421996062436771,
          0.6473361695035338
         ]
        },
        {
         "hoverinfo": "skip",
         "line": {
          "color": "gray",
          "dash": "dash",
          "width": 5
         },
         "marker": {
          "angleref": "previous",
          "color": "gray",
          "size": 20,
          "symbol": "arrow-bar-up"
         },
         "mode": "lines+markers",
         "showlegend": false,
         "type": "scatter",
         "x": [
          0.24761443209266643,
          1.487750771082332
         ],
         "y": [
          0.12437505931338348,
          0.8458685726113663
         ]
        },
        {
         "hoverinfo": "text",
         "hovertext": "<b>Factory 1 -> DC 0</b><br>Capacity: 350<br>Variable Cost: 1.48<br>Fixed Cost: 0.00<br>",
         "line": {
          "color": "gray",
          "dash": "dash",
          "width": 0
         },
         "mode": "lines",
         "showlegend": false,
         "type": "scatter",
         "x": [
          0.24761443209266643,
          0.31288476572370144,
          0.37815509935473646,
          0.4434254329857715,
          0.5086957666168065,
          0.5739661002478416,
          0.6392364338788765,
          0.7045067675099115,
          0.7697771011409466,
          0.8350474347719815,
          0.9003177684030166,
          0.9655881020340517,
          1.0308584356650865,
          1.0961287692961217,
          1.1613991029271566,
          1.2266694365581916,
          1.2919397701892268,
          1.3572101038202615,
          1.4224804374512967,
          1.487750771082332
         ],
         "y": [
          0.12437505931338348,
          0.16234840211854046,
          0.20032174492369748,
          0.23829508772885444,
          0.27626843053401146,
          0.3142417733391684,
          0.35221511614432544,
          0.39018845894948245,
          0.4281618017546394,
          0.4661351445597964,
          0.5041084873649534,
          0.5420818301701104,
          0.5800551729752673,
          0.6180285157804243,
          0.6560018585855814,
          0.6939752013907383,
          0.7319485441958953,
          0.7699218870010522,
          0.8078952298062092,
          0.8458685726113663
         ]
        },
        {
         "hoverinfo": "skip",
         "line": {
          "color": "gray",
          "dash": "dash",
          "width": 5
         },
         "marker": {
          "angleref": "previous",
          "color": "gray",
          "size": 20,
          "symbol": "arrow-bar-up"
         },
         "mode": "lines+markers",
         "showlegend": false,
         "type": "scatter",
         "x": [
          0.24972321566151479,
          1.9599238263352359
         ],
         "y": [
          0.11964540063326505,
          0.6710527122980796
         ]
        },
        {
         "hoverinfo": "text",
         "hovertext": "<b>Factory 1 -> DC 1</b><br>Capacity: 350<br>Variable Cost: 1.85<br>Fixed Cost: 0.00<br>",
         "line": {
          "color": "gray",
          "dash": "dash",
          "width": 0
         },
         "mode": "lines",
         "showlegend": false,
         "type": "scatter",
         "x": [
          0.24972321566151479,
          0.3397337741180264,
          0.42974433257453803,
          0.5197548910310497,
          0.6097654494875613,
          0.6997760079440729,
          0.7897865664005846,
          0.8797971248570963,
          0.9698076833136079,
          1.0598182417701194,
          1.149828800226631,
          1.2398393586831427,
          1.3298499171396545,
          1.4198604755961661,
          1.5098710340526778,
          1.5998815925091894,
          1.689892150965701,
          1.7799027094222126,
          1.8699132678787243,
          1.9599238263352359
         ],
         "y": [
          0.11964540063326505,
          0.14866683808930792,
          0.1776882755453508,
          0.20670971300139368,
          0.23573115045743653,
          0.26475258791347944,
          0.2937740253695223,
          0.32279546282556515,
          0.35181690028160806,
          0.3808383377376509,
          0.4098597751936938,
          0.4388812126497367,
          0.4679026501057795,
          0.49692408756182244,
          0.5259455250178653,
          0.5549669624739082,
          0.583988399929951,
          0.6130098373859939,
          0.6420312748420367,
          0.6710527122980796
         ]
        },
        {
         "hoverinfo": "skip",
         "line": {
          "color": "gray",
          "dash": "dash",
          "width": 5
         },
         "marker": {
          "angleref": "previous",
          "color": "gray",
          "size": 20,
          "symbol": "arrow-bar-up"
         },
         "mode": "lines+markers",
         "showlegend": false,
         "type": "scatter",
         "x": [
          0.24793617899793263,
          1.258832849629039
         ],
         "y": [
          0.12380433886087029,
          0.6757535755298024
         ]
        },
        {
         "hoverinfo": "text",
         "hovertext": "<b>Factory 1 -> DC 2</b><br>Capacity: 350<br>Variable Cost: 1.20<br>Fixed Cost: 0.00<br>",
         "line": {
          "color": "gray",
          "dash": "dash",
          "width": 0
         },
         "mode": "lines",
         "showlegend": false,
         "type": "scatter",
         "x": [
          0.24793617899793263,
          0.3011412669258856,
          0.3543463548538386,
          0.40755144278179156,
          0.46075653070974454,
          0.5139616186376974,
          0.5671667065656505,
          0.6203717944936034,
          0.6735768824215564,
          0.7267819703495093,
          0.7799870582774623,
          0.8331921462054153,
          0.8863972341333682,
          0.9396023220613212,
          0.9928074099892742,
          1.0460124979172272,
          1.0992175858451803,
          1.1524226737731331,
          1.205627761701086,
          1.258832849629039
         ],
         "y": [
          0.12380433886087029,
          0.15285429868555092,
          0.18190425851023156,
          0.2109542183349122,
          0.24000417815959285,
          0.26905413798427347,
          0.29810409780895414,
          0.32715405763363475,
          0.3562040174583154,
          0.38525397728299604,
          0.41430393710767666,
          0.4433538969323573,
          0.47240385675703794,
          0.5014538165817186,
          0.5305037764063992,
          0.55955373623108,
          0.5886036960557606,
          0.6176536558804412,
          0.6467036157051218,
          0.6757535755298024
         ]
        },
        {
         "hoverinfo": "skip",
         "line": {
          "color": "gray",
          "dash": "dash",
          "width": 5
         },
         "marker": {
          "angleref": "previous",
          "color": "gray",
          "size": 20,
          "symbol": "arrow-bar-up"
         },
         "mode": "lines+markers",
         "showlegend": false,
         "type": "scatter",
         "x": [
          0.24755456213202542,
          0.9448618614136373
         ],
         "y": [
          0.12447738740677441,
          0.5347595495019155
         ]
        },
        {
         "hoverinfo": "text",
         "hovertext": "<b>Factory 1 -> DC 3</b><br>Capacity: 350<br>Variable Cost: 0.86<br>Fixed Cost: 0.00<br>",
         "line": {
          "color": "gray",
          "dash": "dash",
          "width": 0
         },
         "mode": "lines",
         "showlegend": false,
         "type": "scatter",
         "x": [
          0.24755456213202542,
          0.28425494630474185,
          0.3209553304774583,
          0.35765571465017465,
          0.3943560988228911,
          0.4310564829956075,
          0.4677568671683239,
          0.5044572513410404,
          0.5411576355137567,
          0.5778580196864731,
          0.6145584038591896,
          0.651258788031906,
          0.6879591722046223,
          0.7246595563773388,
          0.7613599405500552,
          0.7980603247227717,
          0.834760708895488,
          0.8714610930682044,
          0.9081614772409209,
          0.9448618614136373
         ],
         "y": [
          0.12447738740677441,
          0.14607118541178185,
          0.16766498341678926,
          0.1892587814217967,
          0.21085257942680413,
          0.23244637743181154,
          0.254040175436819,
          0.2756339734418264,
          0.2972277714468338,
          0.31882156945184126,
          0.34041536745684864,
          0.36200916546185613,
          0.3836029634668635,
          0.405196761471871,
          0.4267905594768784,
          0.44838435748188576,
          0.46997815548689326,
          0.49157195349190064,
          0.5131657514969081,
          0.5347595495019155
         ]
        },
        {
         "marker": {
          "color": "rgb(31, 119, 180)",
          "line": {
           "width": 2
          },
          "size": 10
         },
         "mode": "markers",
         "name": "DC",
         "showlegend": true,
         "type": "scatter",
         "x": [
          null
         ],
         "y": [
          null
         ]
        },
        {
         "marker": {
          "color": "rgb(255, 127, 14)",
          "line": {
           "width": 2
          },
          "size": 10
         },
         "mode": "markers",
         "name": "Factory",
         "showlegend": true,
         "type": "scatter",
         "x": [
          null
         ],
         "y": [
          null
         ]
        },
        {
         "marker": {
          "color": "rgb(44, 160, 44)",
          "line": {
           "width": 2
          },
          "size": 10
         },
         "mode": "markers",
         "name": "Market",
         "showlegend": true,
         "type": "scatter",
         "x": [
          null
         ],
         "y": [
          null
         ]
        }
       ],
       "layout": {
        "annotations": [
         {
          "bgcolor": "black",
          "font": {
           "color": "white"
          },
          "opacity": 0.8,
          "showarrow": false,
          "text": "Factory 0",
          "x": 1.791804750014033,
          "xref": "x",
          "y": 0.23861437803874608,
          "yref": "y"
         },
         {
          "bgcolor": "black",
          "font": {
           "color": "white"
          },
          "opacity": 0.8,
          "showarrow": false,
          "text": "DC 0",
          "x": 1.508607936991218,
          "xref": "x",
          "y": 0.8996823538839915,
          "yref": "y"
         },
         {
          "bgcolor": "black",
          "font": {
           "color": "white"
          },
          "opacity": 0.8,
          "showarrow": false,
          "text": "DC 1",
          "x": 1.9828897758129702,
          "xref": "x",
          "y": 0.7201368348905864,
          "yref": "y"
         },
         {
          "bgcolor": "black",
          "font": {
           "color": "white"
          },
          "opacity": 0.8,
          "showarrow": false,
          "text": "DC 2",
          "x": 1.2800117624431913,
          "xref": "x",
          "y": 0.7289966363499145,
          "yref": "y"
         },
         {
          "bgcolor": "black",
          "font": {
           "color": "white"
          },
          "opacity": 0.8,
          "showarrow": false,
          "text": "DC 3",
          "x": 0.9656591573618822,
          "xref": "x",
          "y": 0.5886756588679317,
          "yref": "y"
         },
         {
          "bgcolor": "black",
          "font": {
           "color": "white"
          },
          "opacity": 0.8,
          "showarrow": false,
          "text": "Factory 1",
          "x": 0.22675726618378045,
          "xref": "x",
          "y": 0.153920041364625,
          "yref": "y"
         },
         {
          "bgcolor": "black",
          "font": {
           "color": "white"
          },
          "opacity": 0.8,
          "showarrow": false,
          "text": "Market 0",
          "x": 0.3080848014617559,
          "xref": "x",
          "y": 0.32633775308374885,
          "yref": "y"
         },
         {
          "bgcolor": "black",
          "font": {
           "color": "white"
          },
          "opacity": 0.8,
          "showarrow": false,
          "text": "Market 1",
          "x": 1.929658658603603,
          "xref": "x",
          "y": 0.7818531679197753,
          "yref": "y"
         },
         {
          "bgcolor": "black",
          "font": {
           "color": "white"
          },
          "opacity": 0.8,
          "showarrow": false,
          "text": "Market 2",
          "x": 0.4881486619280888,
          "xref": "x",
          "y": 0.2247977687424032,
          "yref": "y"
         },
         {
          "bgcolor": "black",
          "font": {
           "color": "white"
          },
          "opacity": 0.8,
          "showarrow": false,
          "text": "Market 3",
          "x": 1.058182242777294,
          "xref": "x",
          "y": 0.9094616464682259,
          "yref": "y"
         },
         {
          "bgcolor": "black",
          "font": {
           "color": "white"
          },
          "opacity": 0.8,
          "showarrow": false,
          "text": "Market 4",
          "x": 0.2844094155140011,
          "xref": "x",
          "y": 0.9911178688929022,
          "yref": "y"
         },
         {
          "bgcolor": "black",
          "font": {
           "color": "white"
          },
          "opacity": 0.8,
          "showarrow": false,
          "text": "Market 5",
          "x": 0.8573862316461627,
          "xref": "x",
          "y": 0.7553841852638614,
          "yref": "y"
         },
         {
          "bgcolor": "black",
          "font": {
           "color": "white"
          },
          "opacity": 0.8,
          "showarrow": false,
          "text": "Market 6",
          "x": 0.6588527353013407,
          "xref": "x",
          "y": 0.2888678601747365,
          "yref": "y"
         },
         {
          "bgcolor": "black",
          "font": {
           "color": "white"
          },
          "opacity": 0.8,
          "showarrow": false,
          "text": "Market 7",
          "x": 1.4299133908287536,
          "xref": "x",
          "y": 0.6407748669583958,
          "yref": "y"
         },
         {
          "bgcolor": "black",
          "font": {
           "color": "white"
          },
          "opacity": 0.8,
          "showarrow": false,
          "text": "Market 8",
          "x": 0.5063056623891766,
          "xref": "x",
          "y": 1.0313807079316448,
          "yref": "y"
         },
         {
          "bgcolor": "black",
          "font": {
           "color": "white"
          },
          "opacity": 0.8,
          "showarrow": false,
          "text": "Market 9",
          "x": 1.1005222627783116,
          "xref": "x",
          "y": 0.23357206127429175,
          "yref": "y"
         },
         {
          "bgcolor": "black",
          "font": {
           "color": "white"
          },
          "opacity": 0.8,
          "showarrow": false,
          "text": "Market 10",
          "x": 1.3959794244534292,
          "xref": "x",
          "y": 0.22676280725207354,
          "yref": "y"
         },
         {
          "bgcolor": "black",
          "font": {
           "color": "white"
          },
          "opacity": 0.8,
          "showarrow": false,
          "text": "Market 11",
          "x": 1.1902411871113316,
          "xref": "x",
          "y": 1.0022440442786025,
          "yref": "y"
         },
         {
          "bgcolor": "black",
          "font": {
           "color": "white"
          },
          "opacity": 0.8,
          "showarrow": false,
          "text": "Market 12",
          "x": 1.6922177782942203,
          "xref": "x",
          "y": 0.6143304898467259,
          "yref": "y"
         },
         {
          "bgcolor": "black",
          "font": {
           "color": "white"
          },
          "opacity": 0.8,
          "showarrow": false,
          "text": "Market 13",
          "x": 1.496292374207516,
          "xref": "x",
          "y": 0.9897583814095039,
          "yref": "y"
         },
         {
          "bgcolor": "black",
          "font": {
           "color": "white"
          },
          "opacity": 0.8,
          "showarrow": false,
          "text": "Market 14",
          "x": 1.8658920902612708,
          "xref": "x",
          "y": 0.6917607415257269,
          "yref": "y"
         }
        ],
        "height": 600,
        "hovermode": "closest",
        "legend": {
         "bordercolor": "rgba(0, 0, 0, 0.5)",
         "borderwidth": 1,
         "font": {
          "color": "white",
          "size": 12
         },
         "traceorder": "normal",
         "x": 0.0951381661987275,
         "y": 1.1213204262547642
        },
        "paper_bgcolor": "rgba(0,0,0,0)",
        "plot_bgcolor": "rgba(0,0,0,0)",
        "shapes": [
         {
          "fillcolor": "rgb(255, 127, 14)",
          "layer": "below",
          "line": {
           "color": "white",
           "width": 1
          },
          "type": "circle",
          "x0": 1.76767458168344,
          "x1": 1.815934918344626,
          "xref": "x",
          "y0": 0.17280482804621963,
          "y1": 0.2210651647074057,
          "yref": "y"
         },
         {
          "fillcolor": "rgb(31, 119, 180)",
          "layer": "below",
          "line": {
           "color": "white",
           "width": 1
          },
          "type": "circle",
          "x0": 1.484477768660625,
          "x1": 1.532738105321811,
          "xref": "x",
          "y0": 0.8338728038914651,
          "y1": 0.8821331405526511,
          "yref": "y"
         },
         {
          "fillcolor": "rgb(31, 119, 180)",
          "layer": "below",
          "line": {
           "color": "white",
           "width": 1
          },
          "type": "circle",
          "x0": 1.9587596074823772,
          "x1": 2.0070199441435634,
          "xref": "x",
          "y0": 0.65432728489806,
          "y1": 0.702587621559246,
          "yref": "y"
         },
         {
          "fillcolor": "rgb(31, 119, 180)",
          "layer": "below",
          "line": {
           "color": "white",
           "width": 1
          },
          "type": "circle",
          "x0": 1.2558815941125983,
          "x1": 1.3041419307737843,
          "xref": "x",
          "y0": 0.6631870863573881,
          "y1": 0.7114474230185741,
          "yref": "y"
         },
         {
          "fillcolor": "rgb(31, 119, 180)",
          "layer": "below",
          "line": {
           "color": "white",
           "width": 1
          },
          "type": "circle",
          "x0": 0.9415289890312892,
          "x1": 0.9897893256924752,
          "xref": "x",
          "y0": 0.5228661088754053,
          "y1": 0.5711264455365913,
          "yref": "y"
         },
         {
          "fillcolor": "rgb(255, 127, 14)",
          "layer": "below",
          "line": {
           "color": "white",
           "width": 1
          },
          "type": "circle",
          "x0": 0.20262709785318742,
          "x1": 0.2508874345143735,
          "xref": "x",
          "y0": 0.08811049137209855,
          "y1": 0.13637082803328462,
          "yref": "y"
         },
         {
          "fillcolor": "rgb(44, 160, 44)",
          "layer": "below",
          "line": {
           "color": "white",
           "width": 1
          },
          "type": "circle",
          "x0": 0.2839546331311628,
          "x1": 0.33221496979234894,
          "xref": "x",
          "y0": 0.2605282030912223,
          "y1": 0.30878853975240844,
          "yref": "y"
         },
         {
          "fillcolor": "rgb(44, 160, 44)",
          "layer": "below",
          "line": {
           "color": "white",
           "width": 1
          },
          "type": "circle",
          "x0": 1.90552849027301,
          "x1": 1.953788826934196,
          "xref": "x",
          "y0": 0.7160436179272489,
          "y1": 0.7643039545884349,
          "yref": "y"
         },
         {
          "fillcolor": "rgb(44, 160, 44)",
          "layer": "below",
          "line": {
           "color": "white",
           "width": 1
          },
          "type": "circle",
          "x0": 0.46401849359749575,
          "x1": 0.5122788302586818,
          "xref": "x",
          "y0": 0.15898821874987676,
          "y1": 0.20724855541106282,
          "yref": "y"
         },
         {
          "fillcolor": "rgb(44, 160, 44)",
          "layer": "below",
          "line": {
           "color": "white",
           "width": 1
          },
          "type": "circle",
          "x0": 1.034052074446701,
          "x1": 1.082312411107887,
          "xref": "x",
          "y0": 0.8436520964756995,
          "y1": 0.8919124331368855,
          "yref": "y"
         },
         {
          "fillcolor": "rgb(44, 160, 44)",
          "layer": "below",
          "line": {
           "color": "white",
           "width": 1
          },
          "type": "circle",
          "x0": 0.26027924718340806,
          "x1": 0.3085395838445942,
          "xref": "x",
          "y0": 0.9253083189003758,
          "y1": 0.9735686555615618,
          "yref": "y"
         },
         {
          "fillcolor": "rgb(44, 160, 44)",
          "layer": "below",
          "line": {
           "color": "white",
           "width": 1
          },
          "type": "circle",
          "x0": 0.8332560633155697,
          "x1": 0.8815163999767557,
          "xref": "x",
          "y0": 0.689574635271335,
          "y1": 0.737834971932521,
          "yref": "y"
         },
         {
          "fillcolor": "rgb(44, 160, 44)",
          "layer": "below",
          "line": {
           "color": "white",
           "width": 1
          },
          "type": "circle",
          "x0": 0.6347225669707477,
          "x1": 0.6829829036319337,
          "xref": "x",
          "y0": 0.22305831018220998,
          "y1": 0.27131864684339607,
          "yref": "y"
         },
         {
          "fillcolor": "rgb(44, 160, 44)",
          "layer": "below",
          "line": {
           "color": "white",
           "width": 1
          },
          "type": "circle",
          "x0": 1.4057832224981606,
          "x1": 1.4540435591593466,
          "xref": "x",
          "y0": 0.5749653169658694,
          "y1": 0.6232256536270554,
          "yref": "y"
         },
         {
          "fillcolor": "rgb(44, 160, 44)",
          "layer": "below",
          "line": {
           "color": "white",
           "width": 1
          },
          "type": "circle",
          "x0": 0.48217549405858356,
          "x1": 0.5304358307197696,
          "xref": "x",
          "y0": 0.9655711579391183,
          "y1": 1.0138314946003044,
          "yref": "y"
         },
         {
          "fillcolor": "rgb(44, 160, 44)",
          "layer": "below",
          "line": {
           "color": "white",
           "width": 1
          },
          "type": "circle",
          "x0": 1.0763920944477186,
          "x1": 1.1246524311089046,
          "xref": "x",
          "y0": 0.1677625112817653,
          "y1": 0.21602284794295137,
          "yref": "y"
         },
         {
          "fillcolor": "rgb(44, 160, 44)",
          "layer": "below",
          "line": {
           "color": "white",
           "width": 1
          },
          "type": "circle",
          "x0": 1.3718492561228361,
          "x1": 1.4201095927840222,
          "xref": "x",
          "y0": 0.1609532572595471,
          "y1": 0.20921359392073316,
          "yref": "y"
         },
         {
          "fillcolor": "rgb(44, 160, 44)",
          "layer": "below",
          "line": {
           "color": "white",
           "width": 1
          },
          "type": "circle",
          "x0": 1.1661110187807386,
          "x1": 1.2143713554419246,
          "xref": "x",
          "y0": 0.9364344942860761,
          "y1": 0.9846948309472621,
          "yref": "y"
         },
         {
          "fillcolor": "rgb(44, 160, 44)",
          "layer": "below",
          "line": {
           "color": "white",
           "width": 1
          },
          "type": "circle",
          "x0": 1.6680876099636273,
          "x1": 1.7163479466248133,
          "xref": "x",
          "y0": 0.5485209398541995,
          "y1": 0.5967812765153855,
          "yref": "y"
         },
         {
          "fillcolor": "rgb(44, 160, 44)",
          "layer": "below",
          "line": {
           "color": "white",
           "width": 1
          },
          "type": "circle",
          "x0": 1.472162205876923,
          "x1": 1.520422542538109,
          "xref": "x",
          "y0": 0.9239488314169775,
          "y1": 0.9722091680781635,
          "yref": "y"
         },
         {
          "fillcolor": "rgb(44, 160, 44)",
          "layer": "below",
          "line": {
           "color": "white",
           "width": 1
          },
          "type": "circle",
          "x0": 1.8417619219306778,
          "x1": 1.8900222585918638,
          "xref": "x",
          "y0": 0.6259511915332004,
          "y1": 0.6742115281943865,
          "yref": "y"
         }
        ],
        "template": {
         "data": {
          "bar": [
           {
            "error_x": {
             "color": "#2a3f5f"
            },
            "error_y": {
             "color": "#2a3f5f"
            },
            "marker": {
             "line": {
              "color": "#E5ECF6",
              "width": 0.5
             },
             "pattern": {
              "fillmode": "overlay",
              "size": 10,
              "solidity": 0.2
             }
            },
            "type": "bar"
           }
          ],
          "barpolar": [
           {
            "marker": {
             "line": {
              "color": "#E5ECF6",
              "width": 0.5
             },
             "pattern": {
              "fillmode": "overlay",
              "size": 10,
              "solidity": 0.2
             }
            },
            "type": "barpolar"
           }
          ],
          "carpet": [
           {
            "aaxis": {
             "endlinecolor": "#2a3f5f",
             "gridcolor": "white",
             "linecolor": "white",
             "minorgridcolor": "white",
             "startlinecolor": "#2a3f5f"
            },
            "baxis": {
             "endlinecolor": "#2a3f5f",
             "gridcolor": "white",
             "linecolor": "white",
             "minorgridcolor": "white",
             "startlinecolor": "#2a3f5f"
            },
            "type": "carpet"
           }
          ],
          "choropleth": [
           {
            "colorbar": {
             "outlinewidth": 0,
             "ticks": ""
            },
            "type": "choropleth"
           }
          ],
          "contour": [
           {
            "colorbar": {
             "outlinewidth": 0,
             "ticks": ""
            },
            "colorscale": [
             [
              0,
              "#0d0887"
             ],
             [
              0.1111111111111111,
              "#46039f"
             ],
             [
              0.2222222222222222,
              "#7201a8"
             ],
             [
              0.3333333333333333,
              "#9c179e"
             ],
             [
              0.4444444444444444,
              "#bd3786"
             ],
             [
              0.5555555555555556,
              "#d8576b"
             ],
             [
              0.6666666666666666,
              "#ed7953"
             ],
             [
              0.7777777777777778,
              "#fb9f3a"
             ],
             [
              0.8888888888888888,
              "#fdca26"
             ],
             [
              1,
              "#f0f921"
             ]
            ],
            "type": "contour"
           }
          ],
          "contourcarpet": [
           {
            "colorbar": {
             "outlinewidth": 0,
             "ticks": ""
            },
            "type": "contourcarpet"
           }
          ],
          "heatmap": [
           {
            "colorbar": {
             "outlinewidth": 0,
             "ticks": ""
            },
            "colorscale": [
             [
              0,
              "#0d0887"
             ],
             [
              0.1111111111111111,
              "#46039f"
             ],
             [
              0.2222222222222222,
              "#7201a8"
             ],
             [
              0.3333333333333333,
              "#9c179e"
             ],
             [
              0.4444444444444444,
              "#bd3786"
             ],
             [
              0.5555555555555556,
              "#d8576b"
             ],
             [
              0.6666666666666666,
              "#ed7953"
             ],
             [
              0.7777777777777778,
              "#fb9f3a"
             ],
             [
              0.8888888888888888,
              "#fdca26"
             ],
             [
              1,
              "#f0f921"
             ]
            ],
            "type": "heatmap"
           }
          ],
          "heatmapgl": [
           {
            "colorbar": {
             "outlinewidth": 0,
             "ticks": ""
            },
            "colorscale": [
             [
              0,
              "#0d0887"
             ],
             [
              0.1111111111111111,
              "#46039f"
             ],
             [
              0.2222222222222222,
              "#7201a8"
             ],
             [
              0.3333333333333333,
              "#9c179e"
             ],
             [
              0.4444444444444444,
              "#bd3786"
             ],
             [
              0.5555555555555556,
              "#d8576b"
             ],
             [
              0.6666666666666666,
              "#ed7953"
             ],
             [
              0.7777777777777778,
              "#fb9f3a"
             ],
             [
              0.8888888888888888,
              "#fdca26"
             ],
             [
              1,
              "#f0f921"
             ]
            ],
            "type": "heatmapgl"
           }
          ],
          "histogram": [
           {
            "marker": {
             "pattern": {
              "fillmode": "overlay",
              "size": 10,
              "solidity": 0.2
             }
            },
            "type": "histogram"
           }
          ],
          "histogram2d": [
           {
            "colorbar": {
             "outlinewidth": 0,
             "ticks": ""
            },
            "colorscale": [
             [
              0,
              "#0d0887"
             ],
             [
              0.1111111111111111,
              "#46039f"
             ],
             [
              0.2222222222222222,
              "#7201a8"
             ],
             [
              0.3333333333333333,
              "#9c179e"
             ],
             [
              0.4444444444444444,
              "#bd3786"
             ],
             [
              0.5555555555555556,
              "#d8576b"
             ],
             [
              0.6666666666666666,
              "#ed7953"
             ],
             [
              0.7777777777777778,
              "#fb9f3a"
             ],
             [
              0.8888888888888888,
              "#fdca26"
             ],
             [
              1,
              "#f0f921"
             ]
            ],
            "type": "histogram2d"
           }
          ],
          "histogram2dcontour": [
           {
            "colorbar": {
             "outlinewidth": 0,
             "ticks": ""
            },
            "colorscale": [
             [
              0,
              "#0d0887"
             ],
             [
              0.1111111111111111,
              "#46039f"
             ],
             [
              0.2222222222222222,
              "#7201a8"
             ],
             [
              0.3333333333333333,
              "#9c179e"
             ],
             [
              0.4444444444444444,
              "#bd3786"
             ],
             [
              0.5555555555555556,
              "#d8576b"
             ],
             [
              0.6666666666666666,
              "#ed7953"
             ],
             [
              0.7777777777777778,
              "#fb9f3a"
             ],
             [
              0.8888888888888888,
              "#fdca26"
             ],
             [
              1,
              "#f0f921"
             ]
            ],
            "type": "histogram2dcontour"
           }
          ],
          "mesh3d": [
           {
            "colorbar": {
             "outlinewidth": 0,
             "ticks": ""
            },
            "type": "mesh3d"
           }
          ],
          "parcoords": [
           {
            "line": {
             "colorbar": {
              "outlinewidth": 0,
              "ticks": ""
             }
            },
            "type": "parcoords"
           }
          ],
          "pie": [
           {
            "automargin": true,
            "type": "pie"
           }
          ],
          "scatter": [
           {
            "fillpattern": {
             "fillmode": "overlay",
             "size": 10,
             "solidity": 0.2
            },
            "type": "scatter"
           }
          ],
          "scatter3d": [
           {
            "line": {
             "colorbar": {
              "outlinewidth": 0,
              "ticks": ""
             }
            },
            "marker": {
             "colorbar": {
              "outlinewidth": 0,
              "ticks": ""
             }
            },
            "type": "scatter3d"
           }
          ],
          "scattercarpet": [
           {
            "marker": {
             "colorbar": {
              "outlinewidth": 0,
              "ticks": ""
             }
            },
            "type": "scattercarpet"
           }
          ],
          "scattergeo": [
           {
            "marker": {
             "colorbar": {
              "outlinewidth": 0,
              "ticks": ""
             }
            },
            "type": "scattergeo"
           }
          ],
          "scattergl": [
           {
            "marker": {
             "colorbar": {
              "outlinewidth": 0,
              "ticks": ""
             }
            },
            "type": "scattergl"
           }
          ],
          "scattermapbox": [
           {
            "marker": {
             "colorbar": {
              "outlinewidth": 0,
              "ticks": ""
             }
            },
            "type": "scattermapbox"
           }
          ],
          "scatterpolar": [
           {
            "marker": {
             "colorbar": {
              "outlinewidth": 0,
              "ticks": ""
             }
            },
            "type": "scatterpolar"
           }
          ],
          "scatterpolargl": [
           {
            "marker": {
             "colorbar": {
              "outlinewidth": 0,
              "ticks": ""
             }
            },
            "type": "scatterpolargl"
           }
          ],
          "scatterternary": [
           {
            "marker": {
             "colorbar": {
              "outlinewidth": 0,
              "ticks": ""
             }
            },
            "type": "scatterternary"
           }
          ],
          "surface": [
           {
            "colorbar": {
             "outlinewidth": 0,
             "ticks": ""
            },
            "colorscale": [
             [
              0,
              "#0d0887"
             ],
             [
              0.1111111111111111,
              "#46039f"
             ],
             [
              0.2222222222222222,
              "#7201a8"
             ],
             [
              0.3333333333333333,
              "#9c179e"
             ],
             [
              0.4444444444444444,
              "#bd3786"
             ],
             [
              0.5555555555555556,
              "#d8576b"
             ],
             [
              0.6666666666666666,
              "#ed7953"
             ],
             [
              0.7777777777777778,
              "#fb9f3a"
             ],
             [
              0.8888888888888888,
              "#fdca26"
             ],
             [
              1,
              "#f0f921"
             ]
            ],
            "type": "surface"
           }
          ],
          "table": [
           {
            "cells": {
             "fill": {
              "color": "#EBF0F8"
             },
             "line": {
              "color": "white"
             }
            },
            "header": {
             "fill": {
              "color": "#C8D4E3"
             },
             "line": {
              "color": "white"
             }
            },
            "type": "table"
           }
          ]
         },
         "layout": {
          "annotationdefaults": {
           "arrowcolor": "#2a3f5f",
           "arrowhead": 0,
           "arrowwidth": 1
          },
          "autotypenumbers": "strict",
          "coloraxis": {
           "colorbar": {
            "outlinewidth": 0,
            "ticks": ""
           }
          },
          "colorscale": {
           "diverging": [
            [
             0,
             "#8e0152"
            ],
            [
             0.1,
             "#c51b7d"
            ],
            [
             0.2,
             "#de77ae"
            ],
            [
             0.3,
             "#f1b6da"
            ],
            [
             0.4,
             "#fde0ef"
            ],
            [
             0.5,
             "#f7f7f7"
            ],
            [
             0.6,
             "#e6f5d0"
            ],
            [
             0.7,
             "#b8e186"
            ],
            [
             0.8,
             "#7fbc41"
            ],
            [
             0.9,
             "#4d9221"
            ],
            [
             1,
             "#276419"
            ]
           ],
           "sequential": [
            [
             0,
             "#0d0887"
            ],
            [
             0.1111111111111111,
             "#46039f"
            ],
            [
             0.2222222222222222,
             "#7201a8"
            ],
            [
             0.3333333333333333,
             "#9c179e"
            ],
            [
             0.4444444444444444,
             "#bd3786"
            ],
            [
             0.5555555555555556,
             "#d8576b"
            ],
            [
             0.6666666666666666,
             "#ed7953"
            ],
            [
             0.7777777777777778,
             "#fb9f3a"
            ],
            [
             0.8888888888888888,
             "#fdca26"
            ],
            [
             1,
             "#f0f921"
            ]
           ],
           "sequentialminus": [
            [
             0,
             "#0d0887"
            ],
            [
             0.1111111111111111,
             "#46039f"
            ],
            [
             0.2222222222222222,
             "#7201a8"
            ],
            [
             0.3333333333333333,
             "#9c179e"
            ],
            [
             0.4444444444444444,
             "#bd3786"
            ],
            [
             0.5555555555555556,
             "#d8576b"
            ],
            [
             0.6666666666666666,
             "#ed7953"
            ],
            [
             0.7777777777777778,
             "#fb9f3a"
            ],
            [
             0.8888888888888888,
             "#fdca26"
            ],
            [
             1,
             "#f0f921"
            ]
           ]
          },
          "colorway": [
           "#636efa",
           "#EF553B",
           "#00cc96",
           "#ab63fa",
           "#FFA15A",
           "#19d3f3",
           "#FF6692",
           "#B6E880",
           "#FF97FF",
           "#FECB52"
          ],
          "font": {
           "color": "#2a3f5f"
          },
          "geo": {
           "bgcolor": "white",
           "lakecolor": "white",
           "landcolor": "#E5ECF6",
           "showlakes": true,
           "showland": true,
           "subunitcolor": "white"
          },
          "hoverlabel": {
           "align": "left"
          },
          "hovermode": "closest",
          "mapbox": {
           "style": "light"
          },
          "paper_bgcolor": "white",
          "plot_bgcolor": "#E5ECF6",
          "polar": {
           "angularaxis": {
            "gridcolor": "white",
            "linecolor": "white",
            "ticks": ""
           },
           "bgcolor": "#E5ECF6",
           "radialaxis": {
            "gridcolor": "white",
            "linecolor": "white",
            "ticks": ""
           }
          },
          "scene": {
           "xaxis": {
            "backgroundcolor": "#E5ECF6",
            "gridcolor": "white",
            "gridwidth": 2,
            "linecolor": "white",
            "showbackground": true,
            "ticks": "",
            "zerolinecolor": "white"
           },
           "yaxis": {
            "backgroundcolor": "#E5ECF6",
            "gridcolor": "white",
            "gridwidth": 2,
            "linecolor": "white",
            "showbackground": true,
            "ticks": "",
            "zerolinecolor": "white"
           },
           "zaxis": {
            "backgroundcolor": "#E5ECF6",
            "gridcolor": "white",
            "gridwidth": 2,
            "linecolor": "white",
            "showbackground": true,
            "ticks": "",
            "zerolinecolor": "white"
           }
          },
          "shapedefaults": {
           "line": {
            "color": "#2a3f5f"
           }
          },
          "ternary": {
           "aaxis": {
            "gridcolor": "white",
            "linecolor": "white",
            "ticks": ""
           },
           "baxis": {
            "gridcolor": "white",
            "linecolor": "white",
            "ticks": ""
           },
           "bgcolor": "#E5ECF6",
           "caxis": {
            "gridcolor": "white",
            "linecolor": "white",
            "ticks": ""
           }
          },
          "title": {
           "x": 0.05
          },
          "xaxis": {
           "automargin": true,
           "gridcolor": "white",
           "linecolor": "white",
           "ticks": "",
           "title": {
            "standoff": 15
           },
           "zerolinecolor": "white",
           "zerolinewidth": 2
          },
          "yaxis": {
           "automargin": true,
           "gridcolor": "white",
           "linecolor": "white",
           "ticks": "",
           "title": {
            "standoff": 15
           },
           "zerolinecolor": "white",
           "zerolinewidth": 2
          }
         }
        },
        "width": 1100,
        "xaxis": {
         "visible": false
        },
        "yaxis": {
         "scaleanchor": "x",
         "scaleratio": 1,
         "visible": false
        }
       }
      }
     },
     "metadata": {},
     "output_type": "display_data"
    }
   ],
   "source": [
    "random.seed(115)\n",
    "# Define nodes\n",
    "factories = [FlowGraph.Node(name=f'Factory {i}', supply=700, type='Factory', fixed_cost=100, x=random.uniform(0, 2),\n",
    "                             y=random.uniform(0, 1)) for i in range(2)]\n",
    "dcs = [FlowGraph.Node(name=f'DC {i}', fixed_cost=25, capacity=500, type='DC', x=random.uniform(0, 2), \n",
    "                      y=random.uniform(0, 1)) for i in range(4)]\n",
    "markets = [FlowGraph.Node(name=f'Market {i}', demand=random.randint(1, 100), type='Market', x=random.uniform(0, 2), \n",
    "                          y=random.uniform(0, 1)) for i in range(15)]\n",
    "\n",
    "# Define edges\n",
    "edges = []\n",
    "# Factories to DCs\n",
    "for factory in factories:\n",
    "    for dc in dcs:\n",
    "        distance = ((factory.x - dc.x)**2 + (factory.y - dc.y)**2)**0.5\n",
    "        edges.append(FlowGraph.Edge(origin=factory, destination=dc, capacity=350, variable_cost=distance))\n",
    "\n",
    "# DCs to Markets\n",
    "for dc in dcs:\n",
    "    for market in markets:\n",
    "        distance = ((dc.x - market.x)**2 + (dc.y - market.y)**2)**0.5\n",
    "        edges.append(FlowGraph.Edge(origin=dc, destination=market, capacity=100, variable_cost=distance))\n",
    "\n",
    "# Create FlowGraph\n",
    "G2 = FlowGraph(edges)\n",
    "G2.viz.plot_graph().update_layout(height=600, width=1100).show()\n"
   ]
  },
  {
   "cell_type": "code",
   "execution_count": 65,
   "metadata": {},
   "outputs": [
    {
     "name": "stdout",
     "output_type": "stream",
     "text": [
      "Soft constraints: False\n",
      "Variable types: 68 continuous, 6 binary\n",
      "Constraints: 161\n",
      "Total supply: 1400.0, Total demand: 909.0\n",
      "Model creation time: 0.01 s\n",
      "Optimal solution found: 1334.88 in 0.07 s\n"
     ]
    },
    {
     "data": {
      "application/vnd.plotly.v1+json": {
       "config": {
        "plotlyServerURL": "https://plot.ly"
       },
       "data": [
        {
         "hoverinfo": "text",
         "hovertext": "<b>Factory 0</b><br>Demand: 0.00<br>Supply: 700<br>Type: Factory<br>Variable Cost: 0.00<br>Fixed Cost: 100<br>X: 1.79<br>Y: 0.20<br>Inflow: 0<br>Outflow: 559<br>Total Variable Cost: 0.00<br>Total Cost: 100<br>Selected: 1.00<br>Total Fixed Cost: 100<br>",
         "marker": {
          "color": "rgb(255, 127, 14)",
          "size": 0
         },
         "mode": "markers",
         "showlegend": false,
         "type": "scatter",
         "x": [
          1.791804750014033
         ],
         "y": [
          0.19693499637681267
         ]
        },
        {
         "hoverinfo": "text",
         "hovertext": "<b>DC 0</b><br>Demand: 0.00<br>Supply: 0.00<br>Capacity: 500<br>Type: DC<br>Variable Cost: 0.00<br>Fixed Cost: 25.0<br>X: 1.51<br>Y: 0.86<br>Inflow: 0.00<br>Outflow: 0.00<br>Total Variable Cost: 0.00<br>Total Cost: 0.00<br>Utilisation: 0.00<br>Selected: 0.00<br>Total Fixed Cost: 0.00<br>",
         "marker": {
          "color": "rgb(31, 119, 180)",
          "size": 0
         },
         "mode": "markers",
         "showlegend": false,
         "type": "scatter",
         "x": [
          1.508607936991218
         ],
         "y": [
          0.8580029722220581
         ]
        },
        {
         "hoverinfo": "text",
         "hovertext": "<b>DC 1</b><br>Demand: 0.00<br>Supply: 0.00<br>Capacity: 500<br>Type: DC<br>Variable Cost: 0.00<br>Fixed Cost: 25.0<br>X: 1.98<br>Y: 0.68<br>Inflow: 177<br>Outflow: 177<br>Total Variable Cost: 0.00<br>Total Cost: 25.0<br>Utilisation: 0.35<br>Selected: 1.00<br>Total Fixed Cost: 25.0<br>",
         "marker": {
          "color": "rgb(31, 119, 180)",
          "size": 0
         },
         "mode": "markers",
         "showlegend": false,
         "type": "scatter",
         "x": [
          1.9828897758129702
         ],
         "y": [
          0.678457453228653
         ]
        },
        {
         "hoverinfo": "text",
         "hovertext": "<b>DC 2</b><br>Demand: 0.00<br>Supply: 0.00<br>Capacity: 500<br>Type: DC<br>Variable Cost: 0.00<br>Fixed Cost: 25.0<br>X: 1.28<br>Y: 0.69<br>Inflow: 350<br>Outflow: 350<br>Total Variable Cost: 0.00<br>Total Cost: 25.0<br>Utilisation: 0.70<br>Selected: 1.00<br>Total Fixed Cost: 25.0<br>",
         "marker": {
          "color": "rgb(31, 119, 180)",
          "size": 0
         },
         "mode": "markers",
         "showlegend": false,
         "type": "scatter",
         "x": [
          1.2800117624431913
         ],
         "y": [
          0.6873172546879811
         ]
        },
        {
         "hoverinfo": "text",
         "hovertext": "<b>DC 3</b><br>Demand: 0.00<br>Supply: 0.00<br>Capacity: 500<br>Type: DC<br>Variable Cost: 0.00<br>Fixed Cost: 25.0<br>X: 0.97<br>Y: 0.55<br>Inflow: 382<br>Outflow: 382<br>Total Variable Cost: 0.00<br>Total Cost: 25.0<br>Utilisation: 0.76<br>Selected: 1.00<br>Total Fixed Cost: 25.0<br>",
         "marker": {
          "color": "rgb(31, 119, 180)",
          "size": 0
         },
         "mode": "markers",
         "showlegend": false,
         "type": "scatter",
         "x": [
          0.9656591573618822
         ],
         "y": [
          0.5469962772059983
         ]
        },
        {
         "hoverinfo": "text",
         "hovertext": "<b>Factory 1</b><br>Demand: 0.00<br>Supply: 700<br>Type: Factory<br>Variable Cost: 0.00<br>Fixed Cost: 100<br>X: 0.23<br>Y: 0.11<br>Inflow: 0<br>Outflow: 350<br>Total Variable Cost: 0.00<br>Total Cost: 100<br>Selected: 1.00<br>Total Fixed Cost: 100<br>",
         "marker": {
          "color": "rgb(255, 127, 14)",
          "size": 0
         },
         "mode": "markers",
         "showlegend": false,
         "type": "scatter",
         "x": [
          0.22675726618378045
         ],
         "y": [
          0.11224065970269159
         ]
        },
        {
         "hoverinfo": "text",
         "hovertext": "<b>Market 0</b><br>Demand: 19.0<br>Supply: 0.00<br>Type: Market<br>Variable Cost: 0.00<br>Fixed Cost: 0.00<br>X: 0.31<br>Y: 0.28<br>Inflow: 19.0<br>Outflow: 0<br>Total Variable Cost: 0.00<br>Total Cost: 0.00<br>",
         "marker": {
          "color": "rgb(44, 160, 44)",
          "size": 0
         },
         "mode": "markers",
         "showlegend": false,
         "type": "scatter",
         "x": [
          0.3080848014617559
         ],
         "y": [
          0.2846583714218154
         ]
        },
        {
         "hoverinfo": "text",
         "hovertext": "<b>Market 1</b><br>Demand: 23.0<br>Supply: 0.00<br>Type: Market<br>Variable Cost: 0.00<br>Fixed Cost: 0.00<br>X: 1.93<br>Y: 0.74<br>Inflow: 23.0<br>Outflow: 0<br>Total Variable Cost: 0.00<br>Total Cost: 0.00<br>",
         "marker": {
          "color": "rgb(44, 160, 44)",
          "size": 0
         },
         "mode": "markers",
         "showlegend": false,
         "type": "scatter",
         "x": [
          1.929658658603603
         ],
         "y": [
          0.7401737862578419
         ]
        },
        {
         "hoverinfo": "text",
         "hovertext": "<b>Market 2</b><br>Demand: 76.0<br>Supply: 0.00<br>Type: Market<br>Variable Cost: 0.00<br>Fixed Cost: 0.00<br>X: 0.49<br>Y: 0.18<br>Inflow: 76.0<br>Outflow: 0<br>Total Variable Cost: 0.00<br>Total Cost: 0.00<br>",
         "marker": {
          "color": "rgb(44, 160, 44)",
          "size": 0
         },
         "mode": "markers",
         "showlegend": false,
         "type": "scatter",
         "x": [
          0.4881486619280888
         ],
         "y": [
          0.1831183870804698
         ]
        },
        {
         "hoverinfo": "text",
         "hovertext": "<b>Market 3</b><br>Demand: 19.0<br>Supply: 0.00<br>Type: Market<br>Variable Cost: 0.00<br>Fixed Cost: 0.00<br>X: 1.06<br>Y: 0.87<br>Inflow: 19.0<br>Outflow: 0<br>Total Variable Cost: 0.00<br>Total Cost: 0.00<br>",
         "marker": {
          "color": "rgb(44, 160, 44)",
          "size": 0
         },
         "mode": "markers",
         "showlegend": false,
         "type": "scatter",
         "x": [
          1.058182242777294
         ],
         "y": [
          0.8677822648062925
         ]
        },
        {
         "hoverinfo": "text",
         "hovertext": "<b>Market 4</b><br>Demand: 100<br>Supply: 0.00<br>Type: Market<br>Variable Cost: 0.00<br>Fixed Cost: 0.00<br>X: 0.28<br>Y: 0.95<br>Inflow: 100<br>Outflow: 0<br>Total Variable Cost: 0.00<br>Total Cost: 0.00<br>",
         "marker": {
          "color": "rgb(44, 160, 44)",
          "size": 0
         },
         "mode": "markers",
         "showlegend": false,
         "type": "scatter",
         "x": [
          0.2844094155140011
         ],
         "y": [
          0.9494384872309688
         ]
        },
        {
         "hoverinfo": "text",
         "hovertext": "<b>Market 5</b><br>Demand: 89.0<br>Supply: 0.00<br>Type: Market<br>Variable Cost: 0.00<br>Fixed Cost: 0.00<br>X: 0.86<br>Y: 0.71<br>Inflow: 89.0<br>Outflow: 0<br>Total Variable Cost: 0.00<br>Total Cost: 0.00<br>",
         "marker": {
          "color": "rgb(44, 160, 44)",
          "size": 0
         },
         "mode": "markers",
         "showlegend": false,
         "type": "scatter",
         "x": [
          0.8573862316461627
         ],
         "y": [
          0.713704803601928
         ]
        },
        {
         "hoverinfo": "text",
         "hovertext": "<b>Market 6</b><br>Demand: 68.0<br>Supply: 0.00<br>Type: Market<br>Variable Cost: 0.00<br>Fixed Cost: 0.00<br>X: 0.66<br>Y: 0.25<br>Inflow: 68.0<br>Outflow: 0<br>Total Variable Cost: 0.00<br>Total Cost: 0.00<br>",
         "marker": {
          "color": "rgb(44, 160, 44)",
          "size": 0
         },
         "mode": "markers",
         "showlegend": false,
         "type": "scatter",
         "x": [
          0.6588527353013407
         ],
         "y": [
          0.247188478512803
         ]
        },
        {
         "hoverinfo": "text",
         "hovertext": "<b>Market 7</b><br>Demand: 83.0<br>Supply: 0.00<br>Type: Market<br>Variable Cost: 0.00<br>Fixed Cost: 0.00<br>X: 1.43<br>Y: 0.60<br>Inflow: 83.0<br>Outflow: 0<br>Total Variable Cost: 0.00<br>Total Cost: 0.00<br>",
         "marker": {
          "color": "rgb(44, 160, 44)",
          "size": 0
         },
         "mode": "markers",
         "showlegend": false,
         "type": "scatter",
         "x": [
          1.4299133908287536
         ],
         "y": [
          0.5990954852964624
         ]
        },
        {
         "hoverinfo": "text",
         "hovertext": "<b>Market 8</b><br>Demand: 30.0<br>Supply: 0.00<br>Type: Market<br>Variable Cost: 0.00<br>Fixed Cost: 0.00<br>X: 0.51<br>Y: 0.99<br>Inflow: 30.0<br>Outflow: 0<br>Total Variable Cost: 0.00<br>Total Cost: 0.00<br>",
         "marker": {
          "color": "rgb(44, 160, 44)",
          "size": 0
         },
         "mode": "markers",
         "showlegend": false,
         "type": "scatter",
         "x": [
          0.5063056623891766
         ],
         "y": [
          0.9897013262697113
         ]
        },
        {
         "hoverinfo": "text",
         "hovertext": "<b>Market 9</b><br>Demand: 48.0<br>Supply: 0.00<br>Type: Market<br>Variable Cost: 0.00<br>Fixed Cost: 0.00<br>X: 1.10<br>Y: 0.19<br>Inflow: 48.0<br>Outflow: 0<br>Total Variable Cost: 0.00<br>Total Cost: 0.00<br>",
         "marker": {
          "color": "rgb(44, 160, 44)",
          "size": 0
         },
         "mode": "markers",
         "showlegend": false,
         "type": "scatter",
         "x": [
          1.1005222627783116
         ],
         "y": [
          0.19189267961235834
         ]
        },
        {
         "hoverinfo": "text",
         "hovertext": "<b>Market 10</b><br>Demand: 87.0<br>Supply: 0.00<br>Type: Market<br>Variable Cost: 0.00<br>Fixed Cost: 0.00<br>X: 1.40<br>Y: 0.19<br>Inflow: 87.0<br>Outflow: 0<br>Total Variable Cost: 0.00<br>Total Cost: 0.00<br>",
         "marker": {
          "color": "rgb(44, 160, 44)",
          "size": 0
         },
         "mode": "markers",
         "showlegend": false,
         "type": "scatter",
         "x": [
          1.3959794244534292
         ],
         "y": [
          0.18508342559014013
         ]
        },
        {
         "hoverinfo": "text",
         "hovertext": "<b>Market 11</b><br>Demand: 97.0<br>Supply: 0.00<br>Type: Market<br>Variable Cost: 0.00<br>Fixed Cost: 0.00<br>X: 1.19<br>Y: 0.96<br>Inflow: 97.0<br>Outflow: 0<br>Total Variable Cost: 0.00<br>Total Cost: 0.00<br>",
         "marker": {
          "color": "rgb(44, 160, 44)",
          "size": 0
         },
         "mode": "markers",
         "showlegend": false,
         "type": "scatter",
         "x": [
          1.1902411871113316
         ],
         "y": [
          0.9605646626166691
         ]
        },
        {
         "hoverinfo": "text",
         "hovertext": "<b>Market 12</b><br>Demand: 52.0<br>Supply: 0.00<br>Type: Market<br>Variable Cost: 0.00<br>Fixed Cost: 0.00<br>X: 1.69<br>Y: 0.57<br>Inflow: 52.0<br>Outflow: 0<br>Total Variable Cost: 0.00<br>Total Cost: 0.00<br>",
         "marker": {
          "color": "rgb(44, 160, 44)",
          "size": 0
         },
         "mode": "markers",
         "showlegend": false,
         "type": "scatter",
         "x": [
          1.6922177782942203
         ],
         "y": [
          0.5726511081847925
         ]
        },
        {
         "hoverinfo": "text",
         "hovertext": "<b>Market 13</b><br>Demand: 93.0<br>Supply: 0.00<br>Type: Market<br>Variable Cost: 0.00<br>Fixed Cost: 0.00<br>X: 1.50<br>Y: 0.95<br>Inflow: 93.0<br>Outflow: 0<br>Total Variable Cost: 0.00<br>Total Cost: 0.00<br>",
         "marker": {
          "color": "rgb(44, 160, 44)",
          "size": 0
         },
         "mode": "markers",
         "showlegend": false,
         "type": "scatter",
         "x": [
          1.496292374207516
         ],
         "y": [
          0.9480789997475705
         ]
        },
        {
         "hoverinfo": "text",
         "hovertext": "<b>Market 14</b><br>Demand: 25.0<br>Supply: 0.00<br>Type: Market<br>Variable Cost: 0.00<br>Fixed Cost: 0.00<br>X: 1.87<br>Y: 0.65<br>Inflow: 25.0<br>Outflow: 0<br>Total Variable Cost: 0.00<br>Total Cost: 0.00<br>",
         "marker": {
          "color": "rgb(44, 160, 44)",
          "size": 0
         },
         "mode": "markers",
         "showlegend": false,
         "type": "scatter",
         "x": [
          1.8658920902612708
         ],
         "y": [
          0.6500813598637935
         ]
        },
        {
         "hoverinfo": "skip",
         "line": {
          "color": "gray",
          "dash": "dash",
          "width": 0.25
         },
         "marker": {
          "angleref": "previous",
          "color": "gray",
          "size": 5,
          "symbol": "arrow-bar-up"
         },
         "mode": "lines+markers",
         "showlegend": false,
         "type": "scatter",
         "x": [
          1.7745283989783696,
          1.5103355720947844
         ],
         "y": [
          0.2372632835747972,
          0.8539701435022596
         ]
        },
        {
         "hoverinfo": "text",
         "hovertext": "<b>Factory 0 -> DC 0</b><br>Capacity: 350<br>Variable Cost: 0.72<br>Fixed Cost: 0.00<br>Flow: 0.00<br>Utilisation: 0.00<br>Total Variable Cost: 0.00<br>Total Cost: 0.00<br>",
         "line": {
          "color": "gray",
          "dash": "dash",
          "width": 0
         },
         "mode": "lines",
         "showlegend": false,
         "type": "scatter",
         "x": [
          1.7745283989783696,
          1.7606235133529178,
          1.7467186277274658,
          1.732813742102014,
          1.7189088564765622,
          1.7050039708511102,
          1.6910990852256584,
          1.6771941996002067,
          1.6632893139747549,
          1.6493844283493029,
          1.635479542723851,
          1.621574657098399,
          1.6076697714729473,
          1.5937648858474955,
          1.5798600002220438,
          1.5659551145965918,
          1.55205022897114,
          1.5381453433456882,
          1.5242404577202362,
          1.5103355720947844
         ],
         "y": [
          0.2372632835747972,
          0.2697215393604531,
          0.30217979514610904,
          0.33463805093176496,
          0.3670963067174209,
          0.3995545625030768,
          0.4320128182887327,
          0.46447107407438865,
          0.49692932986004457,
          0.5293875856457004,
          0.5618458414313564,
          0.5943040972170124,
          0.6267623530026682,
          0.6592206087883241,
          0.6916788645739801,
          0.7241371203596361,
          0.7565953761452919,
          0.7890536319309478,
          0.8215118877166038,
          0.8539701435022596
         ]
        },
        {
         "hoverinfo": "skip",
         "line": {
          "color": "rgba(254.94117647058823, 253.1764705882353, 187.94117647058823, 1.0)",
          "dash": "solid",
          "width": 2.652142857142857
         },
         "marker": {
          "angleref": "previous",
          "color": "rgba(254.94117647058823, 253.1764705882353, 187.94117647058823, 1.0)",
          "size": 10.608571428571429,
          "symbol": "arrow-bar-up"
         },
         "mode": "lines+markers",
         "showlegend": false,
         "type": "scatter",
         "x": [
          1.807987464662848,
          1.9766598649141778
         ],
         "y": [
          0.23771443727569735,
          0.6627584627430717
         ]
        },
        {
         "hoverinfo": "text",
         "hovertext": "<b>Factory 0 -> DC 1</b><br>Capacity: 350<br>Variable Cost: 0.52<br>Fixed Cost: 0.00<br>Flow: 177<br>Utilisation: 0.51<br>Total Variable Cost: 91.7<br>Total Cost: 91.7<br>",
         "line": {
          "color": "rgba(254.94117647058823, 253.1764705882353, 187.94117647058823, 1.0)",
          "dash": "solid",
          "width": 0
         },
         "mode": "lines",
         "showlegend": false,
         "type": "scatter",
         "x": [
          1.807987464662848,
          1.816864959412918,
          1.8257424541629879,
          1.834619948913058,
          1.843497443663128,
          1.852374938413198,
          1.8612524331632678,
          1.8701299279133379,
          1.879007422663408,
          1.887884917413478,
          1.8967624121635478,
          1.9056399069136178,
          1.914517401663688,
          1.923394896413758,
          1.9322723911638278,
          1.9411498859138978,
          1.9500273806639679,
          1.9589048754140377,
          1.9677823701641077,
          1.9766598649141778
         ],
         "y": [
          0.23771443727569735,
          0.26008517545819076,
          0.2824559136406841,
          0.30482665182317753,
          0.3271973900056709,
          0.3495681281881643,
          0.37193886637065765,
          0.39430960455315106,
          0.41668034273564447,
          0.4390510809181378,
          0.4614218191006312,
          0.4837925572831246,
          0.506163295465618,
          0.5285340336481114,
          0.5509047718306048,
          0.5732755100130982,
          0.5956462481955915,
          0.6180169863780849,
          0.6403877245605782,
          0.6627584627430717
         ]
        },
        {
         "hoverinfo": "skip",
         "line": {
          "color": "rgba(165.0, 0.0, 38.0, 1.0)",
          "dash": "solid",
          "width": 5
         },
         "marker": {
          "angleref": "previous",
          "color": "rgba(165.0, 0.0, 38.0, 1.0)",
          "size": 20,
          "symbol": "arrow-bar-up"
         },
         "mode": "lines+markers",
         "showlegend": false,
         "type": "scatter",
         "x": [
          1.7601262777226931,
          1.301030627153134
         ],
         "y": [
          0.22728820784969317,
          0.6671777088287837
         ]
        },
        {
         "hoverinfo": "text",
         "hovertext": "<b>Factory 0 -> DC 2</b><br>Capacity: 350<br>Variable Cost: 0.71<br>Fixed Cost: 0.00<br>Flow: 350<br>Utilisation: 1.00<br>Total Variable Cost: 248<br>Total Cost: 248<br>",
         "line": {
          "color": "rgba(165.0, 0.0, 38.0, 1.0)",
          "dash": "solid",
          "width": 0
         },
         "mode": "lines",
         "showlegend": false,
         "type": "scatter",
         "x": [
          1.7601262777226931,
          1.7359633487453479,
          1.7118004197680028,
          1.6876374907906575,
          1.6634745618133122,
          1.6393116328359671,
          1.6151487038586219,
          1.5909857748812766,
          1.5668228459039315,
          1.5426599169265862,
          1.518496987949241,
          1.4943340589718956,
          1.4701711299945506,
          1.4460082010172053,
          1.4218452720398602,
          1.397682343062515,
          1.3735194140851696,
          1.3493564851078244,
          1.325193556130479,
          1.301030627153134
         ],
         "y": [
          0.22728820784969317,
          0.25044028684859265,
          0.2735923658474922,
          0.2967444448463917,
          0.31989652384529116,
          0.3430486028441907,
          0.3662006818430902,
          0.38935276084198966,
          0.41250483984088915,
          0.4356569188397887,
          0.45880899783868817,
          0.48196107683758765,
          0.5051131558364872,
          0.5282652348353867,
          0.5514173138342862,
          0.5745693928331856,
          0.5977214718320851,
          0.6208735508309846,
          0.6440256298298842,
          0.6671777088287837
         ]
        },
        {
         "hoverinfo": "skip",
         "line": {
          "color": "rgba(23.45098039215687, 147.2941176470588, 77.54901960784315, 1.0)",
          "dash": "solid",
          "width": 0.6842857142857143
         },
         "marker": {
          "angleref": "previous",
          "color": "rgba(23.45098039215687, 147.2941176470588, 77.54901960784315, 1.0)",
          "size": 5,
          "symbol": "arrow-bar-up"
         },
         "mode": "lines+markers",
         "showlegend": false,
         "type": "scatter",
         "x": [
          1.7514085718668684,
          0.9945435087132628
         ],
         "y": [
          0.21405200092004767,
          0.5347571596461932
         ]
        },
        {
         "hoverinfo": "text",
         "hovertext": "<b>Factory 0 -> DC 3</b><br>Capacity: 350<br>Variable Cost: 0.90<br>Fixed Cost: 0.00<br>Flow: 32.0<br>Utilisation: 0.09<br>Total Variable Cost: 28.7<br>Total Cost: 28.7<br>",
         "line": {
          "color": "rgba(23.45098039215687, 147.2941176470588, 77.54901960784315, 1.0)",
          "dash": "solid",
          "width": 0
         },
         "mode": "lines",
         "showlegend": false,
         "type": "scatter",
         "x": [
          1.7514085718668684,
          1.7115735685429945,
          1.6717385652191203,
          1.6319035618952464,
          1.5920685585713725,
          1.5522335552474984,
          1.5123985519236245,
          1.4725635485997506,
          1.4327285452758765,
          1.3928935419520025,
          1.3530585386281286,
          1.3132235353042545,
          1.2733885319803806,
          1.2335535286565067,
          1.1937185253326326,
          1.1538835220087589,
          1.1140485186848847,
          1.0742135153610106,
          1.034378512037137,
          0.9945435087132628
         ],
         "y": [
          0.21405200092004767,
          0.23093121980037112,
          0.24781043868069458,
          0.26468965756101803,
          0.28156887644134143,
          0.29844809532166494,
          0.31532731420198834,
          0.3322065330823118,
          0.34908575196263525,
          0.3659649708429587,
          0.38284418972328216,
          0.39972340860360556,
          0.41660262748392907,
          0.43348184636425247,
          0.4503610652445759,
          0.4672402841248994,
          0.48411950300522283,
          0.5009987218855463,
          0.5178779407658698,
          0.5347571596461932
         ]
        },
        {
         "hoverinfo": "skip",
         "line": {
          "color": "gray",
          "dash": "dash",
          "width": 0.25
         },
         "marker": {
          "angleref": "previous",
          "color": "gray",
          "size": 5,
          "symbol": "arrow-bar-up"
         },
         "mode": "lines+markers",
         "showlegend": false,
         "type": "scatter",
         "x": [
          1.5046489503420095,
          0.3132548555832623
         ],
         "y": [
          0.8561122434615809,
          0.287127480536571
         ]
        },
        {
         "hoverinfo": "text",
         "hovertext": "<b>DC 0 -> Market 0</b><br>Capacity: 100<br>Variable Cost: 1.33<br>Fixed Cost: 0.00<br>Flow: 0.00<br>Utilisation: 0.00<br>Total Variable Cost: 0.00<br>Total Cost: 0.00<br>",
         "line": {
          "color": "gray",
          "dash": "dash",
          "width": 0
         },
         "mode": "lines",
         "showlegend": false,
         "type": "scatter",
         "x": [
          1.5046489503420095,
          1.441943997986286,
          1.3792390456305625,
          1.3165340932748388,
          1.2538291409191153,
          1.1911241885633919,
          1.1284192362076684,
          1.0657142838519449,
          1.0030093314962212,
          0.9403043791404978,
          0.8775994267847742,
          0.8148944744290507,
          0.7521895220733272,
          0.6894845697176036,
          0.6267796173618801,
          0.5640746650061566,
          0.5013697126504331,
          0.4386647602947096,
          0.3759598079389861,
          0.3132548555832623
         ],
         "y": [
          0.8561122434615809,
          0.8261656769918435,
          0.7962191105221061,
          0.7662725440523688,
          0.7363259775826314,
          0.706379411112894,
          0.6764328446431567,
          0.6464862781734193,
          0.6165397117036819,
          0.5865931452339446,
          0.5566465787642072,
          0.5267000122944698,
          0.4967534458247326,
          0.4668068793549952,
          0.43686031288525784,
          0.40691374641552047,
          0.3769671799457831,
          0.34702061347604574,
          0.31707404700630837,
          0.287127480536571
         ]
        },
        {
         "hoverinfo": "skip",
         "line": {
          "color": "gray",
          "dash": "dash",
          "width": 0.25
         },
         "marker": {
          "angleref": "previous",
          "color": "gray",
          "size": 5,
          "symbol": "arrow-bar-up"
         },
         "mode": "lines+markers",
         "showlegend": false,
         "type": "scatter",
         "x": [
          1.5128329215917486,
          1.9238691448218384
         ],
         "y": [
          0.8568206289302915,
          0.7417939561352894
         ]
        },
        {
         "hoverinfo": "text",
         "hovertext": "<b>DC 0 -> Market 1</b><br>Capacity: 100<br>Variable Cost: 0.44<br>Fixed Cost: 0.00<br>Flow: 0.00<br>Utilisation: 0.00<br>Total Variable Cost: 0.00<br>Total Cost: 0.00<br>",
         "line": {
          "color": "gray",
          "dash": "dash",
          "width": 0
         },
         "mode": "lines",
         "showlegend": false,
         "type": "scatter",
         "x": [
          1.5128329215917486,
          1.5344664070249112,
          1.5560998924580738,
          1.5777333778912366,
          1.5993668633243991,
          1.6210003487575617,
          1.6426338341907243,
          1.6642673196238869,
          1.6859008050570496,
          1.7075342904902122,
          1.7291677759233748,
          1.7508012613565374,
          1.7724347467897,
          1.7940682322228627,
          1.8157017176560253,
          1.8373352030891879,
          1.8589686885223504,
          1.8806021739555132,
          1.9022356593886758,
          1.9238691448218384
         ],
         "y": [
          0.8568206289302915,
          0.8507665935200283,
          0.844712558109765,
          0.8386585226995017,
          0.8326044872892384,
          0.8265504518789752,
          0.820496416468712,
          0.8144423810584487,
          0.8083883456481854,
          0.8023343102379221,
          0.7962802748276588,
          0.7902262394173956,
          0.7841722040071323,
          0.778118168596869,
          0.7720641331866057,
          0.7660100977763424,
          0.7599560623660793,
          0.753902026955816,
          0.7478479915455527,
          0.7417939561352894
         ]
        },
        {
         "hoverinfo": "skip",
         "line": {
          "color": "gray",
          "dash": "dash",
          "width": 0.25
         },
         "marker": {
          "angleref": "previous",
          "color": "gray",
          "size": 5,
          "symbol": "arrow-bar-up"
         },
         "mode": "lines+markers",
         "showlegend": false,
         "type": "scatter",
         "x": [
          1.5049485315198068,
          0.4962857656865218
         ],
         "y": [
          0.8555828106303225,
          0.18849989129966008
         ]
        },
        {
         "hoverinfo": "text",
         "hovertext": "<b>DC 0 -> Market 2</b><br>Capacity: 100<br>Variable Cost: 1.22<br>Fixed Cost: 0.00<br>Flow: 0.00<br>Utilisation: 0.00<br>Total Variable Cost: 0.00<br>Total Cost: 0.00<br>",
         "line": {
          "color": "gray",
          "dash": "dash",
          "width": 0
         },
         "mode": "lines",
         "showlegend": false,
         "type": "scatter",
         "x": [
          1.5049485315198068,
          1.4518610175285813,
          1.3987735035373556,
          1.3456859895461302,
          1.2925984755549047,
          1.2395109615636792,
          1.1864234475724538,
          1.133335933581228,
          1.0802484195900026,
          1.0271609055987772,
          0.9740733916075516,
          0.920985877616326,
          0.8678983636251005,
          0.8148108496338751,
          0.7617233356426495,
          0.7086358216514239,
          0.6555483076601984,
          0.602460793668973,
          0.5493732796777474,
          0.4962857656865218
         ],
         "y": [
          0.8555828106303225,
          0.8204731832971297,
          0.7853635559639369,
          0.7502539286307441,
          0.7151443012975515,
          0.6800346739643587,
          0.6449250466311659,
          0.6098154192979731,
          0.5747057919647804,
          0.5395961646315877,
          0.5044865372983949,
          0.4693769099652021,
          0.4342672826320093,
          0.3991576552988166,
          0.3640480279656238,
          0.32893840063243107,
          0.2938287732992383,
          0.2587191459660455,
          0.22360951863285272,
          0.18849989129966008
         ]
        },
        {
         "hoverinfo": "skip",
         "line": {
          "color": "gray",
          "dash": "dash",
          "width": 0.25
         },
         "marker": {
          "angleref": "previous",
          "color": "gray",
          "size": 5,
          "symbol": "arrow-bar-up"
         },
         "mode": "lines+markers",
         "showlegend": false,
         "type": "scatter",
         "x": [
          1.5042216673303268,
          1.0639102872360606
         ],
         "y": [
          0.8580982034997544,
          0.8676579019570648
         ]
        },
        {
         "hoverinfo": "text",
         "hovertext": "<b>DC 0 -> Market 3</b><br>Capacity: 100<br>Variable Cost: 0.45<br>Fixed Cost: 0.00<br>Flow: 0.00<br>Utilisation: 0.00<br>Total Variable Cost: 0.00<br>Total Cost: 0.00<br>",
         "line": {
          "color": "gray",
          "dash": "dash",
          "width": 0
         },
         "mode": "lines",
         "showlegend": false,
         "type": "scatter",
         "x": [
          1.5042216673303268,
          1.4810473841674707,
          1.4578731010046146,
          1.4346988178417583,
          1.4115245346789023,
          1.3883502515160462,
          1.36517596835319,
          1.342001685190334,
          1.318827402027478,
          1.2956531188646219,
          1.2724788357017656,
          1.2493045525389095,
          1.2261302693760534,
          1.2029559862131973,
          1.1797817030503412,
          1.1566074198874852,
          1.133433136724629,
          1.1102588535617728,
          1.0870845703989167,
          1.0639102872360606
         ],
         "y": [
          0.8580982034997544,
          0.8586013455238234,
          0.8591044875478924,
          0.8596076295719614,
          0.8601107715960303,
          0.8606139136200992,
          0.8611170556441682,
          0.8616201976682372,
          0.8621233396923061,
          0.8626264817163751,
          0.8631296237404441,
          0.8636327657645131,
          0.8641359077885821,
          0.864639049812651,
          0.86514219183672,
          0.8656453338607889,
          0.8661484758848579,
          0.8666516179089269,
          0.8671547599329958,
          0.8676579019570648
         ]
        },
        {
         "hoverinfo": "skip",
         "line": {
          "color": "gray",
          "dash": "dash",
          "width": 0.25
         },
         "marker": {
          "angleref": "previous",
          "color": "gray",
          "size": 5,
          "symbol": "arrow-bar-up"
         },
         "mode": "lines+markers",
         "showlegend": false,
         "type": "scatter",
         "x": [
          1.5042328202246735,
          0.29582854854152935
         ],
         "y": [
          0.8583297501488035,
          0.9485855909964044
         ]
        },
        {
         "hoverinfo": "text",
         "hovertext": "<b>DC 0 -> Market 4</b><br>Capacity: 100<br>Variable Cost: 1.23<br>Fixed Cost: 0.00<br>Flow: 0.00<br>Utilisation: 0.00<br>Total Variable Cost: 0.00<br>Total Cost: 0.00<br>",
         "line": {
          "color": "gray",
          "dash": "dash",
          "width": 0
         },
         "mode": "lines",
         "showlegend": false,
         "type": "scatter",
         "x": [
          1.5042328202246735,
          1.440632595399245,
          1.3770323705738163,
          1.3134321457483877,
          1.249831920922959,
          1.1862316960975303,
          1.1226314712721017,
          1.0590312464466731,
          0.9954310216212444,
          0.9318307967958158,
          0.8682305719703871,
          0.8046303471449585,
          0.7410301223195299,
          0.6774298974941012,
          0.6138296726686726,
          0.5502294478432439,
          0.4866292230178153,
          0.4230289981923867,
          0.3594287733669581,
          0.29582854854152935
         ],
         "y": [
          0.8583297501488035,
          0.8630800575618351,
          0.8678303649748668,
          0.8725806723878984,
          0.87733097980093,
          0.8820812872139616,
          0.8868315946269932,
          0.8915819020400249,
          0.8963322094530565,
          0.9010825168660881,
          0.9058328242791198,
          0.9105831316921514,
          0.915333439105183,
          0.9200837465182147,
          0.9248340539312463,
          0.9295843613442779,
          0.9343346687573095,
          0.9390849761703411,
          0.9438352835833728,
          0.9485855909964044
         ]
        },
        {
         "hoverinfo": "skip",
         "line": {
          "color": "gray",
          "dash": "dash",
          "width": 0.25
         },
         "marker": {
          "angleref": "previous",
          "color": "gray",
          "size": 5,
          "symbol": "arrow-bar-up"
         },
         "mode": "lines+markers",
         "showlegend": false,
         "type": "scatter",
         "x": [
          1.5043245271504728,
          0.8678074076451133
         ],
         "y": [
          0.8570538512231789,
          0.7160139351913302
         ]
        },
        {
         "hoverinfo": "text",
         "hovertext": "<b>DC 0 -> Market 5</b><br>Capacity: 100<br>Variable Cost: 0.67<br>Fixed Cost: 0.00<br>Flow: 0.00<br>Utilisation: 0.00<br>Total Variable Cost: 0.00<br>Total Cost: 0.00<br>",
         "line": {
          "color": "gray",
          "dash": "dash",
          "width": 0
         },
         "mode": "lines",
         "showlegend": false,
         "type": "scatter",
         "x": [
          1.5043245271504728,
          1.470823626123875,
          1.437322725097277,
          1.4038218240706792,
          1.3703209230440814,
          1.3368200220174835,
          1.3033191209908856,
          1.2698182199642878,
          1.23631731893769,
          1.202816417911092,
          1.1693155168844942,
          1.1358146158578963,
          1.1023137148312983,
          1.0688128138047004,
          1.0353119127781025,
          1.0018110117515047,
          0.9683101107249069,
          0.934809209698309,
          0.9013083086717112,
          0.8678074076451133
         ],
         "y": [
          0.8570538512231789,
          0.8496306977478184,
          0.842207544272458,
          0.8347843907970975,
          0.827361237321737,
          0.8199380838463766,
          0.8125149303710162,
          0.8050917768956557,
          0.7976686234202952,
          0.7902454699449347,
          0.7828223164695743,
          0.7753991629942139,
          0.7679760095188534,
          0.7605528560434929,
          0.7531297025681325,
          0.745706549092772,
          0.7382833956174115,
          0.7308602421420511,
          0.7234370886666907,
          0.7160139351913302
         ]
        },
        {
         "hoverinfo": "skip",
         "line": {
          "color": "gray",
          "dash": "dash",
          "width": 0.25
         },
         "marker": {
          "angleref": "previous",
          "color": "gray",
          "size": 5,
          "symbol": "arrow-bar-up"
         },
         "mode": "lines+markers",
         "showlegend": false,
         "type": "scatter",
         "x": [
          1.505045484437175,
          0.6663154042472875
         ],
         "y": [
          0.8554422374965353,
          0.2525527367660898
         ]
        },
        {
         "hoverinfo": "text",
         "hovertext": "<b>DC 0 -> Market 6</b><br>Capacity: 100<br>Variable Cost: 1.05<br>Fixed Cost: 0.00<br>Flow: 0.00<br>Utilisation: 0.00<br>Total Variable Cost: 0.00<br>Total Cost: 0.00<br>",
         "line": {
          "color": "gray",
          "dash": "dash",
          "width": 0
         },
         "mode": "lines",
         "showlegend": false,
         "type": "scatter",
         "x": [
          1.505045484437175,
          1.4609017960061284,
          1.4167581075750815,
          1.3726144191440348,
          1.3284707307129882,
          1.2843270422819415,
          1.2401833538508948,
          1.196039665419848,
          1.1518959769888013,
          1.1077522885577546,
          1.0636086001267078,
          1.0194649116956611,
          0.9753212232646145,
          0.9311775348335678,
          0.887033846402521,
          0.8428901579714743,
          0.7987464695404276,
          0.754602781109381,
          0.7104590926783342,
          0.6663154042472875
         ],
         "y": [
          0.8554422374965353,
          0.8237112111423013,
          0.7919801847880673,
          0.7602491584338333,
          0.7285181320795994,
          0.6967871057253654,
          0.6650560793711314,
          0.6333250530168975,
          0.6015940266626635,
          0.5698630003084295,
          0.5381319739541955,
          0.5064009475999616,
          0.4746699212457276,
          0.44293889489149363,
          0.41120786853725966,
          0.3794768421830257,
          0.3477458158287917,
          0.31601478947455774,
          0.2842837631203238,
          0.2525527367660898
         ]
        },
        {
         "hoverinfo": "skip",
         "line": {
          "color": "gray",
          "dash": "dash",
          "width": 0.25
         },
         "marker": {
          "angleref": "previous",
          "color": "gray",
          "size": 5,
          "symbol": "arrow-bar-up"
         },
         "mode": "lines+markers",
         "showlegend": false,
         "type": "scatter",
         "x": [
          1.5073320568331043,
          1.4328942485863498
         ],
         "y": [
          0.8538052871032769,
          0.6089025993664595
         ]
        },
        {
         "hoverinfo": "text",
         "hovertext": "<b>DC 0 -> Market 7</b><br>Capacity: 100<br>Variable Cost: 0.27<br>Fixed Cost: 0.00<br>Flow: 0.00<br>Utilisation: 0.00<br>Total Variable Cost: 0.00<br>Total Cost: 0.00<br>",
         "line": {
          "color": "gray",
          "dash": "dash",
          "width": 0
         },
         "mode": "lines",
         "showlegend": false,
         "type": "scatter",
         "x": [
          1.5073320568331043,
          1.5034142774516963,
          1.499496498070288,
          1.49557871868888,
          1.4916609393074718,
          1.4877431599260638,
          1.4838253805446555,
          1.4799076011632475,
          1.4759898217818392,
          1.4720720424004312,
          1.468154263019023,
          1.464236483637615,
          1.4603187042562067,
          1.4564009248747987,
          1.4524831454933904,
          1.4485653661119824,
          1.4446475867305741,
          1.4407298073491661,
          1.436812027967758,
          1.4328942485863498
         ],
         "y": [
          0.8538052871032769,
          0.8409156719592339,
          0.8280260568151908,
          0.8151364416711478,
          0.8022468265271048,
          0.7893572113830618,
          0.7764675962390187,
          0.7635779810949758,
          0.7506883659509327,
          0.7377987508068897,
          0.7249091356628466,
          0.7120195205188037,
          0.6991299053747606,
          0.6862402902307176,
          0.6733506750866747,
          0.6604610599426316,
          0.6475714447985885,
          0.6346818296545456,
          0.6217922145105026,
          0.6089025993664595
         ]
        },
        {
         "hoverinfo": "skip",
         "line": {
          "color": "gray",
          "dash": "dash",
          "width": 0.25
         },
         "marker": {
          "angleref": "previous",
          "color": "gray",
          "size": 5,
          "symbol": "arrow-bar-up"
         },
         "mode": "lines+markers",
         "showlegend": false,
         "type": "scatter",
         "x": [
          1.5042580233099303,
          0.5127566077233223
         ],
         "y": [
          0.8585745328047201,
          0.9888536988582144
         ]
        },
        {
         "hoverinfo": "text",
         "hovertext": "<b>DC 0 -> Market 8</b><br>Capacity: 100<br>Variable Cost: 1.01<br>Fixed Cost: 0.00<br>Flow: 0.00<br>Utilisation: 0.00<br>Total Variable Cost: 0.00<br>Total Cost: 0.00<br>",
         "line": {
          "color": "gray",
          "dash": "dash",
          "width": 0
         },
         "mode": "lines",
         "showlegend": false,
         "type": "scatter",
         "x": [
          1.5042580233099303,
          1.4520737382790563,
          1.399889453248182,
          1.347705168217308,
          1.295520883186434,
          1.2433365981555597,
          1.1911523131246857,
          1.1389680280938115,
          1.0867837430629375,
          1.0345994580320634,
          0.9824151730011892,
          0.9302308879703152,
          0.878046602939441,
          0.8258623179085669,
          0.7736780328776929,
          0.7214937478468187,
          0.6693094628159446,
          0.6171251777850705,
          0.5649408927541963,
          0.5127566077233223
         ],
         "y": [
          0.8585745328047201,
          0.8654313310180619,
          0.8722881292314036,
          0.8791449274447455,
          0.8860017256580873,
          0.892858523871429,
          0.8997153220847709,
          0.9065721202981127,
          0.9134289185114546,
          0.9202857167247963,
          0.9271425149381382,
          0.9339993131514799,
          0.9408561113648217,
          0.9477129095781636,
          0.9545697077915054,
          0.9614265060048471,
          0.968283304218189,
          0.9751401024315308,
          0.9819969006448726,
          0.9888536988582144
         ]
        },
        {
         "hoverinfo": "skip",
         "line": {
          "color": "gray",
          "dash": "dash",
          "width": 0.25
         },
         "marker": {
          "angleref": "previous",
          "color": "gray",
          "size": 5,
          "symbol": "arrow-bar-up"
         },
         "mode": "lines+markers",
         "showlegend": false,
         "type": "scatter",
         "x": [
          1.5063160151662978,
          1.1045854014697176
         ],
         "y": [
          0.8542619128957764,
          0.1985248617095771
         ]
        },
        {
         "hoverinfo": "text",
         "hovertext": "<b>DC 0 -> Market 9</b><br>Capacity: 100<br>Variable Cost: 0.78<br>Fixed Cost: 0.00<br>Flow: 0.00<br>Utilisation: 0.00<br>Total Variable Cost: 0.00<br>Total Cost: 0.00<br>",
         "line": {
          "color": "gray",
          "dash": "dash",
          "width": 0
         },
         "mode": "lines",
         "showlegend": false,
         "type": "scatter",
         "x": [
          1.5063160151662978,
          1.4851722986559515,
          1.4640285821456052,
          1.4428848656352589,
          1.4217411491249126,
          1.400597432614566,
          1.3794537161042197,
          1.3583099995938734,
          1.3371662830835271,
          1.3160225665731808,
          1.2948788500628345,
          1.2737351335524882,
          1.252591417042142,
          1.2314477005317954,
          1.2103039840214493,
          1.1891602675111028,
          1.1680165510007565,
          1.1468728344904102,
          1.125729117980064,
          1.1045854014697176
         ],
         "y": [
          0.8542619128957764,
          0.8197494365175554,
          0.7852369601393343,
          0.7507244837611133,
          0.7162120073828923,
          0.6816995310046713,
          0.6471870546264502,
          0.6126745782482292,
          0.5781621018700083,
          0.5436496254917872,
          0.5091371491135661,
          0.47462467273534514,
          0.4401121963571242,
          0.40559971997890315,
          0.3710872436006821,
          0.33657476722246105,
          0.3020622908442401,
          0.2675498144660191,
          0.23303733808779803,
          0.1985248617095771
         ]
        },
        {
         "hoverinfo": "skip",
         "line": {
          "color": "gray",
          "dash": "dash",
          "width": 0.25
         },
         "marker": {
          "angleref": "previous",
          "color": "gray",
          "size": 5,
          "symbol": "arrow-bar-up"
         },
         "mode": "lines+markers",
         "showlegend": false,
         "type": "scatter",
         "x": [
          1.5078836954750128,
          1.3977181223331203
         ],
         "y": [
          0.8536758594709837,
          0.19547159251669086
         ]
        },
        {
         "hoverinfo": "text",
         "hovertext": "<b>DC 0 -> Market 10</b><br>Capacity: 100<br>Variable Cost: 0.68<br>Fixed Cost: 0.00<br>Flow: 0.00<br>Utilisation: 0.00<br>Total Variable Cost: 0.00<br>Total Cost: 0.00<br>",
         "line": {
          "color": "gray",
          "dash": "dash",
          "width": 0
         },
         "mode": "lines",
         "showlegend": false,
         "type": "scatter",
         "x": [
          1.5078836954750128,
          1.502085507414913,
          1.4962873193548136,
          1.490489131294714,
          1.4846909432346143,
          1.4788927551745148,
          1.473094567114415,
          1.4672963790543156,
          1.461498190994216,
          1.4557000029341163,
          1.4499018148740168,
          1.4441036268139171,
          1.4383054387538174,
          1.432507250693718,
          1.4267090626336183,
          1.4209108745735186,
          1.4151126865134191,
          1.4093144984533195,
          1.40351631039322,
          1.3977181223331203
         ],
         "y": [
          0.8536758594709837,
          0.8190335296312841,
          0.7843911997915844,
          0.7497488699518848,
          0.7151065401121852,
          0.6804642102724856,
          0.645821880432786,
          0.6111795505930864,
          0.5765372207533868,
          0.5418948909136871,
          0.5072525610739875,
          0.47261023123428786,
          0.4379679013945882,
          0.4033255715548886,
          0.36868324171518896,
          0.33404091187548934,
          0.29939858203578973,
          0.2647562521960901,
          0.2301139223563905,
          0.19547159251669086
         ]
        },
        {
         "hoverinfo": "skip",
         "line": {
          "color": "gray",
          "dash": "dash",
          "width": 0.25
         },
         "marker": {
          "angleref": "previous",
          "color": "gray",
          "size": 5,
          "symbol": "arrow-bar-up"
         },
         "mode": "lines+markers",
         "showlegend": false,
         "type": "scatter",
         "x": [
          1.5044319768743453,
          1.2009388166057178
         ],
         "y": [
          0.859348255700212,
          0.957118426586765
         ]
        },
        {
         "hoverinfo": "text",
         "hovertext": "<b>DC 0 -> Market 11</b><br>Capacity: 100<br>Variable Cost: 0.33<br>Fixed Cost: 0.00<br>Flow: 0.00<br>Utilisation: 0.00<br>Total Variable Cost: 0.00<br>Total Cost: 0.00<br>",
         "line": {
          "color": "gray",
          "dash": "dash",
          "width": 0
         },
         "mode": "lines",
         "showlegend": false,
         "type": "scatter",
         "x": [
          1.5044319768743453,
          1.4884586526496806,
          1.4724853284250161,
          1.4565120042003514,
          1.440538679975687,
          1.4245653557510223,
          1.4085920315263576,
          1.3926187073016931,
          1.3766453830770284,
          1.3606720588523638,
          1.3446987346276993,
          1.3287254104030346,
          1.31275208617837,
          1.2967787619537054,
          1.2808054377290408,
          1.2648321135043763,
          1.2488587892797116,
          1.232885465055047,
          1.2169121408303825,
          1.2009388166057178
         ],
         "y": [
          0.859348255700212,
          0.8644940541679254,
          0.8696398526356386,
          0.8747856511033519,
          0.8799314495710653,
          0.8850772480387786,
          0.8902230465064919,
          0.8953688449742052,
          0.9005146434419186,
          0.9056604419096319,
          0.9108062403773451,
          0.9159520388450585,
          0.9210978373127718,
          0.9262436357804851,
          0.9313894342481984,
          0.9365352327159118,
          0.9416810311836251,
          0.9468268296513385,
          0.9519726281190517,
          0.957118426586765
         ]
        },
        {
         "hoverinfo": "skip",
         "line": {
          "color": "gray",
          "dash": "dash",
          "width": 0.25
         },
         "marker": {
          "angleref": "previous",
          "color": "gray",
          "size": 5,
          "symbol": "arrow-bar-up"
         },
         "mode": "lines+markers",
         "showlegend": false,
         "type": "scatter",
         "x": [
          1.5109819537806253,
          1.687856212564844
         ],
         "y": [
          0.8543134634718424,
          0.5794295079817003
         ]
        },
        {
         "hoverinfo": "text",
         "hovertext": "<b>DC 0 -> Market 12</b><br>Capacity: 100<br>Variable Cost: 0.34<br>Fixed Cost: 0.00<br>Flow: 0.00<br>Utilisation: 0.00<br>Total Variable Cost: 0.00<br>Total Cost: 0.00<br>",
         "line": {
          "color": "gray",
          "dash": "dash",
          "width": 0
         },
         "mode": "lines",
         "showlegend": false,
         "type": "scatter",
         "x": [
          1.5109819537806253,
          1.5202911252955842,
          1.529600296810543,
          1.538909468325502,
          1.5482186398404607,
          1.5575278113554196,
          1.5668369828703785,
          1.5761461543853375,
          1.5854553259002964,
          1.5947644974152553,
          1.604073668930214,
          1.6133828404451729,
          1.6226920119601318,
          1.6320011834750907,
          1.6413103549900496,
          1.6506195265050085,
          1.6599286980199675,
          1.6692378695349261,
          1.678547041049885,
          1.687856212564844
         ],
         "y": [
          0.8543134634718424,
          0.8398458868670982,
          0.8253783102623538,
          0.8109107336576095,
          0.7964431570528652,
          0.7819755804481209,
          0.7675080038433765,
          0.7530404272386322,
          0.7385728506338879,
          0.7241052740291436,
          0.7096376974243992,
          0.6951701208196549,
          0.6807025442149106,
          0.6662349676101662,
          0.6517673910054219,
          0.6372998144006776,
          0.6228322377959333,
          0.608364661191189,
          0.5938970845864446,
          0.5794295079817003
         ]
        },
        {
         "hoverinfo": "skip",
         "line": {
          "color": "gray",
          "dash": "dash",
          "width": 0.25
         },
         "marker": {
          "angleref": "previous",
          "color": "gray",
          "size": 5,
          "symbol": "arrow-bar-up"
         },
         "mode": "lines+markers",
         "showlegend": false,
         "type": "scatter",
         "x": [
          1.508013616181361,
          1.497776581453599
         ],
         "y": [
          0.8623498346893185,
          0.9372235077899758
         ]
        },
        {
         "hoverinfo": "text",
         "hovertext": "<b>DC 0 -> Market 13</b><br>Capacity: 100<br>Variable Cost: 0.09<br>Fixed Cost: 0.00<br>Flow: 0.00<br>Utilisation: 0.00<br>Total Variable Cost: 0.00<br>Total Cost: 0.00<br>",
         "line": {
          "color": "gray",
          "dash": "dash",
          "width": 0
         },
         "mode": "lines",
         "showlegend": false,
         "type": "scatter",
         "x": [
          1.508013616181361,
          1.5074748248799,
          1.5069360335784387,
          1.5063972422769776,
          1.5058584509755164,
          1.5053196596740552,
          1.504780868372594,
          1.5042420770711329,
          1.5037032857696717,
          1.5031644944682105,
          1.5026257031667496,
          1.5020869118652884,
          1.5015481205638272,
          1.501009329262366,
          1.500470537960905,
          1.4999317466594437,
          1.4993929553579826,
          1.4988541640565214,
          1.4983153727550602,
          1.497776581453599
         ],
         "y": [
          0.8623498346893185,
          0.8662905543261952,
          0.8702312739630719,
          0.8741719935999486,
          0.8781127132368253,
          0.882053432873702,
          0.8859941525105787,
          0.8899348721474554,
          0.8938755917843321,
          0.8978163114212088,
          0.9017570310580855,
          0.9056977506949622,
          0.9096384703318389,
          0.9135791899687156,
          0.9175199096055923,
          0.921460629242469,
          0.9254013488793457,
          0.9293420685162224,
          0.9332827881530991,
          0.9372235077899758
         ]
        },
        {
         "hoverinfo": "skip",
         "line": {
          "color": "gray",
          "dash": "dash",
          "width": 0.25
         },
         "marker": {
          "angleref": "previous",
          "color": "gray",
          "size": 5,
          "symbol": "arrow-bar-up"
         },
         "mode": "lines+markers",
         "showlegend": false,
         "type": "scatter",
         "x": [
          1.5123998775861398,
          1.8605738766183033
         ],
         "y": [
          0.8557962513382831,
          0.6531762957723438
         ]
        },
        {
         "hoverinfo": "text",
         "hovertext": "<b>DC 0 -> Market 14</b><br>Capacity: 100<br>Variable Cost: 0.41<br>Fixed Cost: 0.00<br>Flow: 0.00<br>Utilisation: 0.00<br>Total Variable Cost: 0.00<br>Total Cost: 0.00<br>",
         "line": {
          "color": "gray",
          "dash": "dash",
          "width": 0
         },
         "mode": "lines",
         "showlegend": false,
         "type": "scatter",
         "x": [
          1.5123998775861398,
          1.530724824903622,
          1.5490497722211043,
          1.5673747195385868,
          1.585699666856069,
          1.6040246141735512,
          1.6223495614910335,
          1.6406745088085157,
          1.6589994561259982,
          1.6773244034434804,
          1.6956493507609627,
          1.713974298078445,
          1.7322992453959274,
          1.7506241927134096,
          1.7689491400308919,
          1.7872740873483741,
          1.8055990346658564,
          1.8239239819833388,
          1.842248929300821,
          1.8605738766183033
         ],
         "y": [
          0.8557962513382831,
          0.8451320431506021,
          0.8344678349629211,
          0.82380362677524,
          0.813139418587559,
          0.802475210399878,
          0.791811002212197,
          0.781146794024516,
          0.7704825858368349,
          0.7598183776491539,
          0.749154169461473,
          0.738489961273792,
          0.727825753086111,
          0.7171615448984299,
          0.7064973367107489,
          0.6958331285230679,
          0.6851689203353869,
          0.6745047121477059,
          0.6638405039600248,
          0.6531762957723438
         ]
        },
        {
         "hoverinfo": "skip",
         "line": {
          "color": "gray",
          "dash": "dash",
          "width": 0.25
         },
         "marker": {
          "angleref": "previous",
          "color": "gray",
          "size": 5,
          "symbol": "arrow-bar-up"
         },
         "mode": "lines+markers",
         "showlegend": false,
         "type": "scatter",
         "x": [
          1.9664482210868646,
          0.3136620946541616
         ],
         "y": [
          0.6745915289844732,
          0.2859697676570622
         ]
        },
        {
         "hoverinfo": "text",
         "hovertext": "<b>DC 1 -> Market 0</b><br>Capacity: 100<br>Variable Cost: 1.72<br>Fixed Cost: 0.00<br>Flow: 0.00<br>Utilisation: 0.00<br>Total Variable Cost: 0.00<br>Total Cost: 0.00<br>",
         "line": {
          "color": "gray",
          "dash": "dash",
          "width": 0
         },
         "mode": "lines",
         "showlegend": false,
         "type": "scatter",
         "x": [
          1.9664482210868646,
          1.8794594775904065,
          1.7924707340939485,
          1.7054819905974905,
          1.6184932471010325,
          1.5315045036045745,
          1.4445157601081162,
          1.3575270166116582,
          1.2705382731152002,
          1.1835495296187422,
          1.0965607861222841,
          1.009572042625826,
          0.9225832991293679,
          0.8355945556329099,
          0.7486058121364518,
          0.6616170686399938,
          0.5746283251435358,
          0.48763958164707777,
          0.40065083815061975,
          0.3136620946541616
         ],
         "y": [
          0.6745915289844732,
          0.6541377520725041,
          0.6336839751605352,
          0.6132301982485662,
          0.5927764213365971,
          0.5723226444246282,
          0.5518688675126592,
          0.5314150906006903,
          0.5109613136887212,
          0.4905075367767522,
          0.4700537598647832,
          0.4495999829528142,
          0.4291462060408452,
          0.4086924291288762,
          0.38823865221690723,
          0.3677848753049382,
          0.3473310983929692,
          0.32687732148100024,
          0.3064235445690312,
          0.2859697676570622
         ]
        },
        {
         "hoverinfo": "skip",
         "line": {
          "color": "rgba(119.56862745098043, 196.68627450980395, 100.921568627451, 1.0)",
          "dash": "solid",
          "width": 0.562142857142857
         },
         "marker": {
          "angleref": "previous",
          "color": "rgba(119.56862745098043, 196.68627450980395, 100.921568627451, 1.0)",
          "size": 5,
          "symbol": "arrow-bar-up"
         },
         "mode": "lines+markers",
         "showlegend": false,
         "type": "scatter",
         "x": [
          1.9718584094847607,
          1.933585250893291
         ],
         "y": [
          0.6912472557684155,
          0.7356212821939674
         ]
        },
        {
         "hoverinfo": "text",
         "hovertext": "<b>DC 1 -> Market 1</b><br>Capacity: 100<br>Variable Cost: 0.08<br>Fixed Cost: 0.00<br>Flow: 23.0<br>Utilisation: 0.23<br>Total Variable Cost: 1.87<br>Total Cost: 1.87<br>",
         "line": {
          "color": "rgba(119.56862745098043, 196.68627450980395, 100.921568627451, 1.0)",
          "dash": "solid",
          "width": 0
         },
         "mode": "lines",
         "showlegend": false,
         "type": "scatter",
         "x": [
          1.9718584094847607,
          1.9698440327167885,
          1.9678296559488164,
          1.9658152791808443,
          1.9638009024128722,
          1.9617865256449003,
          1.9597721488769282,
          1.957757772108956,
          1.955743395340984,
          1.9537290185730118,
          1.9517146418050397,
          1.9497002650370676,
          1.9476858882690955,
          1.9456715115011234,
          1.9436571347331513,
          1.9416427579651794,
          1.9396283811972073,
          1.9376140044292351,
          1.935599627661263,
          1.933585250893291
         ],
         "y": [
          0.6912472557684155,
          0.6935827308434446,
          0.6959182059184736,
          0.6982536809935026,
          0.7005891560685317,
          0.7029246311435607,
          0.7052601062185898,
          0.7075955812936189,
          0.7099310563686478,
          0.7122665314436769,
          0.714602006518706,
          0.716937481593735,
          0.719272956668764,
          0.7216084317437931,
          0.7239439068188221,
          0.7262793818938512,
          0.7286148569688803,
          0.7309503320439092,
          0.7332858071189383,
          0.7356212821939674
         ]
        },
        {
         "hoverinfo": "skip",
         "line": {
          "color": "gray",
          "dash": "dash",
          "width": 0.25
         },
         "marker": {
          "angleref": "previous",
          "color": "gray",
          "size": 5,
          "symbol": "arrow-bar-up"
         },
         "mode": "lines+markers",
         "showlegend": false,
         "type": "scatter",
         "x": [
          1.9668572386509735,
          0.49740909115316406
         ],
         "y": [
          0.6731444649713292,
          0.18618718094843145
         ]
        },
        {
         "hoverinfo": "text",
         "hovertext": "<b>DC 1 -> Market 2</b><br>Capacity: 100<br>Variable Cost: 1.57<br>Fixed Cost: 0.00<br>Flow: 0.00<br>Utilisation: 0.00<br>Total Variable Cost: 0.00<br>Total Cost: 0.00<br>",
         "line": {
          "color": "gray",
          "dash": "dash",
          "width": 0
         },
         "mode": "lines",
         "showlegend": false,
         "type": "scatter",
         "x": [
          1.9668572386509735,
          1.8895178624668783,
          1.812178486282783,
          1.7348391100986877,
          1.6574997339145927,
          1.5801603577304975,
          1.5028209815464022,
          1.425481605362307,
          1.3481422291782117,
          1.2708028529941164,
          1.1934634768100212,
          1.116124100625926,
          1.0387847244418307,
          0.9614453482577356,
          0.8841059720736404,
          0.8067665958895451,
          0.7294272197054499,
          0.6520878435213546,
          0.5747484673372594,
          0.49740909115316406
         ],
         "y": [
          0.6731444649713292,
          0.6475151342332819,
          0.6218858034952347,
          0.5962564727571874,
          0.5706271420191402,
          0.5449978112810929,
          0.5193684805430456,
          0.49373914980499845,
          0.46810981906695115,
          0.44248048832890396,
          0.41685115759085667,
          0.39122182685280943,
          0.3655924961147622,
          0.33996316537671495,
          0.31433383463866765,
          0.2887045039006204,
          0.2630751731625732,
          0.23744584242452593,
          0.2118165116864787,
          0.18618718094843145
         ]
        },
        {
         "hoverinfo": "skip",
         "line": {
          "color": "gray",
          "dash": "dash",
          "width": 0.25
         },
         "marker": {
          "angleref": "previous",
          "color": "gray",
          "size": 5,
          "symbol": "arrow-bar-up"
         },
         "mode": "lines+markers",
         "showlegend": false,
         "type": "scatter",
         "x": [
          1.9663430818099603,
          1.0637952012448577
         ],
         "y": [
          0.6818452267813011,
          0.8666330665286749
         ]
        },
        {
         "hoverinfo": "text",
         "hovertext": "<b>DC 1 -> Market 3</b><br>Capacity: 100<br>Variable Cost: 0.94<br>Fixed Cost: 0.00<br>Flow: 0.00<br>Utilisation: 0.00<br>Total Variable Cost: 0.00<br>Total Cost: 0.00<br>",
         "line": {
          "color": "gray",
          "dash": "dash",
          "width": 0
         },
         "mode": "lines",
         "showlegend": false,
         "type": "scatter",
         "x": [
          1.9663430818099603,
          1.918840561780218,
          1.871338041750476,
          1.8238355217207336,
          1.7763330016909913,
          1.728830481661249,
          1.6813279616315069,
          1.6338254416017646,
          1.5863229215720223,
          1.5388204015422802,
          1.4913178815125379,
          1.4438153614827955,
          1.3963128414530535,
          1.3488103214233111,
          1.3013078013935688,
          1.2538052813638267,
          1.2063027613340844,
          1.1588002413043421,
          1.1112977212746,
          1.0637952012448577
         ],
         "y": [
          0.6818452267813011,
          0.6915709025574787,
          0.7012965783336562,
          0.7110222541098338,
          0.7207479298860113,
          0.730473605662189,
          0.7401992814383666,
          0.7499249572145441,
          0.7596506329907217,
          0.7693763087668992,
          0.7791019845430768,
          0.7888276603192543,
          0.7985533360954319,
          0.8082790118716094,
          0.8180046876477871,
          0.8277303634239647,
          0.8374560392001422,
          0.8471817149763198,
          0.8569073907524973,
          0.8666330665286749
         ]
        },
        {
         "hoverinfo": "skip",
         "line": {
          "color": "gray",
          "dash": "dash",
          "width": 0.25
         },
         "marker": {
          "angleref": "previous",
          "color": "gray",
          "size": 5,
          "symbol": "arrow-bar-up"
         },
         "mode": "lines+markers",
         "showlegend": false,
         "type": "scatter",
         "x": [
          1.9662107753472282,
          0.2957173438037398
         ],
         "y": [
          0.6811184747499948,
          0.9476343838854123
         ]
        },
        {
         "hoverinfo": "text",
         "hovertext": "<b>DC 1 -> Market 4</b><br>Capacity: 100<br>Variable Cost: 1.72<br>Fixed Cost: 0.00<br>Flow: 0.00<br>Utilisation: 0.00<br>Total Variable Cost: 0.00<br>Total Cost: 0.00<br>",
         "line": {
          "color": "gray",
          "dash": "dash",
          "width": 0
         },
         "mode": "lines",
         "showlegend": false,
         "type": "scatter",
         "x": [
          1.9662107753472282,
          1.8782900684238868,
          1.7903693615005452,
          1.7024486545772037,
          1.6145279476538623,
          1.5266072407305207,
          1.4386865338071793,
          1.3507658268838378,
          1.2628451199604962,
          1.1749244130371546,
          1.0870037061138131,
          0.9990829991904717,
          0.9111622922671303,
          0.8232415853437887,
          0.7353208784204472,
          0.6474001714971056,
          0.5594794645737642,
          0.47155875765042277,
          0.3836380507270811,
          0.2957173438037398
         ],
         "y": [
          0.6811184747499948,
          0.6951456278623852,
          0.7091727809747755,
          0.723199934087166,
          0.7372270871995563,
          0.7512542403119468,
          0.7652813934243372,
          0.7793085465367275,
          0.793335699649118,
          0.8073628527615083,
          0.8213900058738988,
          0.8354171589862891,
          0.8494443120986795,
          0.86347146521107,
          0.8774986183234603,
          0.8915257714358508,
          0.9055529245482411,
          0.9195800776606315,
          0.9336072307730219,
          0.9476343838854123
         ]
        },
        {
         "hoverinfo": "skip",
         "line": {
          "color": "gray",
          "dash": "dash",
          "width": 0.25
         },
         "marker": {
          "angleref": "previous",
          "color": "gray",
          "size": 5,
          "symbol": "arrow-bar-up"
         },
         "mode": "lines+markers",
         "showlegend": false,
         "type": "scatter",
         "x": [
          1.9660081115888635,
          0.8680549413788695
         ],
         "y": [
          0.6789861356454032,
          0.713370692037439
         ]
        },
        {
         "hoverinfo": "text",
         "hovertext": "<b>DC 1 -> Market 5</b><br>Capacity: 100<br>Variable Cost: 1.13<br>Fixed Cost: 0.00<br>Flow: 0.00<br>Utilisation: 0.00<br>Total Variable Cost: 0.00<br>Total Cost: 0.00<br>",
         "line": {
          "color": "gray",
          "dash": "dash",
          "width": 0
         },
         "mode": "lines",
         "showlegend": false,
         "type": "scatter",
         "x": [
          1.9660081115888635,
          1.9082211026304428,
          1.850434093672022,
          1.7926470847136011,
          1.7348600757551804,
          1.6770730667967597,
          1.619286057838339,
          1.5614990488799183,
          1.5037120399214976,
          1.445925030963077,
          1.388138022004656,
          1.3303510130462355,
          1.2725640040878146,
          1.2147769951293939,
          1.1569899861709732,
          1.0992029772125522,
          1.0414159682541317,
          0.9836289592957109,
          0.9258419503372901,
          0.8680549413788695
         ],
         "y": [
          0.6789861356454032,
          0.6807958491397209,
          0.6826055626340386,
          0.6844152761283563,
          0.6862249896226739,
          0.6880347031169916,
          0.6898444166113092,
          0.6916541301056269,
          0.6934638435999446,
          0.6952735570942623,
          0.6970832705885799,
          0.6988929840828976,
          0.7007026975772153,
          0.702512411071533,
          0.7043221245658506,
          0.7061318380601683,
          0.7079415515544859,
          0.7097512650488036,
          0.7115609785431213,
          0.713370692037439
         ]
        },
        {
         "hoverinfo": "skip",
         "line": {
          "color": "gray",
          "dash": "dash",
          "width": 0.25
         },
         "marker": {
          "angleref": "previous",
          "color": "gray",
          "size": 5,
          "symbol": "arrow-bar-up"
         },
         "mode": "lines+markers",
         "showlegend": false,
         "type": "scatter",
         "x": [
          1.9668302822068375,
          0.6675914281511462
         ],
         "y": [
          0.6732265109437633,
          0.25003486950518494
         ]
        },
        {
         "hoverinfo": "text",
         "hovertext": "<b>DC 1 -> Market 6</b><br>Capacity: 100<br>Variable Cost: 1.39<br>Fixed Cost: 0.00<br>Flow: 0.00<br>Utilisation: 0.00<br>Total Variable Cost: 0.00<br>Total Cost: 0.00<br>",
         "line": {
          "color": "gray",
          "dash": "dash",
          "width": 0
         },
         "mode": "lines",
         "showlegend": false,
         "type": "scatter",
         "x": [
          1.9668302822068375,
          1.898449289888117,
          1.8300682975693963,
          1.7616873052506756,
          1.6933063129319552,
          1.6249253206132346,
          1.556544328294514,
          1.4881633359757933,
          1.4197823436570727,
          1.3514013513383523,
          1.2830203590196316,
          1.214639366700911,
          1.1462583743821904,
          1.0778773820634697,
          1.0094963897447493,
          0.9411153974260287,
          0.872734405107308,
          0.8043534127885874,
          0.7359724204698668,
          0.6675914281511462
         ],
         "y": [
          0.6732265109437633,
          0.6509532666575223,
          0.6286800223712814,
          0.6064067780850404,
          0.5841335337987994,
          0.5618602895125584,
          0.5395870452263175,
          0.5173138009400765,
          0.49504055665383556,
          0.4727673123675946,
          0.4504940680813536,
          0.42822082379511267,
          0.4059475795088717,
          0.3836743352226307,
          0.3614010909363898,
          0.3391278466501488,
          0.31685460236390783,
          0.2945813580776669,
          0.2723081137914259,
          0.25003486950518494
         ]
        },
        {
         "hoverinfo": "skip",
         "line": {
          "color": "gray",
          "dash": "dash",
          "width": 0.25
         },
         "marker": {
          "angleref": "previous",
          "color": "gray",
          "size": 5,
          "symbol": "arrow-bar-up"
         },
         "mode": "lines+markers",
         "showlegend": false,
         "type": "scatter",
         "x": [
          1.9661711376113435,
          1.4400595532317855
         ],
         "y": [
          0.6760580306405343,
          0.6005516404544936
         ]
        },
        {
         "hoverinfo": "text",
         "hovertext": "<b>DC 1 -> Market 7</b><br>Capacity: 100<br>Variable Cost: 0.56<br>Fixed Cost: 0.00<br>Flow: 0.00<br>Utilisation: 0.00<br>Total Variable Cost: 0.00<br>Total Cost: 0.00<br>",
         "line": {
          "color": "gray",
          "dash": "dash",
          "width": 0
         },
         "mode": "lines",
         "showlegend": false,
         "type": "scatter",
         "x": [
          1.9661711376113435,
          1.9384810542229458,
          1.9107909708345479,
          1.8831008874461501,
          1.8554108040577524,
          1.8277207206693546,
          1.8000306372809567,
          1.772340553892559,
          1.7446504705041612,
          1.7169603871157635,
          1.6892703037273655,
          1.6615802203389678,
          1.63389013695057,
          1.6062000535621723,
          1.5785099701737744,
          1.5508198867853766,
          1.523129803396979,
          1.495439720008581,
          1.4677496366201832,
          1.4400595532317855
         ],
         "y": [
          0.6760580306405343,
          0.6720840101044269,
          0.6681099895683195,
          0.6641359690322121,
          0.6601619484961047,
          0.6561879279599973,
          0.6522139074238898,
          0.6482398868877824,
          0.644265866351675,
          0.6402918458155676,
          0.6363178252794602,
          0.6323438047433528,
          0.6283697842072454,
          0.624395763671138,
          0.6204217431350306,
          0.6164477225989232,
          0.6124737020628158,
          0.6084996815267084,
          0.604525660990601,
          0.6005516404544936
         ]
        },
        {
         "hoverinfo": "skip",
         "line": {
          "color": "gray",
          "dash": "dash",
          "width": 0.25
         },
         "marker": {
          "angleref": "previous",
          "color": "gray",
          "size": 5,
          "symbol": "arrow-bar-up"
         },
         "mode": "lines+markers",
         "showlegend": false,
         "type": "scatter",
         "x": [
          1.9663629951882597,
          0.5126721592004614
         ],
         "y": [
          0.6819410740828742,
          0.9883593552250323
         ]
        },
        {
         "hoverinfo": "text",
         "hovertext": "<b>DC 1 -> Market 8</b><br>Capacity: 100<br>Variable Cost: 1.51<br>Fixed Cost: 0.00<br>Flow: 0.00<br>Utilisation: 0.00<br>Total Variable Cost: 0.00<br>Total Cost: 0.00<br>",
         "line": {
          "color": "gray",
          "dash": "dash",
          "width": 0
         },
         "mode": "lines",
         "showlegend": false,
         "type": "scatter",
         "x": [
          1.9663629951882597,
          1.889852951188902,
          1.8133429071895442,
          1.7368328631901864,
          1.6603228191908284,
          1.5838127751914706,
          1.5073027311921128,
          1.430792687192755,
          1.3542826431933972,
          1.2777725991940394,
          1.2012625551946816,
          1.1247525111953238,
          1.048242467195966,
          0.9717324231966081,
          0.8952223791972502,
          0.8187123351978924,
          0.7422022911985346,
          0.6656922471991769,
          0.5891822031998191,
          0.5126721592004614
         ],
         "y": [
          0.6819410740828742,
          0.6980683520377247,
          0.714195629992575,
          0.7303229079474255,
          0.7464501859022759,
          0.7625774638571263,
          0.7787047418119768,
          0.7948320197668272,
          0.8109592977216776,
          0.827086575676528,
          0.8432138536313785,
          0.8593411315862289,
          0.8754684095410793,
          0.8915956874959298,
          0.9077229654507801,
          0.9238502434056306,
          0.9399775213604811,
          0.9561047993153314,
          0.9722320772701818,
          0.9883593552250323
         ]
        },
        {
         "hoverinfo": "skip",
         "line": {
          "color": "gray",
          "dash": "dash",
          "width": 0.25
         },
         "marker": {
          "angleref": "previous",
          "color": "gray",
          "size": 5,
          "symbol": "arrow-bar-up"
         },
         "mode": "lines+markers",
         "showlegend": false,
         "type": "scatter",
         "x": [
          1.9680994871272868,
          1.1073332182093116
         ],
         "y": [
          0.6703016299920075,
          0.1956484513723564
         ]
        },
        {
         "hoverinfo": "text",
         "hovertext": "<b>DC 1 -> Market 9</b><br>Capacity: 100<br>Variable Cost: 1.01<br>Fixed Cost: 0.00<br>Flow: 0.00<br>Utilisation: 0.00<br>Total Variable Cost: 0.00<br>Total Cost: 0.00<br>",
         "line": {
          "color": "gray",
          "dash": "dash",
          "width": 0
         },
         "mode": "lines",
         "showlegend": false,
         "type": "scatter",
         "x": [
          1.9680994871272868,
          1.9227959992894985,
          1.8774925114517105,
          1.8321890236139222,
          1.7868855357761342,
          1.741582047938346,
          1.6962785601005579,
          1.6509750722627696,
          1.6056715844249814,
          1.5603680965871933,
          1.515064608749405,
          1.4697611209116168,
          1.4244576330738288,
          1.3791541452360407,
          1.3338506573982523,
          1.2885471695604642,
          1.2432436817226762,
          1.197940193884888,
          1.1526367060470997,
          1.1073332182093116
         ],
         "y": [
          0.6703016299920075,
          0.645319883748868,
          0.6203381375057284,
          0.5953563912625889,
          0.5703746450194493,
          0.5453928987763098,
          0.5204111525331703,
          0.4954294062900308,
          0.47044766004689126,
          0.4454659138037517,
          0.4204841675606122,
          0.39550242131747265,
          0.3705206750743332,
          0.34553892883119364,
          0.3205571825880541,
          0.29557543634491457,
          0.27059369010177503,
          0.2456119438586355,
          0.22063019761549596,
          0.1956484513723564
         ]
        },
        {
         "hoverinfo": "skip",
         "line": {
          "color": "gray",
          "dash": "dash",
          "width": 0.25
         },
         "marker": {
          "angleref": "previous",
          "color": "gray",
          "size": 5,
          "symbol": "arrow-bar-up"
         },
         "mode": "lines+markers",
         "showlegend": false,
         "type": "scatter",
         "x": [
          1.9699610738880573,
          1.4040418398731471
         ],
         "y": [
          0.6675892078040218,
          0.19186092808077918
         ]
        },
        {
         "hoverinfo": "text",
         "hovertext": "<b>DC 1 -> Market 10</b><br>Capacity: 100<br>Variable Cost: 0.77<br>Fixed Cost: 0.00<br>Flow: 0.00<br>Utilisation: 0.00<br>Total Variable Cost: 0.00<br>Total Cost: 0.00<br>",
         "line": {
          "color": "gray",
          "dash": "dash",
          "width": 0
         },
         "mode": "lines",
         "showlegend": false,
         "type": "scatter",
         "x": [
          1.9699610738880573,
          1.9401758510451672,
          1.9103906282022773,
          1.8806054053593872,
          1.8508201825164972,
          1.8210349596736073,
          1.7912497368307172,
          1.7614645139878273,
          1.7316792911449372,
          1.7018940683020474,
          1.6721088454591573,
          1.6423236226162672,
          1.6125383997733773,
          1.5827531769304872,
          1.5529679540875971,
          1.5231827312447073,
          1.4933975084018172,
          1.463612285558927,
          1.4338270627160372,
          1.4040418398731471
         ],
         "y": [
          0.6675892078040218,
          0.6425508772922721,
          0.6175125467805225,
          0.592474216268773,
          0.5674358857570233,
          0.5423975552452737,
          0.5173592247335241,
          0.4923208942217745,
          0.46728256371002486,
          0.4422442331982752,
          0.41720590268652563,
          0.39216757217477605,
          0.3671292416630264,
          0.34209091115127677,
          0.3170525806395272,
          0.2920142501277776,
          0.26697591961602796,
          0.24193758910427832,
          0.21689925859252873,
          0.19186092808077918
         ]
        },
        {
         "hoverinfo": "skip",
         "line": {
          "color": "gray",
          "dash": "dash",
          "width": 0.25
         },
         "marker": {
          "angleref": "previous",
          "color": "gray",
          "size": 5,
          "symbol": "arrow-bar-up"
         },
         "mode": "lines+markers",
         "showlegend": false,
         "type": "scatter",
         "x": [
          1.9669775791696718,
          1.200829600491073
         ],
         "y": [
          0.6841206758146254,
          0.9567961985167097
         ]
        },
        {
         "hoverinfo": "text",
         "hovertext": "<b>DC 1 -> Market 11</b><br>Capacity: 100<br>Variable Cost: 0.84<br>Fixed Cost: 0.00<br>Flow: 0.00<br>Utilisation: 0.00<br>Total Variable Cost: 0.00<br>Total Cost: 0.00<br>",
         "line": {
          "color": "gray",
          "dash": "dash",
          "width": 0
         },
         "mode": "lines",
         "showlegend": false,
         "type": "scatter",
         "x": [
          1.9669775791696718,
          1.9266540013444824,
          1.886330423519293,
          1.8460068456941034,
          1.805683267868914,
          1.7653596900437247,
          1.7250361122185354,
          1.6847125343933458,
          1.6443889565681564,
          1.604065378742967,
          1.5637418009177777,
          1.5234182230925883,
          1.483094645267399,
          1.4427710674422094,
          1.40244748961702,
          1.3621239117918305,
          1.321800333966641,
          1.2814767561414517,
          1.2411531783162624,
          1.200829600491073
         ],
         "y": [
          0.6841206758146254,
          0.6984720191147351,
          0.7128233624148448,
          0.7271747057149546,
          0.7415260490150642,
          0.7558773923151739,
          0.7702287356152836,
          0.7845800789153933,
          0.7989314222155031,
          0.8132827655156127,
          0.8276341088157224,
          0.8419854521158321,
          0.8563367954159418,
          0.8706881387160516,
          0.8850394820161612,
          0.8993908253162709,
          0.9137421686163806,
          0.9280935119164904,
          0.9424448552166,
          0.9567961985167097
         ]
        },
        {
         "hoverinfo": "skip",
         "line": {
          "color": "rgba(254.78431372549022, 248.31372549019608, 179.7843137254902, 1.0)",
          "dash": "solid",
          "width": 0.9557142857142857
         },
         "marker": {
          "angleref": "previous",
          "color": "rgba(254.78431372549022, 248.31372549019608, 179.7843137254902, 1.0)",
          "size": 5,
          "symbol": "arrow-bar-up"
         },
         "mode": "lines+markers",
         "showlegend": false,
         "type": "scatter",
         "x": [
          1.9670186056429382,
          1.6997919845045468
         ],
         "y": [
          0.6726802523919887,
          0.5754081645320296
         ]
        },
        {
         "hoverinfo": "text",
         "hovertext": "<b>DC 1 -> Market 12</b><br>Capacity: 100<br>Variable Cost: 0.31<br>Fixed Cost: 0.00<br>Flow: 52.0<br>Utilisation: 0.52<br>Total Variable Cost: 16.1<br>Total Cost: 16.1<br>",
         "line": {
          "color": "rgba(254.78431372549022, 248.31372549019608, 179.7843137254902, 1.0)",
          "dash": "solid",
          "width": 0
         },
         "mode": "lines",
         "showlegend": false,
         "type": "scatter",
         "x": [
          1.9670186056429382,
          1.9529540466356545,
          1.9388894876283707,
          1.924824928621087,
          1.9107603696138031,
          1.8966958106065195,
          1.8826312515992356,
          1.868566692591952,
          1.854502133584668,
          1.8404375745773844,
          1.8263730155701006,
          1.812308456562817,
          1.798243897555533,
          1.7841793385482494,
          1.7701147795409655,
          1.7560502205336819,
          1.741985661526398,
          1.7279211025191143,
          1.7138565435118305,
          1.6997919845045468
         ],
         "y": [
          0.6726802523919887,
          0.6675606688204119,
          0.6624410852488352,
          0.6573215016772583,
          0.6522019181056815,
          0.6470823345341047,
          0.641962750962528,
          0.6368431673909511,
          0.6317235838193743,
          0.6266040002477975,
          0.6214844166762208,
          0.616364833104644,
          0.6112452495330671,
          0.6061256659614904,
          0.6010060823899136,
          0.5958864988183368,
          0.59076691524676,
          0.5856473316751831,
          0.5805277481036064,
          0.5754081645320296
         ]
        },
        {
         "hoverinfo": "skip",
         "line": {
          "color": "rgba(246.47058823529414, 126.84313725490196, 75.23529411764706, 1.0)",
          "dash": "solid",
          "width": 1.295
         },
         "marker": {
          "angleref": "previous",
          "color": "rgba(246.47058823529414, 126.84313725490196, 75.23529411764706, 1.0)",
          "size": 5.18,
          "symbol": "arrow-bar-up"
         },
         "mode": "lines+markers",
         "showlegend": false,
         "type": "scatter",
         "x": [
          1.9681161648732493,
          1.505875999147967
         ],
         "y": [
          0.6866434480903069,
          0.9427687540101779
         ]
        },
        {
         "hoverinfo": "text",
         "hovertext": "<b>DC 1 -> Market 13</b><br>Capacity: 100<br>Variable Cost: 0.56<br>Fixed Cost: 0.00<br>Flow: 77.0<br>Utilisation: 0.77<br>Total Variable Cost: 42.8<br>Total Cost: 42.8<br>",
         "line": {
          "color": "rgba(246.47058823529414, 126.84313725490196, 75.23529411764706, 1.0)",
          "dash": "solid",
          "width": 0
         },
         "mode": "lines",
         "showlegend": false,
         "type": "scatter",
         "x": [
          1.9681161648732493,
          1.9437877350982344,
          1.9194593053232196,
          1.8951308755482046,
          1.8708024457731898,
          1.846474015998175,
          1.8221455862231601,
          1.7978171564481453,
          1.7734887266731305,
          1.7491602968981157,
          1.7248318671231009,
          1.7005034373480858,
          1.676175007573071,
          1.6518465777980562,
          1.6275181480230414,
          1.6031897182480266,
          1.5788612884730115,
          1.5545328586979967,
          1.530204428922982,
          1.505875999147967
         ],
         "y": [
          0.6866434480903069,
          0.7001237273492474,
          0.713604006608188,
          0.7270842858671286,
          0.7405645651260692,
          0.7540448443850097,
          0.7675251236439503,
          0.7810054029028909,
          0.7944856821618315,
          0.807965961420772,
          0.8214462406797127,
          0.8349265199386533,
          0.8484067991975939,
          0.8618870784565345,
          0.875367357715475,
          0.8888476369744156,
          0.9023279162333562,
          0.9158081954922968,
          0.9292884747512373,
          0.9427687540101779
         ]
        },
        {
         "hoverinfo": "skip",
         "line": {
          "color": "rgba(134.6274509803922, 203.2745098039216, 102.5686274509804, 1.0)",
          "dash": "solid",
          "width": 0.5892857142857142
         },
         "marker": {
          "angleref": "previous",
          "color": "rgba(134.6274509803922, 203.2745098039216, 102.5686274509804, 1.0)",
          "size": 5,
          "symbol": "arrow-bar-up"
         },
         "mode": "lines+markers",
         "showlegend": false,
         "type": "scatter",
         "x": [
          1.966475703564103,
          1.8718719381437579
         ],
         "y": [
          0.6744764578402819,
          0.6515316853212669
         ]
        },
        {
         "hoverinfo": "text",
         "hovertext": "<b>DC 1 -> Market 14</b><br>Capacity: 100<br>Variable Cost: 0.12<br>Fixed Cost: 0.00<br>Flow: 25.0<br>Utilisation: 0.25<br>Total Variable Cost: 3.01<br>Total Cost: 3.01<br>",
         "line": {
          "color": "rgba(134.6274509803922, 203.2745098039216, 102.5686274509804, 1.0)",
          "dash": "solid",
          "width": 0
         },
         "mode": "lines",
         "showlegend": false,
         "type": "scatter",
         "x": [
          1.966475703564103,
          1.9614965580156638,
          1.9565174124672244,
          1.9515382669187853,
          1.9465591213703461,
          1.9415799758219068,
          1.9366008302734676,
          1.9316216847250285,
          1.9266425391765891,
          1.92166339362815,
          1.9166842480797108,
          1.9117051025312717,
          1.9067259569828323,
          1.9017468114343932,
          1.896767665885954,
          1.8917885203375147,
          1.8868093747890755,
          1.8818302292406364,
          1.876851083692197,
          1.8718719381437579
         ],
         "y": [
          0.6744764578402819,
          0.673268838234018,
          0.672061218627754,
          0.67085359902149,
          0.6696459794152261,
          0.6684383598089622,
          0.6672307402026982,
          0.6660231205964343,
          0.6648155009901703,
          0.6636078813839064,
          0.6624002617776424,
          0.6611926421713785,
          0.6599850225651145,
          0.6587774029588506,
          0.6575697833525866,
          0.6563621637463227,
          0.6551545441400588,
          0.6539469245337948,
          0.6527393049275309,
          0.6515316853212669
         ]
        },
        {
         "hoverinfo": "skip",
         "line": {
          "color": "gray",
          "dash": "dash",
          "width": 0.25
         },
         "marker": {
          "angleref": "previous",
          "color": "gray",
          "size": 5,
          "symbol": "arrow-bar-up"
         },
         "mode": "lines+markers",
         "showlegend": false,
         "type": "scatter",
         "x": [
          1.2531183190325716,
          0.3133779299842019
         ],
         "y": [
          0.6761755904213915,
          0.28685125762149466
         ]
        },
        {
         "hoverinfo": "text",
         "hovertext": "<b>DC 2 -> Market 0</b><br>Capacity: 100<br>Variable Cost: 1.05<br>Fixed Cost: 0.00<br>Flow: 0.00<br>Utilisation: 0.00<br>Total Variable Cost: 0.00<br>Total Cost: 0.00<br>",
         "line": {
          "color": "gray",
          "dash": "dash",
          "width": 0
         },
         "mode": "lines",
         "showlegend": false,
         "type": "scatter",
         "x": [
          1.2531183190325716,
          1.2036582985563418,
          1.1541982780801117,
          1.1047382576038818,
          1.0552782371276517,
          1.0058182166514218,
          0.9563581961751917,
          0.9068981756989618,
          0.8574381552227317,
          0.8079781347465018,
          0.7585181142702717,
          0.7090580937940418,
          0.6595980733178118,
          0.6101380528415818,
          0.5606780323653519,
          0.5112180118891219,
          0.46175799141289187,
          0.4122979709366619,
          0.3628379504604319,
          0.3133779299842019
         ],
         "y": [
          0.6761755904213915,
          0.6556848360635023,
          0.6351940817056129,
          0.6147033273477236,
          0.5942125729898343,
          0.573721818631945,
          0.5532310642740557,
          0.5327403099161664,
          0.5122495555582771,
          0.49175880120038773,
          0.47126804684249846,
          0.4507772924846091,
          0.4302865381267198,
          0.4097957837688305,
          0.3893050294109412,
          0.3688142750530519,
          0.3483235206951626,
          0.32783276633727326,
          0.307342011979384,
          0.28685125762149466
         ]
        },
        {
         "hoverinfo": "skip",
         "line": {
          "color": "gray",
          "dash": "dash",
          "width": 0.25
         },
         "marker": {
          "angleref": "previous",
          "color": "gray",
          "size": 5,
          "symbol": "arrow-bar-up"
         },
         "mode": "lines+markers",
         "showlegend": false,
         "type": "scatter",
         "x": [
          1.3090259197047445,
          1.9236665193578901
         ],
         "y": [
          0.6896779028005667,
          0.7396862541860596
         ]
        },
        {
         "hoverinfo": "text",
         "hovertext": "<b>DC 2 -> Market 1</b><br>Capacity: 100<br>Variable Cost: 0.65<br>Fixed Cost: 0.00<br>Flow: 0.00<br>Utilisation: 0.00<br>Total Variable Cost: 0.00<br>Total Cost: 0.00<br>",
         "line": {
          "color": "gray",
          "dash": "dash",
          "width": 0
         },
         "mode": "lines",
         "showlegend": false,
         "type": "scatter",
         "x": [
          1.3090259197047445,
          1.3413754249496468,
          1.3737249301945493,
          1.4060744354394517,
          1.4384239406843542,
          1.4707734459292565,
          1.5031229511741588,
          1.5354724564190614,
          1.5678219616639637,
          1.6001714669088662,
          1.6325209721537686,
          1.664870477398671,
          1.6972199826435732,
          1.7295694878884758,
          1.761918993133378,
          1.7942684983782806,
          1.826618003623183,
          1.8589675088680853,
          1.8913170141129878,
          1.9236665193578901
         ],
         "y": [
          0.6896779028005667,
          0.69230992129454,
          0.6949419397885134,
          0.6975739582824867,
          0.70020597677646,
          0.7028379952704332,
          0.7054700137644065,
          0.7081020322583799,
          0.7107340507523532,
          0.7133660692463265,
          0.7159980877402998,
          0.7186301062342731,
          0.7212621247282465,
          0.7238941432222198,
          0.7265261617161931,
          0.7291581802101663,
          0.7317901987041396,
          0.734422217198113,
          0.7370542356920863,
          0.7396862541860596
         ]
        },
        {
         "hoverinfo": "skip",
         "line": {
          "color": "gray",
          "dash": "dash",
          "width": 0.25
         },
         "marker": {
          "angleref": "previous",
          "color": "gray",
          "size": 5,
          "symbol": "arrow-bar-up"
         },
         "mode": "lines+markers",
         "showlegend": false,
         "type": "scatter",
         "x": [
          1.2554567668440417,
          0.4963777963389119
         ],
         "y": [
          0.6716824802337288,
          0.1883580809727954
         ]
        },
        {
         "hoverinfo": "text",
         "hovertext": "<b>DC 2 -> Market 2</b><br>Capacity: 100<br>Variable Cost: 0.94<br>Fixed Cost: 0.00<br>Flow: 0.00<br>Utilisation: 0.00<br>Total Variable Cost: 0.00<br>Total Cost: 0.00<br>",
         "line": {
          "color": "gray",
          "dash": "dash",
          "width": 0
         },
         "mode": "lines",
         "showlegend": false,
         "type": "scatter",
         "x": [
          1.2554567668440417,
          1.2155052420806138,
          1.175553717317186,
          1.135602192553758,
          1.0956506677903302,
          1.0556991430269023,
          1.0157476182634744,
          0.9757960935000465,
          0.9358445687366186,
          0.8958930439731907,
          0.8559415192097628,
          0.8159899944463349,
          0.7760384696829071,
          0.7360869449194792,
          0.6961354201560513,
          0.6561838953926235,
          0.6162323706291956,
          0.5762808458657677,
          0.5363293211023398,
          0.4963777963389119
         ],
         "y": [
          0.6716824802337288,
          0.6462443539568375,
          0.6208062276799463,
          0.5953681014030551,
          0.5699299751261638,
          0.5444918488492726,
          0.5190537225723815,
          0.4936155962954902,
          0.46817747001859894,
          0.4427393437417077,
          0.41730121746481647,
          0.3918630911879252,
          0.36642496491103405,
          0.3409868386341428,
          0.31554871235725157,
          0.29011058608036033,
          0.2646724598034691,
          0.23923433352657786,
          0.21379620724968662,
          0.1883580809727954
         ]
        },
        {
         "hoverinfo": "skip",
         "line": {
          "color": "rgba(93.05882352941182, 184.64705882352942, 96.76470588235296, 1.0)",
          "dash": "solid",
          "width": 0.5078571428571428
         },
         "marker": {
          "angleref": "previous",
          "color": "rgba(93.05882352941182, 184.64705882352942, 96.76470588235296, 1.0)",
          "size": 5,
          "symbol": "arrow-bar-up"
         },
         "mode": "lines+markers",
         "showlegend": false,
         "type": "scatter",
         "x": [
          1.2574304483181906,
          1.062626664268599
         ],
         "y": [
          0.7056878353401445,
          0.8641665937693339
         ]
        },
        {
         "hoverinfo": "text",
         "hovertext": "<b>DC 2 -> Market 3</b><br>Capacity: 100<br>Variable Cost: 0.29<br>Fixed Cost: 0.00<br>Flow: 19.0<br>Utilisation: 0.19<br>Total Variable Cost: 5.43<br>Total Cost: 5.43<br>",
         "line": {
          "color": "rgba(93.05882352941182, 184.64705882352942, 96.76470588235296, 1.0)",
          "dash": "solid",
          "width": 0
         },
         "mode": "lines",
         "showlegend": false,
         "type": "scatter",
         "x": [
          1.2574304483181906,
          1.2471776175787384,
          1.2369247868392863,
          1.226671956099834,
          1.2164191253603818,
          1.2061662946209297,
          1.1959134638814775,
          1.1856606331420254,
          1.1754078024025731,
          1.1651549716631209,
          1.1549021409236688,
          1.1446493101842166,
          1.1343964794447643,
          1.1241436487053122,
          1.11389081796586,
          1.1036379872264077,
          1.0933851564869557,
          1.0831323257475034,
          1.0728794950080514,
          1.062626664268599
         ],
         "y": [
          0.7056878353401445,
          0.7140288226258913,
          0.7223698099116381,
          0.7307107971973849,
          0.7390517844831317,
          0.7473927717688785,
          0.7557337590546254,
          0.7640747463403722,
          0.7724157336261189,
          0.7807567209118658,
          0.7890977081976126,
          0.7974386954833594,
          0.8057796827691062,
          0.814120670054853,
          0.8224616573405998,
          0.8308026446263467,
          0.8391436319120935,
          0.8474846191978402,
          0.8558256064835871,
          0.8641665937693339
         ]
        },
        {
         "hoverinfo": "skip",
         "line": {
          "color": "gray",
          "dash": "dash",
          "width": 0.25
         },
         "marker": {
          "angleref": "previous",
          "color": "gray",
          "size": 5,
          "symbol": "arrow-bar-up"
         },
         "mode": "lines+markers",
         "showlegend": false,
         "type": "scatter",
         "x": [
          1.2518610309438694,
          0.29548299795064453
         ],
         "y": [
          0.6947287523208947,
          0.9465230450507528
         ]
        },
        {
         "hoverinfo": "text",
         "hovertext": "<b>DC 2 -> Market 4</b><br>Capacity: 100<br>Variable Cost: 1.03<br>Fixed Cost: 0.00<br>Flow: 0.00<br>Utilisation: 0.00<br>Total Variable Cost: 0.00<br>Total Cost: 0.00<br>",
         "line": {
          "color": "gray",
          "dash": "dash",
          "width": 0
         },
         "mode": "lines",
         "showlegend": false,
         "type": "scatter",
         "x": [
          1.2518610309438694,
          1.2015253449968575,
          1.1511896590498456,
          1.100853973102834,
          1.050518287155822,
          1.0001826012088102,
          0.9498469152617983,
          0.8995112293147866,
          0.8491755433677748,
          0.7988398574207629,
          0.748504171473751,
          0.6981684855267393,
          0.6478327995797274,
          0.5974971136327156,
          0.5471614276857037,
          0.496825741738692,
          0.4464900557916801,
          0.39615436984466823,
          0.34581868389765646,
          0.29548299795064453
         ],
         "y": [
          0.6947287523208947,
          0.707981083517203,
          0.7212334147135113,
          0.7344857459098196,
          0.7477380771061279,
          0.7609904083024364,
          0.7742427394987447,
          0.787495070695053,
          0.8007474018913613,
          0.8139997330876696,
          0.8272520642839779,
          0.8405043954802862,
          0.8537567266765945,
          0.8670090578729028,
          0.8802613890692113,
          0.8935137202655196,
          0.9067660514618279,
          0.9200183826581362,
          0.9332707138544445,
          0.9465230450507528
         ]
        },
        {
         "hoverinfo": "skip",
         "line": {
          "color": "gray",
          "dash": "dash",
          "width": 0.25
         },
         "marker": {
          "angleref": "previous",
          "color": "gray",
          "size": 5,
          "symbol": "arrow-bar-up"
         },
         "mode": "lines+markers",
         "showlegend": false,
         "type": "scatter",
         "x": [
          1.2509583060767422,
          0.8680394267549172
         ],
         "y": [
          0.6891312707497724,
          0.7130396480764397
         ]
        },
        {
         "hoverinfo": "text",
         "hovertext": "<b>DC 2 -> Market 5</b><br>Capacity: 100<br>Variable Cost: 0.42<br>Fixed Cost: 0.00<br>Flow: 0.00<br>Utilisation: 0.00<br>Total Variable Cost: 0.00<br>Total Cost: 0.00<br>",
         "line": {
          "color": "gray",
          "dash": "dash",
          "width": 0
         },
         "mode": "lines",
         "showlegend": false,
         "type": "scatter",
         "x": [
          1.2509583060767422,
          1.2308046808492776,
          1.2106510556218133,
          1.1904974303943487,
          1.1703438051668842,
          1.1501901799394199,
          1.1300365547119553,
          1.109882929484491,
          1.0897293042570264,
          1.0695756790295619,
          1.0494220538020975,
          1.029268428574633,
          1.0091148033471686,
          0.9889611781197041,
          0.9688075528922395,
          0.9486539276647751,
          0.9285003024373106,
          0.9083466772098462,
          0.8881930519823817,
          0.8680394267549172
         ],
         "y": [
          0.6891312707497724,
          0.6903896063985444,
          0.6916479420473164,
          0.6929062776960884,
          0.6941646133448602,
          0.6954229489936322,
          0.6966812846424042,
          0.6979396202911762,
          0.6991979559399482,
          0.7004562915887201,
          0.701714627237492,
          0.702972962886264,
          0.704231298535036,
          0.705489634183808,
          0.7067479698325799,
          0.7080063054813519,
          0.7092646411301238,
          0.7105229767788958,
          0.7117813124276677,
          0.7130396480764397
         ]
        },
        {
         "hoverinfo": "skip",
         "line": {
          "color": "gray",
          "dash": "dash",
          "width": 0.25
         },
         "marker": {
          "angleref": "previous",
          "color": "gray",
          "size": 5,
          "symbol": "arrow-bar-up"
         },
         "mode": "lines+markers",
         "showlegend": false,
         "type": "scatter",
         "x": [
          1.25625980916205,
          0.6663516668980558
         ],
         "y": [
          0.6704875578267755,
          0.25250192554016127
         ]
        },
        {
         "hoverinfo": "text",
         "hovertext": "<b>DC 2 -> Market 6</b><br>Capacity: 100<br>Variable Cost: 0.76<br>Fixed Cost: 0.00<br>Flow: 0.00<br>Utilisation: 0.00<br>Total Variable Cost: 0.00<br>Total Cost: 0.00<br>",
         "line": {
          "color": "gray",
          "dash": "dash",
          "width": 0
         },
         "mode": "lines",
         "showlegend": false,
         "type": "scatter",
         "x": [
          1.25625980916205,
          1.2252120122007872,
          1.1941642152395244,
          1.1631164182782614,
          1.1320686213169986,
          1.1010208243557358,
          1.069973027394473,
          1.0389252304332102,
          1.0078774334719471,
          0.9768296365106843,
          0.9457818395494215,
          0.9147340425881587,
          0.8836862456268958,
          0.8526384486656329,
          0.8215906517043701,
          0.7905428547431073,
          0.7594950577818445,
          0.7284472608205815,
          0.6973994638593187,
          0.6663516668980558
         ],
         "y": [
          0.6704875578267755,
          0.6484883140222168,
          0.6264890702176582,
          0.6044898264130996,
          0.5824905826085409,
          0.5604913388039823,
          0.5384920949994236,
          0.516492851194865,
          0.49449360739030634,
          0.4724943635857477,
          0.45049511978118906,
          0.4284958759766304,
          0.40649663217207177,
          0.3844973883675131,
          0.3624981445629545,
          0.34049890075839584,
          0.3184996569538372,
          0.29650041314927855,
          0.2745011693447199,
          0.25250192554016127
         ]
        },
        {
         "hoverinfo": "skip",
         "line": {
          "color": "rgba(234.90196078431376, 89.86274509803927, 58.21568627450984, 1.0)",
          "dash": "solid",
          "width": 1.3764285714285716
         },
         "marker": {
          "angleref": "previous",
          "color": "rgba(234.90196078431376, 89.86274509803927, 58.21568627450984, 1.0)",
          "size": 5.505714285714286,
          "symbol": "arrow-bar-up"
         },
         "mode": "lines+markers",
         "showlegend": false,
         "type": "scatter",
         "x": [
          1.3050994516044427,
          1.42107960219446
         ],
         "y": [
          0.6725523695323825,
          0.6042944445882423
         ]
        },
        {
         "hoverinfo": "text",
         "hovertext": "<b>DC 2 -> Market 7</b><br>Capacity: 100<br>Variable Cost: 0.17<br>Fixed Cost: 0.00<br>Flow: 83.0<br>Utilisation: 0.83<br>Total Variable Cost: 14.4<br>Total Cost: 14.4<br>",
         "line": {
          "color": "rgba(234.90196078431376, 89.86274509803927, 58.21568627450984, 1.0)",
          "dash": "solid",
          "width": 0
         },
         "mode": "lines",
         "showlegend": false,
         "type": "scatter",
         "x": [
          1.3050994516044427,
          1.3112036700565488,
          1.317307888508655,
          1.3234121069607612,
          1.3295163254128675,
          1.3356205438649735,
          1.3417247623170798,
          1.347828980769186,
          1.3539331992212922,
          1.3600374176733983,
          1.3661416361255045,
          1.3722458545776106,
          1.378350073029717,
          1.384454291481823,
          1.3905585099339293,
          1.3966627283860353,
          1.4027669468381416,
          1.4088711652902477,
          1.414975383742354,
          1.42107960219446
         ],
         "y": [
          0.6725523695323825,
          0.6689598471669015,
          0.6653673248014204,
          0.6617748024359393,
          0.6581822800704583,
          0.6545897577049772,
          0.6509972353394962,
          0.647404712974015,
          0.643812190608534,
          0.640219668243053,
          0.6366271458775719,
          0.6330346235120908,
          0.6294421011466098,
          0.6258495787811287,
          0.6222570564156477,
          0.6186645340501666,
          0.6150720116846855,
          0.6114794893192045,
          0.6078869669537234,
          0.6042944445882423
         ]
        },
        {
         "hoverinfo": "skip",
         "line": {
          "color": "gray",
          "dash": "dash",
          "width": 0.25
         },
         "marker": {
          "angleref": "previous",
          "color": "gray",
          "size": 5,
          "symbol": "arrow-bar-up"
         },
         "mode": "lines+markers",
         "showlegend": false,
         "type": "scatter",
         "x": [
          1.2528988516611643,
          0.5123656793852134
         ],
         "y": [
          0.6979136715368713,
          0.9873329171115204
         ]
        },
        {
         "hoverinfo": "text",
         "hovertext": "<b>DC 2 -> Market 8</b><br>Capacity: 100<br>Variable Cost: 0.83<br>Fixed Cost: 0.00<br>Flow: 0.00<br>Utilisation: 0.00<br>Total Variable Cost: 0.00<br>Total Cost: 0.00<br>",
         "line": {
          "color": "gray",
          "dash": "dash",
          "width": 0
         },
         "mode": "lines",
         "showlegend": false,
         "type": "scatter",
         "x": [
          1.2528988516611643,
          1.2139234215413774,
          1.1749479914215906,
          1.1359725613018037,
          1.0969971311820168,
          1.05802170106223,
          1.019046270942443,
          0.980070840822656,
          0.9410954107028692,
          0.9021199805830823,
          0.8631445504632954,
          0.8241691203435084,
          0.7851936902237215,
          0.7462182601039347,
          0.7072428299841478,
          0.6682673998643609,
          0.629291969744574,
          0.5903165396247871,
          0.5513411095050003,
          0.5123656793852134
         ],
         "y": [
          0.6979136715368713,
          0.7131462634092213,
          0.7283788552815712,
          0.7436114471539212,
          0.7588440390262712,
          0.7740766308986211,
          0.789309222770971,
          0.804541814643321,
          0.8197744065156709,
          0.8350069983880208,
          0.8502395902603708,
          0.8654721821327208,
          0.8807047740050707,
          0.8959373658774207,
          0.9111699577497706,
          0.9264025496221205,
          0.9416351414944706,
          0.9568677333668205,
          0.9721003252391704,
          0.9873329171115204
         ]
        },
        {
         "hoverinfo": "skip",
         "line": {
          "color": "rgba(246.80392156862743, 251.54901960784315, 179.78431372549016, 1.0)",
          "dash": "solid",
          "width": 0.9014285714285715
         },
         "marker": {
          "angleref": "previous",
          "color": "rgba(246.80392156862743, 251.54901960784315, 179.78431372549016, 1.0)",
          "size": 5,
          "symbol": "arrow-bar-up"
         },
         "mode": "lines+markers",
         "showlegend": false,
         "type": "scatter",
         "x": [
          1.2700960592532908,
          1.103171618901577
         ],
         "y": [
          0.6599480601189152,
          0.1992053978161719
         ]
        },
        {
         "hoverinfo": "text",
         "hovertext": "<b>DC 2 -> Market 9</b><br>Capacity: 100<br>Variable Cost: 0.53<br>Fixed Cost: 0.00<br>Flow: 48.0<br>Utilisation: 0.48<br>Total Variable Cost: 25.3<br>Total Cost: 25.3<br>",
         "line": {
          "color": "rgba(246.80392156862743, 251.54901960784315, 179.78431372549016, 1.0)",
          "dash": "solid",
          "width": 0
         },
         "mode": "lines",
         "showlegend": false,
         "type": "scatter",
         "x": [
          1.2700960592532908,
          1.2613105623926744,
          1.252525065532058,
          1.2437395686714412,
          1.2349540718108247,
          1.2261685749502083,
          1.2173830780895918,
          1.2085975812289753,
          1.1998120843683586,
          1.1910265875077422,
          1.1822410906471257,
          1.1734555937865092,
          1.1646700969258927,
          1.155884600065276,
          1.1470991032046596,
          1.138313606344043,
          1.1295281094834266,
          1.12074261262281,
          1.1119571157621935,
          1.103171618901577
         ],
         "y": [
          0.6599480601189152,
          0.6356984463135076,
          0.6114488325081001,
          0.5871992187026925,
          0.562949604897285,
          0.5386999910918775,
          0.5144503772864699,
          0.49020076348106234,
          0.4659511496756548,
          0.4417015358702473,
          0.4174519220648397,
          0.3932023082594322,
          0.3689526944540247,
          0.3447030806486171,
          0.3204534668432096,
          0.296203853037802,
          0.2719542392323945,
          0.24770462542698696,
          0.22345501162157938,
          0.1992053978161719
         ]
        },
        {
         "hoverinfo": "skip",
         "line": {
          "color": "rgba(223.52941176470588, 65.94117647058823, 47.23529411764706, 1.0)",
          "dash": "solid",
          "width": 1.4307142857142858
         },
         "marker": {
          "angleref": "previous",
          "color": "rgba(223.52941176470588, 65.94117647058823, 47.23529411764706, 1.0)",
          "size": 5.722857142857143,
          "symbol": "arrow-bar-up"
         },
         "mode": "lines+markers",
         "showlegend": false,
         "type": "scatter",
         "x": [
          1.2865610517739752,
          1.393609743600932
         ],
         "y": [
          0.6589535315478278,
          0.19534606146344446
         ]
        },
        {
         "hoverinfo": "text",
         "hovertext": "<b>DC 2 -> Market 10</b><br>Capacity: 100<br>Variable Cost: 0.52<br>Fixed Cost: 0.00<br>Flow: 87.0<br>Utilisation: 0.87<br>Total Variable Cost: 44.8<br>Total Cost: 44.8<br>",
         "line": {
          "color": "rgba(223.52941176470588, 65.94117647058823, 47.23529411764706, 1.0)",
          "dash": "solid",
          "width": 0
         },
         "mode": "lines",
         "showlegend": false,
         "type": "scatter",
         "x": [
          1.2865610517739752,
          1.292195193449078,
          1.2978293351241812,
          1.303463476799284,
          1.3090976184743872,
          1.3147317601494901,
          1.3203659018245932,
          1.3260000434996961,
          1.331634185174799,
          1.3372683268499022,
          1.342902468525005,
          1.3485366102001082,
          1.354170751875211,
          1.3598048935503142,
          1.365439035225417,
          1.37107317690052,
          1.3767073185756231,
          1.382341460250726,
          1.3879756019258291,
          1.393609743600932
         ],
         "y": [
          0.6589535315478278,
          0.6345531383854918,
          0.6101527452231559,
          0.5857523520608199,
          0.5613519588984839,
          0.5369515657361479,
          0.512551172573812,
          0.488150779411476,
          0.46375038624914006,
          0.4393499930868041,
          0.4149495999244681,
          0.3905492067621322,
          0.36614881359979623,
          0.34174842043746023,
          0.3173480272751243,
          0.2929476341127883,
          0.26854724095045235,
          0.2441468477881164,
          0.2197464546257804,
          0.19534606146344446
         ]
        },
        {
         "hoverinfo": "skip",
         "line": {
          "color": "rgba(178.72549019607843, 13.176470588235293, 38.27450980392157, 1.0)",
          "dash": "solid",
          "width": 1.5664285714285713
         },
         "marker": {
          "angleref": "previous",
          "color": "rgba(178.72549019607843, 13.176470588235293, 38.27450980392157, 1.0)",
          "size": 6.265714285714285,
          "symbol": "arrow-bar-up"
         },
         "mode": "lines+markers",
         "showlegend": false,
         "type": "scatter",
         "x": [
          1.2709259490079357,
          1.1937491096886534
         ],
         "y": [
          0.7149730312153058,
          0.949887102091695
         ]
        },
        {
         "hoverinfo": "text",
         "hovertext": "<b>DC 2 -> Market 11</b><br>Capacity: 100<br>Variable Cost: 0.29<br>Fixed Cost: 0.00<br>Flow: 97.0<br>Utilisation: 0.97<br>Total Variable Cost: 27.9<br>Total Cost: 27.9<br>",
         "line": {
          "color": "rgba(178.72549019607843, 13.176470588235293, 38.27450980392157, 1.0)",
          "dash": "solid",
          "width": 0
         },
         "mode": "lines",
         "showlegend": false,
         "type": "scatter",
         "x": [
          1.2709259490079357,
          1.2668640100963944,
          1.2628020711848533,
          1.258740132273312,
          1.254678193361771,
          1.2506162544502297,
          1.2465543155386887,
          1.2424923766271474,
          1.2384304377156063,
          1.234368498804065,
          1.230306559892524,
          1.2262446209809827,
          1.2221826820694417,
          1.2181207431579004,
          1.2140588042463594,
          1.209996865334818,
          1.205934926423277,
          1.2018729875117358,
          1.1978110486001947,
          1.1937491096886534
         ],
         "y": [
          0.7149730312153058,
          0.7273369296824841,
          0.7397008281496625,
          0.7520647266168409,
          0.7644286250840193,
          0.7767925235511977,
          0.789156422018376,
          0.8015203204855544,
          0.8138842189527328,
          0.8262481174199112,
          0.8386120158870896,
          0.850975914354268,
          0.8633398128214463,
          0.8757037112886248,
          0.8880676097558031,
          0.9004315082229815,
          0.9127954066901599,
          0.9251593051573382,
          0.9375232036245167,
          0.949887102091695
         ]
        },
        {
         "hoverinfo": "skip",
         "line": {
          "color": "gray",
          "dash": "dash",
          "width": 0.25
         },
         "marker": {
          "angleref": "previous",
          "color": "gray",
          "size": 5,
          "symbol": "arrow-bar-up"
         },
         "mode": "lines+markers",
         "showlegend": false,
         "type": "scatter",
         "x": [
          1.308056912231184,
          1.6844522434243716
         ],
         "y": [
          0.6795157449316168,
          0.5748112997511947
         ]
        },
        {
         "hoverinfo": "text",
         "hovertext": "<b>DC 2 -> Market 12</b><br>Capacity: 100<br>Variable Cost: 0.43<br>Fixed Cost: 0.00<br>Flow: 0.00<br>Utilisation: 0.00<br>Total Variable Cost: 0.00<br>Total Cost: 0.00<br>",
         "line": {
          "color": "gray",
          "dash": "dash",
          "width": 0
         },
         "mode": "lines",
         "showlegend": false,
         "type": "scatter",
         "x": [
          1.308056912231184,
          1.3278671928202992,
          1.3476774734094144,
          1.3674877539985295,
          1.3872980345876447,
          1.4071083151767596,
          1.4269185957658748,
          1.44672887635499,
          1.466539156944105,
          1.4863494375332202,
          1.5061597181223354,
          1.5259699987114506,
          1.5457802793005657,
          1.5655905598896807,
          1.5854008404787958,
          1.605211121067911,
          1.6250214016570261,
          1.6448316822461413,
          1.6646419628352565,
          1.6844522434243716
         ],
         "y": [
          0.6795157449316168,
          0.674004984658963,
          0.6684942243863092,
          0.6629834641136554,
          0.6574727038410016,
          0.6519619435683478,
          0.6464511832956941,
          0.6409404230230402,
          0.6354296627503865,
          0.6299189024777326,
          0.6244081422050789,
          0.618897381932425,
          0.6133866216597713,
          0.6078758613871175,
          0.6023651011144637,
          0.5968543408418099,
          0.5913435805691561,
          0.5858328202965023,
          0.5803220600238486,
          0.5748112997511947
         ]
        },
        {
         "hoverinfo": "skip",
         "line": {
          "color": "rgba(69.21568627450985, 173.03921568627453, 90.80392156862746, 1.0)",
          "dash": "solid",
          "width": 0.46714285714285714
         },
         "marker": {
          "angleref": "previous",
          "color": "rgba(69.21568627450985, 173.03921568627453, 90.80392156862746, 1.0)",
          "size": 5,
          "symbol": "arrow-bar-up"
         },
         "mode": "lines+markers",
         "showlegend": false,
         "type": "scatter",
         "x": [
          1.2985957341506942,
          1.4892977059671078
         ],
         "y": [
          0.709723280142852,
          0.9396457801371634
         ]
        },
        {
         "hoverinfo": "text",
         "hovertext": "<b>DC 2 -> Market 13</b><br>Capacity: 100<br>Variable Cost: 0.34<br>Fixed Cost: 0.00<br>Flow: 16.0<br>Utilisation: 0.16<br>Total Variable Cost: 5.42<br>Total Cost: 5.42<br>",
         "line": {
          "color": "rgba(69.21568627450985, 173.03921568627453, 90.80392156862746, 1.0)",
          "dash": "solid",
          "width": 0
         },
         "mode": "lines",
         "showlegend": false,
         "type": "scatter",
         "x": [
          1.2985957341506942,
          1.3086326800357686,
          1.318669625920843,
          1.3287065718059174,
          1.3387435176909919,
          1.348780463576066,
          1.3588174094611405,
          1.368854355346215,
          1.3788913012312893,
          1.3889282471163638,
          1.3989651930014382,
          1.4090021388865126,
          1.419039084771587,
          1.4290760306566614,
          1.4391129765417359,
          1.4491499224268103,
          1.4591868683118845,
          1.469223814196959,
          1.4792607600820333,
          1.4892977059671078
         ],
         "y": [
          0.709723280142852,
          0.7218244643530789,
          0.7339256485633059,
          0.7460268327735328,
          0.7581280169837596,
          0.7702292011939866,
          0.7823303854042135,
          0.7944315696144404,
          0.8065327538246674,
          0.8186339380348943,
          0.8307351222451211,
          0.8428363064553481,
          0.854937490665575,
          0.8670386748758019,
          0.8791398590860289,
          0.8912410432962558,
          0.9033422275064826,
          0.9154434117167095,
          0.9275445959269364,
          0.9396457801371634
         ]
        },
        {
         "hoverinfo": "skip",
         "line": {
          "color": "gray",
          "dash": "dash",
          "width": 0.25
         },
         "marker": {
          "angleref": "previous",
          "color": "gray",
          "size": 5,
          "symbol": "arrow-bar-up"
         },
         "mode": "lines+markers",
         "showlegend": false,
         "type": "scatter",
         "x": [
          1.3090631802357842,
          1.8597512675194554
         ],
         "y": [
          0.6854708784127319,
          0.6504716426892977
         ]
        },
        {
         "hoverinfo": "text",
         "hovertext": "<b>DC 2 -> Market 14</b><br>Capacity: 100<br>Variable Cost: 0.59<br>Fixed Cost: 0.00<br>Flow: 0.00<br>Utilisation: 0.00<br>Total Variable Cost: 0.00<br>Total Cost: 0.00<br>",
         "line": {
          "color": "gray",
          "dash": "dash",
          "width": 0
         },
         "mode": "lines",
         "showlegend": false,
         "type": "scatter",
         "x": [
          1.3090631802357842,
          1.33804676377703,
          1.3670303473182759,
          1.3960139308595216,
          1.4249975144007676,
          1.4539810979420134,
          1.4829646814832593,
          1.511948265024505,
          1.540931848565751,
          1.5699154321069968,
          1.5988990156482428,
          1.6278825991894885,
          1.6568661827307345,
          1.6858497662719802,
          1.714833349813226,
          1.743816933354472,
          1.772800516895718,
          1.8017841004369637,
          1.8307676839782094,
          1.8597512675194554
         ],
         "y": [
          0.6854708784127319,
          0.6836288133746564,
          0.6817867483365809,
          0.6799446832985054,
          0.67810261826043,
          0.6762605532223545,
          0.674418488184279,
          0.6725764231462035,
          0.670734358108128,
          0.6688922930700525,
          0.6670502280319771,
          0.6652081629939016,
          0.6633660979558261,
          0.6615240329177506,
          0.6596819678796751,
          0.6578399028415997,
          0.6559978378035242,
          0.6541557727654487,
          0.6523137077273732,
          0.6504716426892977
         ]
        },
        {
         "hoverinfo": "skip",
         "line": {
          "color": "rgba(93.05882352941182, 184.64705882352942, 96.76470588235296, 1.0)",
          "dash": "solid",
          "width": 0.5078571428571428
         },
         "marker": {
          "angleref": "previous",
          "color": "rgba(93.05882352941182, 184.64705882352942, 96.76470588235296, 1.0)",
          "size": 5,
          "symbol": "arrow-bar-up"
         },
         "mode": "lines+markers",
         "showlegend": false,
         "type": "scatter",
         "x": [
          0.9365219169561032,
          0.3134063389889559
         ],
         "y": [
          0.5353720364493479,
          0.28678138762205424
         ]
        },
        {
         "hoverinfo": "text",
         "hovertext": "<b>DC 3 -> Market 0</b><br>Capacity: 100<br>Variable Cost: 0.71<br>Fixed Cost: 0.00<br>Flow: 19.0<br>Utilisation: 0.19<br>Total Variable Cost: 13.5<br>Total Cost: 13.5<br>",
         "line": {
          "color": "rgba(93.05882352941182, 184.64705882352942, 96.76470588235296, 1.0)",
          "dash": "solid",
          "width": 0
         },
         "mode": "lines",
         "showlegend": false,
         "type": "scatter",
         "x": [
          0.9365219169561032,
          0.9037263602209902,
          0.8709308034858771,
          0.8381352467507641,
          0.8053396900156511,
          0.7725441332805381,
          0.7397485765454251,
          0.7069530198103121,
          0.6741574630751991,
          0.641361906340086,
          0.608566349604973,
          0.5757707928698601,
          0.5429752361347471,
          0.510179679399634,
          0.477384122664521,
          0.444588565929408,
          0.41179300919429496,
          0.3789974524591819,
          0.3462018957240689,
          0.3134063389889559
         ],
         "y": [
          0.5353720364493479,
          0.5222883180900167,
          0.5092045997306854,
          0.4961208813713542,
          0.48303716301202293,
          0.46995344465269173,
          0.4568697262933604,
          0.4437860079340292,
          0.43070228957469797,
          0.4176185712153667,
          0.40453485285603547,
          0.3914511344967042,
          0.37836741613737296,
          0.3652836977780417,
          0.3521999794187105,
          0.3391162610593792,
          0.326032542700048,
          0.3129488243407167,
          0.2998651059813855,
          0.28678138762205424
         ]
        },
        {
         "hoverinfo": "skip",
         "line": {
          "color": "gray",
          "dash": "dash",
          "width": 0.25
         },
         "marker": {
          "angleref": "previous",
          "color": "gray",
          "size": 5,
          "symbol": "arrow-bar-up"
         },
         "mode": "lines+markers",
         "showlegend": false,
         "type": "scatter",
         "x": [
          0.9964180423525135,
          1.9237639110672449
         ],
         "y": [
          0.5531601027847963,
          0.7389925277155954
         ]
        },
        {
         "hoverinfo": "text",
         "hovertext": "<b>DC 3 -> Market 1</b><br>Capacity: 100<br>Variable Cost: 0.98<br>Fixed Cost: 0.00<br>Flow: 0.00<br>Utilisation: 0.00<br>Total Variable Cost: 0.00<br>Total Cost: 0.00<br>",
         "line": {
          "color": "gray",
          "dash": "dash",
          "width": 0
         },
         "mode": "lines",
         "showlegend": false,
         "type": "scatter",
         "x": [
          0.9964180423525135,
          1.0452257196532888,
          1.094033396954064,
          1.1428410742548396,
          1.191648751555615,
          1.2404564288563902,
          1.2892641061571655,
          1.338071783457941,
          1.3868794607587163,
          1.4356871380594916,
          1.4844948153602668,
          1.5333024926610421,
          1.5821101699618176,
          1.630917847262593,
          1.6797255245633682,
          1.7285332018641437,
          1.7773408791649188,
          1.8261485564656943,
          1.8749562337664696,
          1.9237639110672449
         ],
         "y": [
          0.5531601027847963,
          0.5629407567285226,
          0.5727214106722489,
          0.5825020646159751,
          0.5922827185597014,
          0.6020633725034277,
          0.611844026447154,
          0.6216246803908803,
          0.6314053343346064,
          0.6411859882783327,
          0.650966642222059,
          0.6607472961657853,
          0.6705279501095116,
          0.6803086040532378,
          0.6900892579969641,
          0.6998699119406904,
          0.7096505658844167,
          0.719431219828143,
          0.7292118737718691,
          0.7389925277155954
         ]
        },
        {
         "hoverinfo": "skip",
         "line": {
          "color": "rgba(247.52941176470588, 134.49019607843138, 78.76470588235296, 1.0)",
          "dash": "solid",
          "width": 1.2814285714285714
         },
         "marker": {
          "angleref": "previous",
          "color": "rgba(247.52941176470588, 134.49019607843138, 78.76470588235296, 1.0)",
          "size": 5.1257142857142854,
          "symbol": "arrow-bar-up"
         },
         "mode": "lines+markers",
         "showlegend": false,
         "type": "scatter",
         "x": [
          0.9407076699983258,
          0.4959081562470532
         ],
         "y": [
          0.5279824656475808,
          0.18903136375475374
         ]
        },
        {
         "hoverinfo": "text",
         "hovertext": "<b>DC 3 -> Market 2</b><br>Capacity: 100<br>Variable Cost: 0.60<br>Fixed Cost: 0.00<br>Flow: 76.0<br>Utilisation: 0.76<br>Total Variable Cost: 45.6<br>Total Cost: 45.6<br>",
         "line": {
          "color": "rgba(247.52941176470588, 134.49019607843138, 78.76470588235296, 1.0)",
          "dash": "solid",
          "width": 0
         },
         "mode": "lines",
         "showlegend": false,
         "type": "scatter",
         "x": [
          0.9407076699983258,
          0.9172971692745746,
          0.8938866685508234,
          0.8704761678270723,
          0.847065667103321,
          0.8236551663795698,
          0.8002446656558186,
          0.7768341649320675,
          0.7534236642083163,
          0.730013163484565,
          0.706602662760814,
          0.6831921620370627,
          0.6597816613133115,
          0.6363711605895603,
          0.6129606598658092,
          0.589550159142058,
          0.5661396584183067,
          0.5427291576945557,
          0.5193186569708044,
          0.4959081562470532
         ],
         "y": [
          0.5279824656475808,
          0.5101429339690109,
          0.4923034022904411,
          0.47446387061187123,
          0.4566243389333014,
          0.43878480725473157,
          0.4209452755761617,
          0.40310574389759185,
          0.385266212219022,
          0.3674266805404522,
          0.34958714886188236,
          0.33174761718331247,
          0.31390808550474264,
          0.2960685538261728,
          0.2782290221476029,
          0.2603894904690331,
          0.24254995879046326,
          0.22471042711189343,
          0.2068708954333236,
          0.18903136375475374
         ]
        },
        {
         "hoverinfo": "skip",
         "line": {
          "color": "gray",
          "dash": "dash",
          "width": 0.25
         },
         "marker": {
          "angleref": "previous",
          "color": "gray",
          "size": 5,
          "symbol": "arrow-bar-up"
         },
         "mode": "lines+markers",
         "showlegend": false,
         "type": "scatter",
         "x": [
          0.9743528136082988,
          1.0565944596749963
         ],
         "y": [
          0.577137977435114,
          0.8622772757727037
         ]
        },
        {
         "hoverinfo": "text",
         "hovertext": "<b>DC 3 -> Market 3</b><br>Capacity: 100<br>Variable Cost: 0.33<br>Fixed Cost: 0.00<br>Flow: 0.00<br>Utilisation: 0.00<br>Total Variable Cost: 0.00<br>Total Cost: 0.00<br>",
         "line": {
          "color": "gray",
          "dash": "dash",
          "width": 0
         },
         "mode": "lines",
         "showlegend": false,
         "type": "scatter",
         "x": [
          0.9743528136082988,
          0.9786813212960198,
          0.9830098289837407,
          0.9873383366714616,
          0.9916668443591825,
          0.9959953520469035,
          1.0003238597346245,
          1.0046523674223453,
          1.0089808751100662,
          1.013309382797787,
          1.0176378904855081,
          1.021966398173229,
          1.0262949058609498,
          1.0306234135486707,
          1.0349519212363918,
          1.0392804289241127,
          1.0436089366118335,
          1.0479374442995544,
          1.0522659519872755,
          1.0565944596749963
         ],
         "y": [
          0.577137977435114,
          0.592145308926566,
          0.6071526404180182,
          0.6221599719094703,
          0.6371673034009223,
          0.6521746348923745,
          0.6671819663838265,
          0.6821892978752786,
          0.6971966293667307,
          0.7122039608581828,
          0.7272112923496349,
          0.742218623841087,
          0.7572259553325391,
          0.7722332868239912,
          0.7872406183154432,
          0.8022479498068954,
          0.8172552812983475,
          0.8322626127897996,
          0.8472699442812517,
          0.8622772757727037
         ]
        },
        {
         "hoverinfo": "skip",
         "line": {
          "color": "rgba(165.0, 0.0, 38.0, 1.0)",
          "dash": "solid",
          "width": 1.607142857142857
         },
         "marker": {
          "angleref": "previous",
          "color": "rgba(165.0, 0.0, 38.0, 1.0)",
          "size": 6.428571428571428,
          "symbol": "arrow-bar-up"
         },
         "mode": "lines+markers",
         "showlegend": false,
         "type": "scatter",
         "x": [
          0.9386495638911618,
          0.29426855909012845
         ],
         "y": [
          0.5629519536936671,
          0.9436142860812293
         ]
        },
        {
         "hoverinfo": "text",
         "hovertext": "<b>DC 3 -> Market 4</b><br>Capacity: 100<br>Variable Cost: 0.79<br>Fixed Cost: 0.00<br>Flow: 100<br>Utilisation: 1.00<br>Total Variable Cost: 79.1<br>Total Cost: 79.1<br>",
         "line": {
          "color": "rgba(165.0, 0.0, 38.0, 1.0)",
          "dash": "solid",
          "width": 0
         },
         "mode": "lines",
         "showlegend": false,
         "type": "scatter",
         "x": [
          0.9386495638911618,
          0.9047347741647916,
          0.8708199844384215,
          0.8369051947120513,
          0.8029904049856811,
          0.7690756152593109,
          0.7351608255329407,
          0.7012460358065706,
          0.6673312460802003,
          0.6334164563538303,
          0.59950166662746,
          0.5655868769010899,
          0.5316720871747197,
          0.4977572974483495,
          0.4638425077219793,
          0.42992771799560914,
          0.39601292826923895,
          0.36209813854286876,
          0.3281833488164986,
          0.29426855909012845
         ],
         "y": [
          0.5629519536936671,
          0.5829868132930125,
          0.6030216728923579,
          0.6230565324917032,
          0.6430913920910486,
          0.663126251690394,
          0.6831611112897393,
          0.7031959708890848,
          0.7232308304884302,
          0.7432656900877755,
          0.7633005496871209,
          0.7833354092864663,
          0.8033702688858116,
          0.823405128485157,
          0.8434399880845025,
          0.8634748476838479,
          0.8835097072831932,
          0.9035445668825386,
          0.923579426481884,
          0.9436142860812293
         ]
        },
        {
         "hoverinfo": "skip",
         "line": {
          "color": "rgba(217.84313725490196, 53.98039215686274, 41.74509803921569, 1.0)",
          "dash": "solid",
          "width": 1.4578571428571427
         },
         "marker": {
          "angleref": "previous",
          "color": "rgba(217.84313725490196, 53.98039215686274, 41.74509803921569, 1.0)",
          "size": 5.831428571428571,
          "symbol": "arrow-bar-up"
         },
         "mode": "lines+markers",
         "showlegend": false,
         "type": "scatter",
         "x": [
          0.9485723782655627,
          0.8632000969378801
         ],
         "y": [
          0.573304901870665,
          0.7047531574813509
         ]
        },
        {
         "hoverinfo": "text",
         "hovertext": "<b>DC 3 -> Market 5</b><br>Capacity: 100<br>Variable Cost: 0.20<br>Fixed Cost: 0.00<br>Flow: 89.0<br>Utilisation: 0.89<br>Total Variable Cost: 17.7<br>Total Cost: 17.7<br>",
         "line": {
          "color": "rgba(217.84313725490196, 53.98039215686274, 41.74509803921569, 1.0)",
          "dash": "solid",
          "width": 0
         },
         "mode": "lines",
         "showlegend": false,
         "type": "scatter",
         "x": [
          0.9485723782655627,
          0.9440791003009479,
          0.939585822336333,
          0.9350925443717181,
          0.9305992664071032,
          0.9261059884424884,
          0.9216127104778735,
          0.9171194325132586,
          0.9126261545486437,
          0.9081328765840289,
          0.903639598619414,
          0.8991463206547992,
          0.8946530426901842,
          0.8901597647255693,
          0.8856664867609545,
          0.8811732087963396,
          0.8766799308317248,
          0.8721866528671098,
          0.867693374902495,
          0.8632000969378801
         ],
         "y": [
          0.573304901870665,
          0.5802232311133326,
          0.5871415603560003,
          0.594059889598668,
          0.6009782188413357,
          0.6078965480840034,
          0.6148148773266711,
          0.6217332065693387,
          0.6286515358120064,
          0.635569865054674,
          0.6424881942973417,
          0.6494065235400095,
          0.6563248527826772,
          0.6632431820253448,
          0.6701615112680125,
          0.6770798405106802,
          0.6839981697533479,
          0.6909164989960156,
          0.6978348282386833,
          0.7047531574813509
         ]
        },
        {
         "hoverinfo": "skip",
         "line": {
          "color": "rgba(253.1764705882353, 182.8235294117647, 104.41176470588235, 1.0)",
          "dash": "solid",
          "width": 1.1728571428571428
         },
         "marker": {
          "angleref": "previous",
          "color": "rgba(253.1764705882353, 182.8235294117647, 104.41176470588235, 1.0)",
          "size": 5,
          "symbol": "arrow-bar-up"
         },
         "mode": "lines+markers",
         "showlegend": false,
         "type": "scatter",
         "x": [
          0.9432225102551495,
          0.6654259936856249
         ],
         "y": [
          0.525071436995847,
          0.25361179297016784
         ]
        },
        {
         "hoverinfo": "text",
         "hovertext": "<b>DC 3 -> Market 6</b><br>Capacity: 100<br>Variable Cost: 0.43<br>Fixed Cost: 0.00<br>Flow: 68.0<br>Utilisation: 0.68<br>Total Variable Cost: 29.2<br>Total Cost: 29.2<br>",
         "line": {
          "color": "rgba(253.1764705882353, 182.8235294117647, 104.41176470588235, 1.0)",
          "dash": "solid",
          "width": 0
         },
         "mode": "lines",
         "showlegend": false,
         "type": "scatter",
         "x": [
          0.9432225102551495,
          0.9286016409620166,
          0.9139807716688837,
          0.8993599023757508,
          0.884739033082618,
          0.8701181637894851,
          0.8554972944963523,
          0.8408764252032194,
          0.8262555559100865,
          0.8116346866169537,
          0.7970138173238208,
          0.7823929480306879,
          0.767772078737555,
          0.7531512094444222,
          0.7385303401512893,
          0.7239094708581564,
          0.7092886015650235,
          0.6946677322718907,
          0.6800468629787578,
          0.6654259936856249
         ],
         "y": [
          0.525071436995847,
          0.5107840873102849,
          0.4964967376247229,
          0.48220938793916085,
          0.4679220382535988,
          0.4536346885680367,
          0.4393473388824747,
          0.42505998919691257,
          0.4107726395113505,
          0.39648528982578846,
          0.3821979401402264,
          0.36791059045466434,
          0.3536232407691023,
          0.33933589108354023,
          0.3250485413979781,
          0.3107611917124161,
          0.296473842026854,
          0.282186492341292,
          0.2678991426557299,
          0.25361179297016784
         ]
        },
        {
         "hoverinfo": "skip",
         "line": {
          "color": "gray",
          "dash": "dash",
          "width": 0.25
         },
         "marker": {
          "angleref": "previous",
          "color": "gray",
          "size": 5,
          "symbol": "arrow-bar-up"
         },
         "mode": "lines+markers",
         "showlegend": false,
         "type": "scatter",
         "x": [
          0.996833866457578,
          1.4197272086723915
         ],
         "y": [
          0.5504947432171914,
          0.5979523788139459
         ]
        },
        {
         "hoverinfo": "text",
         "hovertext": "<b>DC 3 -> Market 7</b><br>Capacity: 100<br>Variable Cost: 0.47<br>Fixed Cost: 0.00<br>Flow: 0.00<br>Utilisation: 0.00<br>Total Variable Cost: 0.00<br>Total Cost: 0.00<br>",
         "line": {
          "color": "gray",
          "dash": "dash",
          "width": 0
         },
         "mode": "lines",
         "showlegend": false,
         "type": "scatter",
         "x": [
          0.996833866457578,
          1.0190914107846734,
          1.041348955111769,
          1.0636064994388643,
          1.0858640437659597,
          1.1081215880930553,
          1.1303791324201506,
          1.1526366767472462,
          1.1748942210743416,
          1.197151765401437,
          1.2194093097285326,
          1.241666854055628,
          1.2639243983827235,
          1.286181942709819,
          1.3084394870369143,
          1.3306970313640099,
          1.3529545756911052,
          1.3752121200182006,
          1.3974696643452962,
          1.4197272086723915
         ],
         "y": [
          0.5504947432171914,
          0.5529925135117574,
          0.5554902838063235,
          0.5579880541008895,
          0.5604858243954555,
          0.5629835946900216,
          0.5654813649845876,
          0.5679791352791536,
          0.5704769055737197,
          0.5729746758682857,
          0.5754724461628516,
          0.5779702164574176,
          0.5804679867519837,
          0.5829657570465497,
          0.5854635273411157,
          0.5879612976356818,
          0.5904590679302478,
          0.5929568382248138,
          0.5954546085193799,
          0.5979523788139459
         ]
        },
        {
         "hoverinfo": "skip",
         "line": {
          "color": "rgba(164.74509803921572, 216.45098039215688, 105.86274509803921, 1.0)",
          "dash": "solid",
          "width": 0.6571428571428571
         },
         "marker": {
          "angleref": "previous",
          "color": "rgba(164.74509803921572, 216.45098039215688, 105.86274509803921, 1.0)",
          "size": 5,
          "symbol": "arrow-bar-up"
         },
         "mode": "lines+markers",
         "showlegend": false,
         "type": "scatter",
         "x": [
          0.9430713878513637,
          0.5109904912418711
         ],
         "y": [
          0.5687653934069932,
          0.9851862906603481
         ]
        },
        {
         "hoverinfo": "text",
         "hovertext": "<b>DC 3 -> Market 8</b><br>Capacity: 100<br>Variable Cost: 0.64<br>Fixed Cost: 0.00<br>Flow: 30.0<br>Utilisation: 0.30<br>Total Variable Cost: 19.1<br>Total Cost: 19.1<br>",
         "line": {
          "color": "rgba(164.74509803921572, 216.45098039215688, 105.86274509803921, 1.0)",
          "dash": "solid",
          "width": 0
         },
         "mode": "lines",
         "showlegend": false,
         "type": "scatter",
         "x": [
          0.9430713878513637,
          0.9203302880298114,
          0.8975891882082592,
          0.8748480883867069,
          0.8521069885651548,
          0.8293658887436025,
          0.8066247889220503,
          0.783883689100498,
          0.7611425892789457,
          0.7384014894573936,
          0.7156603896358413,
          0.6929192898142891,
          0.6701781899927368,
          0.6474370901711846,
          0.6246959903496323,
          0.60195489052808,
          0.5792137907065278,
          0.5564726908849755,
          0.5337315910634234,
          0.5109904912418711
         ],
         "y": [
          0.5687653934069932,
          0.5906822827361171,
          0.6125991720652411,
          0.634516061394365,
          0.656432950723489,
          0.6783498400526129,
          0.7002667293817368,
          0.7221836187108608,
          0.7441005080399847,
          0.7660173973691087,
          0.7879342866982326,
          0.8098511760273566,
          0.8317680653564805,
          0.8536849546856045,
          0.8756018440147284,
          0.8975187333438523,
          0.9194356226729763,
          0.9413525120021002,
          0.9632694013312242,
          0.9851862906603481
         ]
        },
        {
         "hoverinfo": "skip",
         "line": {
          "color": "gray",
          "dash": "dash",
          "width": 0.25
         },
         "marker": {
          "angleref": "previous",
          "color": "gray",
          "size": 5,
          "symbol": "arrow-bar-up"
         },
         "mode": "lines+markers",
         "showlegend": false,
         "type": "scatter",
         "x": [
          0.9767969755639867,
          1.097760797219571
         ],
         "y": [
          0.5176696552162499,
          0.1991638035532742
         ]
        },
        {
         "hoverinfo": "text",
         "hovertext": "<b>DC 3 -> Market 9</b><br>Capacity: 100<br>Variable Cost: 0.38<br>Fixed Cost: 0.00<br>Flow: 0.00<br>Utilisation: 0.00<br>Total Variable Cost: 0.00<br>Total Cost: 0.00<br>",
         "line": {
          "color": "gray",
          "dash": "dash",
          "width": 0
         },
         "mode": "lines",
         "showlegend": false,
         "type": "scatter",
         "x": [
          0.9767969755639867,
          0.983163492493228,
          0.9895300094224693,
          0.9958965263517106,
          1.0022630432809518,
          1.0086295602101931,
          1.0149960771394344,
          1.0213625940686757,
          1.027729110997917,
          1.0340956279271583,
          1.0404621448563995,
          1.0468286617856408,
          1.053195178714882,
          1.0595616956441234,
          1.0659282125733647,
          1.072294729502606,
          1.0786612464318472,
          1.0850277633610885,
          1.0913942802903298,
          1.097760797219571
         ],
         "y": [
          0.5176696552162499,
          0.5009061893392511,
          0.4841427234622524,
          0.46737925758525367,
          0.450615791708255,
          0.43385232583125627,
          0.41708885995425754,
          0.4003253940772588,
          0.38356192820026014,
          0.3667984623232614,
          0.3500349964462627,
          0.33327153056926395,
          0.3165080646922652,
          0.2997445988152665,
          0.28298113293826777,
          0.2662176670612691,
          0.24945420118427036,
          0.23269073530727163,
          0.2159272694302729,
          0.1991638035532742
         ]
        },
        {
         "hoverinfo": "skip",
         "line": {
          "color": "gray",
          "dash": "dash",
          "width": 0.25
         },
         "marker": {
          "angleref": "previous",
          "color": "gray",
          "size": 5,
          "symbol": "arrow-bar-up"
         },
         "mode": "lines+markers",
         "showlegend": false,
         "type": "scatter",
         "x": [
          0.9896674227894353,
          1.3879186057884865
         ],
         "y": [
          0.5268045724044494,
          0.1918628271021938
         ]
        },
        {
         "hoverinfo": "text",
         "hovertext": "<b>DC 3 -> Market 10</b><br>Capacity: 100<br>Variable Cost: 0.56<br>Fixed Cost: 0.00<br>Flow: 0.00<br>Utilisation: 0.00<br>Total Variable Cost: 0.00<br>Total Cost: 0.00<br>",
         "line": {
          "color": "gray",
          "dash": "dash",
          "width": 0
         },
         "mode": "lines",
         "showlegend": false,
         "type": "scatter",
         "x": [
          0.9896674227894353,
          1.0106280113683328,
          1.03158859994723,
          1.0525491885261276,
          1.073509777105025,
          1.0944703656839225,
          1.1154309542628198,
          1.1363915428417173,
          1.1573521314206148,
          1.1783127199995123,
          1.1992733085784095,
          1.220233897157307,
          1.2411944857362045,
          1.262155074315102,
          1.2831156628939993,
          1.3040762514728967,
          1.3250368400517942,
          1.3459974286306915,
          1.366958017209589,
          1.3879186057884865
         ],
         "y": [
          0.5268045724044494,
          0.5091760594938044,
          0.49154754658315936,
          0.4739190336725143,
          0.4562905207618693,
          0.4386620078512243,
          0.42103349494057923,
          0.4034049820299342,
          0.3857764691192892,
          0.36814795620864416,
          0.3505194432979991,
          0.33289093038735407,
          0.315262417476709,
          0.297633904566064,
          0.28000539165541893,
          0.26237687874477394,
          0.2447483658341289,
          0.22711985292348386,
          0.2094913400128388,
          0.1918628271021938
         ]
        },
        {
         "hoverinfo": "skip",
         "line": {
          "color": "gray",
          "dash": "dash",
          "width": 0.25
         },
         "marker": {
          "angleref": "previous",
          "color": "gray",
          "size": 5,
          "symbol": "arrow-bar-up"
         },
         "mode": "lines+markers",
         "showlegend": false,
         "type": "scatter",
         "x": [
          0.9806295010134266,
          1.1848777815298928
         ],
         "y": [
          0.5745642035441797,
          0.9506879374437204
         ]
        },
        {
         "hoverinfo": "text",
         "hovertext": "<b>DC 3 -> Market 11</b><br>Capacity: 100<br>Variable Cost: 0.47<br>Fixed Cost: 0.00<br>Flow: 0.00<br>Utilisation: 0.00<br>Total Variable Cost: 0.00<br>Total Cost: 0.00<br>",
         "line": {
          "color": "gray",
          "dash": "dash",
          "width": 0
         },
         "mode": "lines",
         "showlegend": false,
         "type": "scatter",
         "x": [
          0.9806295010134266,
          0.9913794105142932,
          1.00212932001516,
          1.0128792295160265,
          1.0236291390168932,
          1.0343790485177597,
          1.0451289580186265,
          1.055878867519493,
          1.0666287770203597,
          1.0773786865212265,
          1.088128596022093,
          1.0988785055229597,
          1.1096284150238263,
          1.120378324524693,
          1.1311282340255595,
          1.1418781435264262,
          1.1526280530272928,
          1.1633779625281595,
          1.1741278720290262,
          1.1848777815298928
         ],
         "y": [
          0.5745642035441797,
          0.5943601895388924,
          0.614156175533605,
          0.6339521615283177,
          0.6537481475230303,
          0.673544133517743,
          0.6933401195124557,
          0.7131361055071683,
          0.7329320915018811,
          0.7527280774965937,
          0.7725240634913064,
          0.7923200494860191,
          0.8121160354807317,
          0.8319120214754444,
          0.8517080074701571,
          0.8715039934648697,
          0.8912999794595824,
          0.911095965454295,
          0.9308919514490077,
          0.9506879374437204
         ]
        },
        {
         "hoverinfo": "skip",
         "line": {
          "color": "gray",
          "dash": "dash",
          "width": 0.25
         },
         "marker": {
          "angleref": "previous",
          "color": "gray",
          "size": 5,
          "symbol": "arrow-bar-up"
         },
         "mode": "lines+markers",
         "showlegend": false,
         "type": "scatter",
         "x": [
          0.9970100154185991,
          1.6841624039574057
         ],
         "y": [
          0.5481032779920507,
          0.5723666724061396
         ]
        },
        {
         "hoverinfo": "text",
         "hovertext": "<b>DC 3 -> Market 12</b><br>Capacity: 100<br>Variable Cost: 0.73<br>Fixed Cost: 0.00<br>Flow: 0.00<br>Utilisation: 0.00<br>Total Variable Cost: 0.00<br>Total Cost: 0.00<br>",
         "line": {
          "color": "gray",
          "dash": "dash",
          "width": 0
         },
         "mode": "lines",
         "showlegend": false,
         "type": "scatter",
         "x": [
          0.9970100154185991,
          1.033175930604852,
          1.069341845791105,
          1.105507760977358,
          1.141673676163611,
          1.177839591349864,
          1.214005506536117,
          1.2501714217223698,
          1.2863373369086228,
          1.3225032520948758,
          1.3586691672811289,
          1.3948350824673819,
          1.4310009976536349,
          1.4671669128398879,
          1.5033328280261409,
          1.5394987432123939,
          1.575664658398647,
          1.6118305735849,
          1.647996488771153,
          1.6841624039574057
         ],
         "y": [
          0.5481032779920507,
          0.549380298750687,
          0.5506573195093233,
          0.5519343402679595,
          0.5532113610265957,
          0.554488381785232,
          0.5557654025438683,
          0.5570424233025045,
          0.5583194440611408,
          0.559596464819777,
          0.5608734855784133,
          0.5621505063370495,
          0.5634275270956858,
          0.564704547854322,
          0.5659815686129583,
          0.5672585893715946,
          0.5685356101302308,
          0.569812630888867,
          0.5710896516475034,
          0.5723666724061396
         ]
        },
        {
         "hoverinfo": "skip",
         "line": {
          "color": "gray",
          "dash": "dash",
          "width": 0.25
         },
         "marker": {
          "angleref": "previous",
          "color": "gray",
          "size": 5,
          "symbol": "arrow-bar-up"
         },
         "mode": "lines+markers",
         "showlegend": false,
         "type": "scatter",
         "x": [
          0.9906849448957211,
          1.487551818941757
         ],
         "y": [
          0.5659121887606626,
          0.9414723916589262
         ]
        },
        {
         "hoverinfo": "text",
         "hovertext": "<b>DC 3 -> Market 13</b><br>Capacity: 100<br>Variable Cost: 0.67<br>Fixed Cost: 0.00<br>Flow: 0.00<br>Utilisation: 0.00<br>Total Variable Cost: 0.00<br>Total Cost: 0.00<br>",
         "line": {
          "color": "gray",
          "dash": "dash",
          "width": 0
         },
         "mode": "lines",
         "showlegend": false,
         "type": "scatter",
         "x": [
          0.9906849448957211,
          1.0168358330034073,
          1.0429867211110933,
          1.0691376092187794,
          1.0952884973264654,
          1.1214393854341516,
          1.1475902735418377,
          1.1737411616495237,
          1.1998920497572099,
          1.226042937864896,
          1.252193825972582,
          1.2783447140802682,
          1.3044956021879544,
          1.3306464902956403,
          1.3567973784033265,
          1.3829482665110127,
          1.4090991546186986,
          1.4352500427263846,
          1.4614009308340707,
          1.487551818941757
         ],
         "y": [
          0.5659121887606626,
          0.5856785152289923,
          0.6054448416973219,
          0.6252111681656516,
          0.6449774946339812,
          0.6647438211023109,
          0.6845101475706405,
          0.7042764740389702,
          0.7240428005072999,
          0.7438091269756295,
          0.7635754534439592,
          0.7833417799122889,
          0.8031081063806186,
          0.8228744328489482,
          0.8426407593172779,
          0.8624070857856075,
          0.8821734122539372,
          0.9019397387222668,
          0.9217060651905965,
          0.9414723916589262
         ]
        },
        {
         "hoverinfo": "skip",
         "line": {
          "color": "gray",
          "dash": "dash",
          "width": 0.25
         },
         "marker": {
          "angleref": "previous",
          "color": "gray",
          "size": 5,
          "symbol": "arrow-bar-up"
         },
         "mode": "lines+markers",
         "showlegend": false,
         "type": "scatter",
         "x": [
          0.9968258838048747,
          1.8597788269309465
         ],
         "y": [
          0.5505651586078386,
          0.6493813340897022
         ]
        },
        {
         "hoverinfo": "text",
         "hovertext": "<b>DC 3 -> Market 14</b><br>Capacity: 100<br>Variable Cost: 0.91<br>Fixed Cost: 0.00<br>Flow: 0.00<br>Utilisation: 0.00<br>Total Variable Cost: 0.00<br>Total Cost: 0.00<br>",
         "line": {
          "color": "gray",
          "dash": "dash",
          "width": 0
         },
         "mode": "lines",
         "showlegend": false,
         "type": "scatter",
         "x": [
          0.9968258838048747,
          1.0422444597588785,
          1.0876630357128823,
          1.133081611666886,
          1.1785001876208898,
          1.2239187635748936,
          1.2693373395288974,
          1.3147559154829012,
          1.360174491436905,
          1.4055930673909087,
          1.4510116433449125,
          1.4964302192989163,
          1.54184879525292,
          1.5872673712069238,
          1.6326859471609276,
          1.6781045231149314,
          1.7235230990689352,
          1.768941675022939,
          1.8143602509769428,
          1.8597788269309465
         ],
         "y": [
          0.5505651586078386,
          0.5557660099489893,
          0.5609668612901401,
          0.5661677126312907,
          0.5713685639724415,
          0.5765694153135922,
          0.581770266654743,
          0.5869711179958936,
          0.5921719693370443,
          0.5973728206781951,
          0.6025736720193458,
          0.6077745233604965,
          0.6129753747016472,
          0.6181762260427979,
          0.6233770773839487,
          0.6285779287250993,
          0.6337787800662501,
          0.6389796314074008,
          0.6441804827485516,
          0.6493813340897022
         ]
        },
        {
         "hoverinfo": "skip",
         "line": {
          "color": "gray",
          "dash": "dash",
          "width": 0.25
         },
         "marker": {
          "angleref": "previous",
          "color": "gray",
          "size": 5,
          "symbol": "arrow-bar-up"
         },
         "mode": "lines+markers",
         "showlegend": false,
         "type": "scatter",
         "x": [
          0.2519188301311079,
          1.5048157250077843
         ],
         "y": [
          0.12687929627971428,
          0.8557967177473869
         ]
        },
        {
         "hoverinfo": "text",
         "hovertext": "<b>Factory 1 -> DC 0</b><br>Capacity: 350<br>Variable Cost: 1.48<br>Fixed Cost: 0.00<br>Flow: 0.00<br>Utilisation: 0.00<br>Total Variable Cost: 0.00<br>Total Cost: 0.00<br>",
         "line": {
          "color": "gray",
          "dash": "dash",
          "width": 0
         },
         "mode": "lines",
         "showlegend": false,
         "type": "scatter",
         "x": [
          0.2519188301311079,
          0.3178607719667224,
          0.383802713802337,
          0.4497446556379515,
          0.515686597473566,
          0.5816285393091806,
          0.6475704811447951,
          0.7135124229804097,
          0.7794543648160241,
          0.8453963066516388,
          0.9113382484872532,
          0.9772801903228678,
          1.0432221321584825,
          1.1091640739940969,
          1.1751060158297115,
          1.241047957665326,
          1.3069898995009406,
          1.3729318413365552,
          1.4388737831721696,
          1.5048157250077843
         ],
         "y": [
          0.12687929627971428,
          0.16524337109380233,
          0.20360744590789034,
          0.24197152072197836,
          0.2803355955360664,
          0.31869967035015445,
          0.35706374516424244,
          0.3954278199783305,
          0.43379189479241853,
          0.4721559696065066,
          0.5105200444205946,
          0.5488841192346826,
          0.5872481940487706,
          0.6256122688628587,
          0.6639763436769467,
          0.7023404184910348,
          0.7407044933051228,
          0.7790685681192108,
          0.8174326429332989,
          0.8557967177473869
         ]
        },
        {
         "hoverinfo": "skip",
         "line": {
          "color": "gray",
          "dash": "dash",
          "width": 0.25
         },
         "marker": {
          "angleref": "previous",
          "color": "gray",
          "size": 5,
          "symbol": "arrow-bar-up"
         },
         "mode": "lines+markers",
         "showlegend": false,
         "type": "scatter",
         "x": [
          0.25446281395184567,
          1.9668147316509652
         ],
         "y": [
          0.1211735541933395,
          0.6732744958428687
         ]
        },
        {
         "hoverinfo": "text",
         "hovertext": "<b>Factory 1 -> DC 1</b><br>Capacity: 350<br>Variable Cost: 1.85<br>Fixed Cost: 0.00<br>Flow: 0.00<br>Utilisation: 0.00<br>Total Variable Cost: 0.00<br>Total Cost: 0.00<br>",
         "line": {
          "color": "gray",
          "dash": "dash",
          "width": 0
         },
         "mode": "lines",
         "showlegend": false,
         "type": "scatter",
         "x": [
          0.25446281395184567,
          0.3445865990939046,
          0.43471038423596353,
          0.5248341693780224,
          0.6149579545200814,
          0.7050817396621403,
          0.7952055248041991,
          0.8853293099462581,
          0.975453095088317,
          1.0655768802303758,
          1.1557006653724349,
          1.2458244505144938,
          1.3359482356565526,
          1.4260720207986115,
          1.5161958059406706,
          1.6063195910827295,
          1.6964433762247884,
          1.7865671613668472,
          1.876690946508906,
          1.9668147316509652
         ],
         "y": [
          0.1211735541933395,
          0.15023149849068315,
          0.17928944278802678,
          0.20834738708537043,
          0.23740533138271408,
          0.2664632756800577,
          0.29552121997740133,
          0.324579164274745,
          0.35363710857208863,
          0.3826950528694323,
          0.41175299716677594,
          0.4408109414641196,
          0.46986888576146324,
          0.4989268300588069,
          0.5279847743561504,
          0.5570427186534941,
          0.5861006629508377,
          0.6151586072481814,
          0.644216551545525,
          0.6732744958428687
         ]
        },
        {
         "hoverinfo": "skip",
         "line": {
          "color": "gray",
          "dash": "dash",
          "width": 0.25
         },
         "marker": {
          "angleref": "previous",
          "color": "gray",
          "size": 5,
          "symbol": "arrow-bar-up"
         },
         "mode": "lines+markers",
         "showlegend": false,
         "type": "scatter",
         "x": [
          0.252306977560489,
          1.2544620510664828
         ],
         "y": [
          0.12619079338221176,
          0.673367121008461
         ]
        },
        {
         "hoverinfo": "text",
         "hovertext": "<b>Factory 1 -> DC 2</b><br>Capacity: 350<br>Variable Cost: 1.20<br>Fixed Cost: 0.00<br>Flow: 0.00<br>Utilisation: 0.00<br>Total Variable Cost: 0.00<br>Total Cost: 0.00<br>",
         "line": {
          "color": "gray",
          "dash": "dash",
          "width": 0
         },
         "mode": "lines",
         "showlegend": false,
         "type": "scatter",
         "x": [
          0.252306977560489,
          0.3050519814292255,
          0.357796985297962,
          0.41054198916669854,
          0.4632869930354351,
          0.5160319969041716,
          0.568777000772908,
          0.6215220046416445,
          0.6742670085103811,
          0.7270120123791177,
          0.7797570162478542,
          0.8325020201165907,
          0.8852470239853272,
          0.9379920278540637,
          0.9907370317228001,
          1.0434820355915368,
          1.0962270394602733,
          1.1489720433290098,
          1.2017170471977463,
          1.2544620510664828
         ],
         "y": [
          0.12619079338221176,
          0.15498954746780383,
          0.18378830155339587,
          0.21258705563898794,
          0.24138580972458,
          0.2701845638101721,
          0.29898331789576416,
          0.3277820719813562,
          0.3565808260669483,
          0.38537958015254037,
          0.41417833423813244,
          0.4429770883237245,
          0.47177584240931647,
          0.5005745964949085,
          0.5293733505805006,
          0.5581721046660927,
          0.5869708587516848,
          0.6157696128372768,
          0.6445683669228689,
          0.673367121008461
         ]
        },
        {
         "hoverinfo": "skip",
         "line": {
          "color": "rgba(165.0, 0.0, 38.0, 1.0)",
          "dash": "solid",
          "width": 5
         },
         "marker": {
          "angleref": "previous",
          "color": "rgba(165.0, 0.0, 38.0, 1.0)",
          "size": 20,
          "symbol": "arrow-bar-up"
         },
         "mode": "lines+markers",
         "showlegend": false,
         "type": "scatter",
         "x": [
          0.2518466045061225,
          0.9386216579619359
         ],
         "y": [
          0.12700274233545894,
          0.5310879341800692
         ]
        },
        {
         "hoverinfo": "text",
         "hovertext": "<b>Factory 1 -> DC 3</b><br>Capacity: 350<br>Variable Cost: 0.86<br>Fixed Cost: 0.00<br>Flow: 350<br>Utilisation: 1.00<br>Total Variable Cost: 300<br>Total Cost: 300<br>",
         "line": {
          "color": "rgba(165.0, 0.0, 38.0, 1.0)",
          "dash": "solid",
          "width": 0
         },
         "mode": "lines",
         "showlegend": false,
         "type": "scatter",
         "x": [
          0.2518466045061225,
          0.2879926599511653,
          0.32413871539620814,
          0.36028477084125093,
          0.3964308262862938,
          0.43257688173133657,
          0.46872293717637936,
          0.5048689926214223,
          0.541015048066465,
          0.5771611035115078,
          0.6133071589565506,
          0.6494532144015934,
          0.6855992698466362,
          0.721745325291679,
          0.7578913807367219,
          0.7940374361817647,
          0.8301834916268075,
          0.8663295470718503,
          0.9024756025168931,
          0.9386216579619359
         ],
         "y": [
          0.12700274233545894,
          0.14827038401149106,
          0.1695380256875232,
          0.19080566736355528,
          0.2120733090395874,
          0.23334095071561953,
          0.2546085923916516,
          0.27587623406768375,
          0.29714387574371587,
          0.318411517419748,
          0.3396791590957801,
          0.3609468007718122,
          0.3822144424478443,
          0.4034820841238764,
          0.42474972579990855,
          0.4460173674759407,
          0.4672850091519728,
          0.4885526508280049,
          0.509820292504037,
          0.5310879341800692
         ]
        },
        {
         "marker": {
          "color": "rgb(31, 119, 180)",
          "line": {
           "width": 2
          },
          "size": 10
         },
         "mode": "markers",
         "name": "DC",
         "showlegend": true,
         "type": "scatter",
         "x": [
          null
         ],
         "y": [
          null
         ]
        },
        {
         "marker": {
          "color": "rgb(255, 127, 14)",
          "line": {
           "width": 2
          },
          "size": 10
         },
         "mode": "markers",
         "name": "Factory",
         "showlegend": true,
         "type": "scatter",
         "x": [
          null
         ],
         "y": [
          null
         ]
        },
        {
         "marker": {
          "color": "rgb(44, 160, 44)",
          "line": {
           "width": 2
          },
          "size": 10
         },
         "mode": "markers",
         "name": "Market",
         "showlegend": true,
         "type": "scatter",
         "x": [
          null
         ],
         "y": [
          null
         ]
        },
        {
         "hoverinfo": "none",
         "marker": {
          "cmax": 1,
          "cmin": 0,
          "colorbar": {
           "tickfont": {
            "color": "white"
           },
           "title": {
            "font": {
             "color": "white"
            },
            "side": "right",
            "text": "Edge Utilisation"
           }
          },
          "colorscale": [
           [
            0,
            "rgb(0,104,55)"
           ],
           [
            0.1,
            "rgb(26,152,80)"
           ],
           [
            0.2,
            "rgb(102,189,99)"
           ],
           [
            0.3,
            "rgb(166,217,106)"
           ],
           [
            0.4,
            "rgb(217,239,139)"
           ],
           [
            0.5,
            "rgb(255,255,191)"
           ],
           [
            0.6,
            "rgb(254,224,139)"
           ],
           [
            0.7,
            "rgb(253,174,97)"
           ],
           [
            0.8,
            "rgb(244,109,67)"
           ],
           [
            0.9,
            "rgb(215,48,39)"
           ],
           [
            1,
            "rgb(165,0,38)"
           ]
          ]
         },
         "mode": "markers",
         "showlegend": false,
         "type": "scatter",
         "x": [
          null
         ],
         "y": [
          null
         ]
        }
       ],
       "layout": {
        "annotations": [
         {
          "bgcolor": "black",
          "font": {
           "color": "white"
          },
          "opacity": 0.8,
          "showarrow": false,
          "text": "Factory 0",
          "x": 1.791804750014033,
          "xref": "x",
          "y": 0.25835724303650404,
          "yref": "y"
         },
         {
          "bgcolor": "black",
          "font": {
           "color": "white"
          },
          "opacity": 0.8,
          "showarrow": false,
          "text": "DC 0",
          "x": 1.508607936991218,
          "xref": "x",
          "y": 0.8799394888862336,
          "yref": "y"
         },
         {
          "bgcolor": "black",
          "font": {
           "color": "white"
          },
          "opacity": 0.8,
          "showarrow": false,
          "text": "DC 1",
          "x": 1.9828897758129702,
          "xref": "x",
          "y": 0.7128966071186001,
          "yref": "y"
         },
         {
          "bgcolor": "black",
          "font": {
           "color": "white"
          },
          "opacity": 0.8,
          "showarrow": false,
          "text": "DC 2",
          "x": 1.2800117624431913,
          "xref": "x",
          "y": 0.733976500329671,
          "yref": "y"
         },
         {
          "bgcolor": "black",
          "font": {
           "color": "white"
          },
          "opacity": 0.8,
          "showarrow": false,
          "text": "DC 3",
          "x": 0.9656591573618822,
          "xref": "x",
          "y": 0.5959158866399181,
          "yref": "y"
         },
         {
          "bgcolor": "black",
          "font": {
           "color": "white"
          },
          "opacity": 0.8,
          "showarrow": false,
          "text": "Factory 1",
          "x": 0.22675726618378045,
          "xref": "x",
          "y": 0.15889990534438153,
          "yref": "y"
         },
         {
          "bgcolor": "black",
          "font": {
           "color": "white"
          },
          "opacity": 0.8,
          "showarrow": false,
          "text": "Market 0",
          "x": 0.3080848014617559,
          "xref": "x",
          "y": 0.3079369790876274,
          "yref": "y"
         },
         {
          "bgcolor": "black",
          "font": {
           "color": "white"
          },
          "opacity": 0.8,
          "showarrow": false,
          "text": "Market 1",
          "x": 1.929658658603603,
          "xref": "x",
          "y": 0.7637349393976827,
          "yref": "y"
         },
         {
          "bgcolor": "black",
          "font": {
           "color": "white"
          },
          "opacity": 0.8,
          "showarrow": false,
          "text": "Market 2",
          "x": 0.4881486619280888,
          "xref": "x",
          "y": 0.21042326775119125,
          "yref": "y"
         },
         {
          "bgcolor": "black",
          "font": {
           "color": "white"
          },
          "opacity": 0.8,
          "showarrow": false,
          "text": "Market 3",
          "x": 1.058182242777294,
          "xref": "x",
          "y": 0.8910608724721045,
          "yref": "y"
         },
         {
          "bgcolor": "black",
          "font": {
           "color": "white"
          },
          "opacity": 0.8,
          "showarrow": false,
          "text": "Market 4",
          "x": 0.2844094155140011,
          "xref": "x",
          "y": 0.9784386407458627,
          "yref": "y"
         },
         {
          "bgcolor": "black",
          "font": {
           "color": "white"
          },
          "opacity": 0.8,
          "showarrow": false,
          "text": "Market 5",
          "x": 0.8573862316461627,
          "xref": "x",
          "y": 0.7419279570632429,
          "yref": "y"
         },
         {
          "bgcolor": "black",
          "font": {
           "color": "white"
          },
          "opacity": 0.8,
          "showarrow": false,
          "text": "Market 6",
          "x": 0.6588527353013407,
          "xref": "x",
          "y": 0.273928268235467,
          "yref": "y"
         },
         {
          "bgcolor": "black",
          "font": {
           "color": "white"
          },
          "opacity": 0.8,
          "showarrow": false,
          "text": "Market 7",
          "x": 1.4299133908287536,
          "xref": "x",
          "y": 0.6268948205467342,
          "yref": "y"
         },
         {
          "bgcolor": "black",
          "font": {
           "color": "white"
          },
          "opacity": 0.8,
          "showarrow": false,
          "text": "Market 8",
          "x": 0.5063056623891766,
          "xref": "x",
          "y": 1.0137569339891024,
          "yref": "y"
         },
         {
          "bgcolor": "black",
          "font": {
           "color": "white"
          },
          "opacity": 0.8,
          "showarrow": false,
          "text": "Market 9",
          "x": 1.1005222627783116,
          "xref": "x",
          "y": 0.21721974196487864,
          "yref": "y"
         },
         {
          "bgcolor": "black",
          "font": {
           "color": "white"
          },
          "opacity": 0.8,
          "showarrow": false,
          "text": "Market 10",
          "x": 1.3959794244534292,
          "xref": "x",
          "y": 0.21316530631444064,
          "yref": "y"
         },
         {
          "bgcolor": "black",
          "font": {
           "color": "white"
          },
          "opacity": 0.8,
          "showarrow": false,
          "text": "Market 11",
          "x": 1.1902411871113316,
          "xref": "x",
          "y": 0.9893529070260414,
          "yref": "y"
         },
         {
          "bgcolor": "black",
          "font": {
           "color": "white"
          },
          "opacity": 0.8,
          "showarrow": false,
          "text": "Market 12",
          "x": 1.6922177782942203,
          "xref": "x",
          "y": 0.5982607160113416,
          "yref": "y"
         },
         {
          "bgcolor": "black",
          "font": {
           "color": "white"
          },
          "opacity": 0.8,
          "showarrow": false,
          "text": "Market 13",
          "x": 1.496292374207516,
          "xref": "x",
          "y": 0.9765846986829141,
          "yref": "y"
         },
         {
          "bgcolor": "black",
          "font": {
           "color": "white"
          },
          "opacity": 0.8,
          "showarrow": false,
          "text": "Market 14",
          "x": 1.8658920902612708,
          "xref": "x",
          "y": 0.6737837857406486,
          "yref": "y"
         }
        ],
        "height": 600,
        "hovermode": "closest",
        "legend": {
         "bordercolor": "rgba(0, 0, 0, 0.5)",
         "borderwidth": 1,
         "font": {
          "color": "white",
          "size": 12
         },
         "traceorder": "normal",
         "x": 0.0951381661987275,
         "y": 1.1213204262547642
        },
        "paper_bgcolor": "rgba(0,0,0,0)",
        "plot_bgcolor": "rgba(0,0,0,0)",
        "shapes": [
         {
          "fillcolor": "rgb(255, 127, 14)",
          "layer": "below",
          "line": {
           "color": "white",
           "width": 1
          },
          "type": "circle",
          "x0": 1.747931716685682,
          "x1": 1.835677783342384,
          "xref": "x",
          "y0": 0.15306196304846167,
          "y1": 0.24080802970516366,
          "yref": "y"
         },
         {
          "fillcolor": "rgb(31, 119, 180)",
          "layer": "below",
          "line": {
           "color": "white",
           "width": 1
          },
          "type": "circle",
          "x0": 1.504220633658383,
          "x1": 1.512995240324053,
          "xref": "x",
          "y0": 0.853615668889223,
          "y1": 0.8623902755548932,
          "yref": "y"
         },
         {
          "fillcolor": "rgb(31, 119, 180)",
          "layer": "below",
          "line": {
           "color": "white",
           "width": 1
          },
          "type": "circle",
          "x0": 1.9659998352543635,
          "x1": 1.999779716371577,
          "xref": "x",
          "y0": 0.6615675126700463,
          "y1": 0.6953473937872597,
          "yref": "y"
         },
         {
          "fillcolor": "rgb(31, 119, 180)",
          "layer": "below",
          "line": {
           "color": "white",
           "width": 1
          },
          "type": "circle",
          "x0": 1.2509017301328418,
          "x1": 1.3091217947535407,
          "xref": "x",
          "y0": 0.6582072223776316,
          "y1": 0.7164272869983306,
          "yref": "y"
         },
         {
          "fillcolor": "rgb(31, 119, 180)",
          "layer": "below",
          "line": {
           "color": "white",
           "width": 1
          },
          "type": "circle",
          "x0": 0.9342887612593028,
          "x1": 0.9970295534644616,
          "xref": "x",
          "y0": 0.5156258811034189,
          "y1": 0.5783666733085777,
          "yref": "y"
         },
         {
          "fillcolor": "rgb(255, 127, 14)",
          "layer": "below",
          "line": {
           "color": "white",
           "width": 1
          },
          "type": "circle",
          "x0": 0.19764723387343092,
          "x1": 0.25586729849413,
          "xref": "x",
          "y0": 0.08313062739234207,
          "y1": 0.14135069201304112,
          "yref": "y"
         },
         {
          "fillcolor": "rgb(44, 160, 44)",
          "layer": "below",
          "line": {
           "color": "white",
           "width": 1
          },
          "type": "circle",
          "x0": 0.30235540712728426,
          "x1": 0.3138141957962275,
          "xref": "x",
          "y0": 0.27892897708734377,
          "y1": 0.290387765756287,
          "yref": "y"
         },
         {
          "fillcolor": "rgb(44, 160, 44)",
          "layer": "below",
          "line": {
           "color": "white",
           "width": 1
          },
          "type": "circle",
          "x0": 1.9236467187951027,
          "x1": 1.9356705984121034,
          "xref": "x",
          "y0": 0.7341618464493416,
          "y1": 0.7461857260663423,
          "yref": "y"
         },
         {
          "fillcolor": "rgb(44, 160, 44)",
          "layer": "below",
          "line": {
           "color": "white",
           "width": 1
          },
          "type": "circle",
          "x0": 0.4783929945887077,
          "x1": 0.4979043292674699,
          "xref": "x",
          "y0": 0.17336271974108872,
          "y1": 0.19287405441985087,
          "yref": "y"
         },
         {
          "fillcolor": "rgb(44, 160, 44)",
          "layer": "below",
          "line": {
           "color": "white",
           "width": 1
          },
          "type": "circle",
          "x0": 1.0524528484428224,
          "x1": 1.0639116371117656,
          "xref": "x",
          "y0": 0.8620528704718209,
          "y1": 0.8735116591407641,
          "yref": "y"
         },
         {
          "fillcolor": "rgb(44, 160, 44)",
          "layer": "below",
          "line": {
           "color": "white",
           "width": 1
          },
          "type": "circle",
          "x0": 0.2729584753304476,
          "x1": 0.29586035569755464,
          "xref": "x",
          "y0": 0.9379875470474153,
          "y1": 0.9608894274145223,
          "yref": "y"
         },
         {
          "fillcolor": "rgb(44, 160, 44)",
          "layer": "below",
          "line": {
           "color": "white",
           "width": 1
          },
          "type": "circle",
          "x0": 0.8467122915161882,
          "x1": 0.8680601717761371,
          "xref": "x",
          "y0": 0.7030308634719535,
          "y1": 0.7243787437319025,
          "yref": "y"
         },
         {
          "fillcolor": "rgb(44, 160, 44)",
          "layer": "below",
          "line": {
           "color": "white",
           "width": 1
          },
          "type": "circle",
          "x0": 0.6496621589100171,
          "x1": 0.6680433116926643,
          "xref": "x",
          "y0": 0.2379979021214794,
          "y1": 0.2563790549041266,
          "yref": "y"
         },
         {
          "fillcolor": "rgb(44, 160, 44)",
          "layer": "below",
          "line": {
           "color": "white",
           "width": 1
          },
          "type": "circle",
          "x0": 1.4196632689098223,
          "x1": 1.4401635127476848,
          "xref": "x",
          "y0": 0.588845363377531,
          "y1": 0.6093456072153938,
          "yref": "y"
         },
         {
          "fillcolor": "rgb(44, 160, 44)",
          "layer": "below",
          "line": {
           "color": "white",
           "width": 1
          },
          "type": "circle",
          "x0": 0.499799268001126,
          "x1": 0.5128120567772273,
          "xref": "x",
          "y0": 0.9831949318816606,
          "y1": 0.996207720657762,
          "yref": "y"
         },
         {
          "fillcolor": "rgb(44, 160, 44)",
          "layer": "below",
          "line": {
           "color": "white",
           "width": 1
          },
          "type": "circle",
          "x0": 1.0927444137571316,
          "x1": 1.1083001117994915,
          "xref": "x",
          "y0": 0.18411483059117842,
          "y1": 0.19967052863353826,
          "yref": "y"
         },
         {
          "fillcolor": "rgb(44, 160, 44)",
          "layer": "below",
          "line": {
           "color": "white",
           "width": 1
          },
          "type": "circle",
          "x0": 1.385446757060469,
          "x1": 1.4065120918463894,
          "xref": "x",
          "y0": 0.17455075819718002,
          "y1": 0.19561609298310023,
          "yref": "y"
         },
         {
          "fillcolor": "rgb(44, 160, 44)",
          "layer": "below",
          "line": {
           "color": "white",
           "width": 1
          },
          "type": "circle",
          "x0": 1.1790021560332997,
          "x1": 1.2014802181893636,
          "xref": "x",
          "y0": 0.9493256315386371,
          "y1": 0.971803693694701,
          "yref": "y"
         },
         {
          "fillcolor": "rgb(44, 160, 44)",
          "layer": "below",
          "line": {
           "color": "white",
           "width": 1
          },
          "type": "circle",
          "x0": 1.6841573837990116,
          "x1": 1.700278172789429,
          "xref": "x",
          "y0": 0.5645907136895838,
          "y1": 0.5807115026800012,
          "yref": "y"
         },
         {
          "fillcolor": "rgb(44, 160, 44)",
          "layer": "below",
          "line": {
           "color": "white",
           "width": 1
          },
          "type": "circle",
          "x0": 1.4853358886035128,
          "x1": 1.5072488598115192,
          "xref": "x",
          "y0": 0.9371225141435673,
          "y1": 0.9590354853515737,
          "yref": "y"
         },
         {
          "fillcolor": "rgb(44, 160, 44)",
          "layer": "below",
          "line": {
           "color": "white",
           "width": 1
          },
          "type": "circle",
          "x0": 1.8597388777157562,
          "x1": 1.8720453028067854,
          "xref": "x",
          "y0": 0.6439281473182787,
          "y1": 0.6562345724093082,
          "yref": "y"
         }
        ],
        "template": {
         "data": {
          "bar": [
           {
            "error_x": {
             "color": "#2a3f5f"
            },
            "error_y": {
             "color": "#2a3f5f"
            },
            "marker": {
             "line": {
              "color": "#E5ECF6",
              "width": 0.5
             },
             "pattern": {
              "fillmode": "overlay",
              "size": 10,
              "solidity": 0.2
             }
            },
            "type": "bar"
           }
          ],
          "barpolar": [
           {
            "marker": {
             "line": {
              "color": "#E5ECF6",
              "width": 0.5
             },
             "pattern": {
              "fillmode": "overlay",
              "size": 10,
              "solidity": 0.2
             }
            },
            "type": "barpolar"
           }
          ],
          "carpet": [
           {
            "aaxis": {
             "endlinecolor": "#2a3f5f",
             "gridcolor": "white",
             "linecolor": "white",
             "minorgridcolor": "white",
             "startlinecolor": "#2a3f5f"
            },
            "baxis": {
             "endlinecolor": "#2a3f5f",
             "gridcolor": "white",
             "linecolor": "white",
             "minorgridcolor": "white",
             "startlinecolor": "#2a3f5f"
            },
            "type": "carpet"
           }
          ],
          "choropleth": [
           {
            "colorbar": {
             "outlinewidth": 0,
             "ticks": ""
            },
            "type": "choropleth"
           }
          ],
          "contour": [
           {
            "colorbar": {
             "outlinewidth": 0,
             "ticks": ""
            },
            "colorscale": [
             [
              0,
              "#0d0887"
             ],
             [
              0.1111111111111111,
              "#46039f"
             ],
             [
              0.2222222222222222,
              "#7201a8"
             ],
             [
              0.3333333333333333,
              "#9c179e"
             ],
             [
              0.4444444444444444,
              "#bd3786"
             ],
             [
              0.5555555555555556,
              "#d8576b"
             ],
             [
              0.6666666666666666,
              "#ed7953"
             ],
             [
              0.7777777777777778,
              "#fb9f3a"
             ],
             [
              0.8888888888888888,
              "#fdca26"
             ],
             [
              1,
              "#f0f921"
             ]
            ],
            "type": "contour"
           }
          ],
          "contourcarpet": [
           {
            "colorbar": {
             "outlinewidth": 0,
             "ticks": ""
            },
            "type": "contourcarpet"
           }
          ],
          "heatmap": [
           {
            "colorbar": {
             "outlinewidth": 0,
             "ticks": ""
            },
            "colorscale": [
             [
              0,
              "#0d0887"
             ],
             [
              0.1111111111111111,
              "#46039f"
             ],
             [
              0.2222222222222222,
              "#7201a8"
             ],
             [
              0.3333333333333333,
              "#9c179e"
             ],
             [
              0.4444444444444444,
              "#bd3786"
             ],
             [
              0.5555555555555556,
              "#d8576b"
             ],
             [
              0.6666666666666666,
              "#ed7953"
             ],
             [
              0.7777777777777778,
              "#fb9f3a"
             ],
             [
              0.8888888888888888,
              "#fdca26"
             ],
             [
              1,
              "#f0f921"
             ]
            ],
            "type": "heatmap"
           }
          ],
          "heatmapgl": [
           {
            "colorbar": {
             "outlinewidth": 0,
             "ticks": ""
            },
            "colorscale": [
             [
              0,
              "#0d0887"
             ],
             [
              0.1111111111111111,
              "#46039f"
             ],
             [
              0.2222222222222222,
              "#7201a8"
             ],
             [
              0.3333333333333333,
              "#9c179e"
             ],
             [
              0.4444444444444444,
              "#bd3786"
             ],
             [
              0.5555555555555556,
              "#d8576b"
             ],
             [
              0.6666666666666666,
              "#ed7953"
             ],
             [
              0.7777777777777778,
              "#fb9f3a"
             ],
             [
              0.8888888888888888,
              "#fdca26"
             ],
             [
              1,
              "#f0f921"
             ]
            ],
            "type": "heatmapgl"
           }
          ],
          "histogram": [
           {
            "marker": {
             "pattern": {
              "fillmode": "overlay",
              "size": 10,
              "solidity": 0.2
             }
            },
            "type": "histogram"
           }
          ],
          "histogram2d": [
           {
            "colorbar": {
             "outlinewidth": 0,
             "ticks": ""
            },
            "colorscale": [
             [
              0,
              "#0d0887"
             ],
             [
              0.1111111111111111,
              "#46039f"
             ],
             [
              0.2222222222222222,
              "#7201a8"
             ],
             [
              0.3333333333333333,
              "#9c179e"
             ],
             [
              0.4444444444444444,
              "#bd3786"
             ],
             [
              0.5555555555555556,
              "#d8576b"
             ],
             [
              0.6666666666666666,
              "#ed7953"
             ],
             [
              0.7777777777777778,
              "#fb9f3a"
             ],
             [
              0.8888888888888888,
              "#fdca26"
             ],
             [
              1,
              "#f0f921"
             ]
            ],
            "type": "histogram2d"
           }
          ],
          "histogram2dcontour": [
           {
            "colorbar": {
             "outlinewidth": 0,
             "ticks": ""
            },
            "colorscale": [
             [
              0,
              "#0d0887"
             ],
             [
              0.1111111111111111,
              "#46039f"
             ],
             [
              0.2222222222222222,
              "#7201a8"
             ],
             [
              0.3333333333333333,
              "#9c179e"
             ],
             [
              0.4444444444444444,
              "#bd3786"
             ],
             [
              0.5555555555555556,
              "#d8576b"
             ],
             [
              0.6666666666666666,
              "#ed7953"
             ],
             [
              0.7777777777777778,
              "#fb9f3a"
             ],
             [
              0.8888888888888888,
              "#fdca26"
             ],
             [
              1,
              "#f0f921"
             ]
            ],
            "type": "histogram2dcontour"
           }
          ],
          "mesh3d": [
           {
            "colorbar": {
             "outlinewidth": 0,
             "ticks": ""
            },
            "type": "mesh3d"
           }
          ],
          "parcoords": [
           {
            "line": {
             "colorbar": {
              "outlinewidth": 0,
              "ticks": ""
             }
            },
            "type": "parcoords"
           }
          ],
          "pie": [
           {
            "automargin": true,
            "type": "pie"
           }
          ],
          "scatter": [
           {
            "fillpattern": {
             "fillmode": "overlay",
             "size": 10,
             "solidity": 0.2
            },
            "type": "scatter"
           }
          ],
          "scatter3d": [
           {
            "line": {
             "colorbar": {
              "outlinewidth": 0,
              "ticks": ""
             }
            },
            "marker": {
             "colorbar": {
              "outlinewidth": 0,
              "ticks": ""
             }
            },
            "type": "scatter3d"
           }
          ],
          "scattercarpet": [
           {
            "marker": {
             "colorbar": {
              "outlinewidth": 0,
              "ticks": ""
             }
            },
            "type": "scattercarpet"
           }
          ],
          "scattergeo": [
           {
            "marker": {
             "colorbar": {
              "outlinewidth": 0,
              "ticks": ""
             }
            },
            "type": "scattergeo"
           }
          ],
          "scattergl": [
           {
            "marker": {
             "colorbar": {
              "outlinewidth": 0,
              "ticks": ""
             }
            },
            "type": "scattergl"
           }
          ],
          "scattermapbox": [
           {
            "marker": {
             "colorbar": {
              "outlinewidth": 0,
              "ticks": ""
             }
            },
            "type": "scattermapbox"
           }
          ],
          "scatterpolar": [
           {
            "marker": {
             "colorbar": {
              "outlinewidth": 0,
              "ticks": ""
             }
            },
            "type": "scatterpolar"
           }
          ],
          "scatterpolargl": [
           {
            "marker": {
             "colorbar": {
              "outlinewidth": 0,
              "ticks": ""
             }
            },
            "type": "scatterpolargl"
           }
          ],
          "scatterternary": [
           {
            "marker": {
             "colorbar": {
              "outlinewidth": 0,
              "ticks": ""
             }
            },
            "type": "scatterternary"
           }
          ],
          "surface": [
           {
            "colorbar": {
             "outlinewidth": 0,
             "ticks": ""
            },
            "colorscale": [
             [
              0,
              "#0d0887"
             ],
             [
              0.1111111111111111,
              "#46039f"
             ],
             [
              0.2222222222222222,
              "#7201a8"
             ],
             [
              0.3333333333333333,
              "#9c179e"
             ],
             [
              0.4444444444444444,
              "#bd3786"
             ],
             [
              0.5555555555555556,
              "#d8576b"
             ],
             [
              0.6666666666666666,
              "#ed7953"
             ],
             [
              0.7777777777777778,
              "#fb9f3a"
             ],
             [
              0.8888888888888888,
              "#fdca26"
             ],
             [
              1,
              "#f0f921"
             ]
            ],
            "type": "surface"
           }
          ],
          "table": [
           {
            "cells": {
             "fill": {
              "color": "#EBF0F8"
             },
             "line": {
              "color": "white"
             }
            },
            "header": {
             "fill": {
              "color": "#C8D4E3"
             },
             "line": {
              "color": "white"
             }
            },
            "type": "table"
           }
          ]
         },
         "layout": {
          "annotationdefaults": {
           "arrowcolor": "#2a3f5f",
           "arrowhead": 0,
           "arrowwidth": 1
          },
          "autotypenumbers": "strict",
          "coloraxis": {
           "colorbar": {
            "outlinewidth": 0,
            "ticks": ""
           }
          },
          "colorscale": {
           "diverging": [
            [
             0,
             "#8e0152"
            ],
            [
             0.1,
             "#c51b7d"
            ],
            [
             0.2,
             "#de77ae"
            ],
            [
             0.3,
             "#f1b6da"
            ],
            [
             0.4,
             "#fde0ef"
            ],
            [
             0.5,
             "#f7f7f7"
            ],
            [
             0.6,
             "#e6f5d0"
            ],
            [
             0.7,
             "#b8e186"
            ],
            [
             0.8,
             "#7fbc41"
            ],
            [
             0.9,
             "#4d9221"
            ],
            [
             1,
             "#276419"
            ]
           ],
           "sequential": [
            [
             0,
             "#0d0887"
            ],
            [
             0.1111111111111111,
             "#46039f"
            ],
            [
             0.2222222222222222,
             "#7201a8"
            ],
            [
             0.3333333333333333,
             "#9c179e"
            ],
            [
             0.4444444444444444,
             "#bd3786"
            ],
            [
             0.5555555555555556,
             "#d8576b"
            ],
            [
             0.6666666666666666,
             "#ed7953"
            ],
            [
             0.7777777777777778,
             "#fb9f3a"
            ],
            [
             0.8888888888888888,
             "#fdca26"
            ],
            [
             1,
             "#f0f921"
            ]
           ],
           "sequentialminus": [
            [
             0,
             "#0d0887"
            ],
            [
             0.1111111111111111,
             "#46039f"
            ],
            [
             0.2222222222222222,
             "#7201a8"
            ],
            [
             0.3333333333333333,
             "#9c179e"
            ],
            [
             0.4444444444444444,
             "#bd3786"
            ],
            [
             0.5555555555555556,
             "#d8576b"
            ],
            [
             0.6666666666666666,
             "#ed7953"
            ],
            [
             0.7777777777777778,
             "#fb9f3a"
            ],
            [
             0.8888888888888888,
             "#fdca26"
            ],
            [
             1,
             "#f0f921"
            ]
           ]
          },
          "colorway": [
           "#636efa",
           "#EF553B",
           "#00cc96",
           "#ab63fa",
           "#FFA15A",
           "#19d3f3",
           "#FF6692",
           "#B6E880",
           "#FF97FF",
           "#FECB52"
          ],
          "font": {
           "color": "#2a3f5f"
          },
          "geo": {
           "bgcolor": "white",
           "lakecolor": "white",
           "landcolor": "#E5ECF6",
           "showlakes": true,
           "showland": true,
           "subunitcolor": "white"
          },
          "hoverlabel": {
           "align": "left"
          },
          "hovermode": "closest",
          "mapbox": {
           "style": "light"
          },
          "paper_bgcolor": "white",
          "plot_bgcolor": "#E5ECF6",
          "polar": {
           "angularaxis": {
            "gridcolor": "white",
            "linecolor": "white",
            "ticks": ""
           },
           "bgcolor": "#E5ECF6",
           "radialaxis": {
            "gridcolor": "white",
            "linecolor": "white",
            "ticks": ""
           }
          },
          "scene": {
           "xaxis": {
            "backgroundcolor": "#E5ECF6",
            "gridcolor": "white",
            "gridwidth": 2,
            "linecolor": "white",
            "showbackground": true,
            "ticks": "",
            "zerolinecolor": "white"
           },
           "yaxis": {
            "backgroundcolor": "#E5ECF6",
            "gridcolor": "white",
            "gridwidth": 2,
            "linecolor": "white",
            "showbackground": true,
            "ticks": "",
            "zerolinecolor": "white"
           },
           "zaxis": {
            "backgroundcolor": "#E5ECF6",
            "gridcolor": "white",
            "gridwidth": 2,
            "linecolor": "white",
            "showbackground": true,
            "ticks": "",
            "zerolinecolor": "white"
           }
          },
          "shapedefaults": {
           "line": {
            "color": "#2a3f5f"
           }
          },
          "ternary": {
           "aaxis": {
            "gridcolor": "white",
            "linecolor": "white",
            "ticks": ""
           },
           "baxis": {
            "gridcolor": "white",
            "linecolor": "white",
            "ticks": ""
           },
           "bgcolor": "#E5ECF6",
           "caxis": {
            "gridcolor": "white",
            "linecolor": "white",
            "ticks": ""
           }
          },
          "title": {
           "x": 0.05
          },
          "xaxis": {
           "automargin": true,
           "gridcolor": "white",
           "linecolor": "white",
           "ticks": "",
           "title": {
            "standoff": 15
           },
           "zerolinecolor": "white",
           "zerolinewidth": 2
          },
          "yaxis": {
           "automargin": true,
           "gridcolor": "white",
           "linecolor": "white",
           "ticks": "",
           "title": {
            "standoff": 15
           },
           "zerolinecolor": "white",
           "zerolinewidth": 2
          }
         }
        },
        "width": 1100,
        "xaxis": {
         "visible": false
        },
        "yaxis": {
         "scaleanchor": "x",
         "scaleratio": 1,
         "visible": false
        }
       }
      }
     },
     "metadata": {},
     "output_type": "display_data"
    }
   ],
   "source": [
    "# Create pos dictionary for drawing nodes at x, y coordinates\n",
    "pos = {node.name: (node.x, node.y) for node in factories + dcs + markets}\n",
    "type_color = {'Factory': 'red', 'DC': 'blue', 'Market': 'green'}\n",
    "node_color = [type_color[node['type']] for _, node in G2.nodes(data=True)]\n",
    "\n",
    "G2.min_cost_flow()\n",
    "\n",
    "G2.viz.plot_flowgraph().update_layout(height=600, width=1100).show()\n"
   ]
  },
  {
   "cell_type": "markdown",
   "metadata": {},
   "source": [
    "# TODO\n",
    "\n",
    "- Infeasibility analysis\n",
    "    - connection\n",
    "    - supply/demand increment\n",
    "- plot network in plotly\n",
    "- plot flow graph in plotly\n",
    "- plot flows in plotly"
   ]
  },
  {
   "cell_type": "markdown",
   "metadata": {},
   "source": [
    "# Infeasibility Analysis"
   ]
  },
  {
   "cell_type": "code",
   "execution_count": 66,
   "metadata": {},
   "outputs": [],
   "source": [
    "# create infeasible graph\n",
    "nodes = [FlowGraph.Node(name='A', supply=10), \n",
    "         FlowGraph.Node(name='B', demand=5), \n",
    "         FlowGraph.Node(name='C', demand=5),\n",
    "         FlowGraph.Node(name='D', demand=20)]\n",
    "edges = [FlowGraph.Edge(origin=nodes[0], destination=nodes[2], capacity=2), \n",
    "         FlowGraph.Edge(origin=nodes[0], destination=nodes[3], capacity=30), \n",
    "         FlowGraph.Edge(origin=nodes[0], destination=nodes[1], capacity=5)]\n",
    "G3 = FlowGraph(nodes + edges)"
   ]
  },
  {
   "cell_type": "code",
   "execution_count": 67,
   "metadata": {},
   "outputs": [
    {
     "name": "stdout",
     "output_type": "stream",
     "text": [
      "Soft constraints: True\n",
      "Soft penalty: 1.00\n",
      "Variable types: 7 continuous, 0 binary\n",
      "Constraints: 7\n",
      "Total supply: 10.0, Total demand: 30.0\n",
      "Model creation time: 0.00 s\n",
      "Optimal solution found: 23.00 in 0.02 s\n"
     ]
    },
    {
     "data": {
      "text/plain": [
       "'Optimal'"
      ]
     },
     "execution_count": 67,
     "metadata": {},
     "output_type": "execute_result"
    }
   ],
   "source": [
    "G3.min_cost_flow(soft_constr=True)"
   ]
  },
  {
   "cell_type": "code",
   "execution_count": 68,
   "metadata": {},
   "outputs": [
    {
     "data": {
      "text/html": [
       "<div>\n",
       "<style scoped>\n",
       "    .dataframe tbody tr th:only-of-type {\n",
       "        vertical-align: middle;\n",
       "    }\n",
       "\n",
       "    .dataframe tbody tr th {\n",
       "        vertical-align: top;\n",
       "    }\n",
       "\n",
       "    .dataframe thead th {\n",
       "        text-align: right;\n",
       "    }\n",
       "</style>\n",
       "<table border=\"1\" class=\"dataframe\">\n",
       "  <thead>\n",
       "    <tr style=\"text-align: right;\">\n",
       "      <th></th>\n",
       "      <th>name</th>\n",
       "      <th>demand</th>\n",
       "      <th>supply</th>\n",
       "      <th>capacity</th>\n",
       "      <th>type</th>\n",
       "      <th>variable_cost</th>\n",
       "      <th>fixed_cost</th>\n",
       "      <th>x</th>\n",
       "      <th>y</th>\n",
       "      <th>inflow</th>\n",
       "      <th>outflow</th>\n",
       "      <th>total_variable_cost</th>\n",
       "      <th>total_cost</th>\n",
       "      <th>utilisation</th>\n",
       "      <th>selected</th>\n",
       "      <th>total_fixed_cost</th>\n",
       "      <th>capacity_added</th>\n",
       "      <th>supply_added</th>\n",
       "      <th>capacity_penalty_cost</th>\n",
       "      <th>supply_penalty_cost</th>\n",
       "    </tr>\n",
       "  </thead>\n",
       "  <tbody>\n",
       "    <tr>\n",
       "      <th>0</th>\n",
       "      <td>A</td>\n",
       "      <td>0.0</td>\n",
       "      <td>10.0</td>\n",
       "      <td>inf</td>\n",
       "      <td>None</td>\n",
       "      <td>0.0</td>\n",
       "      <td>0.0</td>\n",
       "      <td>0.0</td>\n",
       "      <td>0.0</td>\n",
       "      <td>0</td>\n",
       "      <td>30.0</td>\n",
       "      <td>0.0</td>\n",
       "      <td>20.0</td>\n",
       "      <td>None</td>\n",
       "      <td>None</td>\n",
       "      <td>None</td>\n",
       "      <td>None</td>\n",
       "      <td>20.0</td>\n",
       "      <td>None</td>\n",
       "      <td>20.0</td>\n",
       "    </tr>\n",
       "    <tr>\n",
       "      <th>1</th>\n",
       "      <td>B</td>\n",
       "      <td>5.0</td>\n",
       "      <td>0.0</td>\n",
       "      <td>inf</td>\n",
       "      <td>NaN</td>\n",
       "      <td>0.0</td>\n",
       "      <td>0.0</td>\n",
       "      <td>0.0</td>\n",
       "      <td>0.0</td>\n",
       "      <td>5.0</td>\n",
       "      <td>0.0</td>\n",
       "      <td>0.0</td>\n",
       "      <td>0.0</td>\n",
       "      <td>NaN</td>\n",
       "      <td>NaN</td>\n",
       "      <td>NaN</td>\n",
       "      <td>NaN</td>\n",
       "      <td>NaN</td>\n",
       "      <td>NaN</td>\n",
       "      <td>NaN</td>\n",
       "    </tr>\n",
       "    <tr>\n",
       "      <th>2</th>\n",
       "      <td>C</td>\n",
       "      <td>5.0</td>\n",
       "      <td>0.0</td>\n",
       "      <td>inf</td>\n",
       "      <td>NaN</td>\n",
       "      <td>0.0</td>\n",
       "      <td>0.0</td>\n",
       "      <td>0.0</td>\n",
       "      <td>0.0</td>\n",
       "      <td>5.0</td>\n",
       "      <td>0.0</td>\n",
       "      <td>0.0</td>\n",
       "      <td>0.0</td>\n",
       "      <td>NaN</td>\n",
       "      <td>NaN</td>\n",
       "      <td>NaN</td>\n",
       "      <td>NaN</td>\n",
       "      <td>NaN</td>\n",
       "      <td>NaN</td>\n",
       "      <td>NaN</td>\n",
       "    </tr>\n",
       "    <tr>\n",
       "      <th>3</th>\n",
       "      <td>D</td>\n",
       "      <td>20.0</td>\n",
       "      <td>0.0</td>\n",
       "      <td>inf</td>\n",
       "      <td>NaN</td>\n",
       "      <td>0.0</td>\n",
       "      <td>0.0</td>\n",
       "      <td>0.0</td>\n",
       "      <td>0.0</td>\n",
       "      <td>20.0</td>\n",
       "      <td>0.0</td>\n",
       "      <td>0.0</td>\n",
       "      <td>0.0</td>\n",
       "      <td>NaN</td>\n",
       "      <td>NaN</td>\n",
       "      <td>NaN</td>\n",
       "      <td>NaN</td>\n",
       "      <td>NaN</td>\n",
       "      <td>NaN</td>\n",
       "      <td>NaN</td>\n",
       "    </tr>\n",
       "  </tbody>\n",
       "</table>\n",
       "</div>"
      ],
      "text/plain": [
       "  name demand supply capacity  type variable_cost fixed_cost    x    y inflow  \\\n",
       "0    A    0.0   10.0      inf  None           0.0        0.0  0.0  0.0      0   \n",
       "1    B    5.0    0.0      inf   NaN           0.0        0.0  0.0  0.0    5.0   \n",
       "2    C    5.0    0.0      inf   NaN           0.0        0.0  0.0  0.0    5.0   \n",
       "3    D   20.0    0.0      inf   NaN           0.0        0.0  0.0  0.0   20.0   \n",
       "\n",
       "  outflow total_variable_cost total_cost utilisation selected  \\\n",
       "0    30.0                 0.0       20.0        None     None   \n",
       "1     0.0                 0.0        0.0         NaN      NaN   \n",
       "2     0.0                 0.0        0.0         NaN      NaN   \n",
       "3     0.0                 0.0        0.0         NaN      NaN   \n",
       "\n",
       "  total_fixed_cost capacity_added supply_added capacity_penalty_cost  \\\n",
       "0             None           None         20.0                  None   \n",
       "1              NaN            NaN          NaN                   NaN   \n",
       "2              NaN            NaN          NaN                   NaN   \n",
       "3              NaN            NaN          NaN                   NaN   \n",
       "\n",
       "  supply_penalty_cost  \n",
       "0                20.0  \n",
       "1                 NaN  \n",
       "2                 NaN  \n",
       "3                 NaN  "
      ]
     },
     "execution_count": 68,
     "metadata": {},
     "output_type": "execute_result"
    }
   ],
   "source": [
    "G3.nodes_to_df()"
   ]
  },
  {
   "cell_type": "code",
   "execution_count": 69,
   "metadata": {},
   "outputs": [
    {
     "name": "stdout",
     "output_type": "stream",
     "text": [
      "Soft constraints: True\n",
      "Soft penalty: 1.00\n",
      "Variable types: 7 continuous, 0 binary\n",
      "Constraints: 7\n",
      "Total supply: 10.0, Total demand: 30.0\n",
      "Model creation time: 0.00 s\n",
      "Optimal solution found: 23.00 in 0.01 s\n",
      "\n",
      "Infeasibility analysis:\n",
      "Node A requires additional supply: 20.0\n",
      "Edge A-C requires additional capacity: 3.0\n"
     ]
    }
   ],
   "source": [
    "infease_dict = G3.infeasibility_analysis(verbose=True)"
   ]
  },
  {
   "cell_type": "markdown",
   "metadata": {},
   "source": [
    "# Plot"
   ]
  },
  {
   "cell_type": "code",
   "execution_count": 71,
   "metadata": {},
   "outputs": [
    {
     "data": {
      "text/html": [
       "<div>\n",
       "<style scoped>\n",
       "    .dataframe tbody tr th:only-of-type {\n",
       "        vertical-align: middle;\n",
       "    }\n",
       "\n",
       "    .dataframe tbody tr th {\n",
       "        vertical-align: top;\n",
       "    }\n",
       "\n",
       "    .dataframe thead th {\n",
       "        text-align: right;\n",
       "    }\n",
       "</style>\n",
       "<table border=\"1\" class=\"dataframe\">\n",
       "  <thead>\n",
       "    <tr style=\"text-align: right;\">\n",
       "      <th></th>\n",
       "      <th>name</th>\n",
       "      <th>demand</th>\n",
       "      <th>supply</th>\n",
       "      <th>capacity</th>\n",
       "      <th>type</th>\n",
       "      <th>variable_cost</th>\n",
       "      <th>fixed_cost</th>\n",
       "      <th>x</th>\n",
       "      <th>y</th>\n",
       "      <th>inflow</th>\n",
       "      <th>outflow</th>\n",
       "      <th>total_variable_cost</th>\n",
       "      <th>total_cost</th>\n",
       "      <th>utilisation</th>\n",
       "      <th>selected</th>\n",
       "      <th>total_fixed_cost</th>\n",
       "    </tr>\n",
       "  </thead>\n",
       "  <tbody>\n",
       "    <tr>\n",
       "      <th>0</th>\n",
       "      <td>Factory 0</td>\n",
       "      <td>0.0</td>\n",
       "      <td>700.0</td>\n",
       "      <td>inf</td>\n",
       "      <td>Factory</td>\n",
       "      <td>0.0</td>\n",
       "      <td>100.0</td>\n",
       "      <td>1.791805</td>\n",
       "      <td>0.196935</td>\n",
       "      <td>0</td>\n",
       "      <td>559.0</td>\n",
       "      <td>0.0</td>\n",
       "      <td>100.0</td>\n",
       "      <td>None</td>\n",
       "      <td>1.0</td>\n",
       "      <td>100.0</td>\n",
       "    </tr>\n",
       "    <tr>\n",
       "      <th>1</th>\n",
       "      <td>DC 0</td>\n",
       "      <td>0.0</td>\n",
       "      <td>0.0</td>\n",
       "      <td>500.0</td>\n",
       "      <td>DC</td>\n",
       "      <td>0.0</td>\n",
       "      <td>25.0</td>\n",
       "      <td>1.508608</td>\n",
       "      <td>0.858003</td>\n",
       "      <td>0.0</td>\n",
       "      <td>0.0</td>\n",
       "      <td>0.0</td>\n",
       "      <td>0.0</td>\n",
       "      <td>0.0</td>\n",
       "      <td>0.0</td>\n",
       "      <td>0.0</td>\n",
       "    </tr>\n",
       "    <tr>\n",
       "      <th>2</th>\n",
       "      <td>DC 1</td>\n",
       "      <td>0.0</td>\n",
       "      <td>0.0</td>\n",
       "      <td>500.0</td>\n",
       "      <td>DC</td>\n",
       "      <td>0.0</td>\n",
       "      <td>25.0</td>\n",
       "      <td>1.98289</td>\n",
       "      <td>0.678457</td>\n",
       "      <td>177.0</td>\n",
       "      <td>177.0</td>\n",
       "      <td>0.0</td>\n",
       "      <td>25.0</td>\n",
       "      <td>0.354</td>\n",
       "      <td>1.0</td>\n",
       "      <td>25.0</td>\n",
       "    </tr>\n",
       "    <tr>\n",
       "      <th>3</th>\n",
       "      <td>DC 2</td>\n",
       "      <td>0.0</td>\n",
       "      <td>0.0</td>\n",
       "      <td>500.0</td>\n",
       "      <td>DC</td>\n",
       "      <td>0.0</td>\n",
       "      <td>25.0</td>\n",
       "      <td>1.280012</td>\n",
       "      <td>0.687317</td>\n",
       "      <td>350.0</td>\n",
       "      <td>350.0</td>\n",
       "      <td>0.0</td>\n",
       "      <td>25.0</td>\n",
       "      <td>0.7</td>\n",
       "      <td>1.0</td>\n",
       "      <td>25.0</td>\n",
       "    </tr>\n",
       "    <tr>\n",
       "      <th>4</th>\n",
       "      <td>DC 3</td>\n",
       "      <td>0.0</td>\n",
       "      <td>0.0</td>\n",
       "      <td>500.0</td>\n",
       "      <td>DC</td>\n",
       "      <td>0.0</td>\n",
       "      <td>25.0</td>\n",
       "      <td>0.965659</td>\n",
       "      <td>0.546996</td>\n",
       "      <td>382.0</td>\n",
       "      <td>382.0</td>\n",
       "      <td>0.0</td>\n",
       "      <td>25.0</td>\n",
       "      <td>0.764</td>\n",
       "      <td>1.0</td>\n",
       "      <td>25.0</td>\n",
       "    </tr>\n",
       "  </tbody>\n",
       "</table>\n",
       "</div>"
      ],
      "text/plain": [
       "        name demand supply capacity     type variable_cost fixed_cost  \\\n",
       "0  Factory 0    0.0  700.0      inf  Factory           0.0      100.0   \n",
       "1       DC 0    0.0    0.0    500.0       DC           0.0       25.0   \n",
       "2       DC 1    0.0    0.0    500.0       DC           0.0       25.0   \n",
       "3       DC 2    0.0    0.0    500.0       DC           0.0       25.0   \n",
       "4       DC 3    0.0    0.0    500.0       DC           0.0       25.0   \n",
       "\n",
       "          x         y inflow outflow total_variable_cost total_cost  \\\n",
       "0  1.791805  0.196935      0   559.0                 0.0      100.0   \n",
       "1  1.508608  0.858003    0.0     0.0                 0.0        0.0   \n",
       "2   1.98289  0.678457  177.0   177.0                 0.0       25.0   \n",
       "3  1.280012  0.687317  350.0   350.0                 0.0       25.0   \n",
       "4  0.965659  0.546996  382.0   382.0                 0.0       25.0   \n",
       "\n",
       "  utilisation selected total_fixed_cost  \n",
       "0        None      1.0            100.0  \n",
       "1         0.0      0.0              0.0  \n",
       "2       0.354      1.0             25.0  \n",
       "3         0.7      1.0             25.0  \n",
       "4       0.764      1.0             25.0  "
      ]
     },
     "execution_count": 71,
     "metadata": {},
     "output_type": "execute_result"
    }
   ],
   "source": [
    "node_df = G2.nodes_to_df()\n",
    "node_df.head()"
   ]
  },
  {
   "cell_type": "code",
   "execution_count": 72,
   "metadata": {},
   "outputs": [
    {
     "data": {
      "text/html": [
       "<div>\n",
       "<style scoped>\n",
       "    .dataframe tbody tr th:only-of-type {\n",
       "        vertical-align: middle;\n",
       "    }\n",
       "\n",
       "    .dataframe tbody tr th {\n",
       "        vertical-align: top;\n",
       "    }\n",
       "\n",
       "    .dataframe thead th {\n",
       "        text-align: right;\n",
       "    }\n",
       "</style>\n",
       "<table border=\"1\" class=\"dataframe\">\n",
       "  <thead>\n",
       "    <tr style=\"text-align: right;\">\n",
       "      <th></th>\n",
       "      <th>origin</th>\n",
       "      <th>destination</th>\n",
       "      <th>capacity</th>\n",
       "      <th>variable_cost</th>\n",
       "      <th>fixed_cost</th>\n",
       "      <th>flow</th>\n",
       "      <th>utilisation</th>\n",
       "      <th>total_variable_cost</th>\n",
       "      <th>selected</th>\n",
       "      <th>total_fixed_cost</th>\n",
       "      <th>total_cost</th>\n",
       "    </tr>\n",
       "  </thead>\n",
       "  <tbody>\n",
       "    <tr>\n",
       "      <th>0</th>\n",
       "      <td>Factory 0</td>\n",
       "      <td>DC 0</td>\n",
       "      <td>350.0</td>\n",
       "      <td>0.719174</td>\n",
       "      <td>0.0</td>\n",
       "      <td>0.0</td>\n",
       "      <td>0.000000</td>\n",
       "      <td>0.000000</td>\n",
       "      <td>None</td>\n",
       "      <td>None</td>\n",
       "      <td>0.000000</td>\n",
       "    </tr>\n",
       "    <tr>\n",
       "      <th>1</th>\n",
       "      <td>Factory 0</td>\n",
       "      <td>DC 1</td>\n",
       "      <td>350.0</td>\n",
       "      <td>0.518052</td>\n",
       "      <td>0.0</td>\n",
       "      <td>177.0</td>\n",
       "      <td>0.505714</td>\n",
       "      <td>91.695117</td>\n",
       "      <td>None</td>\n",
       "      <td>None</td>\n",
       "      <td>91.695117</td>\n",
       "    </tr>\n",
       "    <tr>\n",
       "      <th>2</th>\n",
       "      <td>Factory 0</td>\n",
       "      <td>DC 2</td>\n",
       "      <td>350.0</td>\n",
       "      <td>0.708807</td>\n",
       "      <td>0.0</td>\n",
       "      <td>350.0</td>\n",
       "      <td>1.000000</td>\n",
       "      <td>248.082316</td>\n",
       "      <td>None</td>\n",
       "      <td>None</td>\n",
       "      <td>248.082316</td>\n",
       "    </tr>\n",
       "    <tr>\n",
       "      <th>3</th>\n",
       "      <td>Factory 0</td>\n",
       "      <td>DC 3</td>\n",
       "      <td>350.0</td>\n",
       "      <td>0.897251</td>\n",
       "      <td>0.0</td>\n",
       "      <td>32.0</td>\n",
       "      <td>0.091429</td>\n",
       "      <td>28.712033</td>\n",
       "      <td>None</td>\n",
       "      <td>None</td>\n",
       "      <td>28.712033</td>\n",
       "    </tr>\n",
       "    <tr>\n",
       "      <th>4</th>\n",
       "      <td>DC 0</td>\n",
       "      <td>Market 0</td>\n",
       "      <td>100.0</td>\n",
       "      <td>1.330406</td>\n",
       "      <td>0.0</td>\n",
       "      <td>0.0</td>\n",
       "      <td>0.000000</td>\n",
       "      <td>0.000000</td>\n",
       "      <td>None</td>\n",
       "      <td>None</td>\n",
       "      <td>0.000000</td>\n",
       "    </tr>\n",
       "  </tbody>\n",
       "</table>\n",
       "</div>"
      ],
      "text/plain": [
       "      origin destination  capacity  variable_cost  fixed_cost   flow  \\\n",
       "0  Factory 0        DC 0     350.0       0.719174         0.0    0.0   \n",
       "1  Factory 0        DC 1     350.0       0.518052         0.0  177.0   \n",
       "2  Factory 0        DC 2     350.0       0.708807         0.0  350.0   \n",
       "3  Factory 0        DC 3     350.0       0.897251         0.0   32.0   \n",
       "4       DC 0    Market 0     100.0       1.330406         0.0    0.0   \n",
       "\n",
       "   utilisation  total_variable_cost selected total_fixed_cost  total_cost  \n",
       "0     0.000000             0.000000     None             None    0.000000  \n",
       "1     0.505714            91.695117     None             None   91.695117  \n",
       "2     1.000000           248.082316     None             None  248.082316  \n",
       "3     0.091429            28.712033     None             None   28.712033  \n",
       "4     0.000000             0.000000     None             None    0.000000  "
      ]
     },
     "execution_count": 72,
     "metadata": {},
     "output_type": "execute_result"
    }
   ],
   "source": [
    "edge_df = G2.edges_to_df()\n",
    "edge_df.head()"
   ]
  },
  {
   "cell_type": "code",
   "execution_count": 83,
   "metadata": {},
   "outputs": [
    {
     "data": {
      "text/plain": [
       "{'Factory 0': 0,\n",
       " 'DC 0': 1,\n",
       " 'DC 1': 2,\n",
       " 'DC 2': 3,\n",
       " 'DC 3': 4,\n",
       " 'Factory 1': 5,\n",
       " 'Market 0': 6,\n",
       " 'Market 1': 7,\n",
       " 'Market 2': 8,\n",
       " 'Market 3': 9,\n",
       " 'Market 4': 10,\n",
       " 'Market 5': 11,\n",
       " 'Market 6': 12,\n",
       " 'Market 7': 13,\n",
       " 'Market 8': 14,\n",
       " 'Market 9': 15,\n",
       " 'Market 10': 16,\n",
       " 'Market 11': 17,\n",
       " 'Market 12': 18,\n",
       " 'Market 13': 19,\n",
       " 'Market 14': 20}"
      ]
     },
     "execution_count": 83,
     "metadata": {},
     "output_type": "execute_result"
    }
   ],
   "source": [
    "\n",
    "node_to_idx"
   ]
  },
  {
   "cell_type": "code",
   "execution_count": 85,
   "metadata": {},
   "outputs": [
    {
     "data": {
      "application/vnd.plotly.v1+json": {
       "config": {
        "plotlyServerURL": "https://plot.ly"
       },
       "data": [
        {
         "link": {
          "source": [
           0,
           0,
           0,
           0,
           1,
           1,
           1,
           1,
           1,
           1,
           1,
           1,
           1,
           1,
           1,
           1,
           1,
           1,
           1,
           2,
           2,
           2,
           2,
           2,
           2,
           2,
           2,
           2,
           2,
           2,
           2,
           2,
           2,
           2,
           3,
           3,
           3,
           3,
           3,
           3,
           3,
           3,
           3,
           3,
           3,
           3,
           3,
           3,
           3,
           4,
           4,
           4,
           4,
           4,
           4,
           4,
           4,
           4,
           4,
           4,
           4,
           4,
           4,
           4,
           5,
           5,
           5,
           5
          ],
          "target": [
           1,
           2,
           3,
           4,
           6,
           7,
           8,
           9,
           10,
           11,
           12,
           13,
           14,
           15,
           16,
           17,
           18,
           19,
           20,
           6,
           7,
           8,
           9,
           10,
           11,
           12,
           13,
           14,
           15,
           16,
           17,
           18,
           19,
           20,
           6,
           7,
           8,
           9,
           10,
           11,
           12,
           13,
           14,
           15,
           16,
           17,
           18,
           19,
           20,
           6,
           7,
           8,
           9,
           10,
           11,
           12,
           13,
           14,
           15,
           16,
           17,
           18,
           19,
           20,
           1,
           2,
           3,
           4
          ],
          "value": [
           0,
           177,
           350,
           32,
           0,
           0,
           0,
           0,
           0,
           0,
           0,
           0,
           0,
           0,
           0,
           0,
           0,
           0,
           0,
           0,
           23,
           0,
           0,
           0,
           0,
           0,
           0,
           0,
           0,
           0,
           0,
           52,
           77,
           25,
           0,
           0,
           0,
           19,
           0,
           0,
           0,
           83,
           0,
           48,
           87,
           97,
           0,
           16,
           0,
           19,
           0,
           76,
           0,
           100,
           89,
           68,
           0,
           30,
           0,
           0,
           0,
           0,
           0,
           0,
           0,
           0,
           0,
           350
          ]
         },
         "node": {
          "color": [
           "rgb(255, 127, 14)",
           "rgb(31, 119, 180)",
           "rgb(31, 119, 180)",
           "rgb(31, 119, 180)",
           "rgb(31, 119, 180)",
           "rgb(255, 127, 14)",
           "rgb(44, 160, 44)",
           "rgb(44, 160, 44)",
           "rgb(44, 160, 44)",
           "rgb(44, 160, 44)",
           "rgb(44, 160, 44)",
           "rgb(44, 160, 44)",
           "rgb(44, 160, 44)",
           "rgb(44, 160, 44)",
           "rgb(44, 160, 44)",
           "rgb(44, 160, 44)",
           "rgb(44, 160, 44)",
           "rgb(44, 160, 44)",
           "rgb(44, 160, 44)",
           "rgb(44, 160, 44)",
           "rgb(44, 160, 44)"
          ],
          "label": [
           "Factory 0",
           "DC 0",
           "DC 1",
           "DC 2",
           "DC 3",
           "Factory 1",
           "Market 0",
           "Market 1",
           "Market 2",
           "Market 3",
           "Market 4",
           "Market 5",
           "Market 6",
           "Market 7",
           "Market 8",
           "Market 9",
           "Market 10",
           "Market 11",
           "Market 12",
           "Market 13",
           "Market 14"
          ],
          "pad": 15,
          "thickness": 20
         },
         "type": "sankey"
        }
       ],
       "layout": {
        "template": {
         "data": {
          "bar": [
           {
            "error_x": {
             "color": "#2a3f5f"
            },
            "error_y": {
             "color": "#2a3f5f"
            },
            "marker": {
             "line": {
              "color": "#E5ECF6",
              "width": 0.5
             },
             "pattern": {
              "fillmode": "overlay",
              "size": 10,
              "solidity": 0.2
             }
            },
            "type": "bar"
           }
          ],
          "barpolar": [
           {
            "marker": {
             "line": {
              "color": "#E5ECF6",
              "width": 0.5
             },
             "pattern": {
              "fillmode": "overlay",
              "size": 10,
              "solidity": 0.2
             }
            },
            "type": "barpolar"
           }
          ],
          "carpet": [
           {
            "aaxis": {
             "endlinecolor": "#2a3f5f",
             "gridcolor": "white",
             "linecolor": "white",
             "minorgridcolor": "white",
             "startlinecolor": "#2a3f5f"
            },
            "baxis": {
             "endlinecolor": "#2a3f5f",
             "gridcolor": "white",
             "linecolor": "white",
             "minorgridcolor": "white",
             "startlinecolor": "#2a3f5f"
            },
            "type": "carpet"
           }
          ],
          "choropleth": [
           {
            "colorbar": {
             "outlinewidth": 0,
             "ticks": ""
            },
            "type": "choropleth"
           }
          ],
          "contour": [
           {
            "colorbar": {
             "outlinewidth": 0,
             "ticks": ""
            },
            "colorscale": [
             [
              0,
              "#0d0887"
             ],
             [
              0.1111111111111111,
              "#46039f"
             ],
             [
              0.2222222222222222,
              "#7201a8"
             ],
             [
              0.3333333333333333,
              "#9c179e"
             ],
             [
              0.4444444444444444,
              "#bd3786"
             ],
             [
              0.5555555555555556,
              "#d8576b"
             ],
             [
              0.6666666666666666,
              "#ed7953"
             ],
             [
              0.7777777777777778,
              "#fb9f3a"
             ],
             [
              0.8888888888888888,
              "#fdca26"
             ],
             [
              1,
              "#f0f921"
             ]
            ],
            "type": "contour"
           }
          ],
          "contourcarpet": [
           {
            "colorbar": {
             "outlinewidth": 0,
             "ticks": ""
            },
            "type": "contourcarpet"
           }
          ],
          "heatmap": [
           {
            "colorbar": {
             "outlinewidth": 0,
             "ticks": ""
            },
            "colorscale": [
             [
              0,
              "#0d0887"
             ],
             [
              0.1111111111111111,
              "#46039f"
             ],
             [
              0.2222222222222222,
              "#7201a8"
             ],
             [
              0.3333333333333333,
              "#9c179e"
             ],
             [
              0.4444444444444444,
              "#bd3786"
             ],
             [
              0.5555555555555556,
              "#d8576b"
             ],
             [
              0.6666666666666666,
              "#ed7953"
             ],
             [
              0.7777777777777778,
              "#fb9f3a"
             ],
             [
              0.8888888888888888,
              "#fdca26"
             ],
             [
              1,
              "#f0f921"
             ]
            ],
            "type": "heatmap"
           }
          ],
          "heatmapgl": [
           {
            "colorbar": {
             "outlinewidth": 0,
             "ticks": ""
            },
            "colorscale": [
             [
              0,
              "#0d0887"
             ],
             [
              0.1111111111111111,
              "#46039f"
             ],
             [
              0.2222222222222222,
              "#7201a8"
             ],
             [
              0.3333333333333333,
              "#9c179e"
             ],
             [
              0.4444444444444444,
              "#bd3786"
             ],
             [
              0.5555555555555556,
              "#d8576b"
             ],
             [
              0.6666666666666666,
              "#ed7953"
             ],
             [
              0.7777777777777778,
              "#fb9f3a"
             ],
             [
              0.8888888888888888,
              "#fdca26"
             ],
             [
              1,
              "#f0f921"
             ]
            ],
            "type": "heatmapgl"
           }
          ],
          "histogram": [
           {
            "marker": {
             "pattern": {
              "fillmode": "overlay",
              "size": 10,
              "solidity": 0.2
             }
            },
            "type": "histogram"
           }
          ],
          "histogram2d": [
           {
            "colorbar": {
             "outlinewidth": 0,
             "ticks": ""
            },
            "colorscale": [
             [
              0,
              "#0d0887"
             ],
             [
              0.1111111111111111,
              "#46039f"
             ],
             [
              0.2222222222222222,
              "#7201a8"
             ],
             [
              0.3333333333333333,
              "#9c179e"
             ],
             [
              0.4444444444444444,
              "#bd3786"
             ],
             [
              0.5555555555555556,
              "#d8576b"
             ],
             [
              0.6666666666666666,
              "#ed7953"
             ],
             [
              0.7777777777777778,
              "#fb9f3a"
             ],
             [
              0.8888888888888888,
              "#fdca26"
             ],
             [
              1,
              "#f0f921"
             ]
            ],
            "type": "histogram2d"
           }
          ],
          "histogram2dcontour": [
           {
            "colorbar": {
             "outlinewidth": 0,
             "ticks": ""
            },
            "colorscale": [
             [
              0,
              "#0d0887"
             ],
             [
              0.1111111111111111,
              "#46039f"
             ],
             [
              0.2222222222222222,
              "#7201a8"
             ],
             [
              0.3333333333333333,
              "#9c179e"
             ],
             [
              0.4444444444444444,
              "#bd3786"
             ],
             [
              0.5555555555555556,
              "#d8576b"
             ],
             [
              0.6666666666666666,
              "#ed7953"
             ],
             [
              0.7777777777777778,
              "#fb9f3a"
             ],
             [
              0.8888888888888888,
              "#fdca26"
             ],
             [
              1,
              "#f0f921"
             ]
            ],
            "type": "histogram2dcontour"
           }
          ],
          "mesh3d": [
           {
            "colorbar": {
             "outlinewidth": 0,
             "ticks": ""
            },
            "type": "mesh3d"
           }
          ],
          "parcoords": [
           {
            "line": {
             "colorbar": {
              "outlinewidth": 0,
              "ticks": ""
             }
            },
            "type": "parcoords"
           }
          ],
          "pie": [
           {
            "automargin": true,
            "type": "pie"
           }
          ],
          "scatter": [
           {
            "fillpattern": {
             "fillmode": "overlay",
             "size": 10,
             "solidity": 0.2
            },
            "type": "scatter"
           }
          ],
          "scatter3d": [
           {
            "line": {
             "colorbar": {
              "outlinewidth": 0,
              "ticks": ""
             }
            },
            "marker": {
             "colorbar": {
              "outlinewidth": 0,
              "ticks": ""
             }
            },
            "type": "scatter3d"
           }
          ],
          "scattercarpet": [
           {
            "marker": {
             "colorbar": {
              "outlinewidth": 0,
              "ticks": ""
             }
            },
            "type": "scattercarpet"
           }
          ],
          "scattergeo": [
           {
            "marker": {
             "colorbar": {
              "outlinewidth": 0,
              "ticks": ""
             }
            },
            "type": "scattergeo"
           }
          ],
          "scattergl": [
           {
            "marker": {
             "colorbar": {
              "outlinewidth": 0,
              "ticks": ""
             }
            },
            "type": "scattergl"
           }
          ],
          "scattermapbox": [
           {
            "marker": {
             "colorbar": {
              "outlinewidth": 0,
              "ticks": ""
             }
            },
            "type": "scattermapbox"
           }
          ],
          "scatterpolar": [
           {
            "marker": {
             "colorbar": {
              "outlinewidth": 0,
              "ticks": ""
             }
            },
            "type": "scatterpolar"
           }
          ],
          "scatterpolargl": [
           {
            "marker": {
             "colorbar": {
              "outlinewidth": 0,
              "ticks": ""
             }
            },
            "type": "scatterpolargl"
           }
          ],
          "scatterternary": [
           {
            "marker": {
             "colorbar": {
              "outlinewidth": 0,
              "ticks": ""
             }
            },
            "type": "scatterternary"
           }
          ],
          "surface": [
           {
            "colorbar": {
             "outlinewidth": 0,
             "ticks": ""
            },
            "colorscale": [
             [
              0,
              "#0d0887"
             ],
             [
              0.1111111111111111,
              "#46039f"
             ],
             [
              0.2222222222222222,
              "#7201a8"
             ],
             [
              0.3333333333333333,
              "#9c179e"
             ],
             [
              0.4444444444444444,
              "#bd3786"
             ],
             [
              0.5555555555555556,
              "#d8576b"
             ],
             [
              0.6666666666666666,
              "#ed7953"
             ],
             [
              0.7777777777777778,
              "#fb9f3a"
             ],
             [
              0.8888888888888888,
              "#fdca26"
             ],
             [
              1,
              "#f0f921"
             ]
            ],
            "type": "surface"
           }
          ],
          "table": [
           {
            "cells": {
             "fill": {
              "color": "#EBF0F8"
             },
             "line": {
              "color": "white"
             }
            },
            "header": {
             "fill": {
              "color": "#C8D4E3"
             },
             "line": {
              "color": "white"
             }
            },
            "type": "table"
           }
          ]
         },
         "layout": {
          "annotationdefaults": {
           "arrowcolor": "#2a3f5f",
           "arrowhead": 0,
           "arrowwidth": 1
          },
          "autotypenumbers": "strict",
          "coloraxis": {
           "colorbar": {
            "outlinewidth": 0,
            "ticks": ""
           }
          },
          "colorscale": {
           "diverging": [
            [
             0,
             "#8e0152"
            ],
            [
             0.1,
             "#c51b7d"
            ],
            [
             0.2,
             "#de77ae"
            ],
            [
             0.3,
             "#f1b6da"
            ],
            [
             0.4,
             "#fde0ef"
            ],
            [
             0.5,
             "#f7f7f7"
            ],
            [
             0.6,
             "#e6f5d0"
            ],
            [
             0.7,
             "#b8e186"
            ],
            [
             0.8,
             "#7fbc41"
            ],
            [
             0.9,
             "#4d9221"
            ],
            [
             1,
             "#276419"
            ]
           ],
           "sequential": [
            [
             0,
             "#0d0887"
            ],
            [
             0.1111111111111111,
             "#46039f"
            ],
            [
             0.2222222222222222,
             "#7201a8"
            ],
            [
             0.3333333333333333,
             "#9c179e"
            ],
            [
             0.4444444444444444,
             "#bd3786"
            ],
            [
             0.5555555555555556,
             "#d8576b"
            ],
            [
             0.6666666666666666,
             "#ed7953"
            ],
            [
             0.7777777777777778,
             "#fb9f3a"
            ],
            [
             0.8888888888888888,
             "#fdca26"
            ],
            [
             1,
             "#f0f921"
            ]
           ],
           "sequentialminus": [
            [
             0,
             "#0d0887"
            ],
            [
             0.1111111111111111,
             "#46039f"
            ],
            [
             0.2222222222222222,
             "#7201a8"
            ],
            [
             0.3333333333333333,
             "#9c179e"
            ],
            [
             0.4444444444444444,
             "#bd3786"
            ],
            [
             0.5555555555555556,
             "#d8576b"
            ],
            [
             0.6666666666666666,
             "#ed7953"
            ],
            [
             0.7777777777777778,
             "#fb9f3a"
            ],
            [
             0.8888888888888888,
             "#fdca26"
            ],
            [
             1,
             "#f0f921"
            ]
           ]
          },
          "colorway": [
           "#636efa",
           "#EF553B",
           "#00cc96",
           "#ab63fa",
           "#FFA15A",
           "#19d3f3",
           "#FF6692",
           "#B6E880",
           "#FF97FF",
           "#FECB52"
          ],
          "font": {
           "color": "#2a3f5f"
          },
          "geo": {
           "bgcolor": "white",
           "lakecolor": "white",
           "landcolor": "#E5ECF6",
           "showlakes": true,
           "showland": true,
           "subunitcolor": "white"
          },
          "hoverlabel": {
           "align": "left"
          },
          "hovermode": "closest",
          "mapbox": {
           "style": "light"
          },
          "paper_bgcolor": "white",
          "plot_bgcolor": "#E5ECF6",
          "polar": {
           "angularaxis": {
            "gridcolor": "white",
            "linecolor": "white",
            "ticks": ""
           },
           "bgcolor": "#E5ECF6",
           "radialaxis": {
            "gridcolor": "white",
            "linecolor": "white",
            "ticks": ""
           }
          },
          "scene": {
           "xaxis": {
            "backgroundcolor": "#E5ECF6",
            "gridcolor": "white",
            "gridwidth": 2,
            "linecolor": "white",
            "showbackground": true,
            "ticks": "",
            "zerolinecolor": "white"
           },
           "yaxis": {
            "backgroundcolor": "#E5ECF6",
            "gridcolor": "white",
            "gridwidth": 2,
            "linecolor": "white",
            "showbackground": true,
            "ticks": "",
            "zerolinecolor": "white"
           },
           "zaxis": {
            "backgroundcolor": "#E5ECF6",
            "gridcolor": "white",
            "gridwidth": 2,
            "linecolor": "white",
            "showbackground": true,
            "ticks": "",
            "zerolinecolor": "white"
           }
          },
          "shapedefaults": {
           "line": {
            "color": "#2a3f5f"
           }
          },
          "ternary": {
           "aaxis": {
            "gridcolor": "white",
            "linecolor": "white",
            "ticks": ""
           },
           "baxis": {
            "gridcolor": "white",
            "linecolor": "white",
            "ticks": ""
           },
           "bgcolor": "#E5ECF6",
           "caxis": {
            "gridcolor": "white",
            "linecolor": "white",
            "ticks": ""
           }
          },
          "title": {
           "x": 0.05
          },
          "xaxis": {
           "automargin": true,
           "gridcolor": "white",
           "linecolor": "white",
           "ticks": "",
           "title": {
            "standoff": 15
           },
           "zerolinecolor": "white",
           "zerolinewidth": 2
          },
          "yaxis": {
           "automargin": true,
           "gridcolor": "white",
           "linecolor": "white",
           "ticks": "",
           "title": {
            "standoff": 15
           },
           "zerolinecolor": "white",
           "zerolinewidth": 2
          }
         }
        }
       }
      }
     },
     "metadata": {},
     "output_type": "display_data"
    }
   ],
   "source": [
    "node_to_idx = {name: i for i, name in enumerate(node_df['name'])}\n",
    "node_colors = G2.viz._get_color_dict(node_df['type'])\n",
    "\n",
    "go.Figure(go.Sankey(\n",
    "    node = dict(\n",
    "        pad=15,\n",
    "        thickness=20,\n",
    "        label=node_df['name'],\n",
    "        color=[node_colors[node] for node in node_df['type']],\n",
    "        ),\n",
    "    link=dict(\n",
    "        source=[node_to_idx[origin] for origin in edge_df['origin']],\n",
    "        target=[node_to_idx[destination] for destination in edge_df['destination']],\n",
    "        value=edge_df['flow']\n",
    "    )\n",
    ")\n",
    ").show()"
   ]
  }
 ],
 "metadata": {
  "kernelspec": {
   "display_name": "nx_flow",
   "language": "python",
   "name": "python3"
  },
  "language_info": {
   "codemirror_mode": {
    "name": "ipython",
    "version": 3
   },
   "file_extension": ".py",
   "mimetype": "text/x-python",
   "name": "python",
   "nbconvert_exporter": "python",
   "pygments_lexer": "ipython3",
   "version": "3.12.7"
  }
 },
 "nbformat": 4,
 "nbformat_minor": 2
}
